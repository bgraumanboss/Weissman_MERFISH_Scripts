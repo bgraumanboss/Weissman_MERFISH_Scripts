{
 "cells": [
  {
   "cell_type": "code",
   "execution_count": 2,
   "id": "4c9c2d92",
   "metadata": {},
   "outputs": [
    {
     "name": "stdout",
     "output_type": "stream",
     "text": [
      "27596\n"
     ]
    }
   ],
   "source": [
    "# default imports\n",
    "import numpy as np\n",
    "import pandas as pd\n",
    "import os, sys\n",
    "import re\n",
    "import matplotlib.pyplot as plt\n",
    "print(os.getpid())"
   ]
  },
  {
   "cell_type": "code",
   "execution_count": null,
   "id": "3ec870bd",
   "metadata": {},
   "outputs": [],
   "source": []
  },
  {
   "cell_type": "code",
   "execution_count": null,
   "id": "d3b351ff",
   "metadata": {},
   "outputs": [],
   "source": []
  },
  {
   "cell_type": "code",
   "execution_count": 4,
   "id": "d60ba560",
   "metadata": {},
   "outputs": [
    {
     "name": "stdout",
     "output_type": "stream",
     "text": [
      "- source folder: \\\\wi-bigdata.wi.mit.edu\\weissman_imaging\\puzheng\\Corrections\\20210621-STORM6_lumencor\n",
      "- target folder: \\\\wi-bigdata.wi.mit.edu\\weissman_imaging\\puzheng\\Corrections\\20210621-STORM6_lumencor_s30_s1000\n",
      "-- creating target folder: \\\\wi-bigdata.wi.mit.edu\\weissman_imaging\\puzheng\\Corrections\\20210621-STORM6_lumencor_s30_s1000\n"
     ]
    }
   ],
   "source": [
    "correction_master_folder = r\"\\\\wi-bigdata.wi.mit.edu\\weissman_imaging\\puzheng\\Corrections\"\n",
    "source_folder = os.path.join(correction_master_folder, '20210621-STORM6_lumencor')\n",
    "print(f\"- source folder: {source_folder}\")\n",
    "# generate target folder\n",
    "target_z = 30\n",
    "step_size = 1000\n",
    "target_folder = os.path.join(correction_master_folder, f'20210621-STORM6_lumencor_s{target_z}_s{1000}')\n",
    "print(f\"- target folder: {target_folder}\")\n",
    "if not os.path.exists(target_folder):\n",
    "    print(f\"-- creating target folder: {target_folder}\")\n",
    "    os.makedirs(target_folder)\n",
    "    "
   ]
  },
  {
   "cell_type": "code",
   "execution_count": null,
   "id": "baa1e3ca",
   "metadata": {},
   "outputs": [],
   "source": []
  }
 ],
 "metadata": {
  "kernelspec": {
   "display_name": "postanalysis",
   "language": "python",
   "name": "postanalysis"
  },
  "language_info": {
   "codemirror_mode": {
    "name": "ipython",
    "version": 3
   },
   "file_extension": ".py",
   "mimetype": "text/x-python",
   "name": "python",
   "nbconvert_exporter": "python",
   "pygments_lexer": "ipython3",
   "version": "3.10.10"
  }
 },
 "nbformat": 4,
 "nbformat_minor": 5
}
