{
 "cells": [
  {
   "cell_type": "code",
   "execution_count": 14,
   "id": "4c9c2d92",
   "metadata": {},
   "outputs": [
    {
     "name": "stdout",
     "output_type": "stream",
     "text": [
      "3795443\n"
     ]
    }
   ],
   "source": [
    "# default imports\n",
    "import numpy as np\n",
    "import pandas as pd\n",
    "import os, sys\n",
    "import re\n",
    "import matplotlib.pyplot as plt\n",
    "import pickle\n",
    "# ChromAn related imports\n",
    "sys.path.append(r'/lab/weissman_imaging/puzheng/Softwares/') # parent folder of ChromAn\n",
    "#import torch\n",
    "print(os.getpid())"
   ]
  },
  {
   "cell_type": "code",
   "execution_count": 10,
   "id": "295ee16c",
   "metadata": {},
   "outputs": [],
   "source": [
    "from ChromAn.src.default_parameters import default_channels"
   ]
  },
  {
   "cell_type": "code",
   "execution_count": 11,
   "id": "4096bc99",
   "metadata": {},
   "outputs": [
    {
     "data": {
      "text/plain": [
       "['750', '647', '561', '488', '405']"
      ]
     },
     "execution_count": 11,
     "metadata": {},
     "output_type": "execute_result"
    }
   ],
   "source": [
    "default_channels\n"
   ]
  },
  {
   "cell_type": "code",
   "execution_count": 4,
   "id": "3ec870bd",
   "metadata": {},
   "outputs": [],
   "source": [
    "import ImageAnalysis3 as ia\n",
    "%matplotlib notebook\n",
    "\n",
    "from ImageAnalysis3 import *\n"
   ]
  },
  {
   "cell_type": "code",
   "execution_count": null,
   "id": "d3b351ff",
   "metadata": {},
   "outputs": [],
   "source": [
    "source_folder = r'\\\\10.245.74.158\\Chromatin_NAS_0\\Corrections\\20210514-Corrections_2color_50_new_fiber'\n",
    "target_folder = r'\\\\10.245.74.158\\Chromatin_NAS_0\\Corrections\\20210514-Corrections_2color_40_new_fiber_from_50'\n",
    "if not os.path.exists(target_folder):\n",
    "    print(f\"create folder: {target_folder}\")\n",
    "    os.makedirs(target_folder)\n",
    "    \n",
    "src_shape = [50,2048,2048]\n",
    "tar_shape = [40,2048,2048]"
   ]
  },
  {
   "cell_type": "code",
   "execution_count": 5,
   "id": "d60ba560",
   "metadata": {},
   "outputs": [
    {
     "name": "stdout",
     "output_type": "stream",
     "text": [
      "- source folder: /lab/weissman_imaging/puzheng/Corrections/20230902-Merscope01_s30_n500\n",
      "- target folder: /lab/weissman_imaging/puzheng/Corrections/20240107-Merscope01_s40_n500\n",
      "-- creating target folder: /lab/weissman_imaging/puzheng/Corrections/20240107-Merscope01_s40_n500\n"
     ]
    }
   ],
   "source": [
    "correction_master_folder = r\"/lab/weissman_imaging/puzheng/Corrections/\"\n",
    "source_folder = os.path.join(correction_master_folder, '20230902-Merscope01_s30_n500')\n",
    "\n",
    "print(f\"- source folder: {source_folder}\")\n",
    "# generate target folder\n",
    "target_z = 40\n",
    "step_size = 500\n",
    "target_folder = os.path.join(correction_master_folder, f'20240107-Merscope01_s{target_z}_n{step_size}')\n",
    "print(f\"- target folder: {target_folder}\")\n",
    "if not os.path.exists(target_folder):\n",
    "    print(f\"-- creating target folder: {target_folder}\")\n",
    "    os.makedirs(target_folder)\n",
    "    "
   ]
  },
  {
   "cell_type": "code",
   "execution_count": 7,
   "id": "a3f6a7c6",
   "metadata": {},
   "outputs": [],
   "source": [
    "src_shape = [30,2304,2304]\n",
    "tar_shape = [40,2304,2304]"
   ]
  },
  {
   "cell_type": "markdown",
   "id": "0e791434",
   "metadata": {},
   "source": [
    "# illumination corr"
   ]
  },
  {
   "cell_type": "code",
   "execution_count": 9,
   "id": "8b007f80",
   "metadata": {},
   "outputs": [
    {
     "data": {
      "text/plain": [
       "['750', '647', '561', '488', '405']"
      ]
     },
     "execution_count": 9,
     "metadata": {},
     "output_type": "execute_result"
    }
   ],
   "source": [
    "channels"
   ]
  },
  {
   "cell_type": "code",
   "execution_count": 12,
   "id": "8c8a3c9b",
   "metadata": {},
   "outputs": [
    {
     "name": "stdout",
     "output_type": "stream",
     "text": [
      "748\n",
      "637\n",
      "545\n",
      "477\n",
      "405\n"
     ]
    }
   ],
   "source": [
    "from shutil import copyfile\n",
    "\n",
    "file_prefix = 'illumination_correction_'\n",
    "channels = ['748','637','545','477','405']\n",
    "\n",
    "for _ch in channels:\n",
    "    _src_fl = os.path.join(source_folder, \n",
    "                           file_prefix+f\"{_ch}_{src_shape[-2]}x{src_shape[-1]}.npy\")\n",
    "    _tar_fl = os.path.join(target_folder, \n",
    "                           file_prefix+f\"{_ch}_{tar_shape[-2]}x{tar_shape[-1]}.npy\")\n",
    "    if os.path.isfile(_src_fl):\n",
    "        print(_ch)\n",
    "        copyfile(_src_fl, _tar_fl)"
   ]
  },
  {
   "cell_type": "markdown",
   "id": "c3227b35",
   "metadata": {},
   "source": [
    "# chromatic abbrevation corr"
   ]
  },
  {
   "cell_type": "code",
   "execution_count": 17,
   "id": "8dd4785a",
   "metadata": {},
   "outputs": [],
   "source": [
    "from ChromAn.src.correction_tools.chromatic import generate_polynomial_data"
   ]
  },
  {
   "cell_type": "code",
   "execution_count": 18,
   "id": "e4bbc669",
   "metadata": {},
   "outputs": [
    {
     "name": "stdout",
     "output_type": "stream",
     "text": [
      "748\n",
      "/lab/weissman_imaging/puzheng/Corrections/20240107-Merscope01_s40_n500/chromatic_correction_748_637_40_2304_2304_const.pkl\n",
      "545\n",
      "/lab/weissman_imaging/puzheng/Corrections/20240107-Merscope01_s40_n500/chromatic_correction_545_637_40_2304_2304_const.pkl\n"
     ]
    }
   ],
   "source": [
    "# load chromatic abbrevation pf\n",
    "file_prefix = 'chromatic_correction_'\n",
    "ref_ch = '637'\n",
    "chromatic_corr_channels = ['748', '545']\n",
    "for _ch in chromatic_corr_channels:\n",
    "    _basename = file_prefix+f\"{_ch}_{ref_ch}_{src_shape[-2]}x{src_shape[-1]}.npy\"\n",
    "    _src_fl = os.path.join(source_folder, \n",
    "                           file_prefix+f\"{_ch}_{ref_ch}_{src_shape[-3]}_{src_shape[-2]}_{src_shape[-1]}_const.pkl\")\n",
    "    _tar_fl = os.path.join(target_folder, \n",
    "                           file_prefix+f\"{_ch}_{ref_ch}_{tar_shape[-3]}_{tar_shape[-2]}_{tar_shape[-1]}_const.pkl\")\n",
    "    \n",
    "    if os.path.isfile(_src_fl):\n",
    "        print(_ch)\n",
    "        _info = pickle.load(open(_src_fl, 'rb'))\n",
    "        # generate new chromatic const file\n",
    "        new_info = {_k:_v for _k,_v in _info.items()}\n",
    "        new_info['ref_center'] = (np.array(tar_shape)/2)\n",
    "        # save new info\n",
    "        pickle.dump(new_info, open(_tar_fl, 'wb'))\n",
    "        print(_tar_fl)\n",
    "        ## generate profiles\n",
    "        # generate pixels\n",
    "        _pixel_coords = np.indices(tar_shape)\n",
    "        _pixel_coords = _pixel_coords.reshape(np.shape(_pixel_coords)[0], -1)\n",
    "        _pixel_coords = _pixel_coords - (np.array(tar_shape)/2)[:, np.newaxis]\n",
    "        #from ImageAnalysis3.correction_tools.chromatic import generate_polynomial_data\n",
    "        # generate profile\n",
    "        _profile = []\n",
    "        for _i, _order in enumerate(_info['fitting_orders']):\n",
    "            _pX = generate_polynomial_data(_pixel_coords.transpose(), _order)\n",
    "            _py = np.dot(_pX, _info['constants'][_i]).reshape(tar_shape)\n",
    "            _profile.append(_py)\n",
    "        _profile = np.array(_profile)\n",
    "        # save profile\n",
    "        np.save(_tar_fl.replace(\"_const.pkl\", \"\"), _profile)"
   ]
  },
  {
   "cell_type": "markdown",
   "id": "e87db320",
   "metadata": {},
   "source": [
    "# bleedthrough corr"
   ]
  },
  {
   "cell_type": "code",
   "execution_count": 19,
   "id": "4daf9c50",
   "metadata": {},
   "outputs": [],
   "source": [
    "# load chromatic abbrevation pf\n",
    "file_prefix = 'bleedthrough_correction_'\n",
    "bleed_corr_channels = ['748', '637','545']\n",
    "#750_647_561_2048_2048\n",
    "_basename = file_prefix\n",
    "for _ch in bleed_corr_channels:\n",
    "    _basename += f\"{_ch}_\"\n",
    "_basename += f\"{src_shape[-2]}_{src_shape[-1]}.npy\"\n",
    "_src_fl = os.path.join(source_folder, _basename)\n",
    "_pf = np.load(_src_fl)"
   ]
  },
  {
   "cell_type": "code",
   "execution_count": 24,
   "id": "29c3ef8e",
   "metadata": {},
   "outputs": [
    {
     "name": "stdout",
     "output_type": "stream",
     "text": [
      "/lab/weissman_imaging/puzheng/Corrections/20240107-Merscope01_s40_n500/bleedthrough_correction_748_637_545_2304_2304.npy\n"
     ]
    }
   ],
   "source": [
    "_tar_fl = os.path.join(target_folder, _basename)\n",
    "print(_tar_fl)\n",
    "np.save(_tar_fl.split('.npy')[0], _pf)"
   ]
  },
  {
   "cell_type": "code",
   "execution_count": null,
   "id": "ed089d8c",
   "metadata": {},
   "outputs": [],
   "source": []
  }
 ],
 "metadata": {
  "kernelspec": {
   "display_name": "postanalysis",
   "language": "python",
   "name": "postanalysis"
  },
  "language_info": {
   "codemirror_mode": {
    "name": "ipython",
    "version": 3
   },
   "file_extension": ".py",
   "mimetype": "text/x-python",
   "name": "python",
   "nbconvert_exporter": "python",
   "pygments_lexer": "ipython3",
   "version": "3.10.12"
  }
 },
 "nbformat": 4,
 "nbformat_minor": 5
}
