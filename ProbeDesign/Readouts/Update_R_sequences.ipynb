{
 "cells": [
  {
   "cell_type": "code",
   "execution_count": 1,
   "id": "a4b08412",
   "metadata": {},
   "outputs": [
    {
     "name": "stdout",
     "output_type": "stream",
     "text": [
      "39684\n"
     ]
    }
   ],
   "source": [
    "# default imports\n",
    "import numpy as np\n",
    "import pandas as pd\n",
    "import os, sys\n",
    "import re\n",
    "import matplotlib.pyplot as plt\n",
    "print(os.getpid())"
   ]
  },
  {
   "cell_type": "code",
   "execution_count": 2,
   "id": "4e5a7c8e",
   "metadata": {},
   "outputs": [],
   "source": [
    "readout_folder = r'\\\\wi-bigdata.wi.mit.edu\\solexa_weissman\\puzheng\\References\\Readouts'\n",
    "R_readout_filename = os.path.join(readout_folder, 'R_readouts.xlsx')\n",
    "readouts = pd.read_excel(R_readout_filename)"
   ]
  },
  {
   "cell_type": "code",
   "execution_count": 3,
   "id": "85c50fb2",
   "metadata": {},
   "outputs": [
    {
     "data": {
      "text/html": [
       "<div>\n",
       "<style scoped>\n",
       "    .dataframe tbody tr th:only-of-type {\n",
       "        vertical-align: middle;\n",
       "    }\n",
       "\n",
       "    .dataframe tbody tr th {\n",
       "        vertical-align: top;\n",
       "    }\n",
       "\n",
       "    .dataframe thead th {\n",
       "        text-align: right;\n",
       "    }\n",
       "</style>\n",
       "<table border=\"1\" class=\"dataframe\">\n",
       "  <thead>\n",
       "    <tr style=\"text-align: right;\">\n",
       "      <th></th>\n",
       "      <th>Name</th>\n",
       "      <th>Sequence</th>\n",
       "    </tr>\n",
       "  </thead>\n",
       "  <tbody>\n",
       "    <tr>\n",
       "      <th>0</th>\n",
       "      <td>R1__NDB_784</td>\n",
       "      <td>TAGAAATATCCGAGTGGCAT</td>\n",
       "    </tr>\n",
       "    <tr>\n",
       "      <th>1</th>\n",
       "      <td>R2__NDB_755</td>\n",
       "      <td>TGCGACATGTTATGCTAGGC</td>\n",
       "    </tr>\n",
       "    <tr>\n",
       "      <th>2</th>\n",
       "      <td>R3__NDB_759</td>\n",
       "      <td>TGACTGTCGTTGACTCTCGG</td>\n",
       "    </tr>\n",
       "    <tr>\n",
       "      <th>3</th>\n",
       "      <td>R4__NDB_826</td>\n",
       "      <td>ATATGTCGATGTCCTTAGAC</td>\n",
       "    </tr>\n",
       "    <tr>\n",
       "      <th>4</th>\n",
       "      <td>R5__NDB_578</td>\n",
       "      <td>AGGCGATACATGAGAGGCGT</td>\n",
       "    </tr>\n",
       "    <tr>\n",
       "      <th>...</th>\n",
       "      <td>...</td>\n",
       "      <td>...</td>\n",
       "    </tr>\n",
       "    <tr>\n",
       "      <th>139</th>\n",
       "      <td>R140__NDB_482</td>\n",
       "      <td>CATCGCCTTAAACGGTTAAT</td>\n",
       "    </tr>\n",
       "    <tr>\n",
       "      <th>140</th>\n",
       "      <td>R141__NDB_747</td>\n",
       "      <td>GTCTTCGAGGTGTATGCTCG</td>\n",
       "    </tr>\n",
       "    <tr>\n",
       "      <th>141</th>\n",
       "      <td>R142__NDB_832</td>\n",
       "      <td>GTTATTTGATCGAGACGCTG</td>\n",
       "    </tr>\n",
       "    <tr>\n",
       "      <th>142</th>\n",
       "      <td>R143__NDB_446</td>\n",
       "      <td>TGCCGTTCCATAGTTTACCG</td>\n",
       "    </tr>\n",
       "    <tr>\n",
       "      <th>143</th>\n",
       "      <td>R144__NDB_1047</td>\n",
       "      <td>CGTTTAGTTTGGCGGCGCTC</td>\n",
       "    </tr>\n",
       "  </tbody>\n",
       "</table>\n",
       "<p>144 rows × 2 columns</p>\n",
       "</div>"
      ],
      "text/plain": [
       "               Name              Sequence\n",
       "0       R1__NDB_784  TAGAAATATCCGAGTGGCAT\n",
       "1       R2__NDB_755  TGCGACATGTTATGCTAGGC\n",
       "2       R3__NDB_759  TGACTGTCGTTGACTCTCGG\n",
       "3       R4__NDB_826  ATATGTCGATGTCCTTAGAC\n",
       "4       R5__NDB_578  AGGCGATACATGAGAGGCGT\n",
       "..              ...                   ...\n",
       "139   R140__NDB_482  CATCGCCTTAAACGGTTAAT\n",
       "140   R141__NDB_747  GTCTTCGAGGTGTATGCTCG\n",
       "141   R142__NDB_832  GTTATTTGATCGAGACGCTG\n",
       "142   R143__NDB_446  TGCCGTTCCATAGTTTACCG\n",
       "143  R144__NDB_1047  CGTTTAGTTTGGCGGCGCTC\n",
       "\n",
       "[144 rows x 2 columns]"
      ]
     },
     "execution_count": 3,
     "metadata": {},
     "output_type": "execute_result"
    }
   ],
   "source": [
    "readouts"
   ]
  },
  {
   "cell_type": "code",
   "execution_count": 4,
   "id": "aac017aa",
   "metadata": {},
   "outputs": [],
   "source": [
    "from Bio.Seq import reverse_complement"
   ]
  },
  {
   "cell_type": "code",
   "execution_count": 5,
   "id": "2f22f3fe",
   "metadata": {},
   "outputs": [],
   "source": [
    "seq_rc = [reverse_complement(_seq) for _seq in readouts['Sequence']]\n",
    "readouts['Synthesized sequence'] = seq_rc"
   ]
  },
  {
   "cell_type": "code",
   "execution_count": 6,
   "id": "c301853a",
   "metadata": {},
   "outputs": [
    {
     "data": {
      "text/html": [
       "<div>\n",
       "<style scoped>\n",
       "    .dataframe tbody tr th:only-of-type {\n",
       "        vertical-align: middle;\n",
       "    }\n",
       "\n",
       "    .dataframe tbody tr th {\n",
       "        vertical-align: top;\n",
       "    }\n",
       "\n",
       "    .dataframe thead th {\n",
       "        text-align: right;\n",
       "    }\n",
       "</style>\n",
       "<table border=\"1\" class=\"dataframe\">\n",
       "  <thead>\n",
       "    <tr style=\"text-align: right;\">\n",
       "      <th></th>\n",
       "      <th>Name</th>\n",
       "      <th>Sequence</th>\n",
       "      <th>Synthesized sequence</th>\n",
       "    </tr>\n",
       "  </thead>\n",
       "  <tbody>\n",
       "    <tr>\n",
       "      <th>0</th>\n",
       "      <td>R1__NDB_784</td>\n",
       "      <td>TAGAAATATCCGAGTGGCAT</td>\n",
       "      <td>ATGCCACTCGGATATTTCTA</td>\n",
       "    </tr>\n",
       "    <tr>\n",
       "      <th>1</th>\n",
       "      <td>R2__NDB_755</td>\n",
       "      <td>TGCGACATGTTATGCTAGGC</td>\n",
       "      <td>GCCTAGCATAACATGTCGCA</td>\n",
       "    </tr>\n",
       "    <tr>\n",
       "      <th>2</th>\n",
       "      <td>R3__NDB_759</td>\n",
       "      <td>TGACTGTCGTTGACTCTCGG</td>\n",
       "      <td>CCGAGAGTCAACGACAGTCA</td>\n",
       "    </tr>\n",
       "    <tr>\n",
       "      <th>3</th>\n",
       "      <td>R4__NDB_826</td>\n",
       "      <td>ATATGTCGATGTCCTTAGAC</td>\n",
       "      <td>GTCTAAGGACATCGACATAT</td>\n",
       "    </tr>\n",
       "    <tr>\n",
       "      <th>4</th>\n",
       "      <td>R5__NDB_578</td>\n",
       "      <td>AGGCGATACATGAGAGGCGT</td>\n",
       "      <td>ACGCCTCTCATGTATCGCCT</td>\n",
       "    </tr>\n",
       "    <tr>\n",
       "      <th>...</th>\n",
       "      <td>...</td>\n",
       "      <td>...</td>\n",
       "      <td>...</td>\n",
       "    </tr>\n",
       "    <tr>\n",
       "      <th>139</th>\n",
       "      <td>R140__NDB_482</td>\n",
       "      <td>CATCGCCTTAAACGGTTAAT</td>\n",
       "      <td>ATTAACCGTTTAAGGCGATG</td>\n",
       "    </tr>\n",
       "    <tr>\n",
       "      <th>140</th>\n",
       "      <td>R141__NDB_747</td>\n",
       "      <td>GTCTTCGAGGTGTATGCTCG</td>\n",
       "      <td>CGAGCATACACCTCGAAGAC</td>\n",
       "    </tr>\n",
       "    <tr>\n",
       "      <th>141</th>\n",
       "      <td>R142__NDB_832</td>\n",
       "      <td>GTTATTTGATCGAGACGCTG</td>\n",
       "      <td>CAGCGTCTCGATCAAATAAC</td>\n",
       "    </tr>\n",
       "    <tr>\n",
       "      <th>142</th>\n",
       "      <td>R143__NDB_446</td>\n",
       "      <td>TGCCGTTCCATAGTTTACCG</td>\n",
       "      <td>CGGTAAACTATGGAACGGCA</td>\n",
       "    </tr>\n",
       "    <tr>\n",
       "      <th>143</th>\n",
       "      <td>R144__NDB_1047</td>\n",
       "      <td>CGTTTAGTTTGGCGGCGCTC</td>\n",
       "      <td>GAGCGCCGCCAAACTAAACG</td>\n",
       "    </tr>\n",
       "  </tbody>\n",
       "</table>\n",
       "<p>144 rows × 3 columns</p>\n",
       "</div>"
      ],
      "text/plain": [
       "               Name              Sequence  Synthesized sequence\n",
       "0       R1__NDB_784  TAGAAATATCCGAGTGGCAT  ATGCCACTCGGATATTTCTA\n",
       "1       R2__NDB_755  TGCGACATGTTATGCTAGGC  GCCTAGCATAACATGTCGCA\n",
       "2       R3__NDB_759  TGACTGTCGTTGACTCTCGG  CCGAGAGTCAACGACAGTCA\n",
       "3       R4__NDB_826  ATATGTCGATGTCCTTAGAC  GTCTAAGGACATCGACATAT\n",
       "4       R5__NDB_578  AGGCGATACATGAGAGGCGT  ACGCCTCTCATGTATCGCCT\n",
       "..              ...                   ...                   ...\n",
       "139   R140__NDB_482  CATCGCCTTAAACGGTTAAT  ATTAACCGTTTAAGGCGATG\n",
       "140   R141__NDB_747  GTCTTCGAGGTGTATGCTCG  CGAGCATACACCTCGAAGAC\n",
       "141   R142__NDB_832  GTTATTTGATCGAGACGCTG  CAGCGTCTCGATCAAATAAC\n",
       "142   R143__NDB_446  TGCCGTTCCATAGTTTACCG  CGGTAAACTATGGAACGGCA\n",
       "143  R144__NDB_1047  CGTTTAGTTTGGCGGCGCTC  GAGCGCCGCCAAACTAAACG\n",
       "\n",
       "[144 rows x 3 columns]"
      ]
     },
     "execution_count": 6,
     "metadata": {},
     "output_type": "execute_result"
    }
   ],
   "source": [
    "readouts"
   ]
  },
  {
   "cell_type": "code",
   "execution_count": 7,
   "id": "22bf609b",
   "metadata": {},
   "outputs": [],
   "source": [
    "R_readout_savefile = os.path.join(readout_folder, 'R_readouts_updated.xlsx')\n",
    "readouts.to_excel(R_readout_savefile, index=None)"
   ]
  },
  {
   "cell_type": "markdown",
   "id": "ec8adab3",
   "metadata": {},
   "source": [
    "# Common readouts"
   ]
  },
  {
   "cell_type": "code",
   "execution_count": 10,
   "id": "ca6bd76c",
   "metadata": {},
   "outputs": [],
   "source": [
    "common_readouts = pd.DataFrame(\n",
    "    {'Name':['Stv82', 'Stv1', 'Stv79'], 'Sequence':['GTCAAGGACGGCAGTGCAAA','GGGACGGTTCCAATCGGATC',\n",
    "                                                    'TGAAAGCCGGACAGTTCGCA']}\n",
    ")\n",
    "common_readouts['Sequence_rc'] = [reverse_complement(_seq) for _seq in common_readouts['Sequence']]"
   ]
  },
  {
   "cell_type": "code",
   "execution_count": 12,
   "id": "028daabe",
   "metadata": {},
   "outputs": [
    {
     "data": {
      "text/html": [
       "<div>\n",
       "<style scoped>\n",
       "    .dataframe tbody tr th:only-of-type {\n",
       "        vertical-align: middle;\n",
       "    }\n",
       "\n",
       "    .dataframe tbody tr th {\n",
       "        vertical-align: top;\n",
       "    }\n",
       "\n",
       "    .dataframe thead th {\n",
       "        text-align: right;\n",
       "    }\n",
       "</style>\n",
       "<table border=\"1\" class=\"dataframe\">\n",
       "  <thead>\n",
       "    <tr style=\"text-align: right;\">\n",
       "      <th></th>\n",
       "      <th>Name</th>\n",
       "      <th>Sequence</th>\n",
       "      <th>Sequence_rc</th>\n",
       "    </tr>\n",
       "  </thead>\n",
       "  <tbody>\n",
       "    <tr>\n",
       "      <th>0</th>\n",
       "      <td>Stv82</td>\n",
       "      <td>GTCAAGGACGGCAGTGCAAA</td>\n",
       "      <td>TTTGCACTGCCGTCCTTGAC</td>\n",
       "    </tr>\n",
       "    <tr>\n",
       "      <th>1</th>\n",
       "      <td>Stv1</td>\n",
       "      <td>GGGACGGTTCCAATCGGATC</td>\n",
       "      <td>GATCCGATTGGAACCGTCCC</td>\n",
       "    </tr>\n",
       "    <tr>\n",
       "      <th>2</th>\n",
       "      <td>Stv79</td>\n",
       "      <td>TGAAAGCCGGACAGTTCGCA</td>\n",
       "      <td>TGCGAACTGTCCGGCTTTCA</td>\n",
       "    </tr>\n",
       "  </tbody>\n",
       "</table>\n",
       "</div>"
      ],
      "text/plain": [
       "    Name              Sequence           Sequence_rc\n",
       "0  Stv82  GTCAAGGACGGCAGTGCAAA  TTTGCACTGCCGTCCTTGAC\n",
       "1   Stv1  GGGACGGTTCCAATCGGATC  GATCCGATTGGAACCGTCCC\n",
       "2  Stv79  TGAAAGCCGGACAGTTCGCA  TGCGAACTGTCCGGCTTTCA"
      ]
     },
     "execution_count": 12,
     "metadata": {},
     "output_type": "execute_result"
    }
   ],
   "source": [
    "common_readouts"
   ]
  },
  {
   "cell_type": "code",
   "execution_count": 13,
   "id": "cf734a5b",
   "metadata": {},
   "outputs": [],
   "source": [
    "# save\n",
    "common_readout_filename = os.path.join(readout_folder, 'common_readouts.xlsx')\n",
    "common_readouts.to_excel(common_readout_filename, index=None)"
   ]
  },
  {
   "cell_type": "code",
   "execution_count": null,
   "id": "6f201361",
   "metadata": {},
   "outputs": [],
   "source": []
  }
 ],
 "metadata": {
  "kernelspec": {
   "display_name": "postanalysis",
   "language": "python",
   "name": "postanalysis"
  },
  "language_info": {
   "codemirror_mode": {
    "name": "ipython",
    "version": 3
   },
   "file_extension": ".py",
   "mimetype": "text/x-python",
   "name": "python",
   "nbconvert_exporter": "python",
   "pygments_lexer": "ipython3",
   "version": "3.10.10"
  }
 },
 "nbformat": 4,
 "nbformat_minor": 5
}
