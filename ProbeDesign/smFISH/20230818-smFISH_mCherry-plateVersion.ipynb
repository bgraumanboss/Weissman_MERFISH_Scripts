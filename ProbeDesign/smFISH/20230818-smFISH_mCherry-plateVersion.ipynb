{
 "cells": [
  {
   "cell_type": "markdown",
   "id": "019c6eea",
   "metadata": {},
   "source": [
    "# Design 2-color mCherry smFISH\n",
    "\n",
    "by Pu Zheng\n"
   ]
  },
  {
   "cell_type": "code",
   "execution_count": 1,
   "id": "1897f8d5",
   "metadata": {},
   "outputs": [
    {
     "name": "stdout",
     "output_type": "stream",
     "text": [
      "3327355\n"
     ]
    }
   ],
   "source": [
    "# Basic imports\n",
    "import os,sys,re\n",
    "from importlib import reload\n",
    "import numpy as np\n",
    "import pandas as pd\n",
    "#import torch\n",
    "print(os.getpid())"
   ]
  },
  {
   "cell_type": "code",
   "execution_count": 2,
   "id": "80f5fc89",
   "metadata": {},
   "outputs": [],
   "source": [
    "# ChromAn related imports\n",
    "sys.path.append(r'/lab/weissman_imaging/puzheng/Softwares/ChromAn') # parent folder of ChromAn\n",
    "import src"
   ]
  },
  {
   "cell_type": "markdown",
   "id": "8d044cff-2cf3-4093-8df7-91e9036b150e",
   "metadata": {},
   "source": [
    "## Master folder\n",
    "folder storing all the libraries"
   ]
  },
  {
   "cell_type": "code",
   "execution_count": 3,
   "id": "486cde6c",
   "metadata": {},
   "outputs": [
    {
     "name": "stdout",
     "output_type": "stream",
     "text": [
      "- FISH probe libraries stored in folder: /lab/solexa_weissman/puzheng/MERFISH_Probes\n"
     ]
    }
   ],
   "source": [
    "library_master_folder = r'/lab/solexa_weissman/puzheng/MERFISH_Probes'\n",
    "print(f\"- FISH probe libraries stored in folder: {library_master_folder}\")"
   ]
  },
  {
   "cell_type": "markdown",
   "id": "7accb7c6",
   "metadata": {},
   "source": [
    "## References:\n",
    "\n",
    "GRCm39:\n",
    "https://ftp.ensembl.org/pub/release-109/fasta/mus_musculus/ "
   ]
  },
  {
   "cell_type": "code",
   "execution_count": 4,
   "id": "96728304",
   "metadata": {},
   "outputs": [
    {
     "name": "stdout",
     "output_type": "stream",
     "text": [
      "['Mus_musculus.GRCm39.ncrna.fa', 'rtRNA_15.table', '.DS_Store', 'Mus_musculus.GRCm39.cdna.all.fa', 'transcriptome_17.table', 'Mus_musculus.GRCm39.109.gff3']\n"
     ]
    }
   ],
   "source": [
    "reference_folder = r'/lab/solexa_weissman/puzheng/References/'\n",
    "print(os.listdir(os.path.join(reference_folder, 'GRCm39', 'Transcriptome')))"
   ]
  },
  {
   "cell_type": "markdown",
   "id": "12b52844",
   "metadata": {},
   "source": [
    "# Define design parameters"
   ]
  },
  {
   "cell_type": "markdown",
   "id": "34175c1b",
   "metadata": {},
   "source": [
    "## Folders"
   ]
  },
  {
   "cell_type": "code",
   "execution_count": 5,
   "id": "eea18640",
   "metadata": {},
   "outputs": [
    {
     "name": "stdout",
     "output_type": "stream",
     "text": [
      "- library will be saved in: /lab/solexa_weissman/puzheng/MERFISH_Probes/smFISH/mCherry\n",
      "-- library savefile: /lab/solexa_weissman/puzheng/MERFISH_Probes/smFISH/mCherry/designed_probes.csv\n",
      "-- library IDT format savefile: /lab/solexa_weissman/puzheng/MERFISH_Probes/smFISH/mCherry/designed_probes_idt_oPool.xlsx\n"
     ]
    }
   ],
   "source": [
    "# Define the output files\n",
    "library_folder = os.path.join(library_master_folder, 'smFISH', 'mCherry')\n",
    "print(f\"- library will be saved in: {library_folder}\")\n",
    "if not os.path.exists(library_folder):\n",
    "    os.makedirs(library_folder)\n",
    "    print(f\"-- create library_folder: {library_folder}\")\n",
    "probe_output_file = os.path.join(library_folder, 'designed_probes.csv')\n",
    "print(f\"-- library savefile: {probe_output_file}\")\n",
    "probe_output_idt_file = os.path.join(library_folder, 'designed_probes_idt_oPool.xlsx')\n",
    "print(f\"-- library IDT format savefile: {probe_output_idt_file}\")"
   ]
  },
  {
   "cell_type": "code",
   "execution_count": 6,
   "id": "a3487981",
   "metadata": {},
   "outputs": [
    {
     "name": "stdout",
     "output_type": "stream",
     "text": [
      "readout_fasta_file exists\n",
      "True True\n"
     ]
    }
   ],
   "source": [
    "# Define transcriptome reference\n",
    "mRNA_fasta_file = os.path.join(reference_folder, 'GRCm39', 'Transcriptome', \n",
    "                                      r'Mus_musculus.GRCm39.cdna.all.fa')\n",
    "ncRNA_fasta_file = os.path.join(reference_folder, 'GRCm39', 'Transcriptome',\n",
    "                                      r'Mus_musculus.GRCm39.ncrna.fa')\n",
    "gff3_file = os.path.join(reference_folder, 'GRCm39', 'Transcriptome',\n",
    "                                      r'Mus_musculus.GRCm39.109.gff3')\n",
    "\n",
    "# Define readout sequences\n",
    "readout_fasta_file = os.path.join(reference_folder, 'Readouts',\n",
    "                                  r'MERFISH_readouts.fasta')\n",
    "if os.path.isfile(readout_fasta_file):\n",
    "    print(\"readout_fasta_file exists\")\n",
    "else:\n",
    "    print(\"readout_fasta_file doesn't exist\")\n",
    "    \n",
    "# Define primer sequences\n",
    "forward_primer_file = os.path.join(reference_folder, 'Primers',\n",
    "                                   r'forward_primers_keep.fasta')\n",
    "reverse_primer_file = os.path.join(reference_folder, 'Primers',\n",
    "                                   r'reverse_primers_keep.fasta')\n",
    "                                   #r'T7_reverse_primers.fasta')\n",
    "selected_primers_file = os.path.join(library_folder, 'selected_primers.csv')\n",
    "\n",
    "print(os.path.isfile(forward_primer_file), os.path.isfile(reverse_primer_file))\n",
    "# Define FPKM reference (Not necessary for smFISH)\n",
    "fpkm_tracking_file = os.path.join(library_folder, r'isoforms.fpkm_tracking')"
   ]
  },
  {
   "cell_type": "markdown",
   "id": "598789c5",
   "metadata": {},
   "source": [
    "## Packages\n",
    "\n",
    "for MERFISH probe design, please refer to package: \n",
    "https://github.com/zhengpuas47/MERFISH_probe_design"
   ]
  },
  {
   "cell_type": "code",
   "execution_count": 7,
   "id": "3c256110",
   "metadata": {},
   "outputs": [],
   "source": [
    "import numpy as np\n",
    "import pandas as pd\n",
    "\n",
    "from IPython.display import display\n",
    "\n",
    "import MERFISH_probe_design.IO.file_io as fio\n",
    "import MERFISH_probe_design.probe_design.probe_dict as p_d\n",
    "import MERFISH_probe_design.probe_design.OTTable_dict as ot\n",
    "import MERFISH_probe_design.probe_design.readout_sequences as rs\n",
    "import MERFISH_probe_design.probe_design.probe_selection as ps\n",
    "import MERFISH_probe_design.probe_design.quality_check as qc\n",
    "from MERFISH_probe_design.probe_design import filters\n",
    "from MERFISH_probe_design.probe_design import plot\n",
    "from MERFISH_probe_design.probe_design import primer_design"
   ]
  },
  {
   "cell_type": "markdown",
   "id": "12273249-78a5-4c0f-90f1-c0cdc317cf95",
   "metadata": {},
   "source": [
    "# Design targeting sequences"
   ]
  },
  {
   "cell_type": "markdown",
   "id": "d5e667cf",
   "metadata": {},
   "source": [
    "## Load required parameters"
   ]
  },
  {
   "cell_type": "code",
   "execution_count": 9,
   "id": "93536ed8",
   "metadata": {},
   "outputs": [
    {
     "name": "stdout",
     "output_type": "stream",
     "text": [
      "Loaded 116912 transcripts.\n",
      "116912\n",
      "CPU times: user 1.89 s, sys: 328 ms, total: 2.22 s\n",
      "Wall time: 2.21 s\n"
     ]
    }
   ],
   "source": [
    "%%time\n",
    "# Load the transcriptome as a pandas data frame\n",
    "cdna = fio.load_transcriptome(mRNA_fasta_file, None)\n",
    "# Make sure that the transcriptome data frame has the standard column names.\n",
    "# The standard columns are: transcript_id, sequence, gene_id, gene_short_name and FPKM.\n",
    "# Also remove the non-standard columns for clarity.\n",
    "cdna = qc.check_and_standardize_transcriptome(cdna, remove_non_standard_columns=True)\n",
    "\n",
    "#ncRNAs =  fio.load_fasta_into_df(ncRNA_fasta_file, None)\n",
    "transcriptome = pd.concat([cdna, ], ignore_index=True)\n",
    "#transcriptome = fio.load_transcriptome(mRNA_fasta_file, fpkm_tracking_file) #MERFISH version\n",
    "\n",
    "\n",
    "\n",
    "# This FPKM data is not for our cell type of interest. So set the FPKMs to be all 1.\n",
    "transcriptome['FPKM'] = 1"
   ]
  },
  {
   "cell_type": "code",
   "execution_count": 10,
   "id": "7427d037",
   "metadata": {},
   "outputs": [
    {
     "data": {
      "text/html": [
       "<div>\n",
       "<style scoped>\n",
       "    .dataframe tbody tr th:only-of-type {\n",
       "        vertical-align: middle;\n",
       "    }\n",
       "\n",
       "    .dataframe tbody tr th {\n",
       "        vertical-align: top;\n",
       "    }\n",
       "\n",
       "    .dataframe thead th {\n",
       "        text-align: right;\n",
       "    }\n",
       "</style>\n",
       "<table border=\"1\" class=\"dataframe\">\n",
       "  <thead>\n",
       "    <tr style=\"text-align: right;\">\n",
       "      <th></th>\n",
       "      <th>transcript_id</th>\n",
       "      <th>sequence</th>\n",
       "      <th>FPKM</th>\n",
       "      <th>gene_id</th>\n",
       "      <th>gene_short_name</th>\n",
       "    </tr>\n",
       "  </thead>\n",
       "  <tbody>\n",
       "    <tr>\n",
       "      <th>0</th>\n",
       "      <td>ENSMUST00000178537.2</td>\n",
       "      <td>GGGACAGGGGGC</td>\n",
       "      <td>1</td>\n",
       "      <td>ENSMUSG00000095668.2</td>\n",
       "      <td>Trbd1</td>\n",
       "    </tr>\n",
       "    <tr>\n",
       "      <th>1</th>\n",
       "      <td>ENSMUST00000178862.2</td>\n",
       "      <td>GGGACTGGGGGGGC</td>\n",
       "      <td>1</td>\n",
       "      <td>ENSMUSG00000094569.2</td>\n",
       "      <td>Trbd2</td>\n",
       "    </tr>\n",
       "    <tr>\n",
       "      <th>2</th>\n",
       "      <td>ENSMUST00000196221.2</td>\n",
       "      <td>ATGGCATAT</td>\n",
       "      <td>1</td>\n",
       "      <td>ENSMUSG00000096749.3</td>\n",
       "      <td>Trdd1</td>\n",
       "    </tr>\n",
       "    <tr>\n",
       "      <th>3</th>\n",
       "      <td>ENSMUST00000179664.2</td>\n",
       "      <td>ATGGCATATCA</td>\n",
       "      <td>1</td>\n",
       "      <td>ENSMUSG00000096749.3</td>\n",
       "      <td>Trdd1</td>\n",
       "    </tr>\n",
       "    <tr>\n",
       "      <th>4</th>\n",
       "      <td>ENSMUST00000177564.2</td>\n",
       "      <td>ATCGGAGGGATACGAG</td>\n",
       "      <td>1</td>\n",
       "      <td>ENSMUSG00000096176.2</td>\n",
       "      <td>Trdd2</td>\n",
       "    </tr>\n",
       "    <tr>\n",
       "      <th>...</th>\n",
       "      <td>...</td>\n",
       "      <td>...</td>\n",
       "      <td>...</td>\n",
       "      <td>...</td>\n",
       "      <td>...</td>\n",
       "    </tr>\n",
       "    <tr>\n",
       "      <th>116907</th>\n",
       "      <td>ENSMUST00000215557.2</td>\n",
       "      <td>ATGTAAAACCAGAGCTTTGTCACTGAGTTTCTACTGTGAGGCTTAT...</td>\n",
       "      <td>1</td>\n",
       "      <td>ENSMUSG00000111578.2</td>\n",
       "      <td>Gm18166</td>\n",
       "    </tr>\n",
       "    <tr>\n",
       "      <th>116908</th>\n",
       "      <td>ENSMUST00000215627.2</td>\n",
       "      <td>ATGTAAAACCAGAGCTTTGTCACTGAGTTTCTACTGTGAGGCTTAT...</td>\n",
       "      <td>1</td>\n",
       "      <td>ENSMUSG00000111460.2</td>\n",
       "      <td>None</td>\n",
       "    </tr>\n",
       "    <tr>\n",
       "      <th>116909</th>\n",
       "      <td>ENSMUST00000118137.2</td>\n",
       "      <td>ATGGATGAAGGCAATCACACTGTGGTGTCATAATTTACACTCTGGA...</td>\n",
       "      <td>1</td>\n",
       "      <td>ENSMUSG00000094074.2</td>\n",
       "      <td>None</td>\n",
       "    </tr>\n",
       "    <tr>\n",
       "      <th>116910</th>\n",
       "      <td>ENSMUST00000208680.2</td>\n",
       "      <td>AATAGGTCATCTAAGGCTCTGTCTACACTGACTGCTCATATCACAG...</td>\n",
       "      <td>1</td>\n",
       "      <td>ENSMUSG00000109287.2</td>\n",
       "      <td>Gm44713</td>\n",
       "    </tr>\n",
       "    <tr>\n",
       "      <th>116911</th>\n",
       "      <td>ENSMUST00000208550.2</td>\n",
       "      <td>ATGGATAAAAGAGAATCACTCTATTGTGTCTGAGTTTGTGTTCTTG...</td>\n",
       "      <td>1</td>\n",
       "      <td>ENSMUSG00000109522.2</td>\n",
       "      <td>None</td>\n",
       "    </tr>\n",
       "  </tbody>\n",
       "</table>\n",
       "<p>116912 rows × 5 columns</p>\n",
       "</div>"
      ],
      "text/plain": [
       "               transcript_id  \\\n",
       "0       ENSMUST00000178537.2   \n",
       "1       ENSMUST00000178862.2   \n",
       "2       ENSMUST00000196221.2   \n",
       "3       ENSMUST00000179664.2   \n",
       "4       ENSMUST00000177564.2   \n",
       "...                      ...   \n",
       "116907  ENSMUST00000215557.2   \n",
       "116908  ENSMUST00000215627.2   \n",
       "116909  ENSMUST00000118137.2   \n",
       "116910  ENSMUST00000208680.2   \n",
       "116911  ENSMUST00000208550.2   \n",
       "\n",
       "                                                 sequence  FPKM  \\\n",
       "0                                            GGGACAGGGGGC     1   \n",
       "1                                          GGGACTGGGGGGGC     1   \n",
       "2                                               ATGGCATAT     1   \n",
       "3                                             ATGGCATATCA     1   \n",
       "4                                        ATCGGAGGGATACGAG     1   \n",
       "...                                                   ...   ...   \n",
       "116907  ATGTAAAACCAGAGCTTTGTCACTGAGTTTCTACTGTGAGGCTTAT...     1   \n",
       "116908  ATGTAAAACCAGAGCTTTGTCACTGAGTTTCTACTGTGAGGCTTAT...     1   \n",
       "116909  ATGGATGAAGGCAATCACACTGTGGTGTCATAATTTACACTCTGGA...     1   \n",
       "116910  AATAGGTCATCTAAGGCTCTGTCTACACTGACTGCTCATATCACAG...     1   \n",
       "116911  ATGGATAAAAGAGAATCACTCTATTGTGTCTGAGTTTGTGTTCTTG...     1   \n",
       "\n",
       "                     gene_id gene_short_name  \n",
       "0       ENSMUSG00000095668.2           Trbd1  \n",
       "1       ENSMUSG00000094569.2           Trbd2  \n",
       "2       ENSMUSG00000096749.3           Trdd1  \n",
       "3       ENSMUSG00000096749.3           Trdd1  \n",
       "4       ENSMUSG00000096176.2           Trdd2  \n",
       "...                      ...             ...  \n",
       "116907  ENSMUSG00000111578.2         Gm18166  \n",
       "116908  ENSMUSG00000111460.2            None  \n",
       "116909  ENSMUSG00000094074.2            None  \n",
       "116910  ENSMUSG00000109287.2         Gm44713  \n",
       "116911  ENSMUSG00000109522.2            None  \n",
       "\n",
       "[116912 rows x 5 columns]"
      ]
     },
     "execution_count": 10,
     "metadata": {},
     "output_type": "execute_result"
    }
   ],
   "source": [
    "transcriptome"
   ]
  },
  {
   "cell_type": "code",
   "execution_count": 11,
   "id": "61f8324c",
   "metadata": {},
   "outputs": [
    {
     "data": {
      "text/html": [
       "<div>\n",
       "<style scoped>\n",
       "    .dataframe tbody tr th:only-of-type {\n",
       "        vertical-align: middle;\n",
       "    }\n",
       "\n",
       "    .dataframe tbody tr th {\n",
       "        vertical-align: top;\n",
       "    }\n",
       "\n",
       "    .dataframe thead th {\n",
       "        text-align: right;\n",
       "    }\n",
       "</style>\n",
       "<table border=\"1\" class=\"dataframe\">\n",
       "  <thead>\n",
       "    <tr style=\"text-align: right;\">\n",
       "      <th></th>\n",
       "      <th>transcript_id</th>\n",
       "      <th>sequence</th>\n",
       "      <th>FPKM</th>\n",
       "      <th>gene_id</th>\n",
       "      <th>gene_short_name</th>\n",
       "    </tr>\n",
       "  </thead>\n",
       "  <tbody>\n",
       "    <tr>\n",
       "      <th>91805</th>\n",
       "      <td>ENSMUST00000205391.2</td>\n",
       "      <td>ATTCGCGACCCGAAGCTGCGCGGGCGCGAGCCAGTTGGGGCACTGG...</td>\n",
       "      <td>1</td>\n",
       "      <td>ENSMUSG00000034957.11</td>\n",
       "      <td>Cebpa</td>\n",
       "    </tr>\n",
       "    <tr>\n",
       "      <th>91806</th>\n",
       "      <td>ENSMUST00000042985.11</td>\n",
       "      <td>CGAAGCTGCGCGGGCGCGAGCCAGTTGGGGCACTGGGTGGGCGGCG...</td>\n",
       "      <td>1</td>\n",
       "      <td>ENSMUSG00000034957.11</td>\n",
       "      <td>Cebpa</td>\n",
       "    </tr>\n",
       "  </tbody>\n",
       "</table>\n",
       "</div>"
      ],
      "text/plain": [
       "               transcript_id  \\\n",
       "91805   ENSMUST00000205391.2   \n",
       "91806  ENSMUST00000042985.11   \n",
       "\n",
       "                                                sequence  FPKM  \\\n",
       "91805  ATTCGCGACCCGAAGCTGCGCGGGCGCGAGCCAGTTGGGGCACTGG...     1   \n",
       "91806  CGAAGCTGCGCGGGCGCGAGCCAGTTGGGGCACTGGGTGGGCGGCG...     1   \n",
       "\n",
       "                     gene_id gene_short_name  \n",
       "91805  ENSMUSG00000034957.11           Cebpa  \n",
       "91806  ENSMUSG00000034957.11           Cebpa  "
      ]
     },
     "execution_count": 11,
     "metadata": {},
     "output_type": "execute_result"
    }
   ],
   "source": [
    "# Let's have a look at the transcripts of the FLNA gene\n",
    "transcriptome[transcriptome['gene_short_name'] == 'Cebpa'].sort_values('FPKM', ascending=False)"
   ]
  },
  {
   "cell_type": "markdown",
   "id": "38fd482e",
   "metadata": {},
   "source": [
    "## Add mCherry into transcriptome"
   ]
  },
  {
   "cell_type": "code",
   "execution_count": 12,
   "id": "01ad29ee",
   "metadata": {},
   "outputs": [],
   "source": [
    "# sequence directly copied from the vector\n",
    "gene1_row = pd.Series(\n",
    "    {'transcript_id':'artificialTranscript_mCherry_t1',\n",
    "     'sequence': 'ATGGTGAGCAAGGGCGAGGAGGATAACATGGCCATCATCAAGGAGTTCATGCGCTTCAAGGTGCACATGGAGGGCTCCGTGAACGGCCACGAGTTCGAGATCGAGGGCGAGGGCGAGGGCCGCCCCTACGAGGGCACCCAGACCGCCAAGCTGAAGGTGACCAAGGGCGGCCCCCTGCCCTTCGCCTGGGACATCCTGTCCCCTCAGTTCATGTACGGCTCCAAGGCCTACGTGAAGCACCCCGCCGACATCCCCGACTACTTGAAGCTGTCCTTCCCCGAGGGCTTCAAGTGGGAGCGCGTGATGAACTTCGAGGACGGCGGCGTGGTGACCGTGACCCAGGACTCCTCCCTGCAGGACGGCGAGTTCATCTACAAGGTGAAGCTGCGCGGCACCAACTTCCCCTCCGACGGCCCCGTAATGCAGAAGAAGACCATGGGCTGGGAGGCCTCCTCCGAGCGGATGTACCCCGAGGACGGCGCCCTGAAGGGCGAGATCAAGCAGAGGCTGAAGCTGAAGGACGGCGGCCACTACGACGCTGAGGTCAAGACCACCTACAAGGCCAAGAAGCCCGTGCAGCTGCCCGGCGCCTACAACGTCAACATCAAGTTGGACATCACCTCCCACAACGAGGACTACACCATCGTGGAACAGTACGAACGCGCCGAGGGCCGCCACTCCACCGGCGGCATGGACGAGCTGTACAAGTAATGAA',\n",
    "     'FPKM': 1,\n",
    "     'gene_id':'artificialTranscript_mCherry',\n",
    "     'gene_short_name': 'mCherry',\n",
    "    }\n",
    ")"
   ]
  },
  {
   "cell_type": "code",
   "execution_count": 14,
   "id": "06a2365b",
   "metadata": {},
   "outputs": [
    {
     "data": {
      "text/html": [
       "<div>\n",
       "<style scoped>\n",
       "    .dataframe tbody tr th:only-of-type {\n",
       "        vertical-align: middle;\n",
       "    }\n",
       "\n",
       "    .dataframe tbody tr th {\n",
       "        vertical-align: top;\n",
       "    }\n",
       "\n",
       "    .dataframe thead th {\n",
       "        text-align: right;\n",
       "    }\n",
       "</style>\n",
       "<table border=\"1\" class=\"dataframe\">\n",
       "  <thead>\n",
       "    <tr style=\"text-align: right;\">\n",
       "      <th></th>\n",
       "      <th>transcript_id</th>\n",
       "      <th>sequence</th>\n",
       "      <th>FPKM</th>\n",
       "      <th>gene_id</th>\n",
       "      <th>gene_short_name</th>\n",
       "    </tr>\n",
       "  </thead>\n",
       "  <tbody>\n",
       "    <tr>\n",
       "      <th>0</th>\n",
       "      <td>ENSMUST00000178537.2</td>\n",
       "      <td>GGGACAGGGGGC</td>\n",
       "      <td>1</td>\n",
       "      <td>ENSMUSG00000095668.2</td>\n",
       "      <td>Trbd1</td>\n",
       "    </tr>\n",
       "    <tr>\n",
       "      <th>1</th>\n",
       "      <td>ENSMUST00000178862.2</td>\n",
       "      <td>GGGACTGGGGGGGC</td>\n",
       "      <td>1</td>\n",
       "      <td>ENSMUSG00000094569.2</td>\n",
       "      <td>Trbd2</td>\n",
       "    </tr>\n",
       "    <tr>\n",
       "      <th>2</th>\n",
       "      <td>ENSMUST00000196221.2</td>\n",
       "      <td>ATGGCATAT</td>\n",
       "      <td>1</td>\n",
       "      <td>ENSMUSG00000096749.3</td>\n",
       "      <td>Trdd1</td>\n",
       "    </tr>\n",
       "    <tr>\n",
       "      <th>3</th>\n",
       "      <td>ENSMUST00000179664.2</td>\n",
       "      <td>ATGGCATATCA</td>\n",
       "      <td>1</td>\n",
       "      <td>ENSMUSG00000096749.3</td>\n",
       "      <td>Trdd1</td>\n",
       "    </tr>\n",
       "    <tr>\n",
       "      <th>4</th>\n",
       "      <td>ENSMUST00000177564.2</td>\n",
       "      <td>ATCGGAGGGATACGAG</td>\n",
       "      <td>1</td>\n",
       "      <td>ENSMUSG00000096176.2</td>\n",
       "      <td>Trdd2</td>\n",
       "    </tr>\n",
       "    <tr>\n",
       "      <th>...</th>\n",
       "      <td>...</td>\n",
       "      <td>...</td>\n",
       "      <td>...</td>\n",
       "      <td>...</td>\n",
       "      <td>...</td>\n",
       "    </tr>\n",
       "    <tr>\n",
       "      <th>116908</th>\n",
       "      <td>ENSMUST00000215627.2</td>\n",
       "      <td>ATGTAAAACCAGAGCTTTGTCACTGAGTTTCTACTGTGAGGCTTAT...</td>\n",
       "      <td>1</td>\n",
       "      <td>ENSMUSG00000111460.2</td>\n",
       "      <td>None</td>\n",
       "    </tr>\n",
       "    <tr>\n",
       "      <th>116909</th>\n",
       "      <td>ENSMUST00000118137.2</td>\n",
       "      <td>ATGGATGAAGGCAATCACACTGTGGTGTCATAATTTACACTCTGGA...</td>\n",
       "      <td>1</td>\n",
       "      <td>ENSMUSG00000094074.2</td>\n",
       "      <td>None</td>\n",
       "    </tr>\n",
       "    <tr>\n",
       "      <th>116910</th>\n",
       "      <td>ENSMUST00000208680.2</td>\n",
       "      <td>AATAGGTCATCTAAGGCTCTGTCTACACTGACTGCTCATATCACAG...</td>\n",
       "      <td>1</td>\n",
       "      <td>ENSMUSG00000109287.2</td>\n",
       "      <td>Gm44713</td>\n",
       "    </tr>\n",
       "    <tr>\n",
       "      <th>116911</th>\n",
       "      <td>ENSMUST00000208550.2</td>\n",
       "      <td>ATGGATAAAAGAGAATCACTCTATTGTGTCTGAGTTTGTGTTCTTG...</td>\n",
       "      <td>1</td>\n",
       "      <td>ENSMUSG00000109522.2</td>\n",
       "      <td>None</td>\n",
       "    </tr>\n",
       "    <tr>\n",
       "      <th>116912</th>\n",
       "      <td>artificialTranscript_mCherry_t1</td>\n",
       "      <td>ATGGTGAGCAAGGGCGAGGAGGATAACATGGCCATCATCAAGGAGT...</td>\n",
       "      <td>1</td>\n",
       "      <td>artificialTranscript_mCherry</td>\n",
       "      <td>mCherry</td>\n",
       "    </tr>\n",
       "  </tbody>\n",
       "</table>\n",
       "<p>116913 rows × 5 columns</p>\n",
       "</div>"
      ],
      "text/plain": [
       "                          transcript_id  \\\n",
       "0                  ENSMUST00000178537.2   \n",
       "1                  ENSMUST00000178862.2   \n",
       "2                  ENSMUST00000196221.2   \n",
       "3                  ENSMUST00000179664.2   \n",
       "4                  ENSMUST00000177564.2   \n",
       "...                                 ...   \n",
       "116908             ENSMUST00000215627.2   \n",
       "116909             ENSMUST00000118137.2   \n",
       "116910             ENSMUST00000208680.2   \n",
       "116911             ENSMUST00000208550.2   \n",
       "116912  artificialTranscript_mCherry_t1   \n",
       "\n",
       "                                                 sequence FPKM  \\\n",
       "0                                            GGGACAGGGGGC    1   \n",
       "1                                          GGGACTGGGGGGGC    1   \n",
       "2                                               ATGGCATAT    1   \n",
       "3                                             ATGGCATATCA    1   \n",
       "4                                        ATCGGAGGGATACGAG    1   \n",
       "...                                                   ...  ...   \n",
       "116908  ATGTAAAACCAGAGCTTTGTCACTGAGTTTCTACTGTGAGGCTTAT...    1   \n",
       "116909  ATGGATGAAGGCAATCACACTGTGGTGTCATAATTTACACTCTGGA...    1   \n",
       "116910  AATAGGTCATCTAAGGCTCTGTCTACACTGACTGCTCATATCACAG...    1   \n",
       "116911  ATGGATAAAAGAGAATCACTCTATTGTGTCTGAGTTTGTGTTCTTG...    1   \n",
       "116912  ATGGTGAGCAAGGGCGAGGAGGATAACATGGCCATCATCAAGGAGT...    1   \n",
       "\n",
       "                             gene_id gene_short_name  \n",
       "0               ENSMUSG00000095668.2           Trbd1  \n",
       "1               ENSMUSG00000094569.2           Trbd2  \n",
       "2               ENSMUSG00000096749.3           Trdd1  \n",
       "3               ENSMUSG00000096749.3           Trdd1  \n",
       "4               ENSMUSG00000096176.2           Trdd2  \n",
       "...                              ...             ...  \n",
       "116908          ENSMUSG00000111460.2            None  \n",
       "116909          ENSMUSG00000094074.2            None  \n",
       "116910          ENSMUSG00000109287.2         Gm44713  \n",
       "116911          ENSMUSG00000109522.2            None  \n",
       "116912  artificialTranscript_mCherry         mCherry  \n",
       "\n",
       "[116913 rows x 5 columns]"
      ]
     },
     "execution_count": 14,
     "metadata": {},
     "output_type": "execute_result"
    }
   ],
   "source": [
    "transcriptome = pd.concat([transcriptome, gene1_row.to_frame().T], ignore_index=True)\n",
    "transcriptome"
   ]
  },
  {
   "cell_type": "markdown",
   "id": "eb5dca3d",
   "metadata": {},
   "source": [
    "## Select genes"
   ]
  },
  {
   "cell_type": "code",
   "execution_count": 15,
   "id": "f30bbf4d",
   "metadata": {},
   "outputs": [],
   "source": [
    "sel_genes = ['mCherry']"
   ]
  },
  {
   "cell_type": "markdown",
   "id": "503fa344-68c1-4a45-968f-4e516658196f",
   "metadata": {},
   "source": [
    "### based on genes, select 2-color readouts"
   ]
  },
  {
   "cell_type": "code",
   "execution_count": 16,
   "id": "9dd60968",
   "metadata": {},
   "outputs": [
    {
     "name": "stdout",
     "output_type": "stream",
     "text": [
      "['Bit-23-RS0763', 'Bit-24-RS0793']\n"
     ]
    }
   ],
   "source": [
    "readout_df = fio.load_fasta_into_df(readout_fasta_file)\n",
    "readout_names = list(readout_df['id'])\n",
    "\n",
    "start_bit = 22\n",
    "\n",
    "bit_names = readout_names[start_bit:start_bit+2*len(sel_genes)]\n",
    "readout_seqs = readout_df['sequence'][start_bit:start_bit+2*len(sel_genes)]\n",
    "print(bit_names)"
   ]
  },
  {
   "cell_type": "markdown",
   "id": "dea35dca-caa3-43b3-9764-32e2bdec873d",
   "metadata": {},
   "source": [
    "### design 2-color barcode table"
   ]
  },
  {
   "cell_type": "code",
   "execution_count": 17,
   "id": "759de036",
   "metadata": {},
   "outputs": [],
   "source": [
    "barcodes = []\n",
    "for _i, _name in enumerate(sel_genes):\n",
    "    _base_str = np.zeros(2*len(sel_genes), dtype=np.int32)\n",
    "    _base_str[2*_i:2*_i+2] = 1\n",
    "    barcodes.append(''.join(_base_str.astype(str)))"
   ]
  },
  {
   "cell_type": "markdown",
   "id": "02be7118",
   "metadata": {},
   "source": [
    "### combine"
   ]
  },
  {
   "cell_type": "code",
   "execution_count": 18,
   "id": "5725a25c",
   "metadata": {},
   "outputs": [
    {
     "data": {
      "text/html": [
       "<div>\n",
       "<style scoped>\n",
       "    .dataframe tbody tr th:only-of-type {\n",
       "        vertical-align: middle;\n",
       "    }\n",
       "\n",
       "    .dataframe tbody tr th {\n",
       "        vertical-align: top;\n",
       "    }\n",
       "\n",
       "    .dataframe thead th {\n",
       "        text-align: right;\n",
       "    }\n",
       "</style>\n",
       "<table border=\"1\" class=\"dataframe\">\n",
       "  <thead>\n",
       "    <tr style=\"text-align: right;\">\n",
       "      <th></th>\n",
       "      <th>name</th>\n",
       "      <th>barcode_str</th>\n",
       "    </tr>\n",
       "  </thead>\n",
       "  <tbody>\n",
       "    <tr>\n",
       "      <th>0</th>\n",
       "      <td>mCherry</td>\n",
       "      <td>11</td>\n",
       "    </tr>\n",
       "  </tbody>\n",
       "</table>\n",
       "</div>"
      ],
      "text/plain": [
       "      name barcode_str\n",
       "0  mCherry          11"
      ]
     },
     "execution_count": 18,
     "metadata": {},
     "output_type": "execute_result"
    }
   ],
   "source": [
    "barcode_table = pd.DataFrame({'name':sel_genes, \n",
    "                              #'id':['ENSMUSG00000061527.8', 'ENSMUSG00000000731.16'], \n",
    "                              #'id':['ENSMUST00000023709.7', 'ENSMUST00000145975.8'], \n",
    "                              'barcode_str':barcodes})\n",
    "barcode_table"
   ]
  },
  {
   "cell_type": "markdown",
   "id": "245cb997-1b4b-4382-8247-f28b84b8468e",
   "metadata": {},
   "source": [
    "## Initialize probe dict"
   ]
  },
  {
   "cell_type": "code",
   "execution_count": 19,
   "id": "911ba924",
   "metadata": {},
   "outputs": [
    {
     "name": "stdout",
     "output_type": "stream",
     "text": [
      "Found 1 transcripts for 1 target genes.\n",
      "Gene\tTranscript\tN_probes\n",
      "mCherry\n",
      "\tartificialTranscript_mCherry_t1\t686\n"
     ]
    }
   ],
   "source": [
    "# Initialize the probe dictionary which is the carrier of the probes throught the design process.\n",
    "probe_dict = p_d.init_probe_dict(sel_genes, transcriptome, \n",
    "                                 'gene_short_name', K=30)\n",
    "p_d.print_probe_dict(probe_dict)"
   ]
  },
  {
   "cell_type": "markdown",
   "id": "5932451c-23b7-41db-9b60-e6777aec0366",
   "metadata": {},
   "source": [
    "## Calculate and filter by probe GC"
   ]
  },
  {
   "cell_type": "code",
   "execution_count": 20,
   "id": "300d3a76",
   "metadata": {},
   "outputs": [
    {
     "data": {
      "image/png": "[encoded data removed]",
      "text/plain": [
       "<Figure size 640x480 with 1 Axes>"
      ]
     },
     "metadata": {},
     "output_type": "display_data"
    }
   ],
   "source": [
    "# Calculate and plot the GC contents of the target regions\n",
    "filters.calc_gc_for_probe_dict(probe_dict, column_key_seq='target_sequence', column_key_write='target_GC')\n",
    "plot.plot_hist(probe_dict, column_key='target_GC')"
   ]
  },
  {
   "cell_type": "code",
   "execution_count": 21,
   "id": "9a94cf71",
   "metadata": {},
   "outputs": [
    {
     "name": "stdout",
     "output_type": "stream",
     "text": [
      "mCherry\n",
      "\tartificialTranscript_mCherry_t1: 496 / 686 probes passed the filter 40 < target_GC <  70.\n"
     ]
    },
    {
     "name": "stderr",
     "output_type": "stream",
     "text": [
      "/lab/weissman_imaging/puzheng/.conda/env/postanalysis/lib/python3.10/site-packages/MERFISH_probe_design/probe_design/filters.py:17: FutureWarning: Boolean inputs to the `inclusive` argument are deprecated in favour of `both` or `neither`.\n",
      "  new_df = probe_dict[gk][tk][probe_dict[gk][tk][column_key].between(\n"
     ]
    },
    {
     "data": {
      "image/png": "[encoded data removed]",
      "text/plain": [
       "<Figure size 640x480 with 1 Axes>"
      ]
     },
     "metadata": {},
     "output_type": "display_data"
    }
   ],
   "source": [
    "# Filter GC cotent and plot the GC content after filtering\n",
    "filters.filter_probe_dict_by_metric(probe_dict, 'target_GC', lower_bound=40, upper_bound=70)\n",
    "plot.plot_hist(probe_dict, column_key='target_GC', bins=30)"
   ]
  },
  {
   "cell_type": "markdown",
   "id": "ee080efe",
   "metadata": {},
   "source": [
    "## Calculate and filter by probe Tm"
   ]
  },
  {
   "cell_type": "code",
   "execution_count": 22,
   "id": "849fafd8",
   "metadata": {},
   "outputs": [
    {
     "data": {
      "image/png": "[encoded data removed]",
      "text/plain": [
       "<Figure size 640x480 with 1 Axes>"
      ]
     },
     "metadata": {},
     "output_type": "display_data"
    }
   ],
   "source": [
    "# Calculate and plot the melting-temperatures (Tm)\n",
    "filters.calc_tm_for_probe_dict(probe_dict, Na_conc=390, fmd_percentile=30, probe_conc=5,\n",
    "                              column_key_seq='target_sequence', column_key_write='target_Tm')\n",
    "plot.plot_hist(probe_dict, column_key='target_Tm')"
   ]
  },
  {
   "cell_type": "code",
   "execution_count": 23,
   "id": "4eebdc5c",
   "metadata": {},
   "outputs": [
    {
     "name": "stdout",
     "output_type": "stream",
     "text": [
      "mCherry\n",
      "\tartificialTranscript_mCherry_t1: 493 / 496 probes passed the filter 50 < target_Tm <  65.\n"
     ]
    },
    {
     "name": "stderr",
     "output_type": "stream",
     "text": [
      "/lab/weissman_imaging/puzheng/.conda/env/postanalysis/lib/python3.10/site-packages/MERFISH_probe_design/probe_design/filters.py:17: FutureWarning: Boolean inputs to the `inclusive` argument are deprecated in favour of `both` or `neither`.\n",
      "  new_df = probe_dict[gk][tk][probe_dict[gk][tk][column_key].between(\n"
     ]
    },
    {
     "data": {
      "image/png": "[encoded data removed]",
      "text/plain": [
       "<Figure size 640x480 with 1 Axes>"
      ]
     },
     "metadata": {},
     "output_type": "display_data"
    }
   ],
   "source": [
    "# Filter by Tm\n",
    "# NOTE: here we used a higher upper bound for GC content and Tm than JM's original\n",
    "# cutoffs. It was shown that higher Tm gives better signal-to-noise ratios in SM-FISH\n",
    "filters.filter_probe_dict_by_metric(probe_dict, 'target_Tm', lower_bound=50, upper_bound=65)\n",
    "plot.plot_hist(probe_dict, column_key='target_Tm')"
   ]
  },
  {
   "cell_type": "markdown",
   "id": "f4024bb2",
   "metadata": {},
   "source": [
    "## Calculate off-targets"
   ]
  },
  {
   "cell_type": "markdown",
   "id": "19bfa9a2-5aa4-4b7b-8462-dc5418c6ad3b",
   "metadata": {},
   "source": [
    "### Generate CountTable"
   ]
  },
  {
   "cell_type": "code",
   "execution_count": 24,
   "id": "7fc0a981",
   "metadata": {},
   "outputs": [
    {
     "name": "stdout",
     "output_type": "stream",
     "text": [
      "Found 378 rRNAs/tRNAs from 29245 non-coding RNAs.\n"
     ]
    }
   ],
   "source": [
    "# Initialize the off-target counting tables\n",
    "overwrite_ottable = True\n",
    "# OTTable for rRNA/tRNAs\n",
    "if 'ottable_rtRNAs' not in locals() or overwrite_ottable:\n",
    "    \n",
    "    ottable_rtRNAs = ot.get_OTTable_for_rtRNAs(ncRNAs, 15)"
   ]
  },
  {
   "cell_type": "code",
   "execution_count": 25,
   "id": "4cd88184",
   "metadata": {},
   "outputs": [
    {
     "name": "stdout",
     "output_type": "stream",
     "text": [
      "Generate OTTable for gene mCherry.\n",
      "Construct a OTTable using 1/1 transcripts with FPKM > 0.\n"
     ]
    }
   ],
   "source": [
    "# OTTables for the genes we target\n",
    "if 'gene_ottable_dict' not in locals() or overwrite_ottable:\n",
    "    #gene_ottable_dict = ot.get_gene_OTTables(transcriptome, sel_isoform_names, 'transcript_id', 17)\n",
    "    gene_ottable_dict = ot.get_gene_OTTables(transcriptome, sel_genes, 'gene_short_name', 17)"
   ]
  },
  {
   "cell_type": "code",
   "execution_count": 26,
   "id": "0ff3ab96",
   "metadata": {
    "scrolled": true
   },
   "outputs": [
    {
     "name": "stdout",
     "output_type": "stream",
     "text": [
      "Construct a OTTable using 116913/116913 transcripts with FPKM > 0.\n",
      "Processed 1000/116913 sequences.\n",
      "Processed 2000/116913 sequences.\n",
      "Processed 3000/116913 sequences.\n",
      "Processed 4000/116913 sequences.\n",
      "Processed 5000/116913 sequences.\n",
      "Processed 6000/116913 sequences.\n",
      "Processed 7000/116913 sequences.\n",
      "Processed 8000/116913 sequences.\n",
      "Processed 9000/116913 sequences.\n",
      "Processed 10000/116913 sequences.\n",
      "Processed 11000/116913 sequences.\n",
      "Processed 12000/116913 sequences.\n",
      "Processed 13000/116913 sequences.\n",
      "Processed 14000/116913 sequences.\n",
      "Processed 15000/116913 sequences.\n",
      "Processed 16000/116913 sequences.\n",
      "Processed 17000/116913 sequences.\n",
      "Processed 18000/116913 sequences.\n",
      "Processed 19000/116913 sequences.\n",
      "Processed 20000/116913 sequences.\n",
      "Processed 21000/116913 sequences.\n",
      "Processed 22000/116913 sequences.\n",
      "Processed 23000/116913 sequences.\n",
      "Processed 24000/116913 sequences.\n",
      "Processed 25000/116913 sequences.\n",
      "Processed 26000/116913 sequences.\n",
      "Processed 27000/116913 sequences.\n",
      "Processed 28000/116913 sequences.\n",
      "Processed 29000/116913 sequences.\n",
      "Processed 30000/116913 sequences.\n",
      "Processed 31000/116913 sequences.\n",
      "Processed 32000/116913 sequences.\n",
      "Processed 33000/116913 sequences.\n",
      "Processed 34000/116913 sequences.\n",
      "Processed 35000/116913 sequences.\n",
      "Processed 36000/116913 sequences.\n",
      "Processed 37000/116913 sequences.\n",
      "Processed 38000/116913 sequences.\n",
      "Processed 39000/116913 sequences.\n",
      "Processed 40000/116913 sequences.\n",
      "Processed 41000/116913 sequences.\n",
      "Processed 42000/116913 sequences.\n",
      "Processed 43000/116913 sequences.\n",
      "Processed 44000/116913 sequences.\n",
      "Processed 45000/116913 sequences.\n",
      "Processed 46000/116913 sequences.\n",
      "Processed 47000/116913 sequences.\n",
      "Processed 48000/116913 sequences.\n",
      "Processed 49000/116913 sequences.\n",
      "Processed 50000/116913 sequences.\n",
      "Processed 51000/116913 sequences.\n",
      "Processed 52000/116913 sequences.\n",
      "Processed 53000/116913 sequences.\n",
      "Processed 54000/116913 sequences.\n",
      "Processed 55000/116913 sequences.\n",
      "Processed 56000/116913 sequences.\n",
      "Processed 57000/116913 sequences.\n",
      "Processed 58000/116913 sequences.\n",
      "Processed 59000/116913 sequences.\n",
      "Processed 60000/116913 sequences.\n",
      "Processed 61000/116913 sequences.\n",
      "Processed 62000/116913 sequences.\n",
      "Processed 63000/116913 sequences.\n",
      "Processed 64000/116913 sequences.\n",
      "Processed 65000/116913 sequences.\n",
      "Processed 66000/116913 sequences.\n",
      "Processed 67000/116913 sequences.\n",
      "Processed 68000/116913 sequences.\n",
      "Processed 69000/116913 sequences.\n",
      "Processed 70000/116913 sequences.\n",
      "Processed 71000/116913 sequences.\n",
      "Processed 72000/116913 sequences.\n",
      "Processed 73000/116913 sequences.\n",
      "Processed 74000/116913 sequences.\n",
      "Processed 75000/116913 sequences.\n",
      "Processed 76000/116913 sequences.\n",
      "Processed 77000/116913 sequences.\n",
      "Processed 78000/116913 sequences.\n",
      "Processed 79000/116913 sequences.\n",
      "Processed 80000/116913 sequences.\n",
      "Processed 81000/116913 sequences.\n",
      "Processed 82000/116913 sequences.\n",
      "Processed 83000/116913 sequences.\n",
      "Processed 84000/116913 sequences.\n",
      "Processed 85000/116913 sequences.\n",
      "Processed 86000/116913 sequences.\n",
      "Processed 87000/116913 sequences.\n",
      "Processed 88000/116913 sequences.\n",
      "Processed 89000/116913 sequences.\n",
      "Processed 90000/116913 sequences.\n",
      "Processed 91000/116913 sequences.\n",
      "Processed 92000/116913 sequences.\n",
      "Processed 93000/116913 sequences.\n",
      "Processed 94000/116913 sequences.\n",
      "Processed 95000/116913 sequences.\n",
      "Processed 96000/116913 sequences.\n",
      "Processed 97000/116913 sequences.\n",
      "Processed 98000/116913 sequences.\n",
      "Processed 99000/116913 sequences.\n",
      "Processed 100000/116913 sequences.\n",
      "Processed 101000/116913 sequences.\n",
      "Processed 102000/116913 sequences.\n",
      "Processed 103000/116913 sequences.\n",
      "Processed 104000/116913 sequences.\n",
      "Processed 105000/116913 sequences.\n",
      "Processed 106000/116913 sequences.\n",
      "Processed 107000/116913 sequences.\n",
      "Processed 108000/116913 sequences.\n",
      "Processed 109000/116913 sequences.\n",
      "Processed 110000/116913 sequences.\n",
      "Processed 111000/116913 sequences.\n",
      "Processed 112000/116913 sequences.\n",
      "Processed 113000/116913 sequences.\n",
      "Processed 114000/116913 sequences.\n",
      "Processed 115000/116913 sequences.\n",
      "Processed 116000/116913 sequences.\n"
     ]
    }
   ],
   "source": [
    "# OTTable for the transcriptome.\n",
    "if 'ottable_transcriptome' not in locals() or overwrite_ottable:\n",
    "    ottable_transcriptome = ot.get_OTTable_for_transcriptome(transcriptome, 17)"
   ]
  },
  {
   "cell_type": "markdown",
   "id": "8b74e99f-a32a-4533-935c-1017091f08a7",
   "metadata": {},
   "source": [
    "### Off-targets to rRNA/tRNAs"
   ]
  },
  {
   "cell_type": "code",
   "execution_count": 27,
   "id": "017d0cd7",
   "metadata": {},
   "outputs": [
    {
     "name": "stdout",
     "output_type": "stream",
     "text": [
      "Calculate OTs for 0/1 genes.\n",
      "mCherry\n",
      "\tartificialTranscript_mCherry_t1: 493 / 493 probes passed the filter -inf < target_OT_rtRNA <  0.5.\n"
     ]
    },
    {
     "name": "stderr",
     "output_type": "stream",
     "text": [
      "/lab/weissman_imaging/puzheng/.conda/env/postanalysis/lib/python3.10/site-packages/MERFISH_probe_design/probe_design/filters.py:17: FutureWarning: Boolean inputs to the `inclusive` argument are deprecated in favour of `both` or `neither`.\n",
      "  new_df = probe_dict[gk][tk][probe_dict[gk][tk][column_key].between(\n"
     ]
    }
   ],
   "source": [
    "# Calculate and plot the off-targets to rRNA/tRNAs\n",
    "ot.calc_OTs(probe_dict, ottable_rtRNAs, 'target_sequence', 'target_OT_rtRNA', 15)\n",
    "#plot.plot_hist(probe_dict, 'target_OT_rtRNA', y_max=400)\n",
    "# Filter out probes that have any rRNA/tRNA off-targets\n",
    "filters.filter_probe_dict_by_metric(probe_dict, 'target_OT_rtRNA', upper_bound=0.5)\n",
    "#plot.plot_hist(probe_dict, 'target_OT_rtRNA')"
   ]
  },
  {
   "cell_type": "markdown",
   "id": "dd56fb5a",
   "metadata": {},
   "source": [
    "### Off-targets to transcriptome"
   ]
  },
  {
   "cell_type": "code",
   "execution_count": 28,
   "id": "bb186496",
   "metadata": {},
   "outputs": [
    {
     "data": {
      "image/png": "[encoded data removed]",
      "text/plain": [
       "<Figure size 640x480 with 1 Axes>"
      ]
     },
     "metadata": {},
     "output_type": "display_data"
    },
    {
     "data": {
      "image/png": "[encoded data removed]",
      "text/plain": [
       "<Figure size 640x480 with 1 Axes>"
      ]
     },
     "metadata": {},
     "output_type": "display_data"
    }
   ],
   "source": [
    "# Get the FPKMs of the transcripts\n",
    "transcript_fpkms = dict(zip(list(transcriptome['transcript_id']), list(transcriptome['FPKM'])))\n",
    "\n",
    "# Calculate the specificities and isoform specificities of the target regions\n",
    "ot.calc_specificity(probe_dict, ottable_transcriptome, gene_ottable_dict, transcript_fpkms,\n",
    "                    'target_sequence', 'target_specificity', 'target_isospecificity', 17)\n",
    "\n",
    "plot.plot_hist(probe_dict, 'target_specificity')\n",
    "plot.plot_hist(probe_dict, 'target_isospecificity')"
   ]
  },
  {
   "cell_type": "code",
   "execution_count": 29,
   "id": "f06834e3",
   "metadata": {},
   "outputs": [],
   "source": [
    "# modify target isospecificity, if only one isoform exist:\n",
    "for _gene, _transcript_2_df in probe_dict.items():\n",
    "    if len(_transcript_2_df) == 1:\n",
    "        for _transcript, _df in _transcript_2_df.items():\n",
    "            probe_dict[_gene][_transcript]['target_isospecificity'] = 0.01"
   ]
  },
  {
   "cell_type": "code",
   "execution_count": 30,
   "id": "01b7eff5",
   "metadata": {},
   "outputs": [
    {
     "data": {
      "image/png": "[encoded data removed]",
      "text/plain": [
       "<Figure size 640x480 with 1 Axes>"
      ]
     },
     "metadata": {},
     "output_type": "display_data"
    }
   ],
   "source": [
    "plot.plot_hist(probe_dict, 'target_isospecificity')"
   ]
  },
  {
   "cell_type": "code",
   "execution_count": 31,
   "id": "ca2ce2c8",
   "metadata": {},
   "outputs": [
    {
     "name": "stdout",
     "output_type": "stream",
     "text": [
      "mCherry\n",
      "\tartificialTranscript_mCherry_t1: 375 / 493 probes passed the filter 0.99 < target_specificity <  inf.\n"
     ]
    },
    {
     "name": "stderr",
     "output_type": "stream",
     "text": [
      "/lab/weissman_imaging/puzheng/.conda/env/postanalysis/lib/python3.10/site-packages/MERFISH_probe_design/probe_design/filters.py:17: FutureWarning: Boolean inputs to the `inclusive` argument are deprecated in favour of `both` or `neither`.\n",
      "  new_df = probe_dict[gk][tk][probe_dict[gk][tk][column_key].between(\n"
     ]
    },
    {
     "data": {
      "image/png": "[encoded data removed]",
      "text/plain": [
       "<Figure size 640x480 with 1 Axes>"
      ]
     },
     "metadata": {},
     "output_type": "display_data"
    }
   ],
   "source": [
    "# Filter the specificities of the target regions\n",
    "# Here we allow the probes to target other isoforms\n",
    "# Don't allow any gene-level off-targets\n",
    "filters.filter_probe_dict_by_metric(probe_dict, 'target_specificity', lower_bound=0.99)\n",
    "plot.plot_hist(probe_dict, 'target_specificity')"
   ]
  },
  {
   "cell_type": "code",
   "execution_count": 32,
   "id": "bccf10ca",
   "metadata": {},
   "outputs": [
    {
     "name": "stdout",
     "output_type": "stream",
     "text": [
      "mCherry\n",
      "\tartificialTranscript_mCherry_t1: 375 / 375 probes passed the filter 0.0 < target_isospecificity <  0.66.\n"
     ]
    },
    {
     "data": {
      "image/png": "[encoded data removed]",
      "text/plain": [
       "<Figure size 640x480 with 1 Axes>"
      ]
     },
     "metadata": {},
     "output_type": "display_data"
    }
   ],
   "source": [
    "# Here we allow the probes to target other isoforms\n",
    "# Don't allow any gene-level off-targets\n",
    "filters.filter_probe_dict_by_metric(probe_dict, 'target_isospecificity', \n",
    "                                    lower_bound=0., upper_bound=0.66)\n",
    "plot.plot_hist(probe_dict, 'target_isospecificity')"
   ]
  },
  {
   "cell_type": "markdown",
   "id": "fd613641",
   "metadata": {},
   "source": [
    "## Select the transcript with the most probes"
   ]
  },
  {
   "cell_type": "code",
   "execution_count": 33,
   "id": "e709b8ce",
   "metadata": {},
   "outputs": [
    {
     "name": "stdout",
     "output_type": "stream",
     "text": [
      "Gene\tTranscript\tN_probes\n",
      "mCherry\n",
      "\tartificialTranscript_mCherry_t1\t375\n"
     ]
    }
   ],
   "source": [
    "select_transcripts = True\n",
    "if select_transcripts:\n",
    "    # Manual selection\n",
    "    #probe_dict = p_d.select_transcripts_by_ids(probe_dict, transcript_ids=['ENSMUST00000003100.10', ])\n",
    "    \n",
    "    # Select the transcript with most probes passed QC:\n",
    "    probe_dict = p_d.select_transcripts_by_num_probes(probe_dict)\n",
    "    p_d.print_probe_dict(probe_dict) # We excluded all the transcripts that are not our direct targets"
   ]
  },
  {
   "cell_type": "markdown",
   "id": "25c5b0a8-eb9a-4a83-8c60-56c1da7dfd6f",
   "metadata": {},
   "source": [
    "# Add readouts"
   ]
  },
  {
   "cell_type": "code",
   "execution_count": 36,
   "id": "748c9d32",
   "metadata": {},
   "outputs": [
    {
     "name": "stderr",
     "output_type": "stream",
     "text": [
      "/lab/weissman_imaging/puzheng/.conda/env/postanalysis/lib/python3.10/site-packages/MERFISH_probe_design/probe_design/readout_sequences.py:18: SettingWithCopyWarning: \n",
      "A value is trying to be set on a copy of a slice from a DataFrame.\n",
      "Try using .loc[row_indexer,col_indexer] = value instead\n",
      "\n",
      "See the caveats in the documentation: https://pandas.pydata.org/pandas-docs/stable/user_guide/indexing.html#returning-a-view-versus-a-copy\n",
      "  readout_seqs['on-bit'] = pd.Series(on_bits, index=readout_seqs.index)\n"
     ]
    },
    {
     "data": {
      "text/html": [
       "<div>\n",
       "<style scoped>\n",
       "    .dataframe tbody tr th:only-of-type {\n",
       "        vertical-align: middle;\n",
       "    }\n",
       "\n",
       "    .dataframe tbody tr th {\n",
       "        vertical-align: top;\n",
       "    }\n",
       "\n",
       "    .dataframe thead th {\n",
       "        text-align: right;\n",
       "    }\n",
       "</style>\n",
       "<table border=\"1\" class=\"dataframe\">\n",
       "  <thead>\n",
       "    <tr style=\"text-align: right;\">\n",
       "      <th></th>\n",
       "      <th>id</th>\n",
       "      <th>description</th>\n",
       "      <th>sequence</th>\n",
       "      <th>on-bit</th>\n",
       "    </tr>\n",
       "  </thead>\n",
       "  <tbody>\n",
       "    <tr>\n",
       "      <th>22</th>\n",
       "      <td>Bit-23-RS0763</td>\n",
       "      <td>Bit-23-RS0763</td>\n",
       "      <td>ATAAATCATTCCCACTACCC</td>\n",
       "      <td>0</td>\n",
       "    </tr>\n",
       "    <tr>\n",
       "      <th>23</th>\n",
       "      <td>Bit-24-RS0793</td>\n",
       "      <td>Bit-24-RS0793</td>\n",
       "      <td>ACCCAACACTCATAACATCC</td>\n",
       "      <td>1</td>\n",
       "    </tr>\n",
       "  </tbody>\n",
       "</table>\n",
       "</div>"
      ],
      "text/plain": [
       "               id    description              sequence  on-bit\n",
       "22  Bit-23-RS0763  Bit-23-RS0763  ATAAATCATTCCCACTACCC       0\n",
       "23  Bit-24-RS0793  Bit-24-RS0793  ACCCAACACTCATAACATCC       1"
      ]
     },
     "execution_count": 36,
     "metadata": {},
     "output_type": "execute_result"
    }
   ],
   "source": [
    "# Load readouts\n",
    "readout_seqs = readout_df[start_bit:start_bit+2*len(sel_genes)]\n",
    "rs.append_on_bit_ids_to_readout_sequences(readout_seqs, bit_names)\n",
    "readout_seqs"
   ]
  },
  {
   "cell_type": "code",
   "execution_count": 37,
   "id": "f5c86396",
   "metadata": {},
   "outputs": [
    {
     "name": "stdout",
     "output_type": "stream",
     "text": [
      "Added readout sequences to 375 probes.\n"
     ]
    }
   ],
   "source": [
    "# Add the readout sequences. Here we randomly add 2 readout sequences to each probe.\n",
    "# Add an \"T\" between the concatenated sequences.\n",
    "# Force each probe to have the same readout sequence\n",
    "num_readout_per_probe = 2\n",
    "rs.add_readout_seqs_to_probes_random(probe_dict, readout_seqs, barcode_table, \n",
    "                                     num_readout_per_probe, \n",
    "                                     spacer='', gene_id_key='name', \n",
    "                                     each_probe_1_on_bit=True)"
   ]
  },
  {
   "cell_type": "code",
   "execution_count": 38,
   "id": "150ea3b8",
   "metadata": {},
   "outputs": [
    {
     "name": "stdout",
     "output_type": "stream",
     "text": [
      "mCherry:artificialTranscript_mCherry_t1: selected 32/375 probes with N_overlapping_bases=306.0 and on-bit_coverage={0: 16, 1: 16}.\n"
     ]
    }
   ],
   "source": [
    "# and minimizes the overlapping between probes.\n",
    "ps.select_probes_greedy_stochastic(probe_dict, N_probes_per_transcript=32, N_on_bits=2)"
   ]
  },
  {
   "cell_type": "markdown",
   "id": "535f2c5c-1889-43c4-9eb3-433577c2c7fb",
   "metadata": {},
   "source": [
    "# Quality check"
   ]
  },
  {
   "cell_type": "code",
   "execution_count": 42,
   "id": "828462fa",
   "metadata": {},
   "outputs": [
    {
     "data": {
      "image/png": "[encoded data removed]",
      "text/plain": [
       "<Figure size 640x480 with 1 Axes>"
      ]
     },
     "metadata": {},
     "output_type": "display_data"
    }
   ],
   "source": [
    "# Let's plot the probe coverage of an example transcript\n",
    "seq_len = len(transcriptome[transcriptome['transcript_id'] == 'artificialTranscript_mCherry_t1'].iloc[0]['sequence'])\n",
    "plot.plot_sequence_coverage(probe_dict['mCherry']['artificialTranscript_mCherry_t1'], seq_len)"
   ]
  },
  {
   "cell_type": "code",
   "execution_count": 43,
   "id": "7d60cee4",
   "metadata": {},
   "outputs": [
    {
     "name": "stdout",
     "output_type": "stream",
     "text": [
      "Calculate OTs for 0/1 genes.\n"
     ]
    },
    {
     "data": {
      "image/png": "[encoded data removed]",
      "text/plain": [
       "<Figure size 640x480 with 1 Axes>"
      ]
     },
     "metadata": {},
     "output_type": "display_data"
    }
   ],
   "source": [
    "# Iterately remove the probes with high numbers of cis/trans-complementarity\n",
    "# This filtering strategy is a compromise between speed and the number of probes to keep\n",
    "while True:\n",
    "    # Make a OTTable from the reverse-complement sequences of the probes.\n",
    "    ottable_probes_rc = ot.get_OTTable_for_probe_dictionary(probe_dict, 'target_readout_sequence', 15, rc=True)\n",
    "    \n",
    "    # The off-targets in this table indicates cis/trans-complementarity\n",
    "    ot.calc_OTs(probe_dict, ottable_probes_rc, 'target_readout_sequence', 'probe_cis_trans_OT', 15)\n",
    "    max_ot = max(plot.get_values_from_probe_dict(probe_dict, 'probe_cis_trans_OT'))\n",
    "    if max_ot == 0:\n",
    "        break\n",
    "    \n",
    "    # Remove probes that have any cis/trans-complementarity\n",
    "    filters.filter_probe_dict_by_metric(probe_dict, 'probe_cis_trans_OT', upper_bound=max_ot - 0.5)\n",
    "    \n",
    "plot.plot_hist(probe_dict, 'probe_cis_trans_OT')"
   ]
  },
  {
   "cell_type": "markdown",
   "id": "16674dc2-b587-41c2-9cdd-d96448fcede3",
   "metadata": {},
   "source": [
    "# Output"
   ]
  },
  {
   "cell_type": "markdown",
   "id": "d4c95393",
   "metadata": {},
   "source": [
    "## Default csv output"
   ]
  },
  {
   "cell_type": "code",
   "execution_count": 44,
   "id": "375c83f0",
   "metadata": {},
   "outputs": [
    {
     "name": "stdout",
     "output_type": "stream",
     "text": [
      "/lab/solexa_weissman/puzheng/MERFISH_Probes/smFISH/mCherry/designed_probes.csv\n"
     ]
    }
   ],
   "source": [
    "# Get the reverse-complementary sequences of the designed probes\n",
    "p_d.get_rc_sequences(probe_dict, 'target_readout_sequence', 'target_readout_sequence_rc')\n",
    "\n",
    "# Get a data frame of all probes\n",
    "df_all_probes = p_d.probe_dict_to_df(probe_dict).sort_values(['probe_barcode', 'shift'])\n",
    "\n",
    "# Make a column of probe names\n",
    "probe_names = np.array(df_all_probes['gene_id']) + '_' + np.array(df_all_probes['transcript_id'])\n",
    "probe_names = probe_names + '_shift:' + np.array(df_all_probes['shift']).astype(str)\n",
    "probe_names = probe_names + '_GC:' + np.array(df_all_probes['target_GC']).astype('|S4').astype(str)\n",
    "probe_names = probe_names + '_Tm:' + np.array(df_all_probes['target_Tm']).astype('|S4').astype(str)\n",
    "probe_names = probe_names + '_specificity:' + np.array(df_all_probes['target_specificity']).astype('|S1').astype(str)\n",
    "probe_names = probe_names + '_isospecificity:' + np.array(df_all_probes['target_isospecificity']).astype('|S4').astype(str)\n",
    "probe_names = probe_names + '_' + np.array(df_all_probes['readout_names'])\n",
    "df_all_probes['probe_names'] = probe_names\n",
    "\n",
    "# Write the designed probes\n",
    "print(probe_output_file)\n",
    "df_all_probes.to_csv(probe_output_file, index=False)"
   ]
  },
  {
   "cell_type": "markdown",
   "id": "d29f0c3d",
   "metadata": {},
   "source": [
    "# IDT plate without primers"
   ]
  },
  {
   "cell_type": "code",
   "execution_count": 46,
   "id": "8b4c92cd",
   "metadata": {
    "scrolled": true
   },
   "outputs": [],
   "source": [
    "all_well_positions = []\n",
    "for _row in list('ABCDEFGH'):\n",
    "    for _col in range(1,13,1):\n",
    "        all_well_positions.append(f\"{_row}{_col}\")"
   ]
  },
  {
   "cell_type": "code",
   "execution_count": 48,
   "id": "ff22565d",
   "metadata": {},
   "outputs": [],
   "source": [
    "probe_plate_df = {\n",
    "    'Well Position':[], \n",
    "    'Name':[], \n",
    "    'Sequence':[],\n",
    "}\n",
    "\n",
    "for _i, (_name, _seq) in df_all_probes[['probe_names','target_readout_sequence_rc']].iterrows():\n",
    "    if 'mCherry' in _name:\n",
    "        probe_plate_df['Name'].append(_name)\n",
    "        probe_plate_df['Sequence'].append('/5Acryd/' + _seq[20:90])\n",
    "# add well position\n",
    "probe_plate_df['Well Position'] = all_well_positions[:len(probe_plate_df['Name'])]\n",
    "probe_plate_df = pd.DataFrame(probe_plate_df)"
   ]
  },
  {
   "cell_type": "code",
   "execution_count": 49,
   "id": "a4111087",
   "metadata": {},
   "outputs": [
    {
     "data": {
      "text/html": [
       "<div>\n",
       "<style scoped>\n",
       "    .dataframe tbody tr th:only-of-type {\n",
       "        vertical-align: middle;\n",
       "    }\n",
       "\n",
       "    .dataframe tbody tr th {\n",
       "        vertical-align: top;\n",
       "    }\n",
       "\n",
       "    .dataframe thead th {\n",
       "        text-align: right;\n",
       "    }\n",
       "</style>\n",
       "<table border=\"1\" class=\"dataframe\">\n",
       "  <thead>\n",
       "    <tr style=\"text-align: right;\">\n",
       "      <th></th>\n",
       "      <th>Well Position</th>\n",
       "      <th>Name</th>\n",
       "      <th>Sequence</th>\n",
       "    </tr>\n",
       "  </thead>\n",
       "  <tbody>\n",
       "    <tr>\n",
       "      <th>0</th>\n",
       "      <td>A1</td>\n",
       "      <td>mCherry_artificialTranscript_mCherry_t1_shift:...</td>\n",
       "      <td>/5Acryd/CATGTTATCCTCCTCGCCCTTGCTCACCATGGATGTTA...</td>\n",
       "    </tr>\n",
       "    <tr>\n",
       "      <th>1</th>\n",
       "      <td>A2</td>\n",
       "      <td>mCherry_artificialTranscript_mCherry_t1_shift:...</td>\n",
       "      <td>/5Acryd/TCCATGTGCACCTTGAAGCGCATGAACTCCGGATGTTA...</td>\n",
       "    </tr>\n",
       "    <tr>\n",
       "      <th>2</th>\n",
       "      <td>A3</td>\n",
       "      <td>mCherry_artificialTranscript_mCherry_t1_shift:...</td>\n",
       "      <td>/5Acryd/GCCGTTCACGGAGCCCTCCATGTGCACCTTGGATGTTA...</td>\n",
       "    </tr>\n",
       "    <tr>\n",
       "      <th>3</th>\n",
       "      <td>A4</td>\n",
       "      <td>mCherry_artificialTranscript_mCherry_t1_shift:...</td>\n",
       "      <td>/5Acryd/TCGCCCTCGCCCTCGATCTCGAACTCGTGGGGATGTTA...</td>\n",
       "    </tr>\n",
       "    <tr>\n",
       "      <th>4</th>\n",
       "      <td>A5</td>\n",
       "      <td>mCherry_artificialTranscript_mCherry_t1_shift:...</td>\n",
       "      <td>/5Acryd/TCAGCTTGGCGGTCTGGGTGCCCTCGTAGGGGATGTTA...</td>\n",
       "    </tr>\n",
       "    <tr>\n",
       "      <th>5</th>\n",
       "      <td>A6</td>\n",
       "      <td>mCherry_artificialTranscript_mCherry_t1_shift:...</td>\n",
       "      <td>/5Acryd/GGTCACCTTCAGCTTGGCGGTCTGGGTGCCGGATGTTA...</td>\n",
       "    </tr>\n",
       "    <tr>\n",
       "      <th>6</th>\n",
       "      <td>A7</td>\n",
       "      <td>mCherry_artificialTranscript_mCherry_t1_shift:...</td>\n",
       "      <td>/5Acryd/CCGTACATGAACTGAGGGGACAGGATGTCCGGATGTTA...</td>\n",
       "    </tr>\n",
       "    <tr>\n",
       "      <th>7</th>\n",
       "      <td>A8</td>\n",
       "      <td>mCherry_artificialTranscript_mCherry_t1_shift:...</td>\n",
       "      <td>/5Acryd/GTCGGCGGGGTGCTTCACGTAGGCCTTGGAGGATGTTA...</td>\n",
       "    </tr>\n",
       "    <tr>\n",
       "      <th>8</th>\n",
       "      <td>A9</td>\n",
       "      <td>mCherry_artificialTranscript_mCherry_t1_shift:...</td>\n",
       "      <td>/5Acryd/CAAGTAGTCGGGGATGTCGGCGGGGTGCTTGGATGTTA...</td>\n",
       "    </tr>\n",
       "    <tr>\n",
       "      <th>9</th>\n",
       "      <td>A10</td>\n",
       "      <td>mCherry_artificialTranscript_mCherry_t1_shift:...</td>\n",
       "      <td>/5Acryd/TTGAAGCCCTCGGGGAAGGACAGCTTCAAGGGATGTTA...</td>\n",
       "    </tr>\n",
       "    <tr>\n",
       "      <th>10</th>\n",
       "      <td>A11</td>\n",
       "      <td>mCherry_artificialTranscript_mCherry_t1_shift:...</td>\n",
       "      <td>/5Acryd/AGTTCATCACGCGCTCCCACTTGAAGCCCTGGATGTTA...</td>\n",
       "    </tr>\n",
       "    <tr>\n",
       "      <th>11</th>\n",
       "      <td>A12</td>\n",
       "      <td>mCherry_artificialTranscript_mCherry_t1_shift:...</td>\n",
       "      <td>/5Acryd/CAGCCCATGGTCTTCTTCTGCATTACGGGGGGATGTTA...</td>\n",
       "    </tr>\n",
       "    <tr>\n",
       "      <th>12</th>\n",
       "      <td>B1</td>\n",
       "      <td>mCherry_artificialTranscript_mCherry_t1_shift:...</td>\n",
       "      <td>/5Acryd/GTAGTGGCCGCCGTCCTTCAGCTTCAGCCTGGATGTTA...</td>\n",
       "    </tr>\n",
       "    <tr>\n",
       "      <th>13</th>\n",
       "      <td>B2</td>\n",
       "      <td>mCherry_artificialTranscript_mCherry_t1_shift:...</td>\n",
       "      <td>/5Acryd/GGTCTTGACCTCAGCGTCGTAGTGGCCGCCGGATGTTA...</td>\n",
       "    </tr>\n",
       "    <tr>\n",
       "      <th>14</th>\n",
       "      <td>B3</td>\n",
       "      <td>mCherry_artificialTranscript_mCherry_t1_shift:...</td>\n",
       "      <td>/5Acryd/CAGCTGCACGGGCTTCTTGGCCTTGTAGGTGGATGTTA...</td>\n",
       "    </tr>\n",
       "    <tr>\n",
       "      <th>15</th>\n",
       "      <td>B4</td>\n",
       "      <td>mCherry_artificialTranscript_mCherry_t1_shift:...</td>\n",
       "      <td>/5Acryd/AGTGGCGGCCCTCGGCGCGTTCGTACTGTTGGATGTTA...</td>\n",
       "    </tr>\n",
       "    <tr>\n",
       "      <th>16</th>\n",
       "      <td>B5</td>\n",
       "      <td>mCherry_artificialTranscript_mCherry_t1_shift:...</td>\n",
       "      <td>/5Acryd/GCGCATGAACTCCTTGATGATGGCCATGTTGGGTAGTG...</td>\n",
       "    </tr>\n",
       "    <tr>\n",
       "      <th>17</th>\n",
       "      <td>B6</td>\n",
       "      <td>mCherry_artificialTranscript_mCherry_t1_shift:...</td>\n",
       "      <td>/5Acryd/GTACATGAACTGAGGGGACAGGATGTCCCAGGGTAGTG...</td>\n",
       "    </tr>\n",
       "    <tr>\n",
       "      <th>18</th>\n",
       "      <td>B7</td>\n",
       "      <td>mCherry_artificialTranscript_mCherry_t1_shift:...</td>\n",
       "      <td>/5Acryd/CGCCGCCGTCCTCGAAGTTCATCACGCGCTGGGTAGTG...</td>\n",
       "    </tr>\n",
       "    <tr>\n",
       "      <th>19</th>\n",
       "      <td>B8</td>\n",
       "      <td>mCherry_artificialTranscript_mCherry_t1_shift:...</td>\n",
       "      <td>/5Acryd/CAGGGAGGAGTCCTGGGTCACGGTCACCACGGGTAGTG...</td>\n",
       "    </tr>\n",
       "    <tr>\n",
       "      <th>20</th>\n",
       "      <td>B9</td>\n",
       "      <td>mCherry_artificialTranscript_mCherry_t1_shift:...</td>\n",
       "      <td>/5Acryd/TTGTAGATGAACTCGCCGTCCTGCAGGGAGGGGTAGTG...</td>\n",
       "    </tr>\n",
       "    <tr>\n",
       "      <th>21</th>\n",
       "      <td>B10</td>\n",
       "      <td>mCherry_artificialTranscript_mCherry_t1_shift:...</td>\n",
       "      <td>/5Acryd/TTGGTGCCGCGCAGCTTCACCTTGTAGATGGGGTAGTG...</td>\n",
       "    </tr>\n",
       "    <tr>\n",
       "      <th>22</th>\n",
       "      <td>B11</td>\n",
       "      <td>mCherry_artificialTranscript_mCherry_t1_shift:...</td>\n",
       "      <td>/5Acryd/TGCATTACGGGGCCGTCGGAGGGGAAGTTGGGGTAGTG...</td>\n",
       "    </tr>\n",
       "    <tr>\n",
       "      <th>23</th>\n",
       "      <td>B12</td>\n",
       "      <td>mCherry_artificialTranscript_mCherry_t1_shift:...</td>\n",
       "      <td>/5Acryd/CTTGATCTCGCCCTTCAGGGCGCCGTCCTCGGGTAGTG...</td>\n",
       "    </tr>\n",
       "    <tr>\n",
       "      <th>24</th>\n",
       "      <td>C1</td>\n",
       "      <td>mCherry_artificialTranscript_mCherry_t1_shift:...</td>\n",
       "      <td>/5Acryd/TCAGCCTCTGCTTGATCTCGCCCTTCAGGGGGGTAGTG...</td>\n",
       "    </tr>\n",
       "    <tr>\n",
       "      <th>25</th>\n",
       "      <td>C2</td>\n",
       "      <td>mCherry_artificialTranscript_mCherry_t1_shift:...</td>\n",
       "      <td>/5Acryd/GCACGGGCTTCTTGGCCTTGTAGGTGGTCTGGGTAGTG...</td>\n",
       "    </tr>\n",
       "    <tr>\n",
       "      <th>26</th>\n",
       "      <td>C3</td>\n",
       "      <td>mCherry_artificialTranscript_mCherry_t1_shift:...</td>\n",
       "      <td>/5Acryd/TTGATGTTGACGTTGTAGGCGCCGGGCAGCGGGTAGTG...</td>\n",
       "    </tr>\n",
       "    <tr>\n",
       "      <th>27</th>\n",
       "      <td>C4</td>\n",
       "      <td>mCherry_artificialTranscript_mCherry_t1_shift:...</td>\n",
       "      <td>/5Acryd/GGAGGTGATGTCCAACTTGATGTTGACGTTGGGTAGTG...</td>\n",
       "    </tr>\n",
       "    <tr>\n",
       "      <th>28</th>\n",
       "      <td>C5</td>\n",
       "      <td>mCherry_artificialTranscript_mCherry_t1_shift:...</td>\n",
       "      <td>/5Acryd/GATGGTGTAGTCCTCGTTGTGGGAGGTGATGGGTAGTG...</td>\n",
       "    </tr>\n",
       "    <tr>\n",
       "      <th>29</th>\n",
       "      <td>C6</td>\n",
       "      <td>mCherry_artificialTranscript_mCherry_t1_shift:...</td>\n",
       "      <td>/5Acryd/TACTGTTCCACGATGGTGTAGTCCTCGTTGGGGTAGTG...</td>\n",
       "    </tr>\n",
       "    <tr>\n",
       "      <th>30</th>\n",
       "      <td>C7</td>\n",
       "      <td>mCherry_artificialTranscript_mCherry_t1_shift:...</td>\n",
       "      <td>/5Acryd/GTACAGCTCGTCCATGCCGCCGGTGGAGTGGGGTAGTG...</td>\n",
       "    </tr>\n",
       "    <tr>\n",
       "      <th>31</th>\n",
       "      <td>C8</td>\n",
       "      <td>mCherry_artificialTranscript_mCherry_t1_shift:...</td>\n",
       "      <td>/5Acryd/TTCATTACTTGTACAGCTCGTCCATGCCGCGGGTAGTG...</td>\n",
       "    </tr>\n",
       "  </tbody>\n",
       "</table>\n",
       "</div>"
      ],
      "text/plain": [
       "   Well Position                                               Name  \\\n",
       "0             A1  mCherry_artificialTranscript_mCherry_t1_shift:...   \n",
       "1             A2  mCherry_artificialTranscript_mCherry_t1_shift:...   \n",
       "2             A3  mCherry_artificialTranscript_mCherry_t1_shift:...   \n",
       "3             A4  mCherry_artificialTranscript_mCherry_t1_shift:...   \n",
       "4             A5  mCherry_artificialTranscript_mCherry_t1_shift:...   \n",
       "5             A6  mCherry_artificialTranscript_mCherry_t1_shift:...   \n",
       "6             A7  mCherry_artificialTranscript_mCherry_t1_shift:...   \n",
       "7             A8  mCherry_artificialTranscript_mCherry_t1_shift:...   \n",
       "8             A9  mCherry_artificialTranscript_mCherry_t1_shift:...   \n",
       "9            A10  mCherry_artificialTranscript_mCherry_t1_shift:...   \n",
       "10           A11  mCherry_artificialTranscript_mCherry_t1_shift:...   \n",
       "11           A12  mCherry_artificialTranscript_mCherry_t1_shift:...   \n",
       "12            B1  mCherry_artificialTranscript_mCherry_t1_shift:...   \n",
       "13            B2  mCherry_artificialTranscript_mCherry_t1_shift:...   \n",
       "14            B3  mCherry_artificialTranscript_mCherry_t1_shift:...   \n",
       "15            B4  mCherry_artificialTranscript_mCherry_t1_shift:...   \n",
       "16            B5  mCherry_artificialTranscript_mCherry_t1_shift:...   \n",
       "17            B6  mCherry_artificialTranscript_mCherry_t1_shift:...   \n",
       "18            B7  mCherry_artificialTranscript_mCherry_t1_shift:...   \n",
       "19            B8  mCherry_artificialTranscript_mCherry_t1_shift:...   \n",
       "20            B9  mCherry_artificialTranscript_mCherry_t1_shift:...   \n",
       "21           B10  mCherry_artificialTranscript_mCherry_t1_shift:...   \n",
       "22           B11  mCherry_artificialTranscript_mCherry_t1_shift:...   \n",
       "23           B12  mCherry_artificialTranscript_mCherry_t1_shift:...   \n",
       "24            C1  mCherry_artificialTranscript_mCherry_t1_shift:...   \n",
       "25            C2  mCherry_artificialTranscript_mCherry_t1_shift:...   \n",
       "26            C3  mCherry_artificialTranscript_mCherry_t1_shift:...   \n",
       "27            C4  mCherry_artificialTranscript_mCherry_t1_shift:...   \n",
       "28            C5  mCherry_artificialTranscript_mCherry_t1_shift:...   \n",
       "29            C6  mCherry_artificialTranscript_mCherry_t1_shift:...   \n",
       "30            C7  mCherry_artificialTranscript_mCherry_t1_shift:...   \n",
       "31            C8  mCherry_artificialTranscript_mCherry_t1_shift:...   \n",
       "\n",
       "                                             Sequence  \n",
       "0   /5Acryd/CATGTTATCCTCCTCGCCCTTGCTCACCATGGATGTTA...  \n",
       "1   /5Acryd/TCCATGTGCACCTTGAAGCGCATGAACTCCGGATGTTA...  \n",
       "2   /5Acryd/GCCGTTCACGGAGCCCTCCATGTGCACCTTGGATGTTA...  \n",
       "3   /5Acryd/TCGCCCTCGCCCTCGATCTCGAACTCGTGGGGATGTTA...  \n",
       "4   /5Acryd/TCAGCTTGGCGGTCTGGGTGCCCTCGTAGGGGATGTTA...  \n",
       "5   /5Acryd/GGTCACCTTCAGCTTGGCGGTCTGGGTGCCGGATGTTA...  \n",
       "6   /5Acryd/CCGTACATGAACTGAGGGGACAGGATGTCCGGATGTTA...  \n",
       "7   /5Acryd/GTCGGCGGGGTGCTTCACGTAGGCCTTGGAGGATGTTA...  \n",
       "8   /5Acryd/CAAGTAGTCGGGGATGTCGGCGGGGTGCTTGGATGTTA...  \n",
       "9   /5Acryd/TTGAAGCCCTCGGGGAAGGACAGCTTCAAGGGATGTTA...  \n",
       "10  /5Acryd/AGTTCATCACGCGCTCCCACTTGAAGCCCTGGATGTTA...  \n",
       "11  /5Acryd/CAGCCCATGGTCTTCTTCTGCATTACGGGGGGATGTTA...  \n",
       "12  /5Acryd/GTAGTGGCCGCCGTCCTTCAGCTTCAGCCTGGATGTTA...  \n",
       "13  /5Acryd/GGTCTTGACCTCAGCGTCGTAGTGGCCGCCGGATGTTA...  \n",
       "14  /5Acryd/CAGCTGCACGGGCTTCTTGGCCTTGTAGGTGGATGTTA...  \n",
       "15  /5Acryd/AGTGGCGGCCCTCGGCGCGTTCGTACTGTTGGATGTTA...  \n",
       "16  /5Acryd/GCGCATGAACTCCTTGATGATGGCCATGTTGGGTAGTG...  \n",
       "17  /5Acryd/GTACATGAACTGAGGGGACAGGATGTCCCAGGGTAGTG...  \n",
       "18  /5Acryd/CGCCGCCGTCCTCGAAGTTCATCACGCGCTGGGTAGTG...  \n",
       "19  /5Acryd/CAGGGAGGAGTCCTGGGTCACGGTCACCACGGGTAGTG...  \n",
       "20  /5Acryd/TTGTAGATGAACTCGCCGTCCTGCAGGGAGGGGTAGTG...  \n",
       "21  /5Acryd/TTGGTGCCGCGCAGCTTCACCTTGTAGATGGGGTAGTG...  \n",
       "22  /5Acryd/TGCATTACGGGGCCGTCGGAGGGGAAGTTGGGGTAGTG...  \n",
       "23  /5Acryd/CTTGATCTCGCCCTTCAGGGCGCCGTCCTCGGGTAGTG...  \n",
       "24  /5Acryd/TCAGCCTCTGCTTGATCTCGCCCTTCAGGGGGGTAGTG...  \n",
       "25  /5Acryd/GCACGGGCTTCTTGGCCTTGTAGGTGGTCTGGGTAGTG...  \n",
       "26  /5Acryd/TTGATGTTGACGTTGTAGGCGCCGGGCAGCGGGTAGTG...  \n",
       "27  /5Acryd/GGAGGTGATGTCCAACTTGATGTTGACGTTGGGTAGTG...  \n",
       "28  /5Acryd/GATGGTGTAGTCCTCGTTGTGGGAGGTGATGGGTAGTG...  \n",
       "29  /5Acryd/TACTGTTCCACGATGGTGTAGTCCTCGTTGGGGTAGTG...  \n",
       "30  /5Acryd/GTACAGCTCGTCCATGCCGCCGGTGGAGTGGGGTAGTG...  \n",
       "31  /5Acryd/TTCATTACTTGTACAGCTCGTCCATGCCGCGGGTAGTG...  "
      ]
     },
     "execution_count": 49,
     "metadata": {},
     "output_type": "execute_result"
    }
   ],
   "source": [
    "probe_plate_df"
   ]
  },
  {
   "cell_type": "code",
   "execution_count": 52,
   "id": "f6e4bd3b",
   "metadata": {},
   "outputs": [
    {
     "name": "stdout",
     "output_type": "stream",
     "text": [
      "saving probes to file: /lab/solexa_weissman/puzheng/MERFISH_Probes/smFISH/mCherry/2023_8_21_smFISH_mCherry_IDTplate.xlsx\n"
     ]
    }
   ],
   "source": [
    "# save\n",
    "import time\n",
    "overwrite = True\n",
    "save_common_probe_plate_filename = os.path.join(library_folder,\n",
    "                             f\"{time.localtime().tm_year}_{time.localtime().tm_mon}_{time.localtime().tm_mday}_smFISH_mCherry_IDTplate.xlsx\")\n",
    "\n",
    "if not os.path.exists(save_common_probe_plate_filename) or overwrite:\n",
    "    print(f\"saving probes to file: {save_common_probe_plate_filename}\")\n",
    "    probe_plate_df.to_excel(save_common_probe_plate_filename, index=None)"
   ]
  },
  {
   "cell_type": "code",
   "execution_count": 51,
   "id": "f061fea6",
   "metadata": {},
   "outputs": [
    {
     "data": {
      "text/plain": [
       "'TTCATTACTTGTACAGCTCGTCCATGCCGC'"
      ]
     },
     "execution_count": 51,
     "metadata": {},
     "output_type": "execute_result"
    }
   ],
   "source": [
    "reverse_complement(df_all_probes['target_sequence'].values[-1])"
   ]
  },
  {
   "cell_type": "code",
   "execution_count": null,
   "id": "a43664bd",
   "metadata": {},
   "outputs": [],
   "source": []
  }
 ],
 "metadata": {
  "kernelspec": {
   "display_name": "postanalysis",
   "language": "python",
   "name": "postanalysis"
  },
  "language_info": {
   "codemirror_mode": {
    "name": "ipython",
    "version": 3
   },
   "file_extension": ".py",
   "mimetype": "text/x-python",
   "name": "python",
   "nbconvert_exporter": "python",
   "pygments_lexer": "ipython3",
   "version": "3.10.12"
  }
 },
 "nbformat": 4,
 "nbformat_minor": 5
}
