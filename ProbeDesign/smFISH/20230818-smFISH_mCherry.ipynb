{
 "cells": [
  {
   "cell_type": "markdown",
   "id": "b0fd4425",
   "metadata": {},
   "source": [
    "# Design 2-color mCherry smFISH\n",
    "\n",
    "by Pu Zheng\n"
   ]
  },
  {
   "cell_type": "code",
   "execution_count": 1,
   "id": "82ccd613",
   "metadata": {},
   "outputs": [
    {
     "name": "stdout",
     "output_type": "stream",
     "text": [
      "3325877\n"
     ]
    }
   ],
   "source": [
    "# Basic imports\n",
    "import os,sys,re\n",
    "from importlib import reload\n",
    "import numpy as np\n",
    "import pandas as pd\n",
    "#import torch\n",
    "print(os.getpid())"
   ]
  },
  {
   "cell_type": "code",
   "execution_count": 2,
   "id": "133bee56",
   "metadata": {},
   "outputs": [],
   "source": [
    "# ChromAn related imports\n",
    "sys.path.append(r'/lab/weissman_imaging/puzheng/Softwares/ChromAn') # parent folder of ChromAn\n",
    "import src"
   ]
  },
  {
   "cell_type": "markdown",
   "id": "8d044cff-2cf3-4093-8df7-91e9036b150e",
   "metadata": {},
   "source": [
    "## Master folder\n",
    "folder storing all the libraries"
   ]
  },
  {
   "cell_type": "code",
   "execution_count": 4,
   "id": "4b3e94f0",
   "metadata": {},
   "outputs": [
    {
     "name": "stdout",
     "output_type": "stream",
     "text": [
      "- FISH probe libraries stored in folder: /lab/solexa_weissman/puzheng/MERFISH_Probes\n"
     ]
    }
   ],
   "source": [
    "library_master_folder = r'/lab/solexa_weissman/puzheng/MERFISH_Probes'\n",
    "print(f\"- FISH probe libraries stored in folder: {library_master_folder}\")"
   ]
  },
  {
   "cell_type": "markdown",
   "id": "a7773758",
   "metadata": {},
   "source": [
    "## References:\n",
    "\n",
    "GRCm39:\n",
    "https://ftp.ensembl.org/pub/release-109/fasta/mus_musculus/ "
   ]
  },
  {
   "cell_type": "code",
   "execution_count": 5,
   "id": "76695053",
   "metadata": {},
   "outputs": [
    {
     "name": "stdout",
     "output_type": "stream",
     "text": [
      "['Mus_musculus.GRCm39.ncrna.fa', 'rtRNA_15.table', '.DS_Store', 'Mus_musculus.GRCm39.cdna.all.fa', 'transcriptome_17.table', 'Mus_musculus.GRCm39.109.gff3']\n"
     ]
    }
   ],
   "source": [
    "reference_folder = r'/lab/solexa_weissman/puzheng/References/'\n",
    "print(os.listdir(os.path.join(reference_folder, 'GRCm39', 'Transcriptome')))"
   ]
  },
  {
   "cell_type": "markdown",
   "id": "10204432",
   "metadata": {},
   "source": [
    "# Define design parameters"
   ]
  },
  {
   "cell_type": "markdown",
   "id": "daef3255",
   "metadata": {},
   "source": [
    "## Folders"
   ]
  },
  {
   "cell_type": "code",
   "execution_count": 6,
   "id": "8b4a5383",
   "metadata": {},
   "outputs": [
    {
     "name": "stdout",
     "output_type": "stream",
     "text": [
      "- library will be saved in: /lab/solexa_weissman/puzheng/MERFISH_Probes/smFISH/mCherry\n",
      "-- library savefile: /lab/solexa_weissman/puzheng/MERFISH_Probes/smFISH/mCherry/designed_probes.csv\n",
      "-- library IDT format savefile: /lab/solexa_weissman/puzheng/MERFISH_Probes/smFISH/mCherry/designed_probes_idt_oPool.xlsx\n"
     ]
    }
   ],
   "source": [
    "# Define the output files\n",
    "library_folder = os.path.join(library_master_folder, 'smFISH', 'mCherry')\n",
    "print(f\"- library will be saved in: {library_folder}\")\n",
    "if not os.path.exists(library_folder):\n",
    "    os.makedirs(library_folder)\n",
    "    print(f\"-- create library_folder: {library_folder}\")\n",
    "probe_output_file = os.path.join(library_folder, 'designed_probes.csv')\n",
    "print(f\"-- library savefile: {probe_output_file}\")\n",
    "probe_output_idt_file = os.path.join(library_folder, 'designed_probes_idt_oPool.xlsx')\n",
    "print(f\"-- library IDT format savefile: {probe_output_idt_file}\")"
   ]
  },
  {
   "cell_type": "code",
   "execution_count": 7,
   "id": "2959d3cf",
   "metadata": {},
   "outputs": [
    {
     "name": "stdout",
     "output_type": "stream",
     "text": [
      "readout_fasta_file exists\n",
      "True True\n"
     ]
    }
   ],
   "source": [
    "# Define transcriptome reference\n",
    "mRNA_fasta_file = os.path.join(reference_folder, 'GRCm39', 'Transcriptome', \n",
    "                                      r'Mus_musculus.GRCm39.cdna.all.fa')\n",
    "ncRNA_fasta_file = os.path.join(reference_folder, 'GRCm39', 'Transcriptome',\n",
    "                                      r'Mus_musculus.GRCm39.ncrna.fa')\n",
    "gff3_file = os.path.join(reference_folder, 'GRCm39', 'Transcriptome',\n",
    "                                      r'Mus_musculus.GRCm39.109.gff3')\n",
    "\n",
    "# Define readout sequences\n",
    "readout_fasta_file = os.path.join(reference_folder, 'Readouts',\n",
    "                                  r'MERFISH_readouts.fasta')\n",
    "if os.path.isfile(readout_fasta_file):\n",
    "    print(\"readout_fasta_file exists\")\n",
    "else:\n",
    "    print(\"readout_fasta_file doesn't exist\")\n",
    "    \n",
    "# Define primer sequences\n",
    "forward_primer_file = os.path.join(reference_folder, 'Primers',\n",
    "                                   r'forward_primers_keep.fasta')\n",
    "reverse_primer_file = os.path.join(reference_folder, 'Primers',\n",
    "                                   r'reverse_primers_keep.fasta')\n",
    "                                   #r'T7_reverse_primers.fasta')\n",
    "selected_primers_file = os.path.join(library_folder, 'selected_primers.csv')\n",
    "\n",
    "print(os.path.isfile(forward_primer_file), os.path.isfile(reverse_primer_file))\n",
    "# Define FPKM reference (Not necessary for smFISH)\n",
    "fpkm_tracking_file = os.path.join(library_folder, r'isoforms.fpkm_tracking')"
   ]
  },
  {
   "cell_type": "markdown",
   "id": "574db49b",
   "metadata": {},
   "source": [
    "## Packages\n",
    "\n",
    "for MERFISH probe design, please refer to package: \n",
    "https://github.com/zhengpuas47/MERFISH_probe_design"
   ]
  },
  {
   "cell_type": "code",
   "execution_count": 3,
   "id": "c3a8b6bd",
   "metadata": {},
   "outputs": [],
   "source": [
    "import numpy as np\n",
    "import pandas as pd\n",
    "\n",
    "from IPython.display import display\n",
    "\n",
    "import MERFISH_probe_design.IO.file_io as fio\n",
    "import MERFISH_probe_design.probe_design.probe_dict as p_d\n",
    "import MERFISH_probe_design.probe_design.OTTable_dict as ot\n",
    "import MERFISH_probe_design.probe_design.readout_sequences as rs\n",
    "import MERFISH_probe_design.probe_design.probe_selection as ps\n",
    "import MERFISH_probe_design.probe_design.quality_check as qc\n",
    "from MERFISH_probe_design.probe_design import filters\n",
    "from MERFISH_probe_design.probe_design import plot\n",
    "from MERFISH_probe_design.probe_design import primer_design"
   ]
  },
  {
   "cell_type": "markdown",
   "id": "12273249-78a5-4c0f-90f1-c0cdc317cf95",
   "metadata": {},
   "source": [
    "# Design targeting sequences"
   ]
  },
  {
   "cell_type": "markdown",
   "id": "8240bc60",
   "metadata": {},
   "source": [
    "## Load required parameters"
   ]
  },
  {
   "cell_type": "code",
   "execution_count": 40,
   "id": "43343f75",
   "metadata": {},
   "outputs": [],
   "source": [
    "ncRNAs =  fio.load_fasta_into_df(ncRNA_fasta_file, None)\n",
    "transcriptome = pd.concat([cdna, ncRNAs], ignore_index=True)\n"
   ]
  },
  {
   "cell_type": "code",
   "execution_count": 43,
   "id": "59d78fc0",
   "metadata": {},
   "outputs": [
    {
     "name": "stdout",
     "output_type": "stream",
     "text": [
      "Loaded 116912 transcripts.\n",
      "116912\n",
      "CPU times: user 2.08 s, sys: 414 ms, total: 2.49 s\n",
      "Wall time: 2.49 s\n"
     ]
    }
   ],
   "source": [
    "%%time\n",
    "# Load the transcriptome as a pandas data frame\n",
    "cdna = fio.load_transcriptome(mRNA_fasta_file, None)\n",
    "# Make sure that the transcriptome data frame has the standard column names.\n",
    "# The standard columns are: transcript_id, sequence, gene_id, gene_short_name and FPKM.\n",
    "# Also remove the non-standard columns for clarity.\n",
    "cdna = qc.check_and_standardize_transcriptome(cdna, remove_non_standard_columns=True)\n",
    "\n",
    "#ncRNAs =  fio.load_fasta_into_df(ncRNA_fasta_file, None)\n",
    "transcriptome = pd.concat([cdna, ], ignore_index=True)\n",
    "#transcriptome = fio.load_transcriptome(mRNA_fasta_file, fpkm_tracking_file) #MERFISH version\n",
    "\n",
    "\n",
    "\n",
    "# This FPKM data is not for our cell type of interest. So set the FPKMs to be all 1.\n",
    "transcriptome['FPKM'] = 1"
   ]
  },
  {
   "cell_type": "code",
   "execution_count": 44,
   "id": "cf4ca4e5",
   "metadata": {},
   "outputs": [
    {
     "data": {
      "text/html": [
       "<div>\n",
       "<style scoped>\n",
       "    .dataframe tbody tr th:only-of-type {\n",
       "        vertical-align: middle;\n",
       "    }\n",
       "\n",
       "    .dataframe tbody tr th {\n",
       "        vertical-align: top;\n",
       "    }\n",
       "\n",
       "    .dataframe thead th {\n",
       "        text-align: right;\n",
       "    }\n",
       "</style>\n",
       "<table border=\"1\" class=\"dataframe\">\n",
       "  <thead>\n",
       "    <tr style=\"text-align: right;\">\n",
       "      <th></th>\n",
       "      <th>transcript_id</th>\n",
       "      <th>sequence</th>\n",
       "      <th>FPKM</th>\n",
       "      <th>gene_id</th>\n",
       "      <th>gene_short_name</th>\n",
       "    </tr>\n",
       "  </thead>\n",
       "  <tbody>\n",
       "    <tr>\n",
       "      <th>0</th>\n",
       "      <td>ENSMUST00000178537.2</td>\n",
       "      <td>GGGACAGGGGGC</td>\n",
       "      <td>1</td>\n",
       "      <td>ENSMUSG00000095668.2</td>\n",
       "      <td>Trbd1</td>\n",
       "    </tr>\n",
       "    <tr>\n",
       "      <th>1</th>\n",
       "      <td>ENSMUST00000178862.2</td>\n",
       "      <td>GGGACTGGGGGGGC</td>\n",
       "      <td>1</td>\n",
       "      <td>ENSMUSG00000094569.2</td>\n",
       "      <td>Trbd2</td>\n",
       "    </tr>\n",
       "    <tr>\n",
       "      <th>2</th>\n",
       "      <td>ENSMUST00000196221.2</td>\n",
       "      <td>ATGGCATAT</td>\n",
       "      <td>1</td>\n",
       "      <td>ENSMUSG00000096749.3</td>\n",
       "      <td>Trdd1</td>\n",
       "    </tr>\n",
       "    <tr>\n",
       "      <th>3</th>\n",
       "      <td>ENSMUST00000179664.2</td>\n",
       "      <td>ATGGCATATCA</td>\n",
       "      <td>1</td>\n",
       "      <td>ENSMUSG00000096749.3</td>\n",
       "      <td>Trdd1</td>\n",
       "    </tr>\n",
       "    <tr>\n",
       "      <th>4</th>\n",
       "      <td>ENSMUST00000177564.2</td>\n",
       "      <td>ATCGGAGGGATACGAG</td>\n",
       "      <td>1</td>\n",
       "      <td>ENSMUSG00000096176.2</td>\n",
       "      <td>Trdd2</td>\n",
       "    </tr>\n",
       "    <tr>\n",
       "      <th>...</th>\n",
       "      <td>...</td>\n",
       "      <td>...</td>\n",
       "      <td>...</td>\n",
       "      <td>...</td>\n",
       "      <td>...</td>\n",
       "    </tr>\n",
       "    <tr>\n",
       "      <th>116907</th>\n",
       "      <td>ENSMUST00000215557.2</td>\n",
       "      <td>ATGTAAAACCAGAGCTTTGTCACTGAGTTTCTACTGTGAGGCTTAT...</td>\n",
       "      <td>1</td>\n",
       "      <td>ENSMUSG00000111578.2</td>\n",
       "      <td>Gm18166</td>\n",
       "    </tr>\n",
       "    <tr>\n",
       "      <th>116908</th>\n",
       "      <td>ENSMUST00000215627.2</td>\n",
       "      <td>ATGTAAAACCAGAGCTTTGTCACTGAGTTTCTACTGTGAGGCTTAT...</td>\n",
       "      <td>1</td>\n",
       "      <td>ENSMUSG00000111460.2</td>\n",
       "      <td>None</td>\n",
       "    </tr>\n",
       "    <tr>\n",
       "      <th>116909</th>\n",
       "      <td>ENSMUST00000118137.2</td>\n",
       "      <td>ATGGATGAAGGCAATCACACTGTGGTGTCATAATTTACACTCTGGA...</td>\n",
       "      <td>1</td>\n",
       "      <td>ENSMUSG00000094074.2</td>\n",
       "      <td>None</td>\n",
       "    </tr>\n",
       "    <tr>\n",
       "      <th>116910</th>\n",
       "      <td>ENSMUST00000208680.2</td>\n",
       "      <td>AATAGGTCATCTAAGGCTCTGTCTACACTGACTGCTCATATCACAG...</td>\n",
       "      <td>1</td>\n",
       "      <td>ENSMUSG00000109287.2</td>\n",
       "      <td>Gm44713</td>\n",
       "    </tr>\n",
       "    <tr>\n",
       "      <th>116911</th>\n",
       "      <td>ENSMUST00000208550.2</td>\n",
       "      <td>ATGGATAAAAGAGAATCACTCTATTGTGTCTGAGTTTGTGTTCTTG...</td>\n",
       "      <td>1</td>\n",
       "      <td>ENSMUSG00000109522.2</td>\n",
       "      <td>None</td>\n",
       "    </tr>\n",
       "  </tbody>\n",
       "</table>\n",
       "<p>116912 rows × 5 columns</p>\n",
       "</div>"
      ],
      "text/plain": [
       "               transcript_id  \\\n",
       "0       ENSMUST00000178537.2   \n",
       "1       ENSMUST00000178862.2   \n",
       "2       ENSMUST00000196221.2   \n",
       "3       ENSMUST00000179664.2   \n",
       "4       ENSMUST00000177564.2   \n",
       "...                      ...   \n",
       "116907  ENSMUST00000215557.2   \n",
       "116908  ENSMUST00000215627.2   \n",
       "116909  ENSMUST00000118137.2   \n",
       "116910  ENSMUST00000208680.2   \n",
       "116911  ENSMUST00000208550.2   \n",
       "\n",
       "                                                 sequence  FPKM  \\\n",
       "0                                            GGGACAGGGGGC     1   \n",
       "1                                          GGGACTGGGGGGGC     1   \n",
       "2                                               ATGGCATAT     1   \n",
       "3                                             ATGGCATATCA     1   \n",
       "4                                        ATCGGAGGGATACGAG     1   \n",
       "...                                                   ...   ...   \n",
       "116907  ATGTAAAACCAGAGCTTTGTCACTGAGTTTCTACTGTGAGGCTTAT...     1   \n",
       "116908  ATGTAAAACCAGAGCTTTGTCACTGAGTTTCTACTGTGAGGCTTAT...     1   \n",
       "116909  ATGGATGAAGGCAATCACACTGTGGTGTCATAATTTACACTCTGGA...     1   \n",
       "116910  AATAGGTCATCTAAGGCTCTGTCTACACTGACTGCTCATATCACAG...     1   \n",
       "116911  ATGGATAAAAGAGAATCACTCTATTGTGTCTGAGTTTGTGTTCTTG...     1   \n",
       "\n",
       "                     gene_id gene_short_name  \n",
       "0       ENSMUSG00000095668.2           Trbd1  \n",
       "1       ENSMUSG00000094569.2           Trbd2  \n",
       "2       ENSMUSG00000096749.3           Trdd1  \n",
       "3       ENSMUSG00000096749.3           Trdd1  \n",
       "4       ENSMUSG00000096176.2           Trdd2  \n",
       "...                      ...             ...  \n",
       "116907  ENSMUSG00000111578.2         Gm18166  \n",
       "116908  ENSMUSG00000111460.2            None  \n",
       "116909  ENSMUSG00000094074.2            None  \n",
       "116910  ENSMUSG00000109287.2         Gm44713  \n",
       "116911  ENSMUSG00000109522.2            None  \n",
       "\n",
       "[116912 rows x 5 columns]"
      ]
     },
     "execution_count": 44,
     "metadata": {},
     "output_type": "execute_result"
    }
   ],
   "source": [
    "transcriptome"
   ]
  },
  {
   "cell_type": "code",
   "execution_count": 10,
   "id": "f8d6c2af",
   "metadata": {},
   "outputs": [
    {
     "data": {
      "text/html": [
       "<div>\n",
       "<style scoped>\n",
       "    .dataframe tbody tr th:only-of-type {\n",
       "        vertical-align: middle;\n",
       "    }\n",
       "\n",
       "    .dataframe tbody tr th {\n",
       "        vertical-align: top;\n",
       "    }\n",
       "\n",
       "    .dataframe thead th {\n",
       "        text-align: right;\n",
       "    }\n",
       "</style>\n",
       "<table border=\"1\" class=\"dataframe\">\n",
       "  <thead>\n",
       "    <tr style=\"text-align: right;\">\n",
       "      <th></th>\n",
       "      <th>transcript_id</th>\n",
       "      <th>sequence</th>\n",
       "      <th>FPKM</th>\n",
       "      <th>gene_id</th>\n",
       "      <th>gene_short_name</th>\n",
       "    </tr>\n",
       "  </thead>\n",
       "  <tbody>\n",
       "    <tr>\n",
       "      <th>91805</th>\n",
       "      <td>ENSMUST00000205391.2</td>\n",
       "      <td>ATTCGCGACCCGAAGCTGCGCGGGCGCGAGCCAGTTGGGGCACTGG...</td>\n",
       "      <td>1</td>\n",
       "      <td>ENSMUSG00000034957.11</td>\n",
       "      <td>Cebpa</td>\n",
       "    </tr>\n",
       "    <tr>\n",
       "      <th>91806</th>\n",
       "      <td>ENSMUST00000042985.11</td>\n",
       "      <td>CGAAGCTGCGCGGGCGCGAGCCAGTTGGGGCACTGGGTGGGCGGCG...</td>\n",
       "      <td>1</td>\n",
       "      <td>ENSMUSG00000034957.11</td>\n",
       "      <td>Cebpa</td>\n",
       "    </tr>\n",
       "  </tbody>\n",
       "</table>\n",
       "</div>"
      ],
      "text/plain": [
       "               transcript_id  \\\n",
       "91805   ENSMUST00000205391.2   \n",
       "91806  ENSMUST00000042985.11   \n",
       "\n",
       "                                                sequence  FPKM  \\\n",
       "91805  ATTCGCGACCCGAAGCTGCGCGGGCGCGAGCCAGTTGGGGCACTGG...     1   \n",
       "91806  CGAAGCTGCGCGGGCGCGAGCCAGTTGGGGCACTGGGTGGGCGGCG...     1   \n",
       "\n",
       "                     gene_id gene_short_name  \n",
       "91805  ENSMUSG00000034957.11           Cebpa  \n",
       "91806  ENSMUSG00000034957.11           Cebpa  "
      ]
     },
     "execution_count": 10,
     "metadata": {},
     "output_type": "execute_result"
    }
   ],
   "source": [
    "# Let's have a look at the transcripts of the FLNA gene\n",
    "transcriptome[transcriptome['gene_short_name'] == 'Cebpa'].sort_values('FPKM', ascending=False)"
   ]
  },
  {
   "cell_type": "markdown",
   "id": "eb66345d",
   "metadata": {},
   "source": [
    "## Add mCherry into transcriptome"
   ]
  },
  {
   "cell_type": "code",
   "execution_count": 18,
   "id": "0ceebca5",
   "metadata": {},
   "outputs": [],
   "source": [
    "# sequence directly copied from the vector\n",
    "gene1_row = pd.Series(\n",
    "    {'transcript_id':'artificialTranscript_mCherry_t1',\n",
    "     'sequence': 'ATGGTGAGCAAGGGCGAGGAGGATAACATGGCCATCATCAAGGAGTTCATGCGCTTCAAGGTGCACATGGAGGGCTCCGTGAACGGCCACGAGTTCGAGATCGAGGGCGAGGGCGAGGGCCGCCCCTACGAGGGCACCCAGACCGCCAAGCTGAAGGTGACCAAGGGCGGCCCCCTGCCCTTCGCCTGGGACATCCTGTCCCCTCAGTTCATGTACGGCTCCAAGGCCTACGTGAAGCACCCCGCCGACATCCCCGACTACTTGAAGCTGTCCTTCCCCGAGGGCTTCAAGTGGGAGCGCGTGATGAACTTCGAGGACGGCGGCGTGGTGACCGTGACCCAGGACTCCTCCCTGCAGGACGGCGAGTTCATCTACAAGGTGAAGCTGCGCGGCACCAACTTCCCCTCCGACGGCCCCGTAATGCAGAAGAAGACCATGGGCTGGGAGGCCTCCTCCGAGCGGATGTACCCCGAGGACGGCGCCCTGAAGGGCGAGATCAAGCAGAGGCTGAAGCTGAAGGACGGCGGCCACTACGACGCTGAGGTCAAGACCACCTACAAGGCCAAGAAGCCCGTGCAGCTGCCCGGCGCCTACAACGTCAACATCAAGTTGGACATCACCTCCCACAACGAGGACTACACCATCGTGGAACAGTACGAACGCGCCGAGGGCCGCCACTCCACCGGCGGCATGGACGAGCTGTACAAGTAATGAA',\n",
    "     'FPKM': 1,\n",
    "     'gene_id':'artificialTranscript_mCherry',\n",
    "     'gene_short_name': 'mCherry',\n",
    "    }\n",
    ")"
   ]
  },
  {
   "cell_type": "code",
   "execution_count": 21,
   "id": "47396e0a",
   "metadata": {},
   "outputs": [],
   "source": [
    "gene2_row = pd.Series(\n",
    "    {'transcript_id':'artificialTranscript_UCOE_t1',\n",
    "     'sequence': 'AAGGATCTGCGATATCGATAAGCTTGATATCGAATTCGGGAGGTGGTCCCTGCAGTTACGCCAATGATAACCCCCGCCAGAAAAATCTTAGTAGCCTTCCCTTTTTGTTTTCCGTGCCCCAACTCGGCGGATTGACTCGGCCCCTTCCGGAAACACCCGAATCAACTTCTAGTCAAATTATTGTTCACGCCGCAATGACCCACCCCTGGCCCGCGTCTGTGGAACTGACCCCTGGTGTACAGGAGAGTTCGCTGCTGAAAGTGGTCCCAAAGGGGTACTAGTTTTTAAGCTCCCAACTCCCCCTCCCCCAGCGTCTGGAGGATTCCACACCCTCGCACCGCAGGGGCGAGGAAGTGGGCGGAGTCCGGTTTTGGCGCCAGCCGCTGAGGCTGCCAAGCAGAAAAGCCACCGCTGAGGAGACTCCGGTCACTGTCCTCGCCCCGCCTCCCCCTTCCCTCCCCTTGGGGACCACCGGGCGCCACGCCGCGAACGGTAAGTGCCGCGGTCGTCGGCGCCTCCGCCCTCCCCCTAGGGCCCCAATTCCCAGCGGGCGCGGCGCGCGGCCCCTCCCCCCGCCGGGCGCGCGCCCGCTGCCCCGCCCTTCGTGGCCGCCCGGCGTGGGCGGTGCCACCCCTCCCCCCGGCGGCCCCCCTGCAGCCGCGCGCAGCTCCCGGCTCCCTCCCCCTTCGGATGTGGCTTGAGCTGTAGGCGCGGAGGGGCTCCG',\n",
    "     'FPKM': 1,\n",
    "     'gene_id':'artificialTranscript_UCOE',\n",
    "     'gene_short_name': 'UCOE',\n",
    "    }\n",
    ")"
   ]
  },
  {
   "cell_type": "code",
   "execution_count": 48,
   "id": "817637b0",
   "metadata": {},
   "outputs": [
    {
     "data": {
      "text/html": [
       "<div>\n",
       "<style scoped>\n",
       "    .dataframe tbody tr th:only-of-type {\n",
       "        vertical-align: middle;\n",
       "    }\n",
       "\n",
       "    .dataframe tbody tr th {\n",
       "        vertical-align: top;\n",
       "    }\n",
       "\n",
       "    .dataframe thead th {\n",
       "        text-align: right;\n",
       "    }\n",
       "</style>\n",
       "<table border=\"1\" class=\"dataframe\">\n",
       "  <thead>\n",
       "    <tr style=\"text-align: right;\">\n",
       "      <th></th>\n",
       "      <th>transcript_id</th>\n",
       "      <th>sequence</th>\n",
       "      <th>FPKM</th>\n",
       "      <th>gene_id</th>\n",
       "      <th>gene_short_name</th>\n",
       "    </tr>\n",
       "  </thead>\n",
       "  <tbody>\n",
       "    <tr>\n",
       "      <th>0</th>\n",
       "      <td>ENSMUST00000178537.2</td>\n",
       "      <td>GGGACAGGGGGC</td>\n",
       "      <td>1</td>\n",
       "      <td>ENSMUSG00000095668.2</td>\n",
       "      <td>Trbd1</td>\n",
       "    </tr>\n",
       "    <tr>\n",
       "      <th>1</th>\n",
       "      <td>ENSMUST00000178862.2</td>\n",
       "      <td>GGGACTGGGGGGGC</td>\n",
       "      <td>1</td>\n",
       "      <td>ENSMUSG00000094569.2</td>\n",
       "      <td>Trbd2</td>\n",
       "    </tr>\n",
       "    <tr>\n",
       "      <th>2</th>\n",
       "      <td>ENSMUST00000196221.2</td>\n",
       "      <td>ATGGCATAT</td>\n",
       "      <td>1</td>\n",
       "      <td>ENSMUSG00000096749.3</td>\n",
       "      <td>Trdd1</td>\n",
       "    </tr>\n",
       "    <tr>\n",
       "      <th>3</th>\n",
       "      <td>ENSMUST00000179664.2</td>\n",
       "      <td>ATGGCATATCA</td>\n",
       "      <td>1</td>\n",
       "      <td>ENSMUSG00000096749.3</td>\n",
       "      <td>Trdd1</td>\n",
       "    </tr>\n",
       "    <tr>\n",
       "      <th>4</th>\n",
       "      <td>ENSMUST00000177564.2</td>\n",
       "      <td>ATCGGAGGGATACGAG</td>\n",
       "      <td>1</td>\n",
       "      <td>ENSMUSG00000096176.2</td>\n",
       "      <td>Trdd2</td>\n",
       "    </tr>\n",
       "    <tr>\n",
       "      <th>...</th>\n",
       "      <td>...</td>\n",
       "      <td>...</td>\n",
       "      <td>...</td>\n",
       "      <td>...</td>\n",
       "      <td>...</td>\n",
       "    </tr>\n",
       "    <tr>\n",
       "      <th>116909</th>\n",
       "      <td>ENSMUST00000118137.2</td>\n",
       "      <td>ATGGATGAAGGCAATCACACTGTGGTGTCATAATTTACACTCTGGA...</td>\n",
       "      <td>1</td>\n",
       "      <td>ENSMUSG00000094074.2</td>\n",
       "      <td>None</td>\n",
       "    </tr>\n",
       "    <tr>\n",
       "      <th>116910</th>\n",
       "      <td>ENSMUST00000208680.2</td>\n",
       "      <td>AATAGGTCATCTAAGGCTCTGTCTACACTGACTGCTCATATCACAG...</td>\n",
       "      <td>1</td>\n",
       "      <td>ENSMUSG00000109287.2</td>\n",
       "      <td>Gm44713</td>\n",
       "    </tr>\n",
       "    <tr>\n",
       "      <th>116911</th>\n",
       "      <td>ENSMUST00000208550.2</td>\n",
       "      <td>ATGGATAAAAGAGAATCACTCTATTGTGTCTGAGTTTGTGTTCTTG...</td>\n",
       "      <td>1</td>\n",
       "      <td>ENSMUSG00000109522.2</td>\n",
       "      <td>None</td>\n",
       "    </tr>\n",
       "    <tr>\n",
       "      <th>116912</th>\n",
       "      <td>artificialTranscript_mCherry_t1</td>\n",
       "      <td>ATGGTGAGCAAGGGCGAGGAGGATAACATGGCCATCATCAAGGAGT...</td>\n",
       "      <td>1</td>\n",
       "      <td>artificialTranscript_mCherry</td>\n",
       "      <td>mCherry</td>\n",
       "    </tr>\n",
       "    <tr>\n",
       "      <th>116913</th>\n",
       "      <td>artificialTranscript_UCOE_t1</td>\n",
       "      <td>AAGGATCTGCGATATCGATAAGCTTGATATCGAATTCGGGAGGTGG...</td>\n",
       "      <td>1</td>\n",
       "      <td>artificialTranscript_UCOE</td>\n",
       "      <td>UCOE</td>\n",
       "    </tr>\n",
       "  </tbody>\n",
       "</table>\n",
       "<p>116914 rows × 5 columns</p>\n",
       "</div>"
      ],
      "text/plain": [
       "                          transcript_id  \\\n",
       "0                  ENSMUST00000178537.2   \n",
       "1                  ENSMUST00000178862.2   \n",
       "2                  ENSMUST00000196221.2   \n",
       "3                  ENSMUST00000179664.2   \n",
       "4                  ENSMUST00000177564.2   \n",
       "...                                 ...   \n",
       "116909             ENSMUST00000118137.2   \n",
       "116910             ENSMUST00000208680.2   \n",
       "116911             ENSMUST00000208550.2   \n",
       "116912  artificialTranscript_mCherry_t1   \n",
       "116913     artificialTranscript_UCOE_t1   \n",
       "\n",
       "                                                 sequence FPKM  \\\n",
       "0                                            GGGACAGGGGGC    1   \n",
       "1                                          GGGACTGGGGGGGC    1   \n",
       "2                                               ATGGCATAT    1   \n",
       "3                                             ATGGCATATCA    1   \n",
       "4                                        ATCGGAGGGATACGAG    1   \n",
       "...                                                   ...  ...   \n",
       "116909  ATGGATGAAGGCAATCACACTGTGGTGTCATAATTTACACTCTGGA...    1   \n",
       "116910  AATAGGTCATCTAAGGCTCTGTCTACACTGACTGCTCATATCACAG...    1   \n",
       "116911  ATGGATAAAAGAGAATCACTCTATTGTGTCTGAGTTTGTGTTCTTG...    1   \n",
       "116912  ATGGTGAGCAAGGGCGAGGAGGATAACATGGCCATCATCAAGGAGT...    1   \n",
       "116913  AAGGATCTGCGATATCGATAAGCTTGATATCGAATTCGGGAGGTGG...    1   \n",
       "\n",
       "                             gene_id gene_short_name  \n",
       "0               ENSMUSG00000095668.2           Trbd1  \n",
       "1               ENSMUSG00000094569.2           Trbd2  \n",
       "2               ENSMUSG00000096749.3           Trdd1  \n",
       "3               ENSMUSG00000096749.3           Trdd1  \n",
       "4               ENSMUSG00000096176.2           Trdd2  \n",
       "...                              ...             ...  \n",
       "116909          ENSMUSG00000094074.2            None  \n",
       "116910          ENSMUSG00000109287.2         Gm44713  \n",
       "116911          ENSMUSG00000109522.2            None  \n",
       "116912  artificialTranscript_mCherry         mCherry  \n",
       "116913     artificialTranscript_UCOE            UCOE  \n",
       "\n",
       "[116914 rows x 5 columns]"
      ]
     },
     "execution_count": 48,
     "metadata": {},
     "output_type": "execute_result"
    }
   ],
   "source": [
    "transcriptome = pd.concat([transcriptome, gene1_row.to_frame().T, gene2_row.to_frame().T], ignore_index=True)\n",
    "transcriptome"
   ]
  },
  {
   "cell_type": "markdown",
   "id": "cd045a04",
   "metadata": {},
   "source": [
    "## Select genes"
   ]
  },
  {
   "cell_type": "code",
   "execution_count": 23,
   "id": "53a71822",
   "metadata": {},
   "outputs": [],
   "source": [
    "sel_genes = ['mCherry', 'UCOE']"
   ]
  },
  {
   "cell_type": "markdown",
   "id": "503fa344-68c1-4a45-968f-4e516658196f",
   "metadata": {},
   "source": [
    "### based on genes, select 2-color readouts"
   ]
  },
  {
   "cell_type": "code",
   "execution_count": 65,
   "id": "e790c2c2",
   "metadata": {},
   "outputs": [
    {
     "name": "stdout",
     "output_type": "stream",
     "text": [
      "['Bit-23-RS0763', 'Bit-24-RS0793', 'Bit-25-RS0805', 'Bit-26-RS0820']\n"
     ]
    }
   ],
   "source": [
    "readout_df = fio.load_fasta_into_df(readout_fasta_file)\n",
    "readout_names = list(readout_df['id'])\n",
    "\n",
    "start_bit = 22\n",
    "\n",
    "bit_names = readout_names[start_bit:start_bit+2*len(sel_genes)]\n",
    "readout_seqs = readout_df['sequence'][start_bit:start_bit+2*len(sel_genes)]\n",
    "print(bit_names)"
   ]
  },
  {
   "cell_type": "markdown",
   "id": "dea35dca-caa3-43b3-9764-32e2bdec873d",
   "metadata": {},
   "source": [
    "### design 2-color barcode table"
   ]
  },
  {
   "cell_type": "code",
   "execution_count": 28,
   "id": "b408dde9",
   "metadata": {},
   "outputs": [],
   "source": [
    "barcodes = []\n",
    "for _i, _name in enumerate(sel_genes):\n",
    "    _base_str = np.zeros(2*len(sel_genes), dtype=np.int32)\n",
    "    _base_str[2*_i:2*_i+2] = 1\n",
    "    barcodes.append(''.join(_base_str.astype(str)))"
   ]
  },
  {
   "cell_type": "markdown",
   "id": "023d4808",
   "metadata": {},
   "source": [
    "### combine"
   ]
  },
  {
   "cell_type": "code",
   "execution_count": 29,
   "id": "dbe5df90",
   "metadata": {},
   "outputs": [
    {
     "data": {
      "text/html": [
       "<div>\n",
       "<style scoped>\n",
       "    .dataframe tbody tr th:only-of-type {\n",
       "        vertical-align: middle;\n",
       "    }\n",
       "\n",
       "    .dataframe tbody tr th {\n",
       "        vertical-align: top;\n",
       "    }\n",
       "\n",
       "    .dataframe thead th {\n",
       "        text-align: right;\n",
       "    }\n",
       "</style>\n",
       "<table border=\"1\" class=\"dataframe\">\n",
       "  <thead>\n",
       "    <tr style=\"text-align: right;\">\n",
       "      <th></th>\n",
       "      <th>name</th>\n",
       "      <th>barcode_str</th>\n",
       "    </tr>\n",
       "  </thead>\n",
       "  <tbody>\n",
       "    <tr>\n",
       "      <th>0</th>\n",
       "      <td>mCherry</td>\n",
       "      <td>1100</td>\n",
       "    </tr>\n",
       "    <tr>\n",
       "      <th>1</th>\n",
       "      <td>UCOE</td>\n",
       "      <td>0011</td>\n",
       "    </tr>\n",
       "  </tbody>\n",
       "</table>\n",
       "</div>"
      ],
      "text/plain": [
       "      name barcode_str\n",
       "0  mCherry        1100\n",
       "1     UCOE        0011"
      ]
     },
     "execution_count": 29,
     "metadata": {},
     "output_type": "execute_result"
    }
   ],
   "source": [
    "barcode_table = pd.DataFrame({'name':sel_genes, \n",
    "                              #'id':['ENSMUSG00000061527.8', 'ENSMUSG00000000731.16'], \n",
    "                              #'id':['ENSMUST00000023709.7', 'ENSMUST00000145975.8'], \n",
    "                              'barcode_str':barcodes})\n",
    "barcode_table"
   ]
  },
  {
   "cell_type": "markdown",
   "id": "245cb997-1b4b-4382-8247-f28b84b8468e",
   "metadata": {},
   "source": [
    "## Initialize probe dict"
   ]
  },
  {
   "cell_type": "code",
   "execution_count": 30,
   "id": "e8a13fca",
   "metadata": {},
   "outputs": [
    {
     "name": "stdout",
     "output_type": "stream",
     "text": [
      "Found 2 transcripts for 2 target genes.\n",
      "Gene\tTranscript\tN_probes\n",
      "mCherry\n",
      "\tartificialTranscript_mCherry_t1\t686\n",
      "UCOE\n",
      "\tartificialTranscript_UCOE_t1\t695\n"
     ]
    }
   ],
   "source": [
    "# Initialize the probe dictionary which is the carrier of the probes throught the design process.\n",
    "probe_dict = p_d.init_probe_dict(sel_genes, transcriptome, \n",
    "                                 'gene_short_name', K=30)\n",
    "p_d.print_probe_dict(probe_dict)"
   ]
  },
  {
   "cell_type": "markdown",
   "id": "5932451c-23b7-41db-9b60-e6777aec0366",
   "metadata": {},
   "source": [
    "## Calculate and filter by probe GC"
   ]
  },
  {
   "cell_type": "code",
   "execution_count": 31,
   "id": "f0043caf",
   "metadata": {},
   "outputs": [
    {
     "data": {
      "image/png": "[encoded data removed]",
      "text/plain": [
       "<Figure size 640x480 with 1 Axes>"
      ]
     },
     "metadata": {},
     "output_type": "display_data"
    }
   ],
   "source": [
    "# Calculate and plot the GC contents of the target regions\n",
    "filters.calc_gc_for_probe_dict(probe_dict, column_key_seq='target_sequence', column_key_write='target_GC')\n",
    "plot.plot_hist(probe_dict, column_key='target_GC')"
   ]
  },
  {
   "cell_type": "code",
   "execution_count": 32,
   "id": "bc0d466e",
   "metadata": {},
   "outputs": [
    {
     "name": "stdout",
     "output_type": "stream",
     "text": [
      "mCherry\n",
      "\tartificialTranscript_mCherry_t1: 496 / 686 probes passed the filter 40 < target_GC <  70.\n",
      "UCOE\n",
      "\tartificialTranscript_UCOE_t1: 307 / 695 probes passed the filter 40 < target_GC <  70.\n"
     ]
    },
    {
     "name": "stderr",
     "output_type": "stream",
     "text": [
      "/lab/weissman_imaging/puzheng/.conda/env/postanalysis/lib/python3.10/site-packages/MERFISH_probe_design/probe_design/filters.py:17: FutureWarning: Boolean inputs to the `inclusive` argument are deprecated in favour of `both` or `neither`.\n",
      "  new_df = probe_dict[gk][tk][probe_dict[gk][tk][column_key].between(\n"
     ]
    },
    {
     "data": {
      "image/png": "[encoded data removed]",
      "text/plain": [
       "<Figure size 640x480 with 1 Axes>"
      ]
     },
     "metadata": {},
     "output_type": "display_data"
    }
   ],
   "source": [
    "# Filter GC cotent and plot the GC content after filtering\n",
    "filters.filter_probe_dict_by_metric(probe_dict, 'target_GC', lower_bound=40, upper_bound=70)\n",
    "plot.plot_hist(probe_dict, column_key='target_GC', bins=30)"
   ]
  },
  {
   "cell_type": "markdown",
   "id": "fdeb237a",
   "metadata": {},
   "source": [
    "## Calculate and filter by probe Tm"
   ]
  },
  {
   "cell_type": "code",
   "execution_count": 33,
   "id": "5a8cbc18",
   "metadata": {},
   "outputs": [
    {
     "data": {
      "image/png": "[encoded data removed]",
      "text/plain": [
       "<Figure size 640x480 with 1 Axes>"
      ]
     },
     "metadata": {},
     "output_type": "display_data"
    }
   ],
   "source": [
    "# Calculate and plot the melting-temperatures (Tm)\n",
    "filters.calc_tm_for_probe_dict(probe_dict, Na_conc=390, fmd_percentile=30, probe_conc=5,\n",
    "                              column_key_seq='target_sequence', column_key_write='target_Tm')\n",
    "plot.plot_hist(probe_dict, column_key='target_Tm')"
   ]
  },
  {
   "cell_type": "code",
   "execution_count": 34,
   "id": "1789fe5a",
   "metadata": {},
   "outputs": [
    {
     "name": "stdout",
     "output_type": "stream",
     "text": [
      "mCherry\n",
      "\tartificialTranscript_mCherry_t1: 493 / 496 probes passed the filter 50 < target_Tm <  65.\n",
      "UCOE\n",
      "\tartificialTranscript_UCOE_t1: 298 / 307 probes passed the filter 50 < target_Tm <  65.\n"
     ]
    },
    {
     "name": "stderr",
     "output_type": "stream",
     "text": [
      "/lab/weissman_imaging/puzheng/.conda/env/postanalysis/lib/python3.10/site-packages/MERFISH_probe_design/probe_design/filters.py:17: FutureWarning: Boolean inputs to the `inclusive` argument are deprecated in favour of `both` or `neither`.\n",
      "  new_df = probe_dict[gk][tk][probe_dict[gk][tk][column_key].between(\n"
     ]
    },
    {
     "data": {
      "image/png": "[encoded data removed]",
      "text/plain": [
       "<Figure size 640x480 with 1 Axes>"
      ]
     },
     "metadata": {},
     "output_type": "display_data"
    }
   ],
   "source": [
    "# Filter by Tm\n",
    "# NOTE: here we used a higher upper bound for GC content and Tm than JM's original\n",
    "# cutoffs. It was shown that higher Tm gives better signal-to-noise ratios in SM-FISH\n",
    "filters.filter_probe_dict_by_metric(probe_dict, 'target_Tm', lower_bound=50, upper_bound=65)\n",
    "plot.plot_hist(probe_dict, column_key='target_Tm')"
   ]
  },
  {
   "cell_type": "markdown",
   "id": "f40a4d34",
   "metadata": {},
   "source": [
    "## Calculate off-targets"
   ]
  },
  {
   "cell_type": "markdown",
   "id": "19bfa9a2-5aa4-4b7b-8462-dc5418c6ad3b",
   "metadata": {},
   "source": [
    "### Generate CountTable"
   ]
  },
  {
   "cell_type": "code",
   "execution_count": 51,
   "id": "9b303944",
   "metadata": {},
   "outputs": [
    {
     "name": "stdout",
     "output_type": "stream",
     "text": [
      "Found 378 rRNAs/tRNAs from 29245 non-coding RNAs.\n"
     ]
    }
   ],
   "source": [
    "# Initialize the off-target counting tables\n",
    "overwrite_ottable = True\n",
    "# OTTable for rRNA/tRNAs\n",
    "if 'ottable_rtRNAs' not in locals() or overwrite_ottable:\n",
    "    \n",
    "    ottable_rtRNAs = ot.get_OTTable_for_rtRNAs(ncRNAs, 15)"
   ]
  },
  {
   "cell_type": "code",
   "execution_count": 36,
   "id": "ef863a75",
   "metadata": {},
   "outputs": [
    {
     "name": "stdout",
     "output_type": "stream",
     "text": [
      "Generate OTTable for gene mCherry.\n",
      "Construct a OTTable using 1/1 transcripts with FPKM > 0.\n",
      "Generate OTTable for gene UCOE.\n",
      "Construct a OTTable using 1/1 transcripts with FPKM > 0.\n"
     ]
    }
   ],
   "source": [
    "# OTTables for the genes we target\n",
    "if 'gene_ottable_dict' not in locals() or overwrite_ottable:\n",
    "    #gene_ottable_dict = ot.get_gene_OTTables(transcriptome, sel_isoform_names, 'transcript_id', 17)\n",
    "    gene_ottable_dict = ot.get_gene_OTTables(transcriptome, sel_genes, 'gene_short_name', 17)"
   ]
  },
  {
   "cell_type": "code",
   "execution_count": 53,
   "id": "2ccefc74",
   "metadata": {
    "scrolled": true
   },
   "outputs": [
    {
     "name": "stdout",
     "output_type": "stream",
     "text": [
      "Construct a OTTable using 116914/116914 transcripts with FPKM > 0.\n",
      "Processed 1000/116914 sequences.\n",
      "Processed 2000/116914 sequences.\n",
      "Processed 3000/116914 sequences.\n",
      "Processed 4000/116914 sequences.\n",
      "Processed 5000/116914 sequences.\n",
      "Processed 6000/116914 sequences.\n",
      "Processed 7000/116914 sequences.\n",
      "Processed 8000/116914 sequences.\n",
      "Processed 9000/116914 sequences.\n",
      "Processed 10000/116914 sequences.\n",
      "Processed 11000/116914 sequences.\n",
      "Processed 12000/116914 sequences.\n",
      "Processed 13000/116914 sequences.\n",
      "Processed 14000/116914 sequences.\n",
      "Processed 15000/116914 sequences.\n",
      "Processed 16000/116914 sequences.\n",
      "Processed 17000/116914 sequences.\n",
      "Processed 18000/116914 sequences.\n",
      "Processed 19000/116914 sequences.\n",
      "Processed 20000/116914 sequences.\n",
      "Processed 21000/116914 sequences.\n",
      "Processed 22000/116914 sequences.\n",
      "Processed 23000/116914 sequences.\n",
      "Processed 24000/116914 sequences.\n",
      "Processed 25000/116914 sequences.\n",
      "Processed 26000/116914 sequences.\n",
      "Processed 27000/116914 sequences.\n",
      "Processed 28000/116914 sequences.\n",
      "Processed 29000/116914 sequences.\n",
      "Processed 30000/116914 sequences.\n",
      "Processed 31000/116914 sequences.\n",
      "Processed 32000/116914 sequences.\n",
      "Processed 33000/116914 sequences.\n",
      "Processed 34000/116914 sequences.\n",
      "Processed 35000/116914 sequences.\n",
      "Processed 36000/116914 sequences.\n",
      "Processed 37000/116914 sequences.\n",
      "Processed 38000/116914 sequences.\n",
      "Processed 39000/116914 sequences.\n",
      "Processed 40000/116914 sequences.\n",
      "Processed 41000/116914 sequences.\n",
      "Processed 42000/116914 sequences.\n",
      "Processed 43000/116914 sequences.\n",
      "Processed 44000/116914 sequences.\n",
      "Processed 45000/116914 sequences.\n",
      "Processed 46000/116914 sequences.\n",
      "Processed 47000/116914 sequences.\n",
      "Processed 48000/116914 sequences.\n",
      "Processed 49000/116914 sequences.\n",
      "Processed 50000/116914 sequences.\n",
      "Processed 51000/116914 sequences.\n",
      "Processed 52000/116914 sequences.\n",
      "Processed 53000/116914 sequences.\n",
      "Processed 54000/116914 sequences.\n",
      "Processed 55000/116914 sequences.\n",
      "Processed 56000/116914 sequences.\n",
      "Processed 57000/116914 sequences.\n",
      "Processed 58000/116914 sequences.\n",
      "Processed 59000/116914 sequences.\n",
      "Processed 60000/116914 sequences.\n",
      "Processed 61000/116914 sequences.\n",
      "Processed 62000/116914 sequences.\n",
      "Processed 63000/116914 sequences.\n",
      "Processed 64000/116914 sequences.\n",
      "Processed 65000/116914 sequences.\n",
      "Processed 66000/116914 sequences.\n",
      "Processed 67000/116914 sequences.\n",
      "Processed 68000/116914 sequences.\n",
      "Processed 69000/116914 sequences.\n",
      "Processed 70000/116914 sequences.\n",
      "Processed 71000/116914 sequences.\n",
      "Processed 72000/116914 sequences.\n",
      "Processed 73000/116914 sequences.\n",
      "Processed 74000/116914 sequences.\n",
      "Processed 75000/116914 sequences.\n",
      "Processed 76000/116914 sequences.\n",
      "Processed 77000/116914 sequences.\n",
      "Processed 78000/116914 sequences.\n",
      "Processed 79000/116914 sequences.\n",
      "Processed 80000/116914 sequences.\n",
      "Processed 81000/116914 sequences.\n",
      "Processed 82000/116914 sequences.\n",
      "Processed 83000/116914 sequences.\n",
      "Processed 84000/116914 sequences.\n",
      "Processed 85000/116914 sequences.\n",
      "Processed 86000/116914 sequences.\n",
      "Processed 87000/116914 sequences.\n",
      "Processed 88000/116914 sequences.\n",
      "Processed 89000/116914 sequences.\n",
      "Processed 90000/116914 sequences.\n",
      "Processed 91000/116914 sequences.\n",
      "Processed 92000/116914 sequences.\n",
      "Processed 93000/116914 sequences.\n",
      "Processed 94000/116914 sequences.\n",
      "Processed 95000/116914 sequences.\n",
      "Processed 96000/116914 sequences.\n",
      "Processed 97000/116914 sequences.\n",
      "Processed 98000/116914 sequences.\n",
      "Processed 99000/116914 sequences.\n",
      "Processed 100000/116914 sequences.\n",
      "Processed 101000/116914 sequences.\n",
      "Processed 102000/116914 sequences.\n",
      "Processed 103000/116914 sequences.\n",
      "Processed 104000/116914 sequences.\n",
      "Processed 105000/116914 sequences.\n",
      "Processed 106000/116914 sequences.\n",
      "Processed 107000/116914 sequences.\n",
      "Processed 108000/116914 sequences.\n",
      "Processed 109000/116914 sequences.\n",
      "Processed 110000/116914 sequences.\n",
      "Processed 111000/116914 sequences.\n",
      "Processed 112000/116914 sequences.\n",
      "Processed 113000/116914 sequences.\n",
      "Processed 114000/116914 sequences.\n",
      "Processed 115000/116914 sequences.\n",
      "Processed 116000/116914 sequences.\n"
     ]
    }
   ],
   "source": [
    "# OTTable for the transcriptome.\n",
    "if 'ottable_transcriptome' not in locals() or overwrite_ottable:\n",
    "    ottable_transcriptome = ot.get_OTTable_for_transcriptome(transcriptome, 17)"
   ]
  },
  {
   "cell_type": "markdown",
   "id": "8b74e99f-a32a-4533-935c-1017091f08a7",
   "metadata": {},
   "source": [
    "### Off-targets to rRNA/tRNAs"
   ]
  },
  {
   "cell_type": "code",
   "execution_count": 46,
   "id": "0af444ae",
   "metadata": {},
   "outputs": [
    {
     "name": "stdout",
     "output_type": "stream",
     "text": [
      "Calculate OTs for 0/2 genes.\n",
      "Calculate OTs for 1/2 genes.\n",
      "mCherry\n",
      "\tartificialTranscript_mCherry_t1: 493 / 493 probes passed the filter -inf < target_OT_rtRNA <  0.5.\n",
      "UCOE\n",
      "\tartificialTranscript_UCOE_t1: 298 / 298 probes passed the filter -inf < target_OT_rtRNA <  0.5.\n"
     ]
    },
    {
     "name": "stderr",
     "output_type": "stream",
     "text": [
      "/lab/weissman_imaging/puzheng/.conda/env/postanalysis/lib/python3.10/site-packages/MERFISH_probe_design/probe_design/filters.py:17: FutureWarning: Boolean inputs to the `inclusive` argument are deprecated in favour of `both` or `neither`.\n",
      "  new_df = probe_dict[gk][tk][probe_dict[gk][tk][column_key].between(\n"
     ]
    }
   ],
   "source": [
    "# Calculate and plot the off-targets to rRNA/tRNAs\n",
    "ot.calc_OTs(probe_dict, ottable_rtRNAs, 'target_sequence', 'target_OT_rtRNA', 15)\n",
    "#plot.plot_hist(probe_dict, 'target_OT_rtRNA', y_max=400)\n",
    "# Filter out probes that have any rRNA/tRNA off-targets\n",
    "filters.filter_probe_dict_by_metric(probe_dict, 'target_OT_rtRNA', upper_bound=0.5)\n",
    "#plot.plot_hist(probe_dict, 'target_OT_rtRNA')"
   ]
  },
  {
   "cell_type": "markdown",
   "id": "c458a80c",
   "metadata": {},
   "source": [
    "### Off-targets to transcriptome"
   ]
  },
  {
   "cell_type": "code",
   "execution_count": 54,
   "id": "f8ad1773",
   "metadata": {},
   "outputs": [
    {
     "data": {
      "image/png": "[encoded data removed]",
      "text/plain": [
       "<Figure size 640x480 with 1 Axes>"
      ]
     },
     "metadata": {},
     "output_type": "display_data"
    },
    {
     "data": {
      "image/png": "[encoded data removed]",
      "text/plain": [
       "<Figure size 640x480 with 1 Axes>"
      ]
     },
     "metadata": {},
     "output_type": "display_data"
    }
   ],
   "source": [
    "# Get the FPKMs of the transcripts\n",
    "transcript_fpkms = dict(zip(list(transcriptome['transcript_id']), list(transcriptome['FPKM'])))\n",
    "\n",
    "# Calculate the specificities and isoform specificities of the target regions\n",
    "ot.calc_specificity(probe_dict, ottable_transcriptome, gene_ottable_dict, transcript_fpkms,\n",
    "                    'target_sequence', 'target_specificity', 'target_isospecificity', 17)\n",
    "\n",
    "plot.plot_hist(probe_dict, 'target_specificity')\n",
    "plot.plot_hist(probe_dict, 'target_isospecificity')"
   ]
  },
  {
   "cell_type": "code",
   "execution_count": 55,
   "id": "2f7b440f",
   "metadata": {},
   "outputs": [],
   "source": [
    "# modify target isospecificity, if only one isoform exist:\n",
    "for _gene, _transcript_2_df in probe_dict.items():\n",
    "    if len(_transcript_2_df) == 1:\n",
    "        for _transcript, _df in _transcript_2_df.items():\n",
    "            probe_dict[_gene][_transcript]['target_isospecificity'] = 0.01"
   ]
  },
  {
   "cell_type": "code",
   "execution_count": 56,
   "id": "6f561851",
   "metadata": {},
   "outputs": [
    {
     "data": {
      "image/png": "[encoded data removed]",
      "text/plain": [
       "<Figure size 640x480 with 1 Axes>"
      ]
     },
     "metadata": {},
     "output_type": "display_data"
    }
   ],
   "source": [
    "plot.plot_hist(probe_dict, 'target_isospecificity')"
   ]
  },
  {
   "cell_type": "code",
   "execution_count": 57,
   "id": "bd70f001",
   "metadata": {},
   "outputs": [
    {
     "name": "stdout",
     "output_type": "stream",
     "text": [
      "mCherry\n",
      "\tartificialTranscript_mCherry_t1: 375 / 493 probes passed the filter 0.99 < target_specificity <  inf.\n",
      "UCOE\n",
      "\tartificialTranscript_UCOE_t1: 240 / 298 probes passed the filter 0.99 < target_specificity <  inf.\n"
     ]
    },
    {
     "name": "stderr",
     "output_type": "stream",
     "text": [
      "/lab/weissman_imaging/puzheng/.conda/env/postanalysis/lib/python3.10/site-packages/MERFISH_probe_design/probe_design/filters.py:17: FutureWarning: Boolean inputs to the `inclusive` argument are deprecated in favour of `both` or `neither`.\n",
      "  new_df = probe_dict[gk][tk][probe_dict[gk][tk][column_key].between(\n"
     ]
    },
    {
     "data": {
      "image/png": "[encoded data removed]",
      "text/plain": [
       "<Figure size 640x480 with 1 Axes>"
      ]
     },
     "metadata": {},
     "output_type": "display_data"
    }
   ],
   "source": [
    "# Filter the specificities of the target regions\n",
    "# Here we allow the probes to target other isoforms\n",
    "# Don't allow any gene-level off-targets\n",
    "filters.filter_probe_dict_by_metric(probe_dict, 'target_specificity', lower_bound=0.99)\n",
    "plot.plot_hist(probe_dict, 'target_specificity')"
   ]
  },
  {
   "cell_type": "code",
   "execution_count": 58,
   "id": "7b9d3ee4",
   "metadata": {},
   "outputs": [
    {
     "name": "stdout",
     "output_type": "stream",
     "text": [
      "mCherry\n",
      "\tartificialTranscript_mCherry_t1: 375 / 375 probes passed the filter 0.0 < target_isospecificity <  0.66.\n",
      "UCOE\n",
      "\tartificialTranscript_UCOE_t1: 240 / 240 probes passed the filter 0.0 < target_isospecificity <  0.66.\n"
     ]
    },
    {
     "data": {
      "image/png": "[encoded data removed]",
      "text/plain": [
       "<Figure size 640x480 with 1 Axes>"
      ]
     },
     "metadata": {},
     "output_type": "display_data"
    }
   ],
   "source": [
    "# Here we allow the probes to target other isoforms\n",
    "# Don't allow any gene-level off-targets\n",
    "filters.filter_probe_dict_by_metric(probe_dict, 'target_isospecificity', \n",
    "                                    lower_bound=0., upper_bound=0.66)\n",
    "plot.plot_hist(probe_dict, 'target_isospecificity')"
   ]
  },
  {
   "cell_type": "markdown",
   "id": "07288cfb",
   "metadata": {},
   "source": [
    "## Select the transcript with the most probes"
   ]
  },
  {
   "cell_type": "code",
   "execution_count": 60,
   "id": "5aff8aed",
   "metadata": {},
   "outputs": [
    {
     "name": "stdout",
     "output_type": "stream",
     "text": [
      "Gene\tTranscript\tN_probes\n",
      "mCherry\n",
      "\tartificialTranscript_mCherry_t1\t375\n",
      "UCOE\n",
      "\tartificialTranscript_UCOE_t1\t240\n"
     ]
    }
   ],
   "source": [
    "select_transcripts = True\n",
    "if select_transcripts:\n",
    "    # Manual selection\n",
    "    #probe_dict = p_d.select_transcripts_by_ids(probe_dict, transcript_ids=['ENSMUST00000003100.10', ])\n",
    "    \n",
    "    # Select the transcript with most probes passed QC:\n",
    "    probe_dict = p_d.select_transcripts_by_num_probes(probe_dict)\n",
    "    p_d.print_probe_dict(probe_dict) # We excluded all the transcripts that are not our direct targets"
   ]
  },
  {
   "cell_type": "markdown",
   "id": "25c5b0a8-eb9a-4a83-8c60-56c1da7dfd6f",
   "metadata": {},
   "source": [
    "# Add readouts"
   ]
  },
  {
   "cell_type": "code",
   "execution_count": 68,
   "id": "64d7a6b1",
   "metadata": {},
   "outputs": [],
   "source": []
  },
  {
   "cell_type": "code",
   "execution_count": 69,
   "id": "6eb739c0",
   "metadata": {},
   "outputs": [
    {
     "data": {
      "text/html": [
       "<div>\n",
       "<style scoped>\n",
       "    .dataframe tbody tr th:only-of-type {\n",
       "        vertical-align: middle;\n",
       "    }\n",
       "\n",
       "    .dataframe tbody tr th {\n",
       "        vertical-align: top;\n",
       "    }\n",
       "\n",
       "    .dataframe thead th {\n",
       "        text-align: right;\n",
       "    }\n",
       "</style>\n",
       "<table border=\"1\" class=\"dataframe\">\n",
       "  <thead>\n",
       "    <tr style=\"text-align: right;\">\n",
       "      <th></th>\n",
       "      <th>id</th>\n",
       "      <th>description</th>\n",
       "      <th>sequence</th>\n",
       "    </tr>\n",
       "  </thead>\n",
       "  <tbody>\n",
       "    <tr>\n",
       "      <th>22</th>\n",
       "      <td>Bit-23-RS0763</td>\n",
       "      <td>Bit-23-RS0763</td>\n",
       "      <td>ATAAATCATTCCCACTACCC</td>\n",
       "    </tr>\n",
       "    <tr>\n",
       "      <th>23</th>\n",
       "      <td>Bit-24-RS0793</td>\n",
       "      <td>Bit-24-RS0793</td>\n",
       "      <td>ACCCAACACTCATAACATCC</td>\n",
       "    </tr>\n",
       "    <tr>\n",
       "      <th>24</th>\n",
       "      <td>Bit-25-RS0805</td>\n",
       "      <td>Bit-25-RS0805</td>\n",
       "      <td>TTCCTAACAAATCACATCCC</td>\n",
       "    </tr>\n",
       "    <tr>\n",
       "      <th>25</th>\n",
       "      <td>Bit-26-RS0820</td>\n",
       "      <td>Bit-26-RS0820</td>\n",
       "      <td>TTCTTCCCTCAATCTTCATC</td>\n",
       "    </tr>\n",
       "  </tbody>\n",
       "</table>\n",
       "</div>"
      ],
      "text/plain": [
       "               id    description              sequence\n",
       "22  Bit-23-RS0763  Bit-23-RS0763  ATAAATCATTCCCACTACCC\n",
       "23  Bit-24-RS0793  Bit-24-RS0793  ACCCAACACTCATAACATCC\n",
       "24  Bit-25-RS0805  Bit-25-RS0805  TTCCTAACAAATCACATCCC\n",
       "25  Bit-26-RS0820  Bit-26-RS0820  TTCTTCCCTCAATCTTCATC"
      ]
     },
     "execution_count": 69,
     "metadata": {},
     "output_type": "execute_result"
    }
   ],
   "source": [
    "readout_seqs"
   ]
  },
  {
   "cell_type": "code",
   "execution_count": 70,
   "id": "40b7a956",
   "metadata": {},
   "outputs": [
    {
     "name": "stderr",
     "output_type": "stream",
     "text": [
      "/lab/weissman_imaging/puzheng/.conda/env/postanalysis/lib/python3.10/site-packages/MERFISH_probe_design/probe_design/readout_sequences.py:18: SettingWithCopyWarning: \n",
      "A value is trying to be set on a copy of a slice from a DataFrame.\n",
      "Try using .loc[row_indexer,col_indexer] = value instead\n",
      "\n",
      "See the caveats in the documentation: https://pandas.pydata.org/pandas-docs/stable/user_guide/indexing.html#returning-a-view-versus-a-copy\n",
      "  readout_seqs['on-bit'] = pd.Series(on_bits, index=readout_seqs.index)\n"
     ]
    },
    {
     "data": {
      "text/html": [
       "<div>\n",
       "<style scoped>\n",
       "    .dataframe tbody tr th:only-of-type {\n",
       "        vertical-align: middle;\n",
       "    }\n",
       "\n",
       "    .dataframe tbody tr th {\n",
       "        vertical-align: top;\n",
       "    }\n",
       "\n",
       "    .dataframe thead th {\n",
       "        text-align: right;\n",
       "    }\n",
       "</style>\n",
       "<table border=\"1\" class=\"dataframe\">\n",
       "  <thead>\n",
       "    <tr style=\"text-align: right;\">\n",
       "      <th></th>\n",
       "      <th>id</th>\n",
       "      <th>description</th>\n",
       "      <th>sequence</th>\n",
       "      <th>on-bit</th>\n",
       "    </tr>\n",
       "  </thead>\n",
       "  <tbody>\n",
       "    <tr>\n",
       "      <th>22</th>\n",
       "      <td>Bit-23-RS0763</td>\n",
       "      <td>Bit-23-RS0763</td>\n",
       "      <td>ATAAATCATTCCCACTACCC</td>\n",
       "      <td>0</td>\n",
       "    </tr>\n",
       "    <tr>\n",
       "      <th>23</th>\n",
       "      <td>Bit-24-RS0793</td>\n",
       "      <td>Bit-24-RS0793</td>\n",
       "      <td>ACCCAACACTCATAACATCC</td>\n",
       "      <td>1</td>\n",
       "    </tr>\n",
       "    <tr>\n",
       "      <th>24</th>\n",
       "      <td>Bit-25-RS0805</td>\n",
       "      <td>Bit-25-RS0805</td>\n",
       "      <td>TTCCTAACAAATCACATCCC</td>\n",
       "      <td>2</td>\n",
       "    </tr>\n",
       "    <tr>\n",
       "      <th>25</th>\n",
       "      <td>Bit-26-RS0820</td>\n",
       "      <td>Bit-26-RS0820</td>\n",
       "      <td>TTCTTCCCTCAATCTTCATC</td>\n",
       "      <td>3</td>\n",
       "    </tr>\n",
       "  </tbody>\n",
       "</table>\n",
       "</div>"
      ],
      "text/plain": [
       "               id    description              sequence  on-bit\n",
       "22  Bit-23-RS0763  Bit-23-RS0763  ATAAATCATTCCCACTACCC       0\n",
       "23  Bit-24-RS0793  Bit-24-RS0793  ACCCAACACTCATAACATCC       1\n",
       "24  Bit-25-RS0805  Bit-25-RS0805  TTCCTAACAAATCACATCCC       2\n",
       "25  Bit-26-RS0820  Bit-26-RS0820  TTCTTCCCTCAATCTTCATC       3"
      ]
     },
     "execution_count": 70,
     "metadata": {},
     "output_type": "execute_result"
    }
   ],
   "source": [
    "# Load readouts\n",
    "readout_seqs = readout_seqs = readout_df[start_bit:start_bit+2*len(sel_genes)]\n",
    "rs.append_on_bit_ids_to_readout_sequences(readout_seqs, bit_names)\n",
    "readout_seqs"
   ]
  },
  {
   "cell_type": "code",
   "execution_count": 71,
   "id": "6542b15d",
   "metadata": {},
   "outputs": [
    {
     "name": "stdout",
     "output_type": "stream",
     "text": [
      "Added readout sequences to 375 probes.\n",
      "Added readout sequences to 240 probes.\n"
     ]
    }
   ],
   "source": [
    "# Add the readout sequences. Here we randomly add 2 readout sequences to each probe.\n",
    "# Add an \"T\" between the concatenated sequences.\n",
    "# Force each probe to have the same readout sequence\n",
    "num_readout_per_probe = 2\n",
    "rs.add_readout_seqs_to_probes_random(probe_dict, readout_seqs, barcode_table, \n",
    "                                     num_readout_per_probe, \n",
    "                                     spacer='', gene_id_key='name', \n",
    "                                     each_probe_1_on_bit=True)"
   ]
  },
  {
   "cell_type": "code",
   "execution_count": 72,
   "id": "41a2ce86",
   "metadata": {},
   "outputs": [
    {
     "name": "stdout",
     "output_type": "stream",
     "text": [
      "mCherry:artificialTranscript_mCherry_t1: selected 72/375 probes with N_overlapping_bases=2652.0 and on-bit_coverage={0: 37, 1: 35}.\n",
      "UCOE:artificialTranscript_UCOE_t1: selected 72/240 probes with N_overlapping_bases=4037.0 and on-bit_coverage={2: 37, 3: 35}.\n"
     ]
    }
   ],
   "source": [
    "# and minimizes the overlapping between probes.\n",
    "ps.select_probes_greedy_stochastic(probe_dict, N_probes_per_transcript=72, N_on_bits=2)"
   ]
  },
  {
   "cell_type": "markdown",
   "id": "8035c8af-0703-448d-a39d-fd7f8ce03c3f",
   "metadata": {},
   "source": [
    "# Primer design"
   ]
  },
  {
   "cell_type": "code",
   "execution_count": 73,
   "id": "7c35a189",
   "metadata": {},
   "outputs": [
    {
     "data": {
      "text/html": [
       "<div>\n",
       "<style scoped>\n",
       "    .dataframe tbody tr th:only-of-type {\n",
       "        vertical-align: middle;\n",
       "    }\n",
       "\n",
       "    .dataframe tbody tr th {\n",
       "        vertical-align: top;\n",
       "    }\n",
       "\n",
       "    .dataframe thead th {\n",
       "        text-align: right;\n",
       "    }\n",
       "</style>\n",
       "<table border=\"1\" class=\"dataframe\">\n",
       "  <thead>\n",
       "    <tr style=\"text-align: right;\">\n",
       "      <th></th>\n",
       "      <th>id</th>\n",
       "      <th>description</th>\n",
       "      <th>sequence</th>\n",
       "      <th>sequence_rc</th>\n",
       "    </tr>\n",
       "  </thead>\n",
       "  <tbody>\n",
       "    <tr>\n",
       "      <th>0</th>\n",
       "      <td>W1A01_primer_0</td>\n",
       "      <td>W1A01_primer_0</td>\n",
       "      <td>CGGCTCGCAGCGTGTAAACG</td>\n",
       "      <td>CGTTTACACGCTGCGAGCCG</td>\n",
       "    </tr>\n",
       "    <tr>\n",
       "      <th>1</th>\n",
       "      <td>W1A03_primer_2</td>\n",
       "      <td>W1A03_primer_2</td>\n",
       "      <td>CCCGCAATGGCTGACAACCG</td>\n",
       "      <td>CGGTTGTCAGCCATTGCGGG</td>\n",
       "    </tr>\n",
       "    <tr>\n",
       "      <th>2</th>\n",
       "      <td>W1A05_primer_4</td>\n",
       "      <td>W1A05_primer_4</td>\n",
       "      <td>CATTCAGCATTGCGCAACGG</td>\n",
       "      <td>CCGTTGCGCAATGCTGAATG</td>\n",
       "    </tr>\n",
       "    <tr>\n",
       "      <th>3</th>\n",
       "      <td>W1A07_primer_6</td>\n",
       "      <td>W1A07_primer_6</td>\n",
       "      <td>CGCAAACTGGTGCGGAAGGC</td>\n",
       "      <td>GCCTTCCGCACCAGTTTGCG</td>\n",
       "    </tr>\n",
       "    <tr>\n",
       "      <th>4</th>\n",
       "      <td>W1A09_primer_8</td>\n",
       "      <td>W1A09_primer_8</td>\n",
       "      <td>TTGTTGAGGCGGCGGAAGTC</td>\n",
       "      <td>GACTTCCGCCGCCTCAACAA</td>\n",
       "    </tr>\n",
       "    <tr>\n",
       "      <th>5</th>\n",
       "      <td>W1A11_primer_10</td>\n",
       "      <td>W1A11_primer_10</td>\n",
       "      <td>TTGCTAGCGTGGGCCAATCG</td>\n",
       "      <td>CGATTGGCCCACGCTAGCAA</td>\n",
       "    </tr>\n",
       "    <tr>\n",
       "      <th>6</th>\n",
       "      <td>W1B01_primer_12</td>\n",
       "      <td>W1B01_primer_12</td>\n",
       "      <td>TTGGGCGTGCACGTCAATTC</td>\n",
       "      <td>GAATTGACGTGCACGCCCAA</td>\n",
       "    </tr>\n",
       "    <tr>\n",
       "      <th>7</th>\n",
       "      <td>W1B03_primer_14</td>\n",
       "      <td>W1B03_primer_14</td>\n",
       "      <td>GACATCCAGGCGCGGACAAC</td>\n",
       "      <td>GTTGTCCGCGCCTGGATGTC</td>\n",
       "    </tr>\n",
       "    <tr>\n",
       "      <th>8</th>\n",
       "      <td>W1B05_primer_16</td>\n",
       "      <td>W1B05_primer_16</td>\n",
       "      <td>CGGGTTTCGTTGCGCACACC</td>\n",
       "      <td>GGTGTGCGCAACGAAACCCG</td>\n",
       "    </tr>\n",
       "    <tr>\n",
       "      <th>9</th>\n",
       "      <td>W1B07_primer_18</td>\n",
       "      <td>W1B07_primer_18</td>\n",
       "      <td>CACGTGGCCTCTCGCACATC</td>\n",
       "      <td>GATGTGCGAGAGGCCACGTG</td>\n",
       "    </tr>\n",
       "    <tr>\n",
       "      <th>10</th>\n",
       "      <td>W1B09_primer_20</td>\n",
       "      <td>W1B09_primer_20</td>\n",
       "      <td>TAGGCGTGTCGGCCAACCAG</td>\n",
       "      <td>CTGGTTGGCCGACACGCCTA</td>\n",
       "    </tr>\n",
       "    <tr>\n",
       "      <th>11</th>\n",
       "      <td>W1B11_primer_22</td>\n",
       "      <td>W1B11_primer_22</td>\n",
       "      <td>TTGGACCGAGCCAGTACCGC</td>\n",
       "      <td>GCGGTACTGGCTCGGTCCAA</td>\n",
       "    </tr>\n",
       "  </tbody>\n",
       "</table>\n",
       "</div>"
      ],
      "text/plain": [
       "                 id      description              sequence  \\\n",
       "0    W1A01_primer_0   W1A01_primer_0  CGGCTCGCAGCGTGTAAACG   \n",
       "1    W1A03_primer_2   W1A03_primer_2  CCCGCAATGGCTGACAACCG   \n",
       "2    W1A05_primer_4   W1A05_primer_4  CATTCAGCATTGCGCAACGG   \n",
       "3    W1A07_primer_6   W1A07_primer_6  CGCAAACTGGTGCGGAAGGC   \n",
       "4    W1A09_primer_8   W1A09_primer_8  TTGTTGAGGCGGCGGAAGTC   \n",
       "5   W1A11_primer_10  W1A11_primer_10  TTGCTAGCGTGGGCCAATCG   \n",
       "6   W1B01_primer_12  W1B01_primer_12  TTGGGCGTGCACGTCAATTC   \n",
       "7   W1B03_primer_14  W1B03_primer_14  GACATCCAGGCGCGGACAAC   \n",
       "8   W1B05_primer_16  W1B05_primer_16  CGGGTTTCGTTGCGCACACC   \n",
       "9   W1B07_primer_18  W1B07_primer_18  CACGTGGCCTCTCGCACATC   \n",
       "10  W1B09_primer_20  W1B09_primer_20  TAGGCGTGTCGGCCAACCAG   \n",
       "11  W1B11_primer_22  W1B11_primer_22  TTGGACCGAGCCAGTACCGC   \n",
       "\n",
       "             sequence_rc  \n",
       "0   CGTTTACACGCTGCGAGCCG  \n",
       "1   CGGTTGTCAGCCATTGCGGG  \n",
       "2   CCGTTGCGCAATGCTGAATG  \n",
       "3   GCCTTCCGCACCAGTTTGCG  \n",
       "4   GACTTCCGCCGCCTCAACAA  \n",
       "5   CGATTGGCCCACGCTAGCAA  \n",
       "6   GAATTGACGTGCACGCCCAA  \n",
       "7   GTTGTCCGCGCCTGGATGTC  \n",
       "8   GGTGTGCGCAACGAAACCCG  \n",
       "9   GATGTGCGAGAGGCCACGTG  \n",
       "10  CTGGTTGGCCGACACGCCTA  \n",
       "11  GCGGTACTGGCTCGGTCCAA  "
      ]
     },
     "metadata": {},
     "output_type": "display_data"
    },
    {
     "data": {
      "text/html": [
       "<div>\n",
       "<style scoped>\n",
       "    .dataframe tbody tr th:only-of-type {\n",
       "        vertical-align: middle;\n",
       "    }\n",
       "\n",
       "    .dataframe tbody tr th {\n",
       "        vertical-align: top;\n",
       "    }\n",
       "\n",
       "    .dataframe thead th {\n",
       "        text-align: right;\n",
       "    }\n",
       "</style>\n",
       "<table border=\"1\" class=\"dataframe\">\n",
       "  <thead>\n",
       "    <tr style=\"text-align: right;\">\n",
       "      <th></th>\n",
       "      <th>id</th>\n",
       "      <th>description</th>\n",
       "      <th>sequence</th>\n",
       "      <th>sequence_rc</th>\n",
       "    </tr>\n",
       "  </thead>\n",
       "  <tbody>\n",
       "    <tr>\n",
       "      <th>0</th>\n",
       "      <td>W1A02_primer_1</td>\n",
       "      <td>W1A02_primer_1</td>\n",
       "      <td>TAATACGACTCACTATAGGGCATTTCAGGATCACCGGCGG</td>\n",
       "      <td>CCGCCGGTGATCCTGAAATGCCCTATAGTGAGTCGTATTA</td>\n",
       "    </tr>\n",
       "    <tr>\n",
       "      <th>1</th>\n",
       "      <td>W1A04_primer_3</td>\n",
       "      <td>W1A04_primer_3</td>\n",
       "      <td>TAATACGACTCACTATAGGGCGTTGTATGCCCTCCACGC</td>\n",
       "      <td>GCGTGGAGGGCATACAACGCCCTATAGTGAGTCGTATTA</td>\n",
       "    </tr>\n",
       "    <tr>\n",
       "      <th>2</th>\n",
       "      <td>W1A06_primer_5</td>\n",
       "      <td>W1A06_primer_5</td>\n",
       "      <td>TAATACGACTCACTATAGGGTCTTCCCGCAAATGCACCG</td>\n",
       "      <td>CGGTGCATTTGCGGGAAGACCCTATAGTGAGTCGTATTA</td>\n",
       "    </tr>\n",
       "    <tr>\n",
       "      <th>3</th>\n",
       "      <td>W1A08_primer_7</td>\n",
       "      <td>W1A08_primer_7</td>\n",
       "      <td>TAATACGACTCACTATAGGGCCCTTTCGCGCTGCATCGAC</td>\n",
       "      <td>GTCGATGCAGCGCGAAAGGGCCCTATAGTGAGTCGTATTA</td>\n",
       "    </tr>\n",
       "    <tr>\n",
       "      <th>4</th>\n",
       "      <td>W1A10_primer_9</td>\n",
       "      <td>W1A10_primer_9</td>\n",
       "      <td>TAATACGACTCACTATAGGGATTGCCGCATGGTTTCCG</td>\n",
       "      <td>CGGAAACCATGCGGCAATCCCTATAGTGAGTCGTATTA</td>\n",
       "    </tr>\n",
       "    <tr>\n",
       "      <th>5</th>\n",
       "      <td>W1A12_primer_11</td>\n",
       "      <td>W1A12_primer_11</td>\n",
       "      <td>TAATACGACTCACTATAGGGCCATTGCCCGCGAGGTCGAG</td>\n",
       "      <td>CTCGACCTCGCGGGCAATGGCCCTATAGTGAGTCGTATTA</td>\n",
       "    </tr>\n",
       "    <tr>\n",
       "      <th>6</th>\n",
       "      <td>W1B04_primer_15</td>\n",
       "      <td>W1B04_primer_15</td>\n",
       "      <td>TAATACGACTCACTATAGGGCTTGTGCATCGCGCCAAAGA</td>\n",
       "      <td>TCTTTGGCGCGATGCACAAGCCCTATAGTGAGTCGTATTA</td>\n",
       "    </tr>\n",
       "    <tr>\n",
       "      <th>7</th>\n",
       "      <td>W1B06_primer_17</td>\n",
       "      <td>W1B06_primer_17</td>\n",
       "      <td>TAATACGACTCACTATAGGGCCTGTGCGGAAATCGCGAGA</td>\n",
       "      <td>TCTCGCGATTTCCGCACAGGCCCTATAGTGAGTCGTATTA</td>\n",
       "    </tr>\n",
       "    <tr>\n",
       "      <th>8</th>\n",
       "      <td>W1B10_primer_21</td>\n",
       "      <td>W1B10_primer_21</td>\n",
       "      <td>TAATACGACTCACTATAGGGCGGGTCGATCATCGGCTTTG</td>\n",
       "      <td>CAAAGCCGATGATCGACCCGCCCTATAGTGAGTCGTATTA</td>\n",
       "    </tr>\n",
       "  </tbody>\n",
       "</table>\n",
       "</div>"
      ],
      "text/plain": [
       "                id      description                                  sequence  \\\n",
       "0   W1A02_primer_1   W1A02_primer_1  TAATACGACTCACTATAGGGCATTTCAGGATCACCGGCGG   \n",
       "1   W1A04_primer_3   W1A04_primer_3   TAATACGACTCACTATAGGGCGTTGTATGCCCTCCACGC   \n",
       "2   W1A06_primer_5   W1A06_primer_5   TAATACGACTCACTATAGGGTCTTCCCGCAAATGCACCG   \n",
       "3   W1A08_primer_7   W1A08_primer_7  TAATACGACTCACTATAGGGCCCTTTCGCGCTGCATCGAC   \n",
       "4   W1A10_primer_9   W1A10_primer_9    TAATACGACTCACTATAGGGATTGCCGCATGGTTTCCG   \n",
       "5  W1A12_primer_11  W1A12_primer_11  TAATACGACTCACTATAGGGCCATTGCCCGCGAGGTCGAG   \n",
       "6  W1B04_primer_15  W1B04_primer_15  TAATACGACTCACTATAGGGCTTGTGCATCGCGCCAAAGA   \n",
       "7  W1B06_primer_17  W1B06_primer_17  TAATACGACTCACTATAGGGCCTGTGCGGAAATCGCGAGA   \n",
       "8  W1B10_primer_21  W1B10_primer_21  TAATACGACTCACTATAGGGCGGGTCGATCATCGGCTTTG   \n",
       "\n",
       "                                sequence_rc  \n",
       "0  CCGCCGGTGATCCTGAAATGCCCTATAGTGAGTCGTATTA  \n",
       "1   GCGTGGAGGGCATACAACGCCCTATAGTGAGTCGTATTA  \n",
       "2   CGGTGCATTTGCGGGAAGACCCTATAGTGAGTCGTATTA  \n",
       "3  GTCGATGCAGCGCGAAAGGGCCCTATAGTGAGTCGTATTA  \n",
       "4    CGGAAACCATGCGGCAATCCCTATAGTGAGTCGTATTA  \n",
       "5  CTCGACCTCGCGGGCAATGGCCCTATAGTGAGTCGTATTA  \n",
       "6  TCTTTGGCGCGATGCACAAGCCCTATAGTGAGTCGTATTA  \n",
       "7  TCTCGCGATTTCCGCACAGGCCCTATAGTGAGTCGTATTA  \n",
       "8  CAAAGCCGATGATCGACCCGCCCTATAGTGAGTCGTATTA  "
      ]
     },
     "metadata": {},
     "output_type": "display_data"
    }
   ],
   "source": [
    "# Load the primer candidates into data frames\n",
    "forward_primers, reverse_primers = fio.load_primers(forward_primer_file, reverse_primer_file)\n",
    "display(forward_primers)\n",
    "display(reverse_primers)"
   ]
  },
  {
   "cell_type": "code",
   "execution_count": 74,
   "id": "a49e89cf",
   "metadata": {},
   "outputs": [
    {
     "data": {
      "text/html": [
       "<div>\n",
       "<style scoped>\n",
       "    .dataframe tbody tr th:only-of-type {\n",
       "        vertical-align: middle;\n",
       "    }\n",
       "\n",
       "    .dataframe tbody tr th {\n",
       "        vertical-align: top;\n",
       "    }\n",
       "\n",
       "    .dataframe thead th {\n",
       "        text-align: right;\n",
       "    }\n",
       "</style>\n",
       "<table border=\"1\" class=\"dataframe\">\n",
       "  <thead>\n",
       "    <tr style=\"text-align: right;\">\n",
       "      <th></th>\n",
       "      <th>id</th>\n",
       "      <th>description</th>\n",
       "      <th>sequence</th>\n",
       "      <th>sequence_rc</th>\n",
       "      <th>sequence_OT</th>\n",
       "      <th>sequence_rc_OT</th>\n",
       "    </tr>\n",
       "  </thead>\n",
       "  <tbody>\n",
       "    <tr>\n",
       "      <th>0</th>\n",
       "      <td>W1A01_primer_0</td>\n",
       "      <td>W1A01_primer_0</td>\n",
       "      <td>CGGCTCGCAGCGTGTAAACG</td>\n",
       "      <td>CGTTTACACGCTGCGAGCCG</td>\n",
       "      <td>0</td>\n",
       "      <td>0</td>\n",
       "    </tr>\n",
       "    <tr>\n",
       "      <th>1</th>\n",
       "      <td>W1A03_primer_2</td>\n",
       "      <td>W1A03_primer_2</td>\n",
       "      <td>CCCGCAATGGCTGACAACCG</td>\n",
       "      <td>CGGTTGTCAGCCATTGCGGG</td>\n",
       "      <td>0</td>\n",
       "      <td>0</td>\n",
       "    </tr>\n",
       "    <tr>\n",
       "      <th>2</th>\n",
       "      <td>W1A05_primer_4</td>\n",
       "      <td>W1A05_primer_4</td>\n",
       "      <td>CATTCAGCATTGCGCAACGG</td>\n",
       "      <td>CCGTTGCGCAATGCTGAATG</td>\n",
       "      <td>0</td>\n",
       "      <td>0</td>\n",
       "    </tr>\n",
       "    <tr>\n",
       "      <th>3</th>\n",
       "      <td>W1A07_primer_6</td>\n",
       "      <td>W1A07_primer_6</td>\n",
       "      <td>CGCAAACTGGTGCGGAAGGC</td>\n",
       "      <td>GCCTTCCGCACCAGTTTGCG</td>\n",
       "      <td>0</td>\n",
       "      <td>0</td>\n",
       "    </tr>\n",
       "    <tr>\n",
       "      <th>4</th>\n",
       "      <td>W1A09_primer_8</td>\n",
       "      <td>W1A09_primer_8</td>\n",
       "      <td>TTGTTGAGGCGGCGGAAGTC</td>\n",
       "      <td>GACTTCCGCCGCCTCAACAA</td>\n",
       "      <td>0</td>\n",
       "      <td>0</td>\n",
       "    </tr>\n",
       "    <tr>\n",
       "      <th>5</th>\n",
       "      <td>W1A11_primer_10</td>\n",
       "      <td>W1A11_primer_10</td>\n",
       "      <td>TTGCTAGCGTGGGCCAATCG</td>\n",
       "      <td>CGATTGGCCCACGCTAGCAA</td>\n",
       "      <td>0</td>\n",
       "      <td>0</td>\n",
       "    </tr>\n",
       "    <tr>\n",
       "      <th>6</th>\n",
       "      <td>W1B01_primer_12</td>\n",
       "      <td>W1B01_primer_12</td>\n",
       "      <td>TTGGGCGTGCACGTCAATTC</td>\n",
       "      <td>GAATTGACGTGCACGCCCAA</td>\n",
       "      <td>0</td>\n",
       "      <td>0</td>\n",
       "    </tr>\n",
       "    <tr>\n",
       "      <th>7</th>\n",
       "      <td>W1B03_primer_14</td>\n",
       "      <td>W1B03_primer_14</td>\n",
       "      <td>GACATCCAGGCGCGGACAAC</td>\n",
       "      <td>GTTGTCCGCGCCTGGATGTC</td>\n",
       "      <td>0</td>\n",
       "      <td>0</td>\n",
       "    </tr>\n",
       "    <tr>\n",
       "      <th>8</th>\n",
       "      <td>W1B05_primer_16</td>\n",
       "      <td>W1B05_primer_16</td>\n",
       "      <td>CGGGTTTCGTTGCGCACACC</td>\n",
       "      <td>GGTGTGCGCAACGAAACCCG</td>\n",
       "      <td>0</td>\n",
       "      <td>0</td>\n",
       "    </tr>\n",
       "    <tr>\n",
       "      <th>9</th>\n",
       "      <td>W1B07_primer_18</td>\n",
       "      <td>W1B07_primer_18</td>\n",
       "      <td>CACGTGGCCTCTCGCACATC</td>\n",
       "      <td>GATGTGCGAGAGGCCACGTG</td>\n",
       "      <td>0</td>\n",
       "      <td>0</td>\n",
       "    </tr>\n",
       "    <tr>\n",
       "      <th>10</th>\n",
       "      <td>W1B09_primer_20</td>\n",
       "      <td>W1B09_primer_20</td>\n",
       "      <td>TAGGCGTGTCGGCCAACCAG</td>\n",
       "      <td>CTGGTTGGCCGACACGCCTA</td>\n",
       "      <td>0</td>\n",
       "      <td>0</td>\n",
       "    </tr>\n",
       "    <tr>\n",
       "      <th>11</th>\n",
       "      <td>W1B11_primer_22</td>\n",
       "      <td>W1B11_primer_22</td>\n",
       "      <td>TTGGACCGAGCCAGTACCGC</td>\n",
       "      <td>GCGGTACTGGCTCGGTCCAA</td>\n",
       "      <td>0</td>\n",
       "      <td>0</td>\n",
       "    </tr>\n",
       "  </tbody>\n",
       "</table>\n",
       "</div>"
      ],
      "text/plain": [
       "                 id      description              sequence  \\\n",
       "0    W1A01_primer_0   W1A01_primer_0  CGGCTCGCAGCGTGTAAACG   \n",
       "1    W1A03_primer_2   W1A03_primer_2  CCCGCAATGGCTGACAACCG   \n",
       "2    W1A05_primer_4   W1A05_primer_4  CATTCAGCATTGCGCAACGG   \n",
       "3    W1A07_primer_6   W1A07_primer_6  CGCAAACTGGTGCGGAAGGC   \n",
       "4    W1A09_primer_8   W1A09_primer_8  TTGTTGAGGCGGCGGAAGTC   \n",
       "5   W1A11_primer_10  W1A11_primer_10  TTGCTAGCGTGGGCCAATCG   \n",
       "6   W1B01_primer_12  W1B01_primer_12  TTGGGCGTGCACGTCAATTC   \n",
       "7   W1B03_primer_14  W1B03_primer_14  GACATCCAGGCGCGGACAAC   \n",
       "8   W1B05_primer_16  W1B05_primer_16  CGGGTTTCGTTGCGCACACC   \n",
       "9   W1B07_primer_18  W1B07_primer_18  CACGTGGCCTCTCGCACATC   \n",
       "10  W1B09_primer_20  W1B09_primer_20  TAGGCGTGTCGGCCAACCAG   \n",
       "11  W1B11_primer_22  W1B11_primer_22  TTGGACCGAGCCAGTACCGC   \n",
       "\n",
       "             sequence_rc  sequence_OT  sequence_rc_OT  \n",
       "0   CGTTTACACGCTGCGAGCCG            0               0  \n",
       "1   CGGTTGTCAGCCATTGCGGG            0               0  \n",
       "2   CCGTTGCGCAATGCTGAATG            0               0  \n",
       "3   GCCTTCCGCACCAGTTTGCG            0               0  \n",
       "4   GACTTCCGCCGCCTCAACAA            0               0  \n",
       "5   CGATTGGCCCACGCTAGCAA            0               0  \n",
       "6   GAATTGACGTGCACGCCCAA            0               0  \n",
       "7   GTTGTCCGCGCCTGGATGTC            0               0  \n",
       "8   GGTGTGCGCAACGAAACCCG            0               0  \n",
       "9   GATGTGCGAGAGGCCACGTG            0               0  \n",
       "10  CTGGTTGGCCGACACGCCTA            0               0  \n",
       "11  GCGGTACTGGCTCGGTCCAA            0               0  "
      ]
     },
     "metadata": {},
     "output_type": "display_data"
    },
    {
     "data": {
      "text/html": [
       "<div>\n",
       "<style scoped>\n",
       "    .dataframe tbody tr th:only-of-type {\n",
       "        vertical-align: middle;\n",
       "    }\n",
       "\n",
       "    .dataframe tbody tr th {\n",
       "        vertical-align: top;\n",
       "    }\n",
       "\n",
       "    .dataframe thead th {\n",
       "        text-align: right;\n",
       "    }\n",
       "</style>\n",
       "<table border=\"1\" class=\"dataframe\">\n",
       "  <thead>\n",
       "    <tr style=\"text-align: right;\">\n",
       "      <th></th>\n",
       "      <th>id</th>\n",
       "      <th>description</th>\n",
       "      <th>sequence</th>\n",
       "      <th>sequence_rc</th>\n",
       "      <th>sequence_OT</th>\n",
       "      <th>sequence_rc_OT</th>\n",
       "    </tr>\n",
       "  </thead>\n",
       "  <tbody>\n",
       "    <tr>\n",
       "      <th>0</th>\n",
       "      <td>W1A02_primer_1</td>\n",
       "      <td>W1A02_primer_1</td>\n",
       "      <td>TAATACGACTCACTATAGGGCATTTCAGGATCACCGGCGG</td>\n",
       "      <td>CCGCCGGTGATCCTGAAATGCCCTATAGTGAGTCGTATTA</td>\n",
       "      <td>0</td>\n",
       "      <td>0</td>\n",
       "    </tr>\n",
       "    <tr>\n",
       "      <th>1</th>\n",
       "      <td>W1A04_primer_3</td>\n",
       "      <td>W1A04_primer_3</td>\n",
       "      <td>TAATACGACTCACTATAGGGCGTTGTATGCCCTCCACGC</td>\n",
       "      <td>GCGTGGAGGGCATACAACGCCCTATAGTGAGTCGTATTA</td>\n",
       "      <td>0</td>\n",
       "      <td>0</td>\n",
       "    </tr>\n",
       "    <tr>\n",
       "      <th>2</th>\n",
       "      <td>W1A06_primer_5</td>\n",
       "      <td>W1A06_primer_5</td>\n",
       "      <td>TAATACGACTCACTATAGGGTCTTCCCGCAAATGCACCG</td>\n",
       "      <td>CGGTGCATTTGCGGGAAGACCCTATAGTGAGTCGTATTA</td>\n",
       "      <td>0</td>\n",
       "      <td>0</td>\n",
       "    </tr>\n",
       "    <tr>\n",
       "      <th>3</th>\n",
       "      <td>W1A08_primer_7</td>\n",
       "      <td>W1A08_primer_7</td>\n",
       "      <td>TAATACGACTCACTATAGGGCCCTTTCGCGCTGCATCGAC</td>\n",
       "      <td>GTCGATGCAGCGCGAAAGGGCCCTATAGTGAGTCGTATTA</td>\n",
       "      <td>0</td>\n",
       "      <td>0</td>\n",
       "    </tr>\n",
       "    <tr>\n",
       "      <th>4</th>\n",
       "      <td>W1A10_primer_9</td>\n",
       "      <td>W1A10_primer_9</td>\n",
       "      <td>TAATACGACTCACTATAGGGATTGCCGCATGGTTTCCG</td>\n",
       "      <td>CGGAAACCATGCGGCAATCCCTATAGTGAGTCGTATTA</td>\n",
       "      <td>0</td>\n",
       "      <td>0</td>\n",
       "    </tr>\n",
       "    <tr>\n",
       "      <th>5</th>\n",
       "      <td>W1A12_primer_11</td>\n",
       "      <td>W1A12_primer_11</td>\n",
       "      <td>TAATACGACTCACTATAGGGCCATTGCCCGCGAGGTCGAG</td>\n",
       "      <td>CTCGACCTCGCGGGCAATGGCCCTATAGTGAGTCGTATTA</td>\n",
       "      <td>0</td>\n",
       "      <td>0</td>\n",
       "    </tr>\n",
       "    <tr>\n",
       "      <th>6</th>\n",
       "      <td>W1B04_primer_15</td>\n",
       "      <td>W1B04_primer_15</td>\n",
       "      <td>TAATACGACTCACTATAGGGCTTGTGCATCGCGCCAAAGA</td>\n",
       "      <td>TCTTTGGCGCGATGCACAAGCCCTATAGTGAGTCGTATTA</td>\n",
       "      <td>0</td>\n",
       "      <td>0</td>\n",
       "    </tr>\n",
       "    <tr>\n",
       "      <th>7</th>\n",
       "      <td>W1B06_primer_17</td>\n",
       "      <td>W1B06_primer_17</td>\n",
       "      <td>TAATACGACTCACTATAGGGCCTGTGCGGAAATCGCGAGA</td>\n",
       "      <td>TCTCGCGATTTCCGCACAGGCCCTATAGTGAGTCGTATTA</td>\n",
       "      <td>0</td>\n",
       "      <td>0</td>\n",
       "    </tr>\n",
       "    <tr>\n",
       "      <th>8</th>\n",
       "      <td>W1B10_primer_21</td>\n",
       "      <td>W1B10_primer_21</td>\n",
       "      <td>TAATACGACTCACTATAGGGCGGGTCGATCATCGGCTTTG</td>\n",
       "      <td>CAAAGCCGATGATCGACCCGCCCTATAGTGAGTCGTATTA</td>\n",
       "      <td>0</td>\n",
       "      <td>0</td>\n",
       "    </tr>\n",
       "  </tbody>\n",
       "</table>\n",
       "</div>"
      ],
      "text/plain": [
       "                id      description                                  sequence  \\\n",
       "0   W1A02_primer_1   W1A02_primer_1  TAATACGACTCACTATAGGGCATTTCAGGATCACCGGCGG   \n",
       "1   W1A04_primer_3   W1A04_primer_3   TAATACGACTCACTATAGGGCGTTGTATGCCCTCCACGC   \n",
       "2   W1A06_primer_5   W1A06_primer_5   TAATACGACTCACTATAGGGTCTTCCCGCAAATGCACCG   \n",
       "3   W1A08_primer_7   W1A08_primer_7  TAATACGACTCACTATAGGGCCCTTTCGCGCTGCATCGAC   \n",
       "4   W1A10_primer_9   W1A10_primer_9    TAATACGACTCACTATAGGGATTGCCGCATGGTTTCCG   \n",
       "5  W1A12_primer_11  W1A12_primer_11  TAATACGACTCACTATAGGGCCATTGCCCGCGAGGTCGAG   \n",
       "6  W1B04_primer_15  W1B04_primer_15  TAATACGACTCACTATAGGGCTTGTGCATCGCGCCAAAGA   \n",
       "7  W1B06_primer_17  W1B06_primer_17  TAATACGACTCACTATAGGGCCTGTGCGGAAATCGCGAGA   \n",
       "8  W1B10_primer_21  W1B10_primer_21  TAATACGACTCACTATAGGGCGGGTCGATCATCGGCTTTG   \n",
       "\n",
       "                                sequence_rc  sequence_OT  sequence_rc_OT  \n",
       "0  CCGCCGGTGATCCTGAAATGCCCTATAGTGAGTCGTATTA            0               0  \n",
       "1   GCGTGGAGGGCATACAACGCCCTATAGTGAGTCGTATTA            0               0  \n",
       "2   CGGTGCATTTGCGGGAAGACCCTATAGTGAGTCGTATTA            0               0  \n",
       "3  GTCGATGCAGCGCGAAAGGGCCCTATAGTGAGTCGTATTA            0               0  \n",
       "4    CGGAAACCATGCGGCAATCCCTATAGTGAGTCGTATTA            0               0  \n",
       "5  CTCGACCTCGCGGGCAATGGCCCTATAGTGAGTCGTATTA            0               0  \n",
       "6  TCTTTGGCGCGATGCACAAGCCCTATAGTGAGTCGTATTA            0               0  \n",
       "7  TCTCGCGATTTCCGCACAGGCCCTATAGTGAGTCGTATTA            0               0  \n",
       "8  CAAAGCCGATGATCGACCCGCCCTATAGTGAGTCGTATTA            0               0  "
      ]
     },
     "metadata": {},
     "output_type": "display_data"
    }
   ],
   "source": [
    "# Selet primers\n",
    "# Make an off-target from the current probe sequences.\n",
    "ottable_target_readout = ot.get_OTTable_for_probe_dictionary(probe_dict, 'target_readout_sequence', 15)\n",
    "\n",
    "# Calculate the off-targets for the primer sequences and their reverse-complements\n",
    "# Usually, there shouln't be any off-targets\n",
    "ot.calc_OTs_df(forward_primers, ottable_target_readout, 'sequence', 'sequence_OT', 15)\n",
    "ot.calc_OTs_df(forward_primers, ottable_target_readout, 'sequence_rc', 'sequence_rc_OT', 15)\n",
    "ot.calc_OTs_df(reverse_primers, ottable_target_readout, 'sequence', 'sequence_OT', 15)\n",
    "ot.calc_OTs_df(reverse_primers, ottable_target_readout, 'sequence_rc', 'sequence_rc_OT', 15)\n",
    "# Display primer OT tables to manually select\n",
    "display(forward_primers)\n",
    "display(reverse_primers)"
   ]
  },
  {
   "cell_type": "code",
   "execution_count": 75,
   "id": "9fd82fbf",
   "metadata": {},
   "outputs": [],
   "source": [
    "forward_primers = pd.DataFrame(forward_primers.loc[forward_primers['id']=='W1A03_primer_2'],)\n",
    "reverse_primers = pd.DataFrame(reverse_primers[reverse_primers['id']=='W1A10_primer_9'], index=None)"
   ]
  },
  {
   "cell_type": "code",
   "execution_count": 76,
   "id": "fa035363",
   "metadata": {},
   "outputs": [],
   "source": [
    "# Add the primer sequences\n",
    "\n",
    "# NOTE: the sequence after primer addition should be (reverse_primer)-(target_readouts)-(forward_primer_rc)\n",
    "primer_design.add_primer_sequences(probe_dict, \n",
    "                                   reverse_primers.iloc[0]['sequence'][-20:], \n",
    "                                   forward_primers.iloc[0]['sequence_rc'], ## In this case don't add forward primers at all\n",
    "                input_column='target_readout_sequence', output_column='target_readout_primer_sequence')\n",
    "\n",
    "# Notice that the T7 promoter (the first 17 bases of the reverse primer) will be lost after in vitro transcription\n",
    "# create a column of the T7 transcribed sequences for the subsequent quality check\n",
    "primer_design.add_primer_sequences(probe_dict, \n",
    "                reverse_primers.iloc[0]['sequence'][17:], forward_primers.iloc[0]['sequence_rc'],\n",
    "                input_column='target_readout_sequence', output_column='target_readout_primer_sequence_t7_transcribed')"
   ]
  },
  {
   "cell_type": "code",
   "execution_count": 77,
   "id": "77ceb08f",
   "metadata": {},
   "outputs": [
    {
     "name": "stdout",
     "output_type": "stream",
     "text": [
      "/lab/solexa_weissman/puzheng/MERFISH_Probes/smFISH/mCherry/selected_primers.csv\n"
     ]
    },
    {
     "data": {
      "text/html": [
       "<div>\n",
       "<style scoped>\n",
       "    .dataframe tbody tr th:only-of-type {\n",
       "        vertical-align: middle;\n",
       "    }\n",
       "\n",
       "    .dataframe tbody tr th {\n",
       "        vertical-align: top;\n",
       "    }\n",
       "\n",
       "    .dataframe thead th {\n",
       "        text-align: right;\n",
       "    }\n",
       "</style>\n",
       "<table border=\"1\" class=\"dataframe\">\n",
       "  <thead>\n",
       "    <tr style=\"text-align: right;\">\n",
       "      <th></th>\n",
       "      <th>id</th>\n",
       "      <th>description</th>\n",
       "      <th>sequence</th>\n",
       "      <th>sequence_rc</th>\n",
       "      <th>sequence_OT</th>\n",
       "      <th>sequence_rc_OT</th>\n",
       "    </tr>\n",
       "  </thead>\n",
       "  <tbody>\n",
       "    <tr>\n",
       "      <th>0</th>\n",
       "      <td>W1A03_primer_2</td>\n",
       "      <td>W1A03_primer_2</td>\n",
       "      <td>CCCGCAATGGCTGACAACCG</td>\n",
       "      <td>CGGTTGTCAGCCATTGCGGG</td>\n",
       "      <td>0</td>\n",
       "      <td>0</td>\n",
       "    </tr>\n",
       "    <tr>\n",
       "      <th>1</th>\n",
       "      <td>W1A10_primer_9</td>\n",
       "      <td>W1A10_primer_9</td>\n",
       "      <td>TAATACGACTCACTATAGGGATTGCCGCATGGTTTCCG</td>\n",
       "      <td>CGGAAACCATGCGGCAATCCCTATAGTGAGTCGTATTA</td>\n",
       "      <td>0</td>\n",
       "      <td>0</td>\n",
       "    </tr>\n",
       "  </tbody>\n",
       "</table>\n",
       "</div>"
      ],
      "text/plain": [
       "               id     description                                sequence  \\\n",
       "0  W1A03_primer_2  W1A03_primer_2                    CCCGCAATGGCTGACAACCG   \n",
       "1  W1A10_primer_9  W1A10_primer_9  TAATACGACTCACTATAGGGATTGCCGCATGGTTTCCG   \n",
       "\n",
       "                              sequence_rc  sequence_OT  sequence_rc_OT  \n",
       "0                    CGGTTGTCAGCCATTGCGGG            0               0  \n",
       "1  CGGAAACCATGCGGCAATCCCTATAGTGAGTCGTATTA            0               0  "
      ]
     },
     "execution_count": 77,
     "metadata": {},
     "output_type": "execute_result"
    }
   ],
   "source": [
    "print(selected_primers_file)\n",
    "merged_primer_df = pd.concat([forward_primers, reverse_primers], ignore_index=True)\n",
    "merged_primer_df.to_csv(selected_primers_file)\n",
    "merged_primer_df"
   ]
  },
  {
   "cell_type": "markdown",
   "id": "535f2c5c-1889-43c4-9eb3-433577c2c7fb",
   "metadata": {},
   "source": [
    "# Quality check"
   ]
  },
  {
   "cell_type": "code",
   "execution_count": 80,
   "id": "67d42137",
   "metadata": {},
   "outputs": [
    {
     "data": {
      "image/png": "[encoded data removed]",
      "text/plain": [
       "<Figure size 640x480 with 1 Axes>"
      ]
     },
     "metadata": {},
     "output_type": "display_data"
    }
   ],
   "source": [
    "# Let's plot the probe coverage of an example transcript\n",
    "seq_len = len(transcriptome[transcriptome['transcript_id'] == 'artificialTranscript_mCherry_t1'].iloc[0]['sequence'])\n",
    "plot.plot_sequence_coverage(probe_dict['mCherry']['artificialTranscript_mCherry_t1'], seq_len)"
   ]
  },
  {
   "cell_type": "code",
   "execution_count": 81,
   "id": "2d107fcf",
   "metadata": {},
   "outputs": [
    {
     "name": "stdout",
     "output_type": "stream",
     "text": [
      "Calculate OTs for 0/2 genes.\n",
      "Calculate OTs for 1/2 genes.\n"
     ]
    },
    {
     "data": {
      "image/png": "[encoded data removed]",
      "text/plain": [
       "<Figure size 640x480 with 1 Axes>"
      ]
     },
     "metadata": {},
     "output_type": "display_data"
    }
   ],
   "source": [
    "# Iterately remove the probes with high numbers of cis/trans-complementarity\n",
    "# This filtering strategy is a compromise between speed and the number of probes to keep\n",
    "while True:\n",
    "    # Make a OTTable from the reverse-complement sequences of the probes.\n",
    "    ottable_probes_rc = ot.get_OTTable_for_probe_dictionary(probe_dict, 'target_readout_sequence', 15, rc=True)\n",
    "    \n",
    "    # The off-targets in this table indicates cis/trans-complementarity\n",
    "    ot.calc_OTs(probe_dict, ottable_probes_rc, 'target_readout_sequence', 'probe_cis_trans_OT', 15)\n",
    "    max_ot = max(plot.get_values_from_probe_dict(probe_dict, 'probe_cis_trans_OT'))\n",
    "    if max_ot == 0:\n",
    "        break\n",
    "    \n",
    "    # Remove probes that have any cis/trans-complementarity\n",
    "    filters.filter_probe_dict_by_metric(probe_dict, 'probe_cis_trans_OT', upper_bound=max_ot - 0.5)\n",
    "    \n",
    "plot.plot_hist(probe_dict, 'probe_cis_trans_OT')"
   ]
  },
  {
   "cell_type": "markdown",
   "id": "16674dc2-b587-41c2-9cdd-d96448fcede3",
   "metadata": {},
   "source": [
    "# Output"
   ]
  },
  {
   "cell_type": "markdown",
   "id": "4cb9e968",
   "metadata": {},
   "source": [
    "## Default csv output"
   ]
  },
  {
   "cell_type": "code",
   "execution_count": 82,
   "id": "26654418",
   "metadata": {},
   "outputs": [
    {
     "name": "stdout",
     "output_type": "stream",
     "text": [
      "/lab/solexa_weissman/puzheng/MERFISH_Probes/smFISH/mCherry/designed_probes.csv\n"
     ]
    },
    {
     "name": "stderr",
     "output_type": "stream",
     "text": [
      "/lab/weissman_imaging/puzheng/.conda/env/postanalysis/lib/python3.10/site-packages/MERFISH_probe_design/probe_design/probe_dict.py:67: FutureWarning: The frame.append method is deprecated and will be removed from pandas in a future version. Use pandas.concat instead.\n",
      "  df = df.append(probe_dict[gk][tk], ignore_index=True)\n"
     ]
    }
   ],
   "source": [
    "# Get the reverse-complementary sequences of the designed probes\n",
    "p_d.get_rc_sequences(probe_dict, 'target_readout_primer_sequence', 'target_readout_primer_sequence_rc')\n",
    "\n",
    "# Get a data frame of all probes\n",
    "df_all_probes = p_d.probe_dict_to_df(probe_dict).sort_values(['probe_barcode', 'shift'])\n",
    "\n",
    "# Make a column of probe names\n",
    "probe_names = np.array(df_all_probes['gene_id']) + '_' + np.array(df_all_probes['transcript_id'])\n",
    "probe_names = probe_names + '_shift:' + np.array(df_all_probes['shift']).astype(str)\n",
    "probe_names = probe_names + '_GC:' + np.array(df_all_probes['target_GC']).astype('|S4').astype(str)\n",
    "probe_names = probe_names + '_Tm:' + np.array(df_all_probes['target_Tm']).astype('|S4').astype(str)\n",
    "probe_names = probe_names + '_specificity:' + np.array(df_all_probes['target_specificity']).astype('|S1').astype(str)\n",
    "probe_names = probe_names + '_isospecificity:' + np.array(df_all_probes['target_isospecificity']).astype('|S4').astype(str)\n",
    "probe_names = probe_names + '_' + np.array(df_all_probes['readout_names'])\n",
    "df_all_probes['probe_names'] = probe_names\n",
    "\n",
    "# Write the designed probes\n",
    "print(probe_output_file)\n",
    "df_all_probes.to_csv(probe_output_file, index=False)"
   ]
  },
  {
   "cell_type": "code",
   "execution_count": 125,
   "id": "5bbd301f",
   "metadata": {},
   "outputs": [
    {
     "data": {
      "text/plain": [
       "'TTCATTACTTGTACAGCTCGTCCATGCCGC'"
      ]
     },
     "execution_count": 125,
     "metadata": {},
     "output_type": "execute_result"
    }
   ],
   "source": [
    "reverse_complement(df_all_probes['target_sequence'].values[-1])"
   ]
  },
  {
   "cell_type": "markdown",
   "id": "d335267d",
   "metadata": {},
   "source": [
    "## IDT oPool version output"
   ]
  },
  {
   "cell_type": "code",
   "execution_count": 83,
   "id": "a405bd3e",
   "metadata": {},
   "outputs": [
    {
     "name": "stdout",
     "output_type": "stream",
     "text": [
      "UCOE ['Bit-25-RS0805', 'Bit-26-RS0820']\n",
      "mCherry ['Bit-23-RS0763', 'Bit-24-RS0793']\n"
     ]
    }
   ],
   "source": [
    "# calculate gene_2_bits\n",
    "gene_2_bits = {}\n",
    "for _gene in np.unique(df_all_probes['gene_id']):\n",
    "    _readouts = np.unique([_n.split(':')\n",
    "                           for _n in np.unique(df_all_probes.loc[df_all_probes['gene_id']==_gene, 'readout_names'])])\n",
    "    _readouts = [_r for _r in _readouts if len(_r)]\n",
    "    print(_gene, _readouts)\n",
    "    gene_2_bits[_gene] = _readouts"
   ]
  },
  {
   "cell_type": "code",
   "execution_count": 84,
   "id": "abbc398a",
   "metadata": {},
   "outputs": [
    {
     "data": {
      "text/plain": [
       "110"
      ]
     },
     "execution_count": 84,
     "metadata": {},
     "output_type": "execute_result"
    }
   ],
   "source": [
    "len(df_all_probes['target_readout_primer_sequence_rc'][6])"
   ]
  },
  {
   "cell_type": "code",
   "execution_count": 85,
   "id": "f0742030",
   "metadata": {},
   "outputs": [
    {
     "data": {
      "text/html": [
       "<div>\n",
       "<style scoped>\n",
       "    .dataframe tbody tr th:only-of-type {\n",
       "        vertical-align: middle;\n",
       "    }\n",
       "\n",
       "    .dataframe tbody tr th {\n",
       "        vertical-align: top;\n",
       "    }\n",
       "\n",
       "    .dataframe thead th {\n",
       "        text-align: right;\n",
       "    }\n",
       "</style>\n",
       "<table border=\"1\" class=\"dataframe\">\n",
       "  <thead>\n",
       "    <tr style=\"text-align: right;\">\n",
       "      <th></th>\n",
       "      <th>Pool name</th>\n",
       "      <th>Sequence</th>\n",
       "    </tr>\n",
       "  </thead>\n",
       "  <tbody>\n",
       "    <tr>\n",
       "      <th>0</th>\n",
       "      <td>smFISH_UCOE_[b25-RS0805,b26-RS0820]</td>\n",
       "      <td>CCCGCAATGGCTGACAACCGGATGAAGATTGAGGGAAGAACCTCCC...</td>\n",
       "    </tr>\n",
       "    <tr>\n",
       "      <th>1</th>\n",
       "      <td>smFISH_UCOE_[b25-RS0805,b26-RS0820]</td>\n",
       "      <td>CCCGCAATGGCTGACAACCGGATGAAGATTGAGGGAAGAAACCTCC...</td>\n",
       "    </tr>\n",
       "    <tr>\n",
       "      <th>2</th>\n",
       "      <td>smFISH_UCOE_[b25-RS0805,b26-RS0820]</td>\n",
       "      <td>CCCGCAATGGCTGACAACCGGATGAAGATTGAGGGAAGAAGGGGTT...</td>\n",
       "    </tr>\n",
       "    <tr>\n",
       "      <th>3</th>\n",
       "      <td>smFISH_UCOE_[b25-RS0805,b26-RS0820]</td>\n",
       "      <td>CCCGCAATGGCTGACAACCGGATGAAGATTGAGGGAAGAAGGGGGT...</td>\n",
       "    </tr>\n",
       "    <tr>\n",
       "      <th>4</th>\n",
       "      <td>smFISH_UCOE_[b25-RS0805,b26-RS0820]</td>\n",
       "      <td>CCCGCAATGGCTGACAACCGGATGAAGATTGAGGGAAGAAAGGGAA...</td>\n",
       "    </tr>\n",
       "    <tr>\n",
       "      <th>...</th>\n",
       "      <td>...</td>\n",
       "      <td>...</td>\n",
       "    </tr>\n",
       "    <tr>\n",
       "      <th>139</th>\n",
       "      <td>smFISH_mCherry_[b23-RS0763,b24-RS0793]</td>\n",
       "      <td>CCCGCAATGGCTGACAACCGGGGTAGTGGGAATGATTTATAGTGGC...</td>\n",
       "    </tr>\n",
       "    <tr>\n",
       "      <th>140</th>\n",
       "      <td>smFISH_mCherry_[b23-RS0763,b24-RS0793]</td>\n",
       "      <td>CCCGCAATGGCTGACAACCGGGGTAGTGGGAATGATTTATTACAGC...</td>\n",
       "    </tr>\n",
       "    <tr>\n",
       "      <th>141</th>\n",
       "      <td>smFISH_mCherry_[b23-RS0763,b24-RS0793]</td>\n",
       "      <td>CCCGCAATGGCTGACAACCGGGGTAGTGGGAATGATTTATTTACTT...</td>\n",
       "    </tr>\n",
       "    <tr>\n",
       "      <th>142</th>\n",
       "      <td>smFISH_mCherry_[b23-RS0763,b24-RS0793]</td>\n",
       "      <td>CCCGCAATGGCTGACAACCGGGGTAGTGGGAATGATTTATTCATTA...</td>\n",
       "    </tr>\n",
       "    <tr>\n",
       "      <th>143</th>\n",
       "      <td>smFISH_mCherry_[b23-RS0763,b24-RS0793]</td>\n",
       "      <td>CCCGCAATGGCTGACAACCGGGGTAGTGGGAATGATTTATTTCATT...</td>\n",
       "    </tr>\n",
       "  </tbody>\n",
       "</table>\n",
       "<p>144 rows × 2 columns</p>\n",
       "</div>"
      ],
      "text/plain": [
       "                                  Pool name  \\\n",
       "0       smFISH_UCOE_[b25-RS0805,b26-RS0820]   \n",
       "1       smFISH_UCOE_[b25-RS0805,b26-RS0820]   \n",
       "2       smFISH_UCOE_[b25-RS0805,b26-RS0820]   \n",
       "3       smFISH_UCOE_[b25-RS0805,b26-RS0820]   \n",
       "4       smFISH_UCOE_[b25-RS0805,b26-RS0820]   \n",
       "..                                      ...   \n",
       "139  smFISH_mCherry_[b23-RS0763,b24-RS0793]   \n",
       "140  smFISH_mCherry_[b23-RS0763,b24-RS0793]   \n",
       "141  smFISH_mCherry_[b23-RS0763,b24-RS0793]   \n",
       "142  smFISH_mCherry_[b23-RS0763,b24-RS0793]   \n",
       "143  smFISH_mCherry_[b23-RS0763,b24-RS0793]   \n",
       "\n",
       "                                              Sequence  \n",
       "0    CCCGCAATGGCTGACAACCGGATGAAGATTGAGGGAAGAACCTCCC...  \n",
       "1    CCCGCAATGGCTGACAACCGGATGAAGATTGAGGGAAGAAACCTCC...  \n",
       "2    CCCGCAATGGCTGACAACCGGATGAAGATTGAGGGAAGAAGGGGTT...  \n",
       "3    CCCGCAATGGCTGACAACCGGATGAAGATTGAGGGAAGAAGGGGGT...  \n",
       "4    CCCGCAATGGCTGACAACCGGATGAAGATTGAGGGAAGAAAGGGAA...  \n",
       "..                                                 ...  \n",
       "139  CCCGCAATGGCTGACAACCGGGGTAGTGGGAATGATTTATAGTGGC...  \n",
       "140  CCCGCAATGGCTGACAACCGGGGTAGTGGGAATGATTTATTACAGC...  \n",
       "141  CCCGCAATGGCTGACAACCGGGGTAGTGGGAATGATTTATTTACTT...  \n",
       "142  CCCGCAATGGCTGACAACCGGGGTAGTGGGAATGATTTATTCATTA...  \n",
       "143  CCCGCAATGGCTGACAACCGGGGTAGTGGGAATGATTTATTTCATT...  \n",
       "\n",
       "[144 rows x 2 columns]"
      ]
     },
     "execution_count": 85,
     "metadata": {},
     "output_type": "execute_result"
    }
   ],
   "source": [
    "df_idt_probes = {'Pool name':[], 'Sequence':[]}\n",
    "for _gene, _seq in zip(df_all_probes['gene_id'], df_all_probes['target_readout_primer_sequence_rc']):\n",
    "    df_idt_probes['Pool name'].append(f\"smFISH_{_gene}_\"+str(gene_2_bits[_gene]).replace('\\'','').replace(' ','').replace('Bit-','b'))\n",
    "    #df_idt_probes['Pool name'].append('smFISH_LungCancerTest1')\n",
    "    df_idt_probes['Sequence'].append(_seq)\n",
    "df_idt_probes = pd.DataFrame(df_idt_probes)\n",
    "df_idt_probes"
   ]
  },
  {
   "cell_type": "code",
   "execution_count": 88,
   "id": "58676248",
   "metadata": {},
   "outputs": [
    {
     "name": "stdout",
     "output_type": "stream",
     "text": [
      "/lab/solexa_weissman/puzheng/MERFISH_Probes/smFISH/mCherry/designed_probes_idt_oPool.xlsx\n"
     ]
    }
   ],
   "source": [
    "# Write the designed probes\n",
    "print(probe_output_idt_file)\n",
    "df_idt_probes.to_excel(probe_output_idt_file, index=False)"
   ]
  },
  {
   "cell_type": "code",
   "execution_count": null,
   "id": "f3c01594",
   "metadata": {},
   "outputs": [],
   "source": []
  },
  {
   "cell_type": "code",
   "execution_count": 86,
   "id": "b65b906b",
   "metadata": {},
   "outputs": [
    {
     "data": {
      "text/plain": [
       "'CCCGCAATGGCTGACAACCGGATGAAGATTGAGGGAAGAACCTCCCGAATTCGATATCAAGCTTATCGATGATGAAGATTGAGGGAAGAACGGAAACCATGCGGCAATCC'"
      ]
     },
     "execution_count": 86,
     "metadata": {},
     "output_type": "execute_result"
    }
   ],
   "source": [
    "df_idt_probes['Sequence'][0]"
   ]
  },
  {
   "cell_type": "code",
   "execution_count": 87,
   "id": "23843695",
   "metadata": {},
   "outputs": [
    {
     "data": {
      "text/plain": [
       "'GATGAAGATTGAGGGAAGAA'"
      ]
     },
     "execution_count": 87,
     "metadata": {},
     "output_type": "execute_result"
    }
   ],
   "source": [
    "df_idt_probes['Sequence'][0][20:40]"
   ]
  },
  {
   "cell_type": "markdown",
   "id": "e8480e60",
   "metadata": {},
   "source": [
    "## Test the sequence direction"
   ]
  },
  {
   "cell_type": "code",
   "execution_count": 90,
   "id": "b7d5d531",
   "metadata": {},
   "outputs": [
    {
     "data": {
      "image/png": "[encoded data removed]",
      "text/plain": [
       "<Figure size 640x480 with 1 Axes>"
      ]
     },
     "metadata": {},
     "output_type": "display_data"
    },
    {
     "data": {
      "image/png": "[encoded data removed]",
      "text/plain": [
       "<Figure size 640x480 with 1 Axes>"
      ]
     },
     "metadata": {},
     "output_type": "display_data"
    }
   ],
   "source": [
    "from Bio.Seq import reverse_complement\n",
    "import matplotlib.pyplot as plt\n",
    "\n",
    "ct_list, rc_ct_list = [], []\n",
    "\n",
    "for _probe_seq in df_idt_probes['Sequence']:\n",
    "    _target_seq = _probe_seq[40:70]\n",
    "    _target_rc_seq = reverse_complement(_target_seq)\n",
    "    _ct, _rc_ct = 0, 0\n",
    "    for _i in range(0,30-17+1):\n",
    "        _ct += ottable_transcriptome[_target_seq[_i:_i+17]]\n",
    "        _rc_ct += ottable_transcriptome[_target_rc_seq[_i:_i+17]]\n",
    "    #print(_ct, _rc_ct)\n",
    "    ct_list.append(_ct)\n",
    "    rc_ct_list.append(_rc_ct)\n",
    "    \n",
    "plt.figure()\n",
    "plt.hist(ct_list, bins=np.arange(0,100,2), color='red')\n",
    "plt.hist(rc_ct_list, bins=np.arange(0,100,2), color='blue')\n",
    "plt.show()\n",
    "plt.figure()\n",
    "plt.hist(np.array(rc_ct_list) - np.array(ct_list), bins=np.arange(0,100,2))\n",
    "plt.show()"
   ]
  },
  {
   "cell_type": "markdown",
   "id": "ff2f61a9",
   "metadata": {},
   "source": [
    "# IDT plate without primers"
   ]
  },
  {
   "cell_type": "code",
   "execution_count": 101,
   "id": "512064be",
   "metadata": {},
   "outputs": [
    {
     "data": {
      "text/html": [
       "<div>\n",
       "<style scoped>\n",
       "    .dataframe tbody tr th:only-of-type {\n",
       "        vertical-align: middle;\n",
       "    }\n",
       "\n",
       "    .dataframe tbody tr th {\n",
       "        vertical-align: top;\n",
       "    }\n",
       "\n",
       "    .dataframe thead th {\n",
       "        text-align: right;\n",
       "    }\n",
       "</style>\n",
       "<table border=\"1\" class=\"dataframe\">\n",
       "  <thead>\n",
       "    <tr style=\"text-align: right;\">\n",
       "      <th></th>\n",
       "      <th>probe_names</th>\n",
       "      <th>target_readout_primer_sequence_rc</th>\n",
       "    </tr>\n",
       "  </thead>\n",
       "  <tbody>\n",
       "    <tr>\n",
       "      <th>89</th>\n",
       "      <td>UCOE_artificialTranscript_UCOE_t1_shift:13_GC:...</td>\n",
       "      <td>CCCGCAATGGCTGACAACCGGATGAAGATTGAGGGAAGAACCTCCC...</td>\n",
       "    </tr>\n",
       "    <tr>\n",
       "      <th>109</th>\n",
       "      <td>UCOE_artificialTranscript_UCOE_t1_shift:14_GC:...</td>\n",
       "      <td>CCCGCAATGGCTGACAACCGGATGAAGATTGAGGGAAGAAACCTCC...</td>\n",
       "    </tr>\n",
       "    <tr>\n",
       "      <th>116</th>\n",
       "      <td>UCOE_artificialTranscript_UCOE_t1_shift:44_GC:...</td>\n",
       "      <td>CCCGCAATGGCTGACAACCGGATGAAGATTGAGGGAAGAAGGGGTT...</td>\n",
       "    </tr>\n",
       "    <tr>\n",
       "      <th>88</th>\n",
       "      <td>UCOE_artificialTranscript_UCOE_t1_shift:45_GC:...</td>\n",
       "      <td>CCCGCAATGGCTGACAACCGGATGAAGATTGAGGGAAGAAGGGGGT...</td>\n",
       "    </tr>\n",
       "    <tr>\n",
       "      <th>124</th>\n",
       "      <td>UCOE_artificialTranscript_UCOE_t1_shift:72_GC:...</td>\n",
       "      <td>CCCGCAATGGCTGACAACCGGATGAAGATTGAGGGAAGAAAGGGAA...</td>\n",
       "    </tr>\n",
       "    <tr>\n",
       "      <th>...</th>\n",
       "      <td>...</td>\n",
       "      <td>...</td>\n",
       "    </tr>\n",
       "    <tr>\n",
       "      <th>32</th>\n",
       "      <td>mCherry_artificialTranscript_mCherry_t1_shift:...</td>\n",
       "      <td>CCCGCAATGGCTGACAACCGGGGTAGTGGGAATGATTTATAGTGGC...</td>\n",
       "    </tr>\n",
       "    <tr>\n",
       "      <th>2</th>\n",
       "      <td>mCherry_artificialTranscript_mCherry_t1_shift:...</td>\n",
       "      <td>CCCGCAATGGCTGACAACCGGGGTAGTGGGAATGATTTATTACAGC...</td>\n",
       "    </tr>\n",
       "    <tr>\n",
       "      <th>43</th>\n",
       "      <td>mCherry_artificialTranscript_mCherry_t1_shift:...</td>\n",
       "      <td>CCCGCAATGGCTGACAACCGGGGTAGTGGGAATGATTTATTTACTT...</td>\n",
       "    </tr>\n",
       "    <tr>\n",
       "      <th>65</th>\n",
       "      <td>mCherry_artificialTranscript_mCherry_t1_shift:...</td>\n",
       "      <td>CCCGCAATGGCTGACAACCGGGGTAGTGGGAATGATTTATTCATTA...</td>\n",
       "    </tr>\n",
       "    <tr>\n",
       "      <th>22</th>\n",
       "      <td>mCherry_artificialTranscript_mCherry_t1_shift:...</td>\n",
       "      <td>CCCGCAATGGCTGACAACCGGGGTAGTGGGAATGATTTATTTCATT...</td>\n",
       "    </tr>\n",
       "  </tbody>\n",
       "</table>\n",
       "<p>144 rows × 2 columns</p>\n",
       "</div>"
      ],
      "text/plain": [
       "                                           probe_names  \\\n",
       "89   UCOE_artificialTranscript_UCOE_t1_shift:13_GC:...   \n",
       "109  UCOE_artificialTranscript_UCOE_t1_shift:14_GC:...   \n",
       "116  UCOE_artificialTranscript_UCOE_t1_shift:44_GC:...   \n",
       "88   UCOE_artificialTranscript_UCOE_t1_shift:45_GC:...   \n",
       "124  UCOE_artificialTranscript_UCOE_t1_shift:72_GC:...   \n",
       "..                                                 ...   \n",
       "32   mCherry_artificialTranscript_mCherry_t1_shift:...   \n",
       "2    mCherry_artificialTranscript_mCherry_t1_shift:...   \n",
       "43   mCherry_artificialTranscript_mCherry_t1_shift:...   \n",
       "65   mCherry_artificialTranscript_mCherry_t1_shift:...   \n",
       "22   mCherry_artificialTranscript_mCherry_t1_shift:...   \n",
       "\n",
       "                     target_readout_primer_sequence_rc  \n",
       "89   CCCGCAATGGCTGACAACCGGATGAAGATTGAGGGAAGAACCTCCC...  \n",
       "109  CCCGCAATGGCTGACAACCGGATGAAGATTGAGGGAAGAAACCTCC...  \n",
       "116  CCCGCAATGGCTGACAACCGGATGAAGATTGAGGGAAGAAGGGGTT...  \n",
       "88   CCCGCAATGGCTGACAACCGGATGAAGATTGAGGGAAGAAGGGGGT...  \n",
       "124  CCCGCAATGGCTGACAACCGGATGAAGATTGAGGGAAGAAAGGGAA...  \n",
       "..                                                 ...  \n",
       "32   CCCGCAATGGCTGACAACCGGGGTAGTGGGAATGATTTATAGTGGC...  \n",
       "2    CCCGCAATGGCTGACAACCGGGGTAGTGGGAATGATTTATTACAGC...  \n",
       "43   CCCGCAATGGCTGACAACCGGGGTAGTGGGAATGATTTATTTACTT...  \n",
       "65   CCCGCAATGGCTGACAACCGGGGTAGTGGGAATGATTTATTCATTA...  \n",
       "22   CCCGCAATGGCTGACAACCGGGGTAGTGGGAATGATTTATTTCATT...  \n",
       "\n",
       "[144 rows x 2 columns]"
      ]
     },
     "execution_count": 101,
     "metadata": {},
     "output_type": "execute_result"
    }
   ],
   "source": []
  },
  {
   "cell_type": "code",
   "execution_count": 107,
   "id": "7d59723d",
   "metadata": {
    "scrolled": true
   },
   "outputs": [],
   "source": [
    "all_well_positions = []\n",
    "for _row in list('ABCDEFGH'):\n",
    "    for _col in range(1,13,1):\n",
    "        all_well_positions.append(f\"{_row}{_col}\")"
   ]
  },
  {
   "cell_type": "code",
   "execution_count": 119,
   "id": "794b5b84",
   "metadata": {},
   "outputs": [],
   "source": [
    "probe_plate_df = {\n",
    "    'Well Position':[], \n",
    "    'Name':[], \n",
    "    'Sequence':[],\n",
    "}\n",
    "\n",
    "for _i, (_name, _seq) in df_all_probes[['probe_names','target_readout_primer_sequence_rc']].iterrows():\n",
    "    if 'mCherry' in _name:\n",
    "        probe_plate_df['Name'].append(_name)\n",
    "        probe_plate_df['Sequence'].append('/5Acryd/' + _seq[40:90])\n",
    "# add well position\n",
    "probe_plate_df['Well Position'] = all_well_positions[:len(probe_plate_df['Name'])]\n",
    "probe_plate_df = pd.DataFrame(probe_plate_df)"
   ]
  },
  {
   "cell_type": "code",
   "execution_count": 120,
   "id": "9424d0bc",
   "metadata": {},
   "outputs": [
    {
     "data": {
      "text/html": [
       "<div>\n",
       "<style scoped>\n",
       "    .dataframe tbody tr th:only-of-type {\n",
       "        vertical-align: middle;\n",
       "    }\n",
       "\n",
       "    .dataframe tbody tr th {\n",
       "        vertical-align: top;\n",
       "    }\n",
       "\n",
       "    .dataframe thead th {\n",
       "        text-align: right;\n",
       "    }\n",
       "</style>\n",
       "<table border=\"1\" class=\"dataframe\">\n",
       "  <thead>\n",
       "    <tr style=\"text-align: right;\">\n",
       "      <th></th>\n",
       "      <th>Well Position</th>\n",
       "      <th>Name</th>\n",
       "      <th>Sequence</th>\n",
       "    </tr>\n",
       "  </thead>\n",
       "  <tbody>\n",
       "    <tr>\n",
       "      <th>0</th>\n",
       "      <td>A1</td>\n",
       "      <td>mCherry_artificialTranscript_mCherry_t1_shift:...</td>\n",
       "      <td>/5Acryd/CATGTTATCCTCCTCGCCCTTGCTCACCATGGATGTTA...</td>\n",
       "    </tr>\n",
       "    <tr>\n",
       "      <th>1</th>\n",
       "      <td>A2</td>\n",
       "      <td>mCherry_artificialTranscript_mCherry_t1_shift:...</td>\n",
       "      <td>/5Acryd/CCATGTTATCCTCCTCGCCCTTGCTCACCAGGATGTTA...</td>\n",
       "    </tr>\n",
       "    <tr>\n",
       "      <th>2</th>\n",
       "      <td>A3</td>\n",
       "      <td>mCherry_artificialTranscript_mCherry_t1_shift:...</td>\n",
       "      <td>/5Acryd/GCCATGTTATCCTCCTCGCCCTTGCTCACCGGATGTTA...</td>\n",
       "    </tr>\n",
       "    <tr>\n",
       "      <th>3</th>\n",
       "      <td>A4</td>\n",
       "      <td>mCherry_artificialTranscript_mCherry_t1_shift:...</td>\n",
       "      <td>/5Acryd/TGAACTCCTTGATGATGGCCATGTTATCCTGGATGTTA...</td>\n",
       "    </tr>\n",
       "    <tr>\n",
       "      <th>4</th>\n",
       "      <td>A5</td>\n",
       "      <td>mCherry_artificialTranscript_mCherry_t1_shift:...</td>\n",
       "      <td>/5Acryd/AAGCGCATGAACTCCTTGATGATGGCCATGGGATGTTA...</td>\n",
       "    </tr>\n",
       "    <tr>\n",
       "      <th>...</th>\n",
       "      <td>...</td>\n",
       "      <td>...</td>\n",
       "      <td>...</td>\n",
       "    </tr>\n",
       "    <tr>\n",
       "      <th>67</th>\n",
       "      <td>F8</td>\n",
       "      <td>mCherry_artificialTranscript_mCherry_t1_shift:...</td>\n",
       "      <td>/5Acryd/AGTGGCGGCCCTCGGCGCGTTCGTACTGTTGGGTAGTG...</td>\n",
       "    </tr>\n",
       "    <tr>\n",
       "      <th>68</th>\n",
       "      <td>F9</td>\n",
       "      <td>mCherry_artificialTranscript_mCherry_t1_shift:...</td>\n",
       "      <td>/5Acryd/TACAGCTCGTCCATGCCGCCGGTGGAGTGGGGGTAGTG...</td>\n",
       "    </tr>\n",
       "    <tr>\n",
       "      <th>69</th>\n",
       "      <td>F10</td>\n",
       "      <td>mCherry_artificialTranscript_mCherry_t1_shift:...</td>\n",
       "      <td>/5Acryd/TTACTTGTACAGCTCGTCCATGCCGCCGGTGGGTAGTG...</td>\n",
       "    </tr>\n",
       "    <tr>\n",
       "      <th>70</th>\n",
       "      <td>F11</td>\n",
       "      <td>mCherry_artificialTranscript_mCherry_t1_shift:...</td>\n",
       "      <td>/5Acryd/TCATTACTTGTACAGCTCGTCCATGCCGCCGGGTAGTG...</td>\n",
       "    </tr>\n",
       "    <tr>\n",
       "      <th>71</th>\n",
       "      <td>F12</td>\n",
       "      <td>mCherry_artificialTranscript_mCherry_t1_shift:...</td>\n",
       "      <td>/5Acryd/TTCATTACTTGTACAGCTCGTCCATGCCGCGGGTAGTG...</td>\n",
       "    </tr>\n",
       "  </tbody>\n",
       "</table>\n",
       "<p>72 rows × 3 columns</p>\n",
       "</div>"
      ],
      "text/plain": [
       "   Well Position                                               Name  \\\n",
       "0             A1  mCherry_artificialTranscript_mCherry_t1_shift:...   \n",
       "1             A2  mCherry_artificialTranscript_mCherry_t1_shift:...   \n",
       "2             A3  mCherry_artificialTranscript_mCherry_t1_shift:...   \n",
       "3             A4  mCherry_artificialTranscript_mCherry_t1_shift:...   \n",
       "4             A5  mCherry_artificialTranscript_mCherry_t1_shift:...   \n",
       "..           ...                                                ...   \n",
       "67            F8  mCherry_artificialTranscript_mCherry_t1_shift:...   \n",
       "68            F9  mCherry_artificialTranscript_mCherry_t1_shift:...   \n",
       "69           F10  mCherry_artificialTranscript_mCherry_t1_shift:...   \n",
       "70           F11  mCherry_artificialTranscript_mCherry_t1_shift:...   \n",
       "71           F12  mCherry_artificialTranscript_mCherry_t1_shift:...   \n",
       "\n",
       "                                             Sequence  \n",
       "0   /5Acryd/CATGTTATCCTCCTCGCCCTTGCTCACCATGGATGTTA...  \n",
       "1   /5Acryd/CCATGTTATCCTCCTCGCCCTTGCTCACCAGGATGTTA...  \n",
       "2   /5Acryd/GCCATGTTATCCTCCTCGCCCTTGCTCACCGGATGTTA...  \n",
       "3   /5Acryd/TGAACTCCTTGATGATGGCCATGTTATCCTGGATGTTA...  \n",
       "4   /5Acryd/AAGCGCATGAACTCCTTGATGATGGCCATGGGATGTTA...  \n",
       "..                                                ...  \n",
       "67  /5Acryd/AGTGGCGGCCCTCGGCGCGTTCGTACTGTTGGGTAGTG...  \n",
       "68  /5Acryd/TACAGCTCGTCCATGCCGCCGGTGGAGTGGGGGTAGTG...  \n",
       "69  /5Acryd/TTACTTGTACAGCTCGTCCATGCCGCCGGTGGGTAGTG...  \n",
       "70  /5Acryd/TCATTACTTGTACAGCTCGTCCATGCCGCCGGGTAGTG...  \n",
       "71  /5Acryd/TTCATTACTTGTACAGCTCGTCCATGCCGCGGGTAGTG...  \n",
       "\n",
       "[72 rows x 3 columns]"
      ]
     },
     "execution_count": 120,
     "metadata": {},
     "output_type": "execute_result"
    }
   ],
   "source": [
    "probe_plate_df"
   ]
  },
  {
   "cell_type": "code",
   "execution_count": 121,
   "id": "33921580",
   "metadata": {},
   "outputs": [
    {
     "name": "stdout",
     "output_type": "stream",
     "text": [
      "saving probes to file: /lab/solexa_weissman/puzheng/MERFISH_Probes/smFISH/mCherry/2023_8_21_smFISH_mCherry_IDTplate.xlsx\n"
     ]
    }
   ],
   "source": [
    "# save\n",
    "import time\n",
    "overwrite = True\n",
    "save_common_probe_plate_filename = os.path.join(library_folder,\n",
    "                             f\"{time.localtime().tm_year}_{time.localtime().tm_mon}_{time.localtime().tm_mday}_smFISH_mCherry_IDTplate.xlsx\")\n",
    "\n",
    "if not os.path.exists(save_common_probe_plate_filename) or overwrite:\n",
    "    print(f\"saving probes to file: {save_common_probe_plate_filename}\")\n",
    "    probe_plate_df.to_excel(save_common_probe_plate_filename, index=None)"
   ]
  },
  {
   "cell_type": "code",
   "execution_count": null,
   "id": "0401418e",
   "metadata": {},
   "outputs": [],
   "source": []
  }
 ],
 "metadata": {
  "kernelspec": {
   "display_name": "postanalysis",
   "language": "python",
   "name": "postanalysis"
  },
  "language_info": {
   "codemirror_mode": {
    "name": "ipython",
    "version": 3
   },
   "file_extension": ".py",
   "mimetype": "text/x-python",
   "name": "python",
   "nbconvert_exporter": "python",
   "pygments_lexer": "ipython3",
   "version": "3.10.12"
  }
 },
 "nbformat": 4,
 "nbformat_minor": 5
}
