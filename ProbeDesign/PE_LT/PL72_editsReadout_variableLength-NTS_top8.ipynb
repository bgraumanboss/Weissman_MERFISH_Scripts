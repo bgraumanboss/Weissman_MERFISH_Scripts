{
 "cells": [
  {
   "cell_type": "code",
   "execution_count": 1,
   "id": "d4b85a87-7e8c-480c-8f77-ebd328c52595",
   "metadata": {},
   "outputs": [],
   "source": [
    "import pandas as pd\n",
    "import numpy as np\n",
    "import os, sys, time\n",
    "import re\n",
    "\n",
    "# bioPython\n",
    "from Bio.Seq import Seq"
   ]
  },
  {
   "cell_type": "code",
   "execution_count": 2,
   "id": "c84b96c0-c86c-426d-896c-3fbacc200154",
   "metadata": {},
   "outputs": [],
   "source": [
    "# load\n",
    "probe_filename = r'/lab/solexa_weissman/puzheng/MERFISH_Probes/PE_TS/PL70-76_amplifier_pools_bits_pegfish_2lvl.xlsx'\n",
    "probe_df = pd.read_excel(probe_filename)"
   ]
  },
  {
   "cell_type": "code",
   "execution_count": 3,
   "id": "12f98694-3854-4295-9318-52754e0144f5",
   "metadata": {},
   "outputs": [
    {
     "data": {
      "text/plain": [
       "(array(['PL70_combined_bit_amps_15', 'PL71_combined_bit_amps_20',\n",
       "        'PL72_emx1_bit_350', 'PL73_hek3_bit_350', 'PL74_rnf2_bit_350',\n",
       "        'PL75_combined_bit_amps_20_btree_lvl1',\n",
       "        'PL76_combined_bit_amps_20_btree_lvl2'], dtype=object),\n",
       " array([120, 120,  21,  21,  21, 120, 144]))"
      ]
     },
     "execution_count": 3,
     "metadata": {},
     "output_type": "execute_result"
    }
   ],
   "source": [
    "np.unique(probe_df['Pool name'], return_counts=True)\n"
   ]
  },
  {
   "cell_type": "markdown",
   "id": "1bbdb216",
   "metadata": {},
   "source": [
    "## Design Hek3"
   ]
  },
  {
   "cell_type": "code",
   "execution_count": 4,
   "id": "f0bbb370-7ed1-4191-96bc-b1790b8b0360",
   "metadata": {
    "tags": []
   },
   "outputs": [],
   "source": [
    "#sel_pools = ['PL72_emx1_bit_350', 'PL73_hek3_bit_350', 'PL74_rnf2_bit_350',]\n",
    "sel_pools = ['PL73_hek3_bit_350', 'PL74_rnf2_bit_350']\n",
    "readout_copy_nums = [4, 8, 13]\n",
    "T7_promoter = Seq('TAATACGACTCACTATAGGG')\n",
    "T7_promoter_rc = str(T7_promoter.reverse_complement())\n",
    "# assemble\n",
    "pool_2_seqs = {}\n",
    "#pool_2_seqs = {_n:[] for _n in readout_copy_nums}\n",
    "readout_site_dict = {'name':[], 'seq':[]}\n",
    "readout_size = 20\n",
    "\n",
    "for sel_pool in sel_pools:\n",
    "    sel_probe_df = probe_df.loc[probe_df['Pool name']==sel_pool]\n",
    "    for seq in list(sel_probe_df['Sequence'].values):\n",
    "        # Parse\n",
    "        fwd_seq, rev_primer_rc = re.findall('[ATCG]+', seq)\n",
    "        fwd_primer = fwd_seq[:len(rev_primer_rc)]\n",
    "        target_seq = fwd_seq[len(rev_primer_rc):]\n",
    "        \n",
    "        readout_seq = re.findall('[atcg]+', seq)[0]\n",
    "        readout_site = readout_seq[:readout_size]\n",
    "        \n",
    "        #print(fwd_primer, rev_primer_rc, target_seq, readout_site)\n",
    "        # append\n",
    "        readout_site_dict['name'].append(sel_pool.split('_bit_350')[0])\n",
    "        readout_site_dict['name'].append(readout_site)\n",
    "        for _n in readout_copy_nums:\n",
    "            _pool_name = f\"{sel_pool.split('_bit_350')[0]}-{_n}_readouts\"\n",
    "            if _pool_name not in pool_2_seqs:\n",
    "                pool_2_seqs[_pool_name] = []\n",
    "            \n",
    "            #_final_seq_list = [fwd_primer] + [readout_site]*min(_n,2) + [target_seq] + [readout_site]*max(_n-2, 0) + [rev_primer_rc]\n",
    "            _final_seq_list = [fwd_primer] + [readout_site]*_n + [target_seq] + [rev_primer_rc] + [T7_promoter_rc]\n",
    "            _final_seq = ''.join(_final_seq_list)\n",
    "            # append\n",
    "            pool_2_seqs[_pool_name].append(_final_seq)"
   ]
  },
  {
   "cell_type": "code",
   "execution_count": 5,
   "id": "52cfcb37",
   "metadata": {},
   "outputs": [
    {
     "data": {
      "text/plain": [
       "dict_keys(['PL73_hek3-4_readouts', 'PL73_hek3-8_readouts', 'PL73_hek3-13_readouts', 'PL74_rnf2-4_readouts', 'PL74_rnf2-8_readouts', 'PL74_rnf2-13_readouts'])"
      ]
     },
     "execution_count": 5,
     "metadata": {},
     "output_type": "execute_result"
    }
   ],
   "source": [
    "pool_2_seqs.keys()"
   ]
  },
  {
   "cell_type": "code",
   "execution_count": 6,
   "id": "0bfe8e24-3ded-4080-94c3-99884a11aaf6",
   "metadata": {},
   "outputs": [],
   "source": [
    "# create df\n",
    "summary_dict = {'Pool name': [], 'Sequence': []}\n",
    "for _pool_name, _seqs in pool_2_seqs.items():\n",
    "    summary_dict['Pool name'].extend([_pool_name]*len(_seqs))\n",
    "    summary_dict['Sequence'].extend(_seqs)\n",
    "summary_df = pd.DataFrame(summary_dict)"
   ]
  },
  {
   "cell_type": "code",
   "execution_count": 7,
   "id": "6c794677-eeb0-411c-96c9-45fe5b6e6bc3",
   "metadata": {},
   "outputs": [
    {
     "data": {
      "text/html": [
       "<div>\n",
       "<style scoped>\n",
       "    .dataframe tbody tr th:only-of-type {\n",
       "        vertical-align: middle;\n",
       "    }\n",
       "\n",
       "    .dataframe tbody tr th {\n",
       "        vertical-align: top;\n",
       "    }\n",
       "\n",
       "    .dataframe thead th {\n",
       "        text-align: right;\n",
       "    }\n",
       "</style>\n",
       "<table border=\"1\" class=\"dataframe\">\n",
       "  <thead>\n",
       "    <tr style=\"text-align: right;\">\n",
       "      <th></th>\n",
       "      <th>Pool name</th>\n",
       "      <th>Sequence</th>\n",
       "    </tr>\n",
       "  </thead>\n",
       "  <tbody>\n",
       "    <tr>\n",
       "      <th>0</th>\n",
       "      <td>PL73_hek3-4_readouts</td>\n",
       "      <td>CGCGCGCCTTTGGCGGGAAGTCCTGgaggcggattgagattcggtg...</td>\n",
       "    </tr>\n",
       "    <tr>\n",
       "      <th>1</th>\n",
       "      <td>PL73_hek3-4_readouts</td>\n",
       "      <td>CGCGCGCCTTTGGCGGGAAGTCCTGcgatggtcgtcctcgtttcgc...</td>\n",
       "    </tr>\n",
       "    <tr>\n",
       "      <th>2</th>\n",
       "      <td>PL73_hek3-4_readouts</td>\n",
       "      <td>CGCGCGCCTTTGGCGGGAAGTCCTGgtttgcgtgtaatcgactctg...</td>\n",
       "    </tr>\n",
       "    <tr>\n",
       "      <th>3</th>\n",
       "      <td>PL73_hek3-4_readouts</td>\n",
       "      <td>CGCGCGCCTTTGGCGGGAAGTCCTGgccgtcgtcacgtgcgagtag...</td>\n",
       "    </tr>\n",
       "    <tr>\n",
       "      <th>4</th>\n",
       "      <td>PL73_hek3-4_readouts</td>\n",
       "      <td>CGCGCGCCTTTGGCGGGAAGTCCTGgatgcctcttcgatagattcg...</td>\n",
       "    </tr>\n",
       "    <tr>\n",
       "      <th>...</th>\n",
       "      <td>...</td>\n",
       "      <td>...</td>\n",
       "    </tr>\n",
       "    <tr>\n",
       "      <th>121</th>\n",
       "      <td>PL74_rnf2-13_readouts</td>\n",
       "      <td>CGCGCGCCTTTGGCGGGAAGTCCTGggcactaggataactttaggg...</td>\n",
       "    </tr>\n",
       "    <tr>\n",
       "      <th>122</th>\n",
       "      <td>PL74_rnf2-13_readouts</td>\n",
       "      <td>CGCGCGCCTTTGGCGGGAAGTCCTGgtccatgatacgaggtgatag...</td>\n",
       "    </tr>\n",
       "    <tr>\n",
       "      <th>123</th>\n",
       "      <td>PL74_rnf2-13_readouts</td>\n",
       "      <td>CGCGCGCCTTTGGCGGGAAGTCCTGgcacgtatgtcccgtccattg...</td>\n",
       "    </tr>\n",
       "    <tr>\n",
       "      <th>124</th>\n",
       "      <td>PL74_rnf2-13_readouts</td>\n",
       "      <td>CGCGCGCCTTTGGCGGGAAGTCCTGaagggcgatgtaacggcgcaa...</td>\n",
       "    </tr>\n",
       "    <tr>\n",
       "      <th>125</th>\n",
       "      <td>PL74_rnf2-13_readouts</td>\n",
       "      <td>CGCGCGCCTTTGGCGGGAAGTCCTGtaagtatcgtcgagcctgaat...</td>\n",
       "    </tr>\n",
       "  </tbody>\n",
       "</table>\n",
       "<p>126 rows × 2 columns</p>\n",
       "</div>"
      ],
      "text/plain": [
       "                 Pool name                                           Sequence\n",
       "0     PL73_hek3-4_readouts  CGCGCGCCTTTGGCGGGAAGTCCTGgaggcggattgagattcggtg...\n",
       "1     PL73_hek3-4_readouts  CGCGCGCCTTTGGCGGGAAGTCCTGcgatggtcgtcctcgtttcgc...\n",
       "2     PL73_hek3-4_readouts  CGCGCGCCTTTGGCGGGAAGTCCTGgtttgcgtgtaatcgactctg...\n",
       "3     PL73_hek3-4_readouts  CGCGCGCCTTTGGCGGGAAGTCCTGgccgtcgtcacgtgcgagtag...\n",
       "4     PL73_hek3-4_readouts  CGCGCGCCTTTGGCGGGAAGTCCTGgatgcctcttcgatagattcg...\n",
       "..                     ...                                                ...\n",
       "121  PL74_rnf2-13_readouts  CGCGCGCCTTTGGCGGGAAGTCCTGggcactaggataactttaggg...\n",
       "122  PL74_rnf2-13_readouts  CGCGCGCCTTTGGCGGGAAGTCCTGgtccatgatacgaggtgatag...\n",
       "123  PL74_rnf2-13_readouts  CGCGCGCCTTTGGCGGGAAGTCCTGgcacgtatgtcccgtccattg...\n",
       "124  PL74_rnf2-13_readouts  CGCGCGCCTTTGGCGGGAAGTCCTGaagggcgatgtaacggcgcaa...\n",
       "125  PL74_rnf2-13_readouts  CGCGCGCCTTTGGCGGGAAGTCCTGtaagtatcgtcgagcctgaat...\n",
       "\n",
       "[126 rows x 2 columns]"
      ]
     },
     "execution_count": 7,
     "metadata": {},
     "output_type": "execute_result"
    }
   ],
   "source": [
    "summary_df"
   ]
  },
  {
   "cell_type": "code",
   "execution_count": 9,
   "id": "47f9ac02-9a86-4c5f-9a2f-666ed1246a32",
   "metadata": {},
   "outputs": [
    {
     "name": "stdout",
     "output_type": "stream",
     "text": [
      "saving probes to file: /lab/solexa_weissman/puzheng/MERFISH_Probes/PE_LT/Edits/2023_8_27_variable_length_PL72.xlsx\n"
     ]
    }
   ],
   "source": [
    "# save\n",
    "overwrite = True\n",
    "save_folder = r'/lab/solexa_weissman/puzheng/MERFISH_Probes/PE_LT/Edits'\n",
    "if not os.path.exists(save_folder):\n",
    "    os.makedirs(save_folder)\n",
    "save_probe_filename = os.path.join(save_folder,\n",
    "                             f\"{time.localtime().tm_year}_{time.localtime().tm_mon}_{time.localtime().tm_mday}_variable_length_PL72.xlsx\")\n",
    "\n",
    "if not os.path.exists(save_probe_filename) or overwrite:\n",
    "    print(f\"saving probes to file: {save_probe_filename}\")\n",
    "    summary_df.to_excel(save_probe_filename, index=None)"
   ]
  },
  {
   "cell_type": "code",
   "execution_count": 10,
   "id": "b90fe1f6-fde1-47bc-b87b-dfecb7f6ac7e",
   "metadata": {},
   "outputs": [
    {
     "data": {
      "text/html": [
       "<div>\n",
       "<style scoped>\n",
       "    .dataframe tbody tr th:only-of-type {\n",
       "        vertical-align: middle;\n",
       "    }\n",
       "\n",
       "    .dataframe tbody tr th {\n",
       "        vertical-align: top;\n",
       "    }\n",
       "\n",
       "    .dataframe thead th {\n",
       "        text-align: right;\n",
       "    }\n",
       "</style>\n",
       "<table border=\"1\" class=\"dataframe\">\n",
       "  <thead>\n",
       "    <tr style=\"text-align: right;\">\n",
       "      <th></th>\n",
       "      <th>Name</th>\n",
       "      <th>Sequence</th>\n",
       "      <th>Scale</th>\n",
       "      <th>Purification</th>\n",
       "    </tr>\n",
       "  </thead>\n",
       "  <tbody>\n",
       "    <tr>\n",
       "      <th>0</th>\n",
       "      <td>PL72_fwd</td>\n",
       "      <td>CGCGCGCCTTTGGCGGGAAGTCCTG</td>\n",
       "      <td>25nm</td>\n",
       "      <td>STD</td>\n",
       "    </tr>\n",
       "    <tr>\n",
       "      <th>1</th>\n",
       "      <td>PL72_T7_rev</td>\n",
       "      <td>TAATACGACTCACTATAGGGAGTCGCATGCCGTGGCCGGCGACTT</td>\n",
       "      <td>25nm</td>\n",
       "      <td>STD</td>\n",
       "    </tr>\n",
       "    <tr>\n",
       "      <th>2</th>\n",
       "      <td>PL72_T7</td>\n",
       "      <td>TAATACGACTCACTATAGGG</td>\n",
       "      <td>25nm</td>\n",
       "      <td>STD</td>\n",
       "    </tr>\n",
       "  </tbody>\n",
       "</table>\n",
       "</div>"
      ],
      "text/plain": [
       "          Name                                       Sequence Scale  \\\n",
       "0     PL72_fwd                      CGCGCGCCTTTGGCGGGAAGTCCTG  25nm   \n",
       "1  PL72_T7_rev  TAATACGACTCACTATAGGGAGTCGCATGCCGTGGCCGGCGACTT  25nm   \n",
       "2      PL72_T7                           TAATACGACTCACTATAGGG  25nm   \n",
       "\n",
       "  Purification  \n",
       "0          STD  \n",
       "1          STD  \n",
       "2          STD  "
      ]
     },
     "execution_count": 10,
     "metadata": {},
     "output_type": "execute_result"
    }
   ],
   "source": [
    "# primers\n",
    "primer_dict = {\"Name\":['PL72_fwd', 'PL72_T7_rev', 'PL72_T7'], \n",
    "               \"Sequence\":[fwd_primer, str(Seq(rev_primer_rc +T7_promoter_rc).reverse_complement()), str(T7_promoter)], \n",
    "               \"Scale\":['25nm']*3, \n",
    "               \"Purification\":['STD']*3}\n",
    "primer_df = pd.DataFrame(primer_dict)\n",
    "primer_df"
   ]
  },
  {
   "cell_type": "code",
   "execution_count": 11,
   "id": "034f735d-de3f-4f6d-83ec-b3504ff88853",
   "metadata": {},
   "outputs": [
    {
     "name": "stdout",
     "output_type": "stream",
     "text": [
      "saving primers to file: /lab/solexa_weissman/puzheng/MERFISH_Probes/PE_LT/Edits/2023_8_27_Primers_PL72.xlsx\n"
     ]
    }
   ],
   "source": [
    "save_primer_filename = os.path.join(save_folder,\n",
    "                             f\"{time.localtime().tm_year}_{time.localtime().tm_mon}_{time.localtime().tm_mday}_Primers_PL72.xlsx\")\n",
    "\n",
    "if not os.path.exists(save_primer_filename) or overwrite:\n",
    "    print(f\"saving primers to file: {save_primer_filename}\")\n",
    "    primer_df.to_excel(save_primer_filename, index=None)"
   ]
  },
  {
   "cell_type": "markdown",
   "id": "f59ceb3c-e120-40e7-a60e-4661b97d3455",
   "metadata": {},
   "source": [
    "# Check readouts"
   ]
  },
  {
   "cell_type": "code",
   "execution_count": 17,
   "id": "fa6f8d97",
   "metadata": {},
   "outputs": [],
   "source": [
    "readout_folder = r'/lab/solexa_weissman/puzheng/References/Readouts'\n",
    "readout_reference = os.path.join(readout_folder, 'Readout_summary.xlsx')\n",
    "\n",
    "# load\n",
    "readout_table = pd.read_excel(readout_reference)\n",
    "readout_len = 20"
   ]
  },
  {
   "cell_type": "code",
   "execution_count": 27,
   "id": "17a72a6a",
   "metadata": {},
   "outputs": [
    {
     "data": {
      "text/html": [
       "<div>\n",
       "<style scoped>\n",
       "    .dataframe tbody tr th:only-of-type {\n",
       "        vertical-align: middle;\n",
       "    }\n",
       "\n",
       "    .dataframe tbody tr th {\n",
       "        vertical-align: top;\n",
       "    }\n",
       "\n",
       "    .dataframe thead th {\n",
       "        text-align: right;\n",
       "    }\n",
       "</style>\n",
       "<table border=\"1\" class=\"dataframe\">\n",
       "  <thead>\n",
       "    <tr style=\"text-align: right;\">\n",
       "      <th></th>\n",
       "      <th>Pool name</th>\n",
       "      <th>Sequence</th>\n",
       "    </tr>\n",
       "  </thead>\n",
       "  <tbody>\n",
       "    <tr>\n",
       "      <th>0</th>\n",
       "      <td>PL73_hek3-4_readouts</td>\n",
       "      <td>CGCGCGCCTTTGGCGGGAAGTCCTGgaggcggattgagattcggtg...</td>\n",
       "    </tr>\n",
       "    <tr>\n",
       "      <th>1</th>\n",
       "      <td>PL73_hek3-4_readouts</td>\n",
       "      <td>CGCGCGCCTTTGGCGGGAAGTCCTGcgatggtcgtcctcgtttcgc...</td>\n",
       "    </tr>\n",
       "    <tr>\n",
       "      <th>2</th>\n",
       "      <td>PL73_hek3-4_readouts</td>\n",
       "      <td>CGCGCGCCTTTGGCGGGAAGTCCTGgtttgcgtgtaatcgactctg...</td>\n",
       "    </tr>\n",
       "    <tr>\n",
       "      <th>3</th>\n",
       "      <td>PL73_hek3-4_readouts</td>\n",
       "      <td>CGCGCGCCTTTGGCGGGAAGTCCTGgccgtcgtcacgtgcgagtag...</td>\n",
       "    </tr>\n",
       "    <tr>\n",
       "      <th>4</th>\n",
       "      <td>PL73_hek3-4_readouts</td>\n",
       "      <td>CGCGCGCCTTTGGCGGGAAGTCCTGgatgcctcttcgatagattcg...</td>\n",
       "    </tr>\n",
       "    <tr>\n",
       "      <th>...</th>\n",
       "      <td>...</td>\n",
       "      <td>...</td>\n",
       "    </tr>\n",
       "    <tr>\n",
       "      <th>121</th>\n",
       "      <td>PL74_rnf2-13_readouts</td>\n",
       "      <td>CGCGCGCCTTTGGCGGGAAGTCCTGggcactaggataactttaggg...</td>\n",
       "    </tr>\n",
       "    <tr>\n",
       "      <th>122</th>\n",
       "      <td>PL74_rnf2-13_readouts</td>\n",
       "      <td>CGCGCGCCTTTGGCGGGAAGTCCTGgtccatgatacgaggtgatag...</td>\n",
       "    </tr>\n",
       "    <tr>\n",
       "      <th>123</th>\n",
       "      <td>PL74_rnf2-13_readouts</td>\n",
       "      <td>CGCGCGCCTTTGGCGGGAAGTCCTGgcacgtatgtcccgtccattg...</td>\n",
       "    </tr>\n",
       "    <tr>\n",
       "      <th>124</th>\n",
       "      <td>PL74_rnf2-13_readouts</td>\n",
       "      <td>CGCGCGCCTTTGGCGGGAAGTCCTGaagggcgatgtaacggcgcaa...</td>\n",
       "    </tr>\n",
       "    <tr>\n",
       "      <th>125</th>\n",
       "      <td>PL74_rnf2-13_readouts</td>\n",
       "      <td>CGCGCGCCTTTGGCGGGAAGTCCTGtaagtatcgtcgagcctgaat...</td>\n",
       "    </tr>\n",
       "  </tbody>\n",
       "</table>\n",
       "<p>126 rows × 2 columns</p>\n",
       "</div>"
      ],
      "text/plain": [
       "                 Pool name                                           Sequence\n",
       "0     PL73_hek3-4_readouts  CGCGCGCCTTTGGCGGGAAGTCCTGgaggcggattgagattcggtg...\n",
       "1     PL73_hek3-4_readouts  CGCGCGCCTTTGGCGGGAAGTCCTGcgatggtcgtcctcgtttcgc...\n",
       "2     PL73_hek3-4_readouts  CGCGCGCCTTTGGCGGGAAGTCCTGgtttgcgtgtaatcgactctg...\n",
       "3     PL73_hek3-4_readouts  CGCGCGCCTTTGGCGGGAAGTCCTGgccgtcgtcacgtgcgagtag...\n",
       "4     PL73_hek3-4_readouts  CGCGCGCCTTTGGCGGGAAGTCCTGgatgcctcttcgatagattcg...\n",
       "..                     ...                                                ...\n",
       "121  PL74_rnf2-13_readouts  CGCGCGCCTTTGGCGGGAAGTCCTGggcactaggataactttaggg...\n",
       "122  PL74_rnf2-13_readouts  CGCGCGCCTTTGGCGGGAAGTCCTGgtccatgatacgaggtgatag...\n",
       "123  PL74_rnf2-13_readouts  CGCGCGCCTTTGGCGGGAAGTCCTGgcacgtatgtcccgtccattg...\n",
       "124  PL74_rnf2-13_readouts  CGCGCGCCTTTGGCGGGAAGTCCTGaagggcgatgtaacggcgcaa...\n",
       "125  PL74_rnf2-13_readouts  CGCGCGCCTTTGGCGGGAAGTCCTGtaagtatcgtcgagcctgaat...\n",
       "\n",
       "[126 rows x 2 columns]"
      ]
     },
     "execution_count": 27,
     "metadata": {},
     "output_type": "execute_result"
    }
   ],
   "source": [
    "annotated_summary_df"
   ]
  },
  {
   "cell_type": "code",
   "execution_count": 29,
   "id": "d438d65a",
   "metadata": {},
   "outputs": [],
   "source": [
    "annotated_summary_df = summary_df.copy()\n",
    "probe_bits_list = []\n",
    "for _seq in annotated_summary_df['Sequence']:\n",
    "    #print(_seq)\n",
    "    _seq_bits = []\n",
    "    for _i in range(0, len(_seq)-readout_len+1):\n",
    "        _target = _seq[_i:_i+readout_len].upper()\n",
    "        if _target in readout_table['Target'].values:\n",
    "            #print(_target)\n",
    "            _seq_bits.append(readout_table.loc[readout_table['Target']==_target, 'Name'].values[0])\n",
    "            \n",
    "    probe_bits_list.append(_seq_bits)\n",
    "annotated_summary_df.loc[:,'readout'] = [np.unique(_rds)[0] for _rds in probe_bits_list]"
   ]
  },
  {
   "cell_type": "markdown",
   "id": "93331b95",
   "metadata": {},
   "source": [
    "## save"
   ]
  },
  {
   "cell_type": "code",
   "execution_count": 30,
   "id": "ea21b3a1-fe72-49ff-b42b-2715500059a4",
   "metadata": {},
   "outputs": [],
   "source": [
    "annotated_summary_df.to_excel(os.path.join(save_folder, 'PL72_Hek3_Rnf2_annotated.xlsx'), index=None)"
   ]
  },
  {
   "cell_type": "code",
   "execution_count": null,
   "id": "2568e7b6-217e-42a3-b00a-d5b1dd037ab6",
   "metadata": {},
   "outputs": [],
   "source": []
  }
 ],
 "metadata": {
  "kernelspec": {
   "display_name": "postanalysis",
   "language": "python",
   "name": "postanalysis"
  },
  "language_info": {
   "codemirror_mode": {
    "name": "ipython",
    "version": 3
   },
   "file_extension": ".py",
   "mimetype": "text/x-python",
   "name": "python",
   "nbconvert_exporter": "python",
   "pygments_lexer": "ipython3",
   "version": "3.10.12"
  }
 },
 "nbformat": 4,
 "nbformat_minor": 5
}
