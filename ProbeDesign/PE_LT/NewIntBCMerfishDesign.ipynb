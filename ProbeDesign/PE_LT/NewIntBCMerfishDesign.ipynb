{
 "cells": [
  {
   "cell_type": "markdown",
   "id": "4f3b6b0b",
   "metadata": {},
   "source": [
    "# Notebook to design MERFISH probes reading out 30nt integration barcode\n",
    "\n",
    "by Pu Zheng\n",
    "\n",
    "version1:\n",
    "2023.3.13\n",
    "\n",
    "version2:\n",
    "2024.02.06"
   ]
  },
  {
   "cell_type": "markdown",
   "id": "49514741",
   "metadata": {},
   "source": [
    "## Basic packages"
   ]
  },
  {
   "cell_type": "code",
   "execution_count": 1,
   "id": "3087899d",
   "metadata": {},
   "outputs": [],
   "source": [
    "import pandas as pd\n",
    "import numpy as np\n",
    "import os, sys, time\n",
    "import re\n",
    "\n",
    "# bioPython\n",
    "from Bio.Seq import Seq\n",
    "from Bio.Seq import reverse_complement"
   ]
  },
  {
   "cell_type": "code",
   "execution_count": 2,
   "id": "d052fbaa",
   "metadata": {},
   "outputs": [],
   "source": [
    "from importlib import reload\n",
    "# this version doesn't have ChromAn compiled, so directly load from src:\n",
    "sys.path.append(r\"/lab/weissman_imaging/puzheng/Softwares/ChromAn\")\n",
    "import src\n"
   ]
  },
  {
   "cell_type": "code",
   "execution_count": 3,
   "id": "f0992df3",
   "metadata": {},
   "outputs": [
    {
     "name": "stdout",
     "output_type": "stream",
     "text": [
      "- Loading directly from file: /lab/solexa_weissman/puzheng/References/Readouts/Readout_summary.xlsx\n"
     ]
    }
   ],
   "source": [
    "readout_folder = r'/lab/solexa_weissman/puzheng/References/Readouts'\n",
    "readout_reference = os.path.join(readout_folder, 'Readout_summary.xlsx')\n",
    "\n",
    "# load\n",
    "readout_table = pd.read_excel(readout_reference)\n",
    "print(f\"- Loading directly from file: {readout_reference}\")"
   ]
  },
  {
   "cell_type": "markdown",
   "id": "eb88d9fa",
   "metadata": {},
   "source": [
    "# Load tageting region:"
   ]
  },
  {
   "cell_type": "code",
   "execution_count": null,
   "id": "ea3e2c35",
   "metadata": {},
   "outputs": [],
   "source": [
    "probe_folder = r'/lab/solexa_weissman/puzheng/MERFISH_Probes/PE_TS'\n",
    "os.listdir(probe_folder)"
   ]
  }
 ],
 "metadata": {
  "kernelspec": {
   "display_name": "postanalysis",
   "language": "python",
   "name": "postanalysis"
  },
  "language_info": {
   "codemirror_mode": {
    "name": "ipython",
    "version": 3
   },
   "file_extension": ".py",
   "mimetype": "text/x-python",
   "name": "python",
   "nbconvert_exporter": "python",
   "pygments_lexer": "ipython3",
   "version": "3.10.12"
  }
 },
 "nbformat": 4,
 "nbformat_minor": 5
}
