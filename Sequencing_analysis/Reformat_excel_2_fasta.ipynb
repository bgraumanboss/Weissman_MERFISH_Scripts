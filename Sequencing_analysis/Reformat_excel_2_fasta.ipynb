{
 "cells": [
  {
   "cell_type": "code",
   "execution_count": 4,
   "id": "dea6684d-5557-4689-83cb-a00cc843282d",
   "metadata": {
    "tags": []
   },
   "outputs": [],
   "source": [
    "import pandas as pd\n",
    "import numpy as np\n",
    "import os"
   ]
  },
  {
   "cell_type": "code",
   "execution_count": 2,
   "id": "c93478b3",
   "metadata": {},
   "outputs": [],
   "source": [
    "analysis_folder = r'/lab/solexa_weissman/PEtracing_shared/240109_Pu_MF_Probe_libs/Alignment_1/Analysis'"
   ]
  },
  {
   "cell_type": "code",
   "execution_count": 9,
   "id": "e2189cf8",
   "metadata": {},
   "outputs": [],
   "source": [
    "mf1_probe_filename = os.path.join(analysis_folder, 'MF1_twist_probes.xlsx')\n",
    "mf23_probe_filename = os.path.join(analysis_folder, 'MF2-3_twist_probes.xlsx')\n",
    "mf45_probe_filename = os.path.join(analysis_folder, 'mf4-mf5_probe.xlsx')\n",
    "edit_probe_filename = os.path.join(analysis_folder, '24Edits.xlsx')"
   ]
  },
  {
   "cell_type": "code",
   "execution_count": 11,
   "id": "9b6e1eb7",
   "metadata": {},
   "outputs": [],
   "source": [
    "sel_lib_filenames = [mf1_probe_filename, mf23_probe_filename, mf45_probe_filename, edit_probe_filename]\n",
    "probes = []\n",
    "for _file in sel_lib_filenames:\n",
    "    print(_file)\n",
    "    if not os.path.isfile(_file):\n",
    "        raise FileExistsError(f\"library probe sequence file:{_file} doesn't exist.\")\n",
    "    probes.append(pd.read_excel(_file).dropna(axis=0))\n",
    "probes = pd.concat(probes)\n"
   ]
  },
  {
   "cell_type": "code",
   "execution_count": 16,
   "id": "0a820bd2",
   "metadata": {},
   "outputs": [
    {
     "data": {
      "text/plain": [
       "168400"
      ]
     },
     "execution_count": 16,
     "metadata": {},
     "output_type": "execute_result"
    }
   ],
   "source": [
    "len(probes)"
   ]
  },
  {
   "cell_type": "code",
   "execution_count": 17,
   "id": "d5cf6c48",
   "metadata": {},
   "outputs": [],
   "source": [
    "from Bio.SeqIO import SeqRecord\n",
    "from Bio.Seq import Seq\n",
    "seqs = []\n",
    "for _i, _row in probes.iterrows():\n",
    "    seqs.append(SeqRecord(name=_row['name'].replace(':','-'), \n",
    "                          id=_row['name'].replace(':','-'),\n",
    "                          seq=Seq(_row['sequence']), description='probe'))\n"
   ]
  },
  {
   "cell_type": "code",
   "execution_count": 18,
   "id": "1065c7ee-c2e5-4e31-b80c-07eef492c724",
   "metadata": {
    "tags": []
   },
   "outputs": [
    {
     "data": {
      "text/plain": [
       "SeqRecord(seq=Seq('CCCGCAATGGCTGACAACCGGTCCTGTTCTTGTCGAGCGTGTCCTGTTCTTGTC...TCC'), id='MF1_Igkc_ENSMUST00000103410.3_shift-0_GC-53.3_Tm-56.5_specificity-1_isospecificity-0.01_Stv_28-Stv_28--Stv_28-Stv_28', name='MF1_Igkc_ENSMUST00000103410.3_shift-0_GC-53.3_Tm-56.5_specificity-1_isospecificity-0.01_Stv_28-Stv_28--Stv_28-Stv_28', description='probe', dbxrefs=[])"
      ]
     },
     "execution_count": 18,
     "metadata": {},
     "output_type": "execute_result"
    }
   ],
   "source": [
    "seqs[0]"
   ]
  },
  {
   "cell_type": "markdown",
   "id": "64754979-473e-49ac-bc81-0e1b197fa662",
   "metadata": {},
   "source": [
    "## Save"
   ]
  },
  {
   "cell_type": "code",
   "execution_count": 19,
   "id": "056a894c-45f4-47bd-bc37-d919945bac14",
   "metadata": {
    "tags": []
   },
   "outputs": [
    {
     "name": "stdout",
     "output_type": "stream",
     "text": [
      "/lab/solexa_weissman/PEtracing_shared/240109_Pu_MF_Probe_libs/Alignment_1/Analysis/Merged_probes.fasta\n"
     ]
    }
   ],
   "source": [
    "from Bio import SeqIO\n",
    "\n",
    "fasta_output = os.path.join(analysis_folder, 'Merged_probes.fasta')\n",
    "print(fasta_output)\n",
    "\n",
    "with open(fasta_output, \"w\") as output_handle:\n",
    "    SeqIO.write(seqs, output_handle, \"fasta\")"
   ]
  },
  {
   "cell_type": "markdown",
   "id": "db3a00b2",
   "metadata": {},
   "source": [
    "> run the following command to build bowtie2 index:\n",
    ">> bowtie2-build Merged_probes.fasta merged_probes\n",
    "> then blast as follows:\n"
   ]
  },
  {
   "cell_type": "markdown",
   "id": "a0c49070",
   "metadata": {},
   "source": []
  },
  {
   "cell_type": "code",
   "execution_count": null,
   "id": "09ca6092",
   "metadata": {},
   "outputs": [],
   "source": []
  }
 ],
 "metadata": {
  "kernelspec": {
   "display_name": "postanalysis",
   "language": "python",
   "name": "postanalysis"
  },
  "language_info": {
   "codemirror_mode": {
    "name": "ipython",
    "version": 3
   },
   "file_extension": ".py",
   "mimetype": "text/x-python",
   "name": "python",
   "nbconvert_exporter": "python",
   "pygments_lexer": "ipython3",
   "version": "3.10.12"
  }
 },
 "nbformat": 4,
 "nbformat_minor": 5
}
