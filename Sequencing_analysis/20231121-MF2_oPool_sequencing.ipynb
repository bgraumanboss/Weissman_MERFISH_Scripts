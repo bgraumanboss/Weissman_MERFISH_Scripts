{
 "cells": [
  {
   "cell_type": "markdown",
   "metadata": {},
   "source": [
    "# PostAnalysis for sequencing of Merfish oligo pool\n",
    "\n",
    "by Pu Zheng\n",
    "\n",
    "2023.11.21"
   ]
  },
  {
   "cell_type": "code",
   "execution_count": 2,
   "metadata": {},
   "outputs": [
    {
     "name": "stdout",
     "output_type": "stream",
     "text": [
      "877022\n"
     ]
    }
   ],
   "source": [
    "# Basic imports\n",
    "import os,sys,re\n",
    "from importlib import reload\n",
    "import numpy as np\n",
    "import pandas as pd\n",
    "#import torch\n",
    "print(os.getpid())"
   ]
  },
  {
   "cell_type": "code",
   "execution_count": 17,
   "metadata": {},
   "outputs": [],
   "source": [
    "# ChromAn related imports\n",
    "sys.path.append(r'/lab/weissman_imaging/puzheng/Softwares/') # parent folder of ChromAn\n",
    "import ImageAnalysis3 as ia3\n",
    "import h5py\n",
    "from ImageAnalysis3.classes import _allowed_kwds\n",
    "import ast\n",
    "from ChromAn.src import file_io\n",
    "\n",
    "from ChromAn.src.file_io import dax_process\n",
    "from ChromAn.src.file_io import data_organization\n",
    "from ChromAn.src.visual_tools import interactive\n",
    "from ChromAn.src.correction_tools.alignment import generate_drift_crops\n",
    "from ChromAn.src.spot_tools.match_spots import colocalize_spots\n",
    "\n",
    "import pickle\n",
    "\n",
    "import matplotlib.pyplot as plt\n",
    "plt.style.use('dark_background')"
   ]
  },
  {
   "cell_type": "code",
   "execution_count": 5,
   "metadata": {},
   "outputs": [],
   "source": [
    "data_folder = r'/lab/solexa_weissman/puzheng/Sequencing_data/231120_M01799_0478_000000000-KGY2N/'\n",
    "analysis_folder = os.path.join(data_folder, 'Analysis')"
   ]
  },
  {
   "cell_type": "markdown",
   "metadata": {},
   "source": [
    "# load probes"
   ]
  },
  {
   "cell_type": "code",
   "execution_count": 6,
   "metadata": {},
   "outputs": [
    {
     "name": "stdout",
     "output_type": "stream",
     "text": [
      "/lab/solexa_weissman/puzheng/Sequencing_data/231120_M01799_0478_000000000-KGY2N/Analysis/All_probes.fasta\n",
      "222042\n"
     ]
    }
   ],
   "source": [
    "# Load probes:\n",
    "from Bio import SeqIO\n",
    "\n",
    "probe_filename = os.path.join(analysis_folder, 'All_probes.fasta')\n",
    "print(probe_filename)\n",
    "\n",
    "probes = []\n",
    "for record in SeqIO.parse(probe_filename, \"fasta\"):\n",
    "    probes.append(record)\n",
    "print(len(probes))"
   ]
  },
  {
   "cell_type": "code",
   "execution_count": 7,
   "metadata": {},
   "outputs": [
    {
     "data": {
      "text/html": [
       "<div>\n",
       "<style scoped>\n",
       "    .dataframe tbody tr th:only-of-type {\n",
       "        vertical-align: middle;\n",
       "    }\n",
       "\n",
       "    .dataframe tbody tr th {\n",
       "        vertical-align: top;\n",
       "    }\n",
       "\n",
       "    .dataframe thead th {\n",
       "        text-align: right;\n",
       "    }\n",
       "</style>\n",
       "<table border=\"1\" class=\"dataframe\">\n",
       "  <thead>\n",
       "    <tr style=\"text-align: right;\">\n",
       "      <th></th>\n",
       "      <th>name</th>\n",
       "      <th>sequence</th>\n",
       "    </tr>\n",
       "  </thead>\n",
       "  <tbody>\n",
       "    <tr>\n",
       "      <th>0</th>\n",
       "      <td>MF1_Igkc_ENSMUST00000103410.3_shift-0_GC-53.3_...</td>\n",
       "      <td>CCCGCAATGGCTGACAACCGGTCCTGTTCTTGTCGAGCGTGTCCTG...</td>\n",
       "    </tr>\n",
       "    <tr>\n",
       "      <th>1</th>\n",
       "      <td>MF1_Iglc2_ENSMUST00000103749.3_shift-0_GC-50.0...</td>\n",
       "      <td>CCCGCAATGGCTGACAACCGGTCCTGTTCTTGTCGAGCGTGTCCTG...</td>\n",
       "    </tr>\n",
       "    <tr>\n",
       "      <th>2</th>\n",
       "      <td>MF1_Il21_ENSMUST00000029273.8_shift-0_GC-56.6_...</td>\n",
       "      <td>CCCGCAATGGCTGACAACCGGTCCTGTTCTTGTCGAGCGTGTCCTG...</td>\n",
       "    </tr>\n",
       "    <tr>\n",
       "      <th>3</th>\n",
       "      <td>MF1_Xcl1_ENSMUST00000027860.8_shift-0_GC-53.3_...</td>\n",
       "      <td>CCCGCAATGGCTGACAACCGGTCCTGTTCTTGTCGAGCGTGTCCTG...</td>\n",
       "    </tr>\n",
       "    <tr>\n",
       "      <th>4</th>\n",
       "      <td>MF1_S100a10_ENSMUST00000148400.2_shift-0_GC-56...</td>\n",
       "      <td>CCCGCAATGGCTGACAACCGGTCCTGTTCTTGTCGAGCGTGTCCTG...</td>\n",
       "    </tr>\n",
       "    <tr>\n",
       "      <th>...</th>\n",
       "      <td>...</td>\n",
       "      <td>...</td>\n",
       "    </tr>\n",
       "    <tr>\n",
       "      <th>222037</th>\n",
       "      <td>MO4_sequential_4326a528-01_Igfbp6__ENSMUST0000...</td>\n",
       "      <td>TAAGGTAGCTGTCGCCGCAGATGCTCCTGGCAGAGCACTGAGTGCT...</td>\n",
       "    </tr>\n",
       "    <tr>\n",
       "      <th>222038</th>\n",
       "      <td>MO4_sequential_4326a528-01_Igfbp6__ENSMUST0000...</td>\n",
       "      <td>TAAGGTAGCTGTCGCCGCAGAGAACGACACTGCTGCTTTCGGTAGA...</td>\n",
       "    </tr>\n",
       "    <tr>\n",
       "      <th>222039</th>\n",
       "      <td>MO4_sequential_4326a528-01_Igfbp6__ENSMUST0000...</td>\n",
       "      <td>TAAGGTAGCTGTCGCCGCAGACATTGCTTCACATACAGCTCAAATG...</td>\n",
       "    </tr>\n",
       "    <tr>\n",
       "      <th>222040</th>\n",
       "      <td>MO4_sequential_4326a528-01_Igfbp6__ENSMUST0000...</td>\n",
       "      <td>TAAGGTAGCTGTCGCCGCAGAAGACAGCCTCCGGCTTCTGTACAGC...</td>\n",
       "    </tr>\n",
       "    <tr>\n",
       "      <th>222041</th>\n",
       "      <td>MO4_sequential_4326a528-01_Igfbp6__ENSMUST0000...</td>\n",
       "      <td>TAAGGTAGCTGTCGCCGCAGATCGGAAGACCTCAGTCTGGAGCTGC...</td>\n",
       "    </tr>\n",
       "  </tbody>\n",
       "</table>\n",
       "<p>222042 rows × 2 columns</p>\n",
       "</div>"
      ],
      "text/plain": [
       "                                                     name  \\\n",
       "0       MF1_Igkc_ENSMUST00000103410.3_shift-0_GC-53.3_...   \n",
       "1       MF1_Iglc2_ENSMUST00000103749.3_shift-0_GC-50.0...   \n",
       "2       MF1_Il21_ENSMUST00000029273.8_shift-0_GC-56.6_...   \n",
       "3       MF1_Xcl1_ENSMUST00000027860.8_shift-0_GC-53.3_...   \n",
       "4       MF1_S100a10_ENSMUST00000148400.2_shift-0_GC-56...   \n",
       "...                                                   ...   \n",
       "222037  MO4_sequential_4326a528-01_Igfbp6__ENSMUST0000...   \n",
       "222038  MO4_sequential_4326a528-01_Igfbp6__ENSMUST0000...   \n",
       "222039  MO4_sequential_4326a528-01_Igfbp6__ENSMUST0000...   \n",
       "222040  MO4_sequential_4326a528-01_Igfbp6__ENSMUST0000...   \n",
       "222041  MO4_sequential_4326a528-01_Igfbp6__ENSMUST0000...   \n",
       "\n",
       "                                                 sequence  \n",
       "0       CCCGCAATGGCTGACAACCGGTCCTGTTCTTGTCGAGCGTGTCCTG...  \n",
       "1       CCCGCAATGGCTGACAACCGGTCCTGTTCTTGTCGAGCGTGTCCTG...  \n",
       "2       CCCGCAATGGCTGACAACCGGTCCTGTTCTTGTCGAGCGTGTCCTG...  \n",
       "3       CCCGCAATGGCTGACAACCGGTCCTGTTCTTGTCGAGCGTGTCCTG...  \n",
       "4       CCCGCAATGGCTGACAACCGGTCCTGTTCTTGTCGAGCGTGTCCTG...  \n",
       "...                                                   ...  \n",
       "222037  TAAGGTAGCTGTCGCCGCAGATGCTCCTGGCAGAGCACTGAGTGCT...  \n",
       "222038  TAAGGTAGCTGTCGCCGCAGAGAACGACACTGCTGCTTTCGGTAGA...  \n",
       "222039  TAAGGTAGCTGTCGCCGCAGACATTGCTTCACATACAGCTCAAATG...  \n",
       "222040  TAAGGTAGCTGTCGCCGCAGAAGACAGCCTCCGGCTTCTGTACAGC...  \n",
       "222041  TAAGGTAGCTGTCGCCGCAGATCGGAAGACCTCAGTCTGGAGCTGC...  \n",
       "\n",
       "[222042 rows x 2 columns]"
      ]
     },
     "execution_count": 7,
     "metadata": {},
     "output_type": "execute_result"
    }
   ],
   "source": [
    "probe_df = pd.DataFrame({\n",
    "    'name':[ _pb.name for _pb in probes],\n",
    "    'sequence': [str(_pb.seq) for _pb in probes],\n",
    "})\n",
    "probe_df"
   ]
  },
  {
   "cell_type": "code",
   "execution_count": 8,
   "metadata": {},
   "outputs": [
    {
     "data": {
      "text/plain": [
       "['/lab/solexa_weissman/puzheng/Sequencing_data/231120_M01799_0478_000000000-KGY2N/20231121_081440/Fastq/Amplified-MF2_S6_L001.idxstats',\n",
       " '/lab/solexa_weissman/puzheng/Sequencing_data/231120_M01799_0478_000000000-KGY2N/20231121_081440/Fastq/Amplified-MO4_S4_L001.idxstats',\n",
       " '/lab/solexa_weissman/puzheng/Sequencing_data/231120_M01799_0478_000000000-KGY2N/20231121_081440/Fastq/Amplified-IntBC-30no_S5_L001.idxstats',\n",
       " '/lab/solexa_weissman/puzheng/Sequencing_data/231120_M01799_0478_000000000-KGY2N/20231121_081440/Fastq/Amplified-MF3_S2_L001.idxstats',\n",
       " '/lab/solexa_weissman/puzheng/Sequencing_data/231120_M01799_0478_000000000-KGY2N/20231121_081440/Fastq/PCR-MF3_S1_L001.idxstats',\n",
       " '/lab/solexa_weissman/puzheng/Sequencing_data/231120_M01799_0478_000000000-KGY2N/20231121_081440/Fastq/Twist-MO4_S3_L001.idxstats']"
      ]
     },
     "execution_count": 8,
     "metadata": {},
     "output_type": "execute_result"
    }
   ],
   "source": [
    "# load analysis \n",
    "sequence_folder = os.path.join(data_folder, '20231121_081440', 'Fastq')\n",
    "alignment_stats = [os.path.join(sequence_folder, _f) for _f in os.listdir(sequence_folder) if '.idxstats' in _f]\n",
    "alignment_stats"
   ]
  },
  {
   "cell_type": "markdown",
   "metadata": {},
   "source": [
    "## MF2"
   ]
  },
  {
   "cell_type": "code",
   "execution_count": 9,
   "metadata": {},
   "outputs": [
    {
     "data": {
      "text/plain": [
       "(66321, 3142246, 413806)"
      ]
     },
     "execution_count": 9,
     "metadata": {},
     "output_type": "execute_result"
    }
   ],
   "source": [
    "library_name = 'MF2'\n",
    "\n",
    "lib_probe_df = probe_df.loc[\n",
    "    np.array([library_name in _n for _n in probe_df['name']])\n",
    "]\n",
    "\n",
    "amplified_pool_stat = pd.read_table([_f for _f in alignment_stats if library_name in _f and 'amplified' in _f.lower()][0],\n",
    "                                    header=None, names=['ref', 'length', 'mapped', 'unmapped'])\n",
    "lib_amplified_match_df = amplified_pool_stat.loc[\n",
    "    np.array([library_name in _n for _n in probe_df['name']]+[False])\n",
    "]\n",
    "lib_amplified_match_df = pd.concat([lib_amplified_match_df, lib_probe_df], axis=1)\n",
    "len(lib_amplified_match_df), amplified_pool_stat['mapped'].sum(), amplified_pool_stat['unmapped'].sum()"
   ]
  },
  {
   "cell_type": "code",
   "execution_count": 10,
   "metadata": {},
   "outputs": [
    {
     "data": {
      "text/plain": [
       "(47.37143589511618, 0.006649477541050346)"
      ]
     },
     "execution_count": 10,
     "metadata": {},
     "output_type": "execute_result"
    }
   ],
   "source": [
    "np.mean(lib_amplified_match_df['mapped']), np.sum(lib_amplified_match_df['mapped']==0) / len(lib_amplified_match_df)"
   ]
  },
  {
   "cell_type": "code",
   "execution_count": 22,
   "metadata": {},
   "outputs": [
    {
     "data": {
      "image/png": "[encoded data removed]",
      "text/plain": [
       "<Figure size 640x480 with 1 Axes>"
      ]
     },
     "metadata": {},
     "output_type": "display_data"
    }
   ],
   "source": [
    "plt.figure()\n",
    "plt.hist(lib_amplified_match_df['mapped'].values / np.mean(lib_amplified_match_df['mapped']), \n",
    "         bins=np.arange(0,10, 0.2), color='red')\n",
    "plt.xlabel('normalized count')\n",
    "plt.ylabel('num probes')\n",
    "plt.title(f\"{library_name}_Amplified\")\n",
    "plt.show()"
   ]
  },
  {
   "cell_type": "code",
   "execution_count": 19,
   "metadata": {},
   "outputs": [
    {
     "data": {
      "text/html": [
       "<div>\n",
       "<style scoped>\n",
       "    .dataframe tbody tr th:only-of-type {\n",
       "        vertical-align: middle;\n",
       "    }\n",
       "\n",
       "    .dataframe tbody tr th {\n",
       "        vertical-align: top;\n",
       "    }\n",
       "\n",
       "    .dataframe thead th {\n",
       "        text-align: right;\n",
       "    }\n",
       "</style>\n",
       "<table border=\"1\" class=\"dataframe\">\n",
       "  <thead>\n",
       "    <tr style=\"text-align: right;\">\n",
       "      <th></th>\n",
       "      <th>ref</th>\n",
       "      <th>length</th>\n",
       "      <th>mapped</th>\n",
       "      <th>unmapped</th>\n",
       "      <th>name</th>\n",
       "      <th>sequence</th>\n",
       "    </tr>\n",
       "  </thead>\n",
       "  <tbody>\n",
       "    <tr>\n",
       "      <th>27116</th>\n",
       "      <td>MF2-4T1-primary_Gna14_ENSMUST00000025602.4_shi...</td>\n",
       "      <td>150</td>\n",
       "      <td>33</td>\n",
       "      <td>0</td>\n",
       "      <td>MF2-4T1-primary_Gna14_ENSMUST00000025602.4_shi...</td>\n",
       "      <td>CGCAAACTGGTGCGGAAGGCGGATATCGACCGGAAGTCCAGGATAT...</td>\n",
       "    </tr>\n",
       "    <tr>\n",
       "      <th>27117</th>\n",
       "      <td>MF2-4T1-primary_Plvap_ENSMUST00000048452.6_shi...</td>\n",
       "      <td>150</td>\n",
       "      <td>49</td>\n",
       "      <td>0</td>\n",
       "      <td>MF2-4T1-primary_Plvap_ENSMUST00000048452.6_shi...</td>\n",
       "      <td>CGCAAACTGGTGCGGAAGGCGGATATCGACCGGAAGTCCAGGATAT...</td>\n",
       "    </tr>\n",
       "    <tr>\n",
       "      <th>27118</th>\n",
       "      <td>MF2-4T1-primary_Eomes_ENSMUST00000111763.8_shi...</td>\n",
       "      <td>150</td>\n",
       "      <td>50</td>\n",
       "      <td>0</td>\n",
       "      <td>MF2-4T1-primary_Eomes_ENSMUST00000111763.8_shi...</td>\n",
       "      <td>CGCAAACTGGTGCGGAAGGCGGATATCGACCGGAAGTCCAGGATAT...</td>\n",
       "    </tr>\n",
       "    <tr>\n",
       "      <th>27119</th>\n",
       "      <td>MF2-4T1-primary_Serpine1_ENSMUST00000041388.11...</td>\n",
       "      <td>150</td>\n",
       "      <td>44</td>\n",
       "      <td>0</td>\n",
       "      <td>MF2-4T1-primary_Serpine1_ENSMUST00000041388.11...</td>\n",
       "      <td>CGCAAACTGGTGCGGAAGGCGGATATCGACCGGAAGTCCAGGATAT...</td>\n",
       "    </tr>\n",
       "    <tr>\n",
       "      <th>27120</th>\n",
       "      <td>MF2-4T1-primary_Gata3_ENSMUST00000102976.4_shi...</td>\n",
       "      <td>150</td>\n",
       "      <td>43</td>\n",
       "      <td>0</td>\n",
       "      <td>MF2-4T1-primary_Gata3_ENSMUST00000102976.4_shi...</td>\n",
       "      <td>CGCAAACTGGTGCGGAAGGCGGATATCGACCGGAAGTCCAGGATAT...</td>\n",
       "    </tr>\n",
       "    <tr>\n",
       "      <th>...</th>\n",
       "      <td>...</td>\n",
       "      <td>...</td>\n",
       "      <td>...</td>\n",
       "      <td>...</td>\n",
       "      <td>...</td>\n",
       "      <td>...</td>\n",
       "    </tr>\n",
       "    <tr>\n",
       "      <th>93432</th>\n",
       "      <td>MF2-4T1-primary_Syne1_ENSMUST00000215295.2_shi...</td>\n",
       "      <td>150</td>\n",
       "      <td>17</td>\n",
       "      <td>0</td>\n",
       "      <td>MF2-4T1-primary_Syne1_ENSMUST00000215295.2_shi...</td>\n",
       "      <td>CGCAAACTGGTGCGGAAGGCATCCGTAGACCAACCGGCCGATCCGT...</td>\n",
       "    </tr>\n",
       "    <tr>\n",
       "      <th>93433</th>\n",
       "      <td>MF2-4T1-primary_Syne1_ENSMUST00000215295.2_shi...</td>\n",
       "      <td>150</td>\n",
       "      <td>28</td>\n",
       "      <td>0</td>\n",
       "      <td>MF2-4T1-primary_Syne1_ENSMUST00000215295.2_shi...</td>\n",
       "      <td>CGCAAACTGGTGCGGAAGGCATCCGTAGACCAACCGGCCGATCCGT...</td>\n",
       "    </tr>\n",
       "    <tr>\n",
       "      <th>93434</th>\n",
       "      <td>MF2-4T1-primary_Syne1_ENSMUST00000215295.2_shi...</td>\n",
       "      <td>150</td>\n",
       "      <td>27</td>\n",
       "      <td>0</td>\n",
       "      <td>MF2-4T1-primary_Syne1_ENSMUST00000215295.2_shi...</td>\n",
       "      <td>CGCAAACTGGTGCGGAAGGCATCCGTAGACCAACCGGCCGATCCGT...</td>\n",
       "    </tr>\n",
       "    <tr>\n",
       "      <th>93435</th>\n",
       "      <td>MF2-4T1-primary_Syne1_ENSMUST00000215295.2_shi...</td>\n",
       "      <td>150</td>\n",
       "      <td>18</td>\n",
       "      <td>0</td>\n",
       "      <td>MF2-4T1-primary_Syne1_ENSMUST00000215295.2_shi...</td>\n",
       "      <td>CGCAAACTGGTGCGGAAGGCATCCGTAGACCAACCGGCCGATCCGT...</td>\n",
       "    </tr>\n",
       "    <tr>\n",
       "      <th>93436</th>\n",
       "      <td>MF2-4T1-primary_Syne1_ENSMUST00000215295.2_shi...</td>\n",
       "      <td>150</td>\n",
       "      <td>16</td>\n",
       "      <td>0</td>\n",
       "      <td>MF2-4T1-primary_Syne1_ENSMUST00000215295.2_shi...</td>\n",
       "      <td>CGCAAACTGGTGCGGAAGGCATCCGTAGACCAACCGGCCGATCCGT...</td>\n",
       "    </tr>\n",
       "  </tbody>\n",
       "</table>\n",
       "<p>66321 rows × 6 columns</p>\n",
       "</div>"
      ],
      "text/plain": [
       "                                                     ref  length  mapped  \\\n",
       "27116  MF2-4T1-primary_Gna14_ENSMUST00000025602.4_shi...     150      33   \n",
       "27117  MF2-4T1-primary_Plvap_ENSMUST00000048452.6_shi...     150      49   \n",
       "27118  MF2-4T1-primary_Eomes_ENSMUST00000111763.8_shi...     150      50   \n",
       "27119  MF2-4T1-primary_Serpine1_ENSMUST00000041388.11...     150      44   \n",
       "27120  MF2-4T1-primary_Gata3_ENSMUST00000102976.4_shi...     150      43   \n",
       "...                                                  ...     ...     ...   \n",
       "93432  MF2-4T1-primary_Syne1_ENSMUST00000215295.2_shi...     150      17   \n",
       "93433  MF2-4T1-primary_Syne1_ENSMUST00000215295.2_shi...     150      28   \n",
       "93434  MF2-4T1-primary_Syne1_ENSMUST00000215295.2_shi...     150      27   \n",
       "93435  MF2-4T1-primary_Syne1_ENSMUST00000215295.2_shi...     150      18   \n",
       "93436  MF2-4T1-primary_Syne1_ENSMUST00000215295.2_shi...     150      16   \n",
       "\n",
       "       unmapped                                               name  \\\n",
       "27116         0  MF2-4T1-primary_Gna14_ENSMUST00000025602.4_shi...   \n",
       "27117         0  MF2-4T1-primary_Plvap_ENSMUST00000048452.6_shi...   \n",
       "27118         0  MF2-4T1-primary_Eomes_ENSMUST00000111763.8_shi...   \n",
       "27119         0  MF2-4T1-primary_Serpine1_ENSMUST00000041388.11...   \n",
       "27120         0  MF2-4T1-primary_Gata3_ENSMUST00000102976.4_shi...   \n",
       "...         ...                                                ...   \n",
       "93432         0  MF2-4T1-primary_Syne1_ENSMUST00000215295.2_shi...   \n",
       "93433         0  MF2-4T1-primary_Syne1_ENSMUST00000215295.2_shi...   \n",
       "93434         0  MF2-4T1-primary_Syne1_ENSMUST00000215295.2_shi...   \n",
       "93435         0  MF2-4T1-primary_Syne1_ENSMUST00000215295.2_shi...   \n",
       "93436         0  MF2-4T1-primary_Syne1_ENSMUST00000215295.2_shi...   \n",
       "\n",
       "                                                sequence  \n",
       "27116  CGCAAACTGGTGCGGAAGGCGGATATCGACCGGAAGTCCAGGATAT...  \n",
       "27117  CGCAAACTGGTGCGGAAGGCGGATATCGACCGGAAGTCCAGGATAT...  \n",
       "27118  CGCAAACTGGTGCGGAAGGCGGATATCGACCGGAAGTCCAGGATAT...  \n",
       "27119  CGCAAACTGGTGCGGAAGGCGGATATCGACCGGAAGTCCAGGATAT...  \n",
       "27120  CGCAAACTGGTGCGGAAGGCGGATATCGACCGGAAGTCCAGGATAT...  \n",
       "...                                                  ...  \n",
       "93432  CGCAAACTGGTGCGGAAGGCATCCGTAGACCAACCGGCCGATCCGT...  \n",
       "93433  CGCAAACTGGTGCGGAAGGCATCCGTAGACCAACCGGCCGATCCGT...  \n",
       "93434  CGCAAACTGGTGCGGAAGGCATCCGTAGACCAACCGGCCGATCCGT...  \n",
       "93435  CGCAAACTGGTGCGGAAGGCATCCGTAGACCAACCGGCCGATCCGT...  \n",
       "93436  CGCAAACTGGTGCGGAAGGCATCCGTAGACCAACCGGCCGATCCGT...  \n",
       "\n",
       "[66321 rows x 6 columns]"
      ]
     },
     "execution_count": 19,
     "metadata": {},
     "output_type": "execute_result"
    }
   ],
   "source": [
    "lib_amplified_match_df"
   ]
  },
  {
   "cell_type": "code",
   "execution_count": 23,
   "metadata": {},
   "outputs": [
    {
     "data": {
      "image/png": "[encoded data removed]",
      "text/plain": [
       "<Figure size 640x480 with 1 Axes>"
      ]
     },
     "metadata": {},
     "output_type": "display_data"
    }
   ],
   "source": [
    "# split by gene\n",
    "gene_2_amplified_match_df = {}\n",
    "for _i, _row in lib_amplified_match_df.iterrows():\n",
    "    _gene = _row['name'].split('_')[1]\n",
    "    #print(_gene)\n",
    "    if _gene not in gene_2_amplified_match_df:\n",
    "        gene_2_amplified_match_df[_gene] = [_row['mapped']]\n",
    "    else:\n",
    "        gene_2_amplified_match_df[_gene].append(_row['mapped'])\n",
    "plt.figure()\n",
    "gene_total_counts = [np.sum(_v)/np.mean(lib_amplified_match_df['mapped'])/len(_v) for _v in gene_2_amplified_match_df.values()]\n",
    "plt.bar(np.arange(len(gene_total_counts)), gene_total_counts, width=1, color='red')\n",
    "plt.xlabel('Genes')\n",
    "plt.ylabel('Normalized counts')\n",
    "#for _gene, _counts in gene_2_amplified_matches.items():\n",
    "#    plt.hist(_counts, bins=np.arange(0,100, 5), label=f\"{_gene}\")\n",
    "plt.show()\n",
    "      "
   ]
  },
  {
   "cell_type": "code",
   "execution_count": 24,
   "metadata": {},
   "outputs": [
    {
     "data": {
      "image/png": "[encoded data removed]",
      "text/plain": [
       "<Figure size 640x480 with 1 Axes>"
      ]
     },
     "metadata": {},
     "output_type": "display_data"
    }
   ],
   "source": [
    "# split by probe\n",
    "probe_2_amplified_matches = {}\n",
    "for _i, _row in lib_amplified_match_df.iterrows():\n",
    "    _probe = _row['name'].split('-')[-1]\n",
    "    if _probe not in probe_2_amplified_matches:\n",
    "        probe_2_amplified_matches[_probe] = [_row['mapped']]\n",
    "    else:\n",
    "        probe_2_amplified_matches[_probe].append(_row['mapped'])\n",
    "probes = [_k for _k in sorted(probe_2_amplified_matches.keys(), key=lambda v:int(v.split('_')[1]))]\n",
    "probe_total_counts = [np.sum(probe_2_amplified_matches[_p])/np.mean(lib_amplified_match_df['mapped'])/len(probe_2_amplified_matches[_p]) \n",
    "                      for _p in probes]\n",
    "\n",
    "plt.figure()\n",
    "plt.bar(np.arange(len(probe_total_counts))+1, probe_total_counts, width=1, color='red')\n",
    "plt.xlabel('Bits')\n",
    "plt.ylabel('Normalized counts')\n",
    "plt.title(f\"{library_name}_amplified\")\n",
    "#for _gene, _counts in gene_2_amplified_matches.items():\n",
    "#    plt.hist(_counts, bins=np.arange(0,100, 5), label=f\"{_gene}\")\n",
    "plt.show()"
   ]
  },
  {
   "cell_type": "code",
   "execution_count": null,
   "metadata": {},
   "outputs": [],
   "source": []
  }
 ],
 "metadata": {
  "kernelspec": {
   "display_name": "postanalysis",
   "language": "python",
   "name": "postanalysis"
  },
  "language_info": {
   "codemirror_mode": {
    "name": "ipython",
    "version": 3
   },
   "file_extension": ".py",
   "mimetype": "text/x-python",
   "name": "python",
   "nbconvert_exporter": "python",
   "pygments_lexer": "ipython3",
   "version": "3.10.12"
  }
 },
 "nbformat": 4,
 "nbformat_minor": 2
}
