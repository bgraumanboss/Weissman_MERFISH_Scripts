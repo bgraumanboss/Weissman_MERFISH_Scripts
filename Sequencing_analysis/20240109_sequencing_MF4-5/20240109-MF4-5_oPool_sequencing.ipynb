{
 "cells": [
  {
   "cell_type": "markdown",
   "metadata": {},
   "source": [
    "# PostAnalysis for sequencing of Merfish oligo pool\n",
    "\n",
    "by Pu Zheng\n",
    "\n",
    "2023.11.21"
   ]
  },
  {
   "cell_type": "code",
   "execution_count": 1,
   "metadata": {},
   "outputs": [
    {
     "name": "stdout",
     "output_type": "stream",
     "text": [
      "3972947\n"
     ]
    }
   ],
   "source": [
    "# Basic imports\n",
    "import os,sys,re\n",
    "from importlib import reload\n",
    "import numpy as np\n",
    "import pandas as pd\n",
    "#import torch\n",
    "print(os.getpid())"
   ]
  },
  {
   "cell_type": "code",
   "execution_count": 2,
   "metadata": {},
   "outputs": [],
   "source": [
    "# ChromAn related imports\n",
    "sys.path.append(r'/lab/weissman_imaging/puzheng/Softwares/') # parent folder of ChromAn\n",
    "import ImageAnalysis3 as ia3\n",
    "import h5py\n",
    "from ImageAnalysis3.classes import _allowed_kwds\n",
    "import ast\n",
    "from ChromAn.src import file_io\n",
    "\n",
    "from ChromAn.src.file_io import dax_process\n",
    "from ChromAn.src.file_io import data_organization\n",
    "from ChromAn.src.visual_tools import interactive\n",
    "from ChromAn.src.correction_tools.alignment import generate_drift_crops\n",
    "from ChromAn.src.spot_tools.match_spots import colocalize_spots\n",
    "\n",
    "import pickle\n",
    "\n",
    "import matplotlib.pyplot as plt\n",
    "plt.style.use('dark_background')"
   ]
  },
  {
   "cell_type": "code",
   "execution_count": null,
   "metadata": {},
   "outputs": [],
   "source": []
  },
  {
   "cell_type": "code",
   "execution_count": 3,
   "metadata": {},
   "outputs": [],
   "source": [
    "data_folder = r'/lab/solexa_weissman/PEtracing_shared/240109_Pu_MF_Probe_libs/Alignment_1/'\n",
    "analysis_folder = os.path.join(data_folder, 'Analysis')"
   ]
  },
  {
   "cell_type": "markdown",
   "metadata": {},
   "source": [
    "# load probes"
   ]
  },
  {
   "cell_type": "code",
   "execution_count": 5,
   "metadata": {},
   "outputs": [
    {
     "name": "stdout",
     "output_type": "stream",
     "text": [
      "/lab/solexa_weissman/PEtracing_shared/240109_Pu_MF_Probe_libs/Alignment_1/Analysis/Merged_probes.fasta\n",
      "168400\n"
     ]
    }
   ],
   "source": [
    "# Load probes:\n",
    "from Bio import SeqIO\n",
    "\n",
    "probe_filename = os.path.join(analysis_folder, 'Merged_probes.fasta')\n",
    "print(probe_filename)\n",
    "\n",
    "probes = []\n",
    "for record in SeqIO.parse(probe_filename, \"fasta\"):\n",
    "    probes.append(record)\n",
    "print(len(probes))"
   ]
  },
  {
   "cell_type": "code",
   "execution_count": 6,
   "metadata": {},
   "outputs": [
    {
     "data": {
      "text/html": [
       "<div>\n",
       "<style scoped>\n",
       "    .dataframe tbody tr th:only-of-type {\n",
       "        vertical-align: middle;\n",
       "    }\n",
       "\n",
       "    .dataframe tbody tr th {\n",
       "        vertical-align: top;\n",
       "    }\n",
       "\n",
       "    .dataframe thead th {\n",
       "        text-align: right;\n",
       "    }\n",
       "</style>\n",
       "<table border=\"1\" class=\"dataframe\">\n",
       "  <thead>\n",
       "    <tr style=\"text-align: right;\">\n",
       "      <th></th>\n",
       "      <th>name</th>\n",
       "      <th>sequence</th>\n",
       "    </tr>\n",
       "  </thead>\n",
       "  <tbody>\n",
       "    <tr>\n",
       "      <th>0</th>\n",
       "      <td>MF1_Igkc_ENSMUST00000103410.3_shift-0_GC-53.3_...</td>\n",
       "      <td>CCCGCAATGGCTGACAACCGGTCCTGTTCTTGTCGAGCGTGTCCTG...</td>\n",
       "    </tr>\n",
       "    <tr>\n",
       "      <th>1</th>\n",
       "      <td>MF1_Iglc2_ENSMUST00000103749.3_shift-0_GC-50.0...</td>\n",
       "      <td>CCCGCAATGGCTGACAACCGGTCCTGTTCTTGTCGAGCGTGTCCTG...</td>\n",
       "    </tr>\n",
       "    <tr>\n",
       "      <th>2</th>\n",
       "      <td>MF1_Il21_ENSMUST00000029273.8_shift-0_GC-56.6_...</td>\n",
       "      <td>CCCGCAATGGCTGACAACCGGTCCTGTTCTTGTCGAGCGTGTCCTG...</td>\n",
       "    </tr>\n",
       "    <tr>\n",
       "      <th>3</th>\n",
       "      <td>MF1_Xcl1_ENSMUST00000027860.8_shift-0_GC-53.3_...</td>\n",
       "      <td>CCCGCAATGGCTGACAACCGGTCCTGTTCTTGTCGAGCGTGTCCTG...</td>\n",
       "    </tr>\n",
       "    <tr>\n",
       "      <th>4</th>\n",
       "      <td>MF1_S100a10_ENSMUST00000148400.2_shift-0_GC-56...</td>\n",
       "      <td>CCCGCAATGGCTGACAACCGGTCCTGTTCTTGTCGAGCGTGTCCTG...</td>\n",
       "    </tr>\n",
       "    <tr>\n",
       "      <th>...</th>\n",
       "      <td>...</td>\n",
       "      <td>...</td>\n",
       "    </tr>\n",
       "    <tr>\n",
       "      <th>168395</th>\n",
       "      <td>fwd_W1B09_primer_20_target_Position23_RNF2_BC7...</td>\n",
       "      <td>TAGGCGTGTCGGCCAACCAGtaACCTGTCTTGGAGTAATGACtaCC...</td>\n",
       "    </tr>\n",
       "    <tr>\n",
       "      <th>168396</th>\n",
       "      <td>fwd_W1B09_primer_20_target_Position24_RNF2_BC8...</td>\n",
       "      <td>TAGGCGTGTCGGCCAACCAGtaACCTGTCGGAGTGTAATGACtaAT...</td>\n",
       "    </tr>\n",
       "    <tr>\n",
       "      <th>168397</th>\n",
       "      <td>fwd_W1B09_primer_20_target_Position0_EMX1_uned...</td>\n",
       "      <td>TAGGCGTGTCGGCCAACCAGtaTGGGAGCCCAAGTTCTTCTGtaAC...</td>\n",
       "    </tr>\n",
       "    <tr>\n",
       "      <th>168398</th>\n",
       "      <td>fwd_W1B09_primer_20_target_Position0_HEK3_uned...</td>\n",
       "      <td>TAGGCGTGTCGGCCAACCAGtaTCTGCCAAGTCGTGCTCAGTtaAA...</td>\n",
       "    </tr>\n",
       "    <tr>\n",
       "      <th>168399</th>\n",
       "      <td>fwd_W1B09_primer_20_target_Position0_RNF2_uned...</td>\n",
       "      <td>TAGGCGTGTCGGCCAACCAGtaAACACCTGTCGTAATGACTAtaTC...</td>\n",
       "    </tr>\n",
       "  </tbody>\n",
       "</table>\n",
       "<p>168400 rows × 2 columns</p>\n",
       "</div>"
      ],
      "text/plain": [
       "                                                     name  \\\n",
       "0       MF1_Igkc_ENSMUST00000103410.3_shift-0_GC-53.3_...   \n",
       "1       MF1_Iglc2_ENSMUST00000103749.3_shift-0_GC-50.0...   \n",
       "2       MF1_Il21_ENSMUST00000029273.8_shift-0_GC-56.6_...   \n",
       "3       MF1_Xcl1_ENSMUST00000027860.8_shift-0_GC-53.3_...   \n",
       "4       MF1_S100a10_ENSMUST00000148400.2_shift-0_GC-56...   \n",
       "...                                                   ...   \n",
       "168395  fwd_W1B09_primer_20_target_Position23_RNF2_BC7...   \n",
       "168396  fwd_W1B09_primer_20_target_Position24_RNF2_BC8...   \n",
       "168397  fwd_W1B09_primer_20_target_Position0_EMX1_uned...   \n",
       "168398  fwd_W1B09_primer_20_target_Position0_HEK3_uned...   \n",
       "168399  fwd_W1B09_primer_20_target_Position0_RNF2_uned...   \n",
       "\n",
       "                                                 sequence  \n",
       "0       CCCGCAATGGCTGACAACCGGTCCTGTTCTTGTCGAGCGTGTCCTG...  \n",
       "1       CCCGCAATGGCTGACAACCGGTCCTGTTCTTGTCGAGCGTGTCCTG...  \n",
       "2       CCCGCAATGGCTGACAACCGGTCCTGTTCTTGTCGAGCGTGTCCTG...  \n",
       "3       CCCGCAATGGCTGACAACCGGTCCTGTTCTTGTCGAGCGTGTCCTG...  \n",
       "4       CCCGCAATGGCTGACAACCGGTCCTGTTCTTGTCGAGCGTGTCCTG...  \n",
       "...                                                   ...  \n",
       "168395  TAGGCGTGTCGGCCAACCAGtaACCTGTCTTGGAGTAATGACtaCC...  \n",
       "168396  TAGGCGTGTCGGCCAACCAGtaACCTGTCGGAGTGTAATGACtaAT...  \n",
       "168397  TAGGCGTGTCGGCCAACCAGtaTGGGAGCCCAAGTTCTTCTGtaAC...  \n",
       "168398  TAGGCGTGTCGGCCAACCAGtaTCTGCCAAGTCGTGCTCAGTtaAA...  \n",
       "168399  TAGGCGTGTCGGCCAACCAGtaAACACCTGTCGTAATGACTAtaTC...  \n",
       "\n",
       "[168400 rows x 2 columns]"
      ]
     },
     "execution_count": 6,
     "metadata": {},
     "output_type": "execute_result"
    }
   ],
   "source": [
    "probe_df = pd.DataFrame({\n",
    "    'name':[ _pb.name for _pb in probes],\n",
    "    'sequence': [str(_pb.seq) for _pb in probes],\n",
    "})\n",
    "probe_df"
   ]
  },
  {
   "cell_type": "code",
   "execution_count": 42,
   "metadata": {},
   "outputs": [
    {
     "data": {
      "text/plain": [
       "['/lab/solexa_weissman/PEtracing_shared/240109_Pu_MF_Probe_libs/Alignment_1/20240110_071743/Fastq/Undetermined_S0_L001.idxstats',\n",
       " '/lab/solexa_weissman/PEtracing_shared/240109_Pu_MF_Probe_libs/Alignment_1/20240110_071743/Fastq/Twist-MF4-DNA_S4_L001.idxstats',\n",
       " '/lab/solexa_weissman/PEtracing_shared/240109_Pu_MF_Probe_libs/Alignment_1/20240110_071743/Fastq/PCR-MF5_S8_L001.idxstats',\n",
       " '/lab/solexa_weissman/PEtracing_shared/240109_Pu_MF_Probe_libs/Alignment_1/20240110_071743/Fastq/Amplified-MF4-DNA_S6_L001.idxstats',\n",
       " '/lab/solexa_weissman/PEtracing_shared/240109_Pu_MF_Probe_libs/Alignment_1/20240110_071743/Fastq/Amplified-24edits_S10_L001.idxstats',\n",
       " '/lab/solexa_weissman/PEtracing_shared/240109_Pu_MF_Probe_libs/Alignment_1/20240110_071743/Fastq/Amplified-MF4-16bit_S3_L001.idxstats',\n",
       " '/lab/solexa_weissman/PEtracing_shared/240109_Pu_MF_Probe_libs/Alignment_1/20240110_071743/Fastq/Twist-MF5_S7_L001.idxstats',\n",
       " '/lab/solexa_weissman/PEtracing_shared/240109_Pu_MF_Probe_libs/Alignment_1/20240110_071743/Fastq/PCR-MF4-DNA_S5_L001.idxstats',\n",
       " '/lab/solexa_weissman/PEtracing_shared/240109_Pu_MF_Probe_libs/Alignment_1/20240110_071743/Fastq/PCR-MF4-16bit_S2_L001.idxstats',\n",
       " '/lab/solexa_weissman/PEtracing_shared/240109_Pu_MF_Probe_libs/Alignment_1/20240110_071743/Fastq/Twist-MF4-16bit_S1_L001.idxstats',\n",
       " '/lab/solexa_weissman/PEtracing_shared/240109_Pu_MF_Probe_libs/Alignment_1/20240110_071743/Fastq/Amplified-MF5_S9_L001.idxstats']"
      ]
     },
     "execution_count": 42,
     "metadata": {},
     "output_type": "execute_result"
    }
   ],
   "source": [
    "# load analysis \n",
    "sequence_folder = os.path.join(data_folder, '20240110_071743', 'Fastq')\n",
    "alignment_stats = [os.path.join(sequence_folder, _f) for _f in os.listdir(sequence_folder) if '.idxstats' in _f]\n",
    "alignment_stats"
   ]
  },
  {
   "cell_type": "markdown",
   "metadata": {},
   "source": [
    "## MO4"
   ]
  },
  {
   "cell_type": "code",
   "execution_count": 18,
   "metadata": {},
   "outputs": [
    {
     "data": {
      "text/html": [
       "<div>\n",
       "<style scoped>\n",
       "    .dataframe tbody tr th:only-of-type {\n",
       "        vertical-align: middle;\n",
       "    }\n",
       "\n",
       "    .dataframe tbody tr th {\n",
       "        vertical-align: top;\n",
       "    }\n",
       "\n",
       "    .dataframe thead th {\n",
       "        text-align: right;\n",
       "    }\n",
       "</style>\n",
       "<table border=\"1\" class=\"dataframe\">\n",
       "  <thead>\n",
       "    <tr style=\"text-align: right;\">\n",
       "      <th></th>\n",
       "      <th>ref</th>\n",
       "      <th>length</th>\n",
       "      <th>mapped</th>\n",
       "      <th>unmapped</th>\n",
       "    </tr>\n",
       "  </thead>\n",
       "  <tbody>\n",
       "    <tr>\n",
       "      <th>0</th>\n",
       "      <td>MF1_Igkc_ENSMUST00000103410.3_shift-0_GC-53.3_...</td>\n",
       "      <td>150</td>\n",
       "      <td>0</td>\n",
       "      <td>0</td>\n",
       "    </tr>\n",
       "    <tr>\n",
       "      <th>1</th>\n",
       "      <td>MF1_Iglc2_ENSMUST00000103749.3_shift-0_GC-50.0...</td>\n",
       "      <td>150</td>\n",
       "      <td>0</td>\n",
       "      <td>0</td>\n",
       "    </tr>\n",
       "    <tr>\n",
       "      <th>2</th>\n",
       "      <td>MF1_Il21_ENSMUST00000029273.8_shift-0_GC-56.6_...</td>\n",
       "      <td>150</td>\n",
       "      <td>0</td>\n",
       "      <td>0</td>\n",
       "    </tr>\n",
       "    <tr>\n",
       "      <th>3</th>\n",
       "      <td>MF1_Xcl1_ENSMUST00000027860.8_shift-0_GC-53.3_...</td>\n",
       "      <td>150</td>\n",
       "      <td>0</td>\n",
       "      <td>0</td>\n",
       "    </tr>\n",
       "    <tr>\n",
       "      <th>4</th>\n",
       "      <td>MF1_S100a10_ENSMUST00000148400.2_shift-0_GC-56...</td>\n",
       "      <td>150</td>\n",
       "      <td>0</td>\n",
       "      <td>0</td>\n",
       "    </tr>\n",
       "    <tr>\n",
       "      <th>...</th>\n",
       "      <td>...</td>\n",
       "      <td>...</td>\n",
       "      <td>...</td>\n",
       "      <td>...</td>\n",
       "    </tr>\n",
       "    <tr>\n",
       "      <th>168396</th>\n",
       "      <td>fwd_W1B09_primer_20_target_Position24_RNF2_BC8...</td>\n",
       "      <td>152</td>\n",
       "      <td>1</td>\n",
       "      <td>0</td>\n",
       "    </tr>\n",
       "    <tr>\n",
       "      <th>168397</th>\n",
       "      <td>fwd_W1B09_primer_20_target_Position0_EMX1_uned...</td>\n",
       "      <td>152</td>\n",
       "      <td>1</td>\n",
       "      <td>0</td>\n",
       "    </tr>\n",
       "    <tr>\n",
       "      <th>168398</th>\n",
       "      <td>fwd_W1B09_primer_20_target_Position0_HEK3_uned...</td>\n",
       "      <td>152</td>\n",
       "      <td>1</td>\n",
       "      <td>0</td>\n",
       "    </tr>\n",
       "    <tr>\n",
       "      <th>168399</th>\n",
       "      <td>fwd_W1B09_primer_20_target_Position0_RNF2_uned...</td>\n",
       "      <td>152</td>\n",
       "      <td>6</td>\n",
       "      <td>0</td>\n",
       "    </tr>\n",
       "    <tr>\n",
       "      <th>168400</th>\n",
       "      <td>*</td>\n",
       "      <td>0</td>\n",
       "      <td>0</td>\n",
       "      <td>166682</td>\n",
       "    </tr>\n",
       "  </tbody>\n",
       "</table>\n",
       "<p>168401 rows × 4 columns</p>\n",
       "</div>"
      ],
      "text/plain": [
       "                                                      ref  length  mapped  \\\n",
       "0       MF1_Igkc_ENSMUST00000103410.3_shift-0_GC-53.3_...     150       0   \n",
       "1       MF1_Iglc2_ENSMUST00000103749.3_shift-0_GC-50.0...     150       0   \n",
       "2       MF1_Il21_ENSMUST00000029273.8_shift-0_GC-56.6_...     150       0   \n",
       "3       MF1_Xcl1_ENSMUST00000027860.8_shift-0_GC-53.3_...     150       0   \n",
       "4       MF1_S100a10_ENSMUST00000148400.2_shift-0_GC-56...     150       0   \n",
       "...                                                   ...     ...     ...   \n",
       "168396  fwd_W1B09_primer_20_target_Position24_RNF2_BC8...     152       1   \n",
       "168397  fwd_W1B09_primer_20_target_Position0_EMX1_uned...     152       1   \n",
       "168398  fwd_W1B09_primer_20_target_Position0_HEK3_uned...     152       1   \n",
       "168399  fwd_W1B09_primer_20_target_Position0_RNF2_uned...     152       6   \n",
       "168400                                                  *       0       0   \n",
       "\n",
       "        unmapped  \n",
       "0              0  \n",
       "1              0  \n",
       "2              0  \n",
       "3              0  \n",
       "4              0  \n",
       "...          ...  \n",
       "168396         0  \n",
       "168397         0  \n",
       "168398         0  \n",
       "168399         0  \n",
       "168400    166682  \n",
       "\n",
       "[168401 rows x 4 columns]"
      ]
     },
     "execution_count": 18,
     "metadata": {},
     "output_type": "execute_result"
    }
   ],
   "source": [
    "amplified_pool_stat"
   ]
  },
  {
   "cell_type": "code",
   "execution_count": 31,
   "metadata": {},
   "outputs": [
    {
     "data": {
      "text/html": [
       "<div>\n",
       "<style scoped>\n",
       "    .dataframe tbody tr th:only-of-type {\n",
       "        vertical-align: middle;\n",
       "    }\n",
       "\n",
       "    .dataframe tbody tr th {\n",
       "        vertical-align: top;\n",
       "    }\n",
       "\n",
       "    .dataframe thead th {\n",
       "        text-align: right;\n",
       "    }\n",
       "</style>\n",
       "<table border=\"1\" class=\"dataframe\">\n",
       "  <thead>\n",
       "    <tr style=\"text-align: right;\">\n",
       "      <th></th>\n",
       "      <th>name</th>\n",
       "      <th>sequence</th>\n",
       "    </tr>\n",
       "  </thead>\n",
       "  <tbody>\n",
       "    <tr>\n",
       "      <th>127389</th>\n",
       "      <td>MF4-4T1Primary16bit_Klrk1_ENSMUST00000032252.8...</td>\n",
       "      <td>CCCGCAATGGCTGACAACCGGAGGGTTTGTAAGGTGAATATGGGTG...</td>\n",
       "    </tr>\n",
       "    <tr>\n",
       "      <th>127390</th>\n",
       "      <td>MF4-4T1Primary16bit_Klrk1_ENSMUST00000032252.8...</td>\n",
       "      <td>CCCGCAATGGCTGACAACCGTGGGAGGATTGAGATGAGTTTGGGTG...</td>\n",
       "    </tr>\n",
       "    <tr>\n",
       "      <th>127391</th>\n",
       "      <td>MF4-4T1Primary16bit_Klrk1_ENSMUST00000032252.8...</td>\n",
       "      <td>CCCGCAATGGCTGACAACCGGGGTGGTTTAGTGTGTGTTTTTGGGA...</td>\n",
       "    </tr>\n",
       "    <tr>\n",
       "      <th>127392</th>\n",
       "      <td>MF4-4T1Primary16bit_Klrk1_ENSMUST00000032252.8...</td>\n",
       "      <td>CCCGCAATGGCTGACAACCGGGGTGGTTTAGTGTGTGTTTTGAGGG...</td>\n",
       "    </tr>\n",
       "    <tr>\n",
       "      <th>127393</th>\n",
       "      <td>MF4-4T1Primary16bit_Klrk1_ENSMUST00000032252.8...</td>\n",
       "      <td>CCCGCAATGGCTGACAACCGGGGTGGTTTAGTGTGTGTTTTATCGA...</td>\n",
       "    </tr>\n",
       "    <tr>\n",
       "      <th>...</th>\n",
       "      <td>...</td>\n",
       "      <td>...</td>\n",
       "    </tr>\n",
       "    <tr>\n",
       "      <th>139116</th>\n",
       "      <td>MF4-4T1Primary16bit_Klhl14_ENSMUST00000122333....</td>\n",
       "      <td>CCCGCAATGGCTGACAACCGATAGGAAATGGTGGTAGTGTTAGATC...</td>\n",
       "    </tr>\n",
       "    <tr>\n",
       "      <th>139117</th>\n",
       "      <td>MF4-4T1Primary16bit_Klhl14_ENSMUST00000122333....</td>\n",
       "      <td>CCCGCAATGGCTGACAACCGATAGGAAATGGTGGTAGTGTTAGAGT...</td>\n",
       "    </tr>\n",
       "    <tr>\n",
       "      <th>139118</th>\n",
       "      <td>MF4-4T1Primary16bit_Klhl14_ENSMUST00000122333....</td>\n",
       "      <td>CCCGCAATGGCTGACAACCGGGGATGTATTGAAGGAGGATTTGACC...</td>\n",
       "    </tr>\n",
       "    <tr>\n",
       "      <th>139119</th>\n",
       "      <td>MF4-4T1Primary16bit_Klhl14_ENSMUST00000122333....</td>\n",
       "      <td>CCCGCAATGGCTGACAACCGGGGATGTATTGAAGGAGGATTAGAGT...</td>\n",
       "    </tr>\n",
       "    <tr>\n",
       "      <th>139120</th>\n",
       "      <td>MF4-4T1Primary16bit_Klhl14_ENSMUST00000122333....</td>\n",
       "      <td>CCCGCAATGGCTGACAACCGATAGGAAATGGTGGTAGTGTTTGAAG...</td>\n",
       "    </tr>\n",
       "  </tbody>\n",
       "</table>\n",
       "<p>11732 rows × 2 columns</p>\n",
       "</div>"
      ],
      "text/plain": [
       "                                                     name  \\\n",
       "127389  MF4-4T1Primary16bit_Klrk1_ENSMUST00000032252.8...   \n",
       "127390  MF4-4T1Primary16bit_Klrk1_ENSMUST00000032252.8...   \n",
       "127391  MF4-4T1Primary16bit_Klrk1_ENSMUST00000032252.8...   \n",
       "127392  MF4-4T1Primary16bit_Klrk1_ENSMUST00000032252.8...   \n",
       "127393  MF4-4T1Primary16bit_Klrk1_ENSMUST00000032252.8...   \n",
       "...                                                   ...   \n",
       "139116  MF4-4T1Primary16bit_Klhl14_ENSMUST00000122333....   \n",
       "139117  MF4-4T1Primary16bit_Klhl14_ENSMUST00000122333....   \n",
       "139118  MF4-4T1Primary16bit_Klhl14_ENSMUST00000122333....   \n",
       "139119  MF4-4T1Primary16bit_Klhl14_ENSMUST00000122333....   \n",
       "139120  MF4-4T1Primary16bit_Klhl14_ENSMUST00000122333....   \n",
       "\n",
       "                                                 sequence  \n",
       "127389  CCCGCAATGGCTGACAACCGGAGGGTTTGTAAGGTGAATATGGGTG...  \n",
       "127390  CCCGCAATGGCTGACAACCGTGGGAGGATTGAGATGAGTTTGGGTG...  \n",
       "127391  CCCGCAATGGCTGACAACCGGGGTGGTTTAGTGTGTGTTTTTGGGA...  \n",
       "127392  CCCGCAATGGCTGACAACCGGGGTGGTTTAGTGTGTGTTTTGAGGG...  \n",
       "127393  CCCGCAATGGCTGACAACCGGGGTGGTTTAGTGTGTGTTTTATCGA...  \n",
       "...                                                   ...  \n",
       "139116  CCCGCAATGGCTGACAACCGATAGGAAATGGTGGTAGTGTTAGATC...  \n",
       "139117  CCCGCAATGGCTGACAACCGATAGGAAATGGTGGTAGTGTTAGAGT...  \n",
       "139118  CCCGCAATGGCTGACAACCGGGGATGTATTGAAGGAGGATTTGACC...  \n",
       "139119  CCCGCAATGGCTGACAACCGGGGATGTATTGAAGGAGGATTAGAGT...  \n",
       "139120  CCCGCAATGGCTGACAACCGATAGGAAATGGTGGTAGTGTTTGAAG...  \n",
       "\n",
       "[11732 rows x 2 columns]"
      ]
     },
     "execution_count": 31,
     "metadata": {},
     "output_type": "execute_result"
    }
   ],
   "source": [
    "lib_probe_df"
   ]
  },
  {
   "cell_type": "code",
   "execution_count": 63,
   "metadata": {},
   "outputs": [
    {
     "data": {
      "text/plain": [
       "11732"
      ]
     },
     "execution_count": 63,
     "metadata": {},
     "output_type": "execute_result"
    }
   ],
   "source": [
    "np.sum(library_kept_flag)"
   ]
  },
  {
   "cell_type": "code",
   "execution_count": 72,
   "metadata": {},
   "outputs": [
    {
     "data": {
      "text/plain": [
       "(11732, 1680909, 2906)"
      ]
     },
     "execution_count": 72,
     "metadata": {},
     "output_type": "execute_result"
    }
   ],
   "source": [
    "library_name = 'MF4-16bit'#'MF4-16bit'\n",
    "library_probe_name = 'MF4-4T1Primary16bit'\n",
    "\n",
    "library_kept_flag = [library_probe_name == _n.split('_')[0] for _n in probe_df['name']]\n",
    "lib_probe_df = probe_df.loc[np.array(library_kept_flag)]\n",
    "\n",
    "\n",
    "amplified_pool_stat = pd.read_table([_f for _f in alignment_stats \n",
    "                                     if library_name in _f and 'amplified' in _f.lower()][0],\n",
    "                                    header=None, names=['ref', 'length', 'mapped', 'unmapped'])\n",
    "\n",
    "lib_amplified_match_df = amplified_pool_stat.loc[\n",
    "    np.array(library_kept_flag + [False])\n",
    "]\n",
    "lib_amplified_match_df = pd.concat([lib_amplified_match_df, lib_probe_df], axis=1)\n",
    "len(lib_amplified_match_df), amplified_pool_stat['mapped'].sum(), amplified_pool_stat['unmapped'].sum()"
   ]
  },
  {
   "cell_type": "code",
   "execution_count": 73,
   "metadata": {},
   "outputs": [
    {
     "data": {
      "text/plain": [
       "(143.24795431299012, 0.0)"
      ]
     },
     "execution_count": 73,
     "metadata": {},
     "output_type": "execute_result"
    }
   ],
   "source": [
    "np.mean(lib_amplified_match_df['mapped']), np.sum(lib_amplified_match_df['mapped']==0) / len(lib_amplified_match_df)\n"
   ]
  },
  {
   "cell_type": "code",
   "execution_count": 77,
   "metadata": {},
   "outputs": [
    {
     "data": {
      "text/html": [
       "<div>\n",
       "<style scoped>\n",
       "    .dataframe tbody tr th:only-of-type {\n",
       "        vertical-align: middle;\n",
       "    }\n",
       "\n",
       "    .dataframe tbody tr th {\n",
       "        vertical-align: top;\n",
       "    }\n",
       "\n",
       "    .dataframe thead th {\n",
       "        text-align: right;\n",
       "    }\n",
       "</style>\n",
       "<table border=\"1\" class=\"dataframe\">\n",
       "  <thead>\n",
       "    <tr style=\"text-align: right;\">\n",
       "      <th></th>\n",
       "      <th>ref</th>\n",
       "      <th>length</th>\n",
       "      <th>mapped</th>\n",
       "      <th>unmapped</th>\n",
       "      <th>name</th>\n",
       "      <th>sequence</th>\n",
       "    </tr>\n",
       "  </thead>\n",
       "  <tbody>\n",
       "    <tr>\n",
       "      <th>127389</th>\n",
       "      <td>MF4-4T1Primary16bit_Klrk1_ENSMUST00000032252.8...</td>\n",
       "      <td>133</td>\n",
       "      <td>201</td>\n",
       "      <td>0</td>\n",
       "      <td>MF4-4T1Primary16bit_Klrk1_ENSMUST00000032252.8...</td>\n",
       "      <td>CCCGCAATGGCTGACAACCGGAGGGTTTGTAAGGTGAATATGGGTG...</td>\n",
       "    </tr>\n",
       "    <tr>\n",
       "      <th>127390</th>\n",
       "      <td>MF4-4T1Primary16bit_Klrk1_ENSMUST00000032252.8...</td>\n",
       "      <td>133</td>\n",
       "      <td>237</td>\n",
       "      <td>0</td>\n",
       "      <td>MF4-4T1Primary16bit_Klrk1_ENSMUST00000032252.8...</td>\n",
       "      <td>CCCGCAATGGCTGACAACCGTGGGAGGATTGAGATGAGTTTGGGTG...</td>\n",
       "    </tr>\n",
       "    <tr>\n",
       "      <th>127391</th>\n",
       "      <td>MF4-4T1Primary16bit_Klrk1_ENSMUST00000032252.8...</td>\n",
       "      <td>133</td>\n",
       "      <td>295</td>\n",
       "      <td>0</td>\n",
       "      <td>MF4-4T1Primary16bit_Klrk1_ENSMUST00000032252.8...</td>\n",
       "      <td>CCCGCAATGGCTGACAACCGGGGTGGTTTAGTGTGTGTTTTTGGGA...</td>\n",
       "    </tr>\n",
       "    <tr>\n",
       "      <th>127392</th>\n",
       "      <td>MF4-4T1Primary16bit_Klrk1_ENSMUST00000032252.8...</td>\n",
       "      <td>133</td>\n",
       "      <td>301</td>\n",
       "      <td>0</td>\n",
       "      <td>MF4-4T1Primary16bit_Klrk1_ENSMUST00000032252.8...</td>\n",
       "      <td>CCCGCAATGGCTGACAACCGGGGTGGTTTAGTGTGTGTTTTGAGGG...</td>\n",
       "    </tr>\n",
       "    <tr>\n",
       "      <th>127393</th>\n",
       "      <td>MF4-4T1Primary16bit_Klrk1_ENSMUST00000032252.8...</td>\n",
       "      <td>133</td>\n",
       "      <td>143</td>\n",
       "      <td>0</td>\n",
       "      <td>MF4-4T1Primary16bit_Klrk1_ENSMUST00000032252.8...</td>\n",
       "      <td>CCCGCAATGGCTGACAACCGGGGTGGTTTAGTGTGTGTTTTATCGA...</td>\n",
       "    </tr>\n",
       "    <tr>\n",
       "      <th>...</th>\n",
       "      <td>...</td>\n",
       "      <td>...</td>\n",
       "      <td>...</td>\n",
       "      <td>...</td>\n",
       "      <td>...</td>\n",
       "      <td>...</td>\n",
       "    </tr>\n",
       "    <tr>\n",
       "      <th>139116</th>\n",
       "      <td>MF4-4T1Primary16bit_Klhl14_ENSMUST00000122333....</td>\n",
       "      <td>133</td>\n",
       "      <td>151</td>\n",
       "      <td>0</td>\n",
       "      <td>MF4-4T1Primary16bit_Klhl14_ENSMUST00000122333....</td>\n",
       "      <td>CCCGCAATGGCTGACAACCGATAGGAAATGGTGGTAGTGTTAGATC...</td>\n",
       "    </tr>\n",
       "    <tr>\n",
       "      <th>139117</th>\n",
       "      <td>MF4-4T1Primary16bit_Klhl14_ENSMUST00000122333....</td>\n",
       "      <td>133</td>\n",
       "      <td>325</td>\n",
       "      <td>0</td>\n",
       "      <td>MF4-4T1Primary16bit_Klhl14_ENSMUST00000122333....</td>\n",
       "      <td>CCCGCAATGGCTGACAACCGATAGGAAATGGTGGTAGTGTTAGAGT...</td>\n",
       "    </tr>\n",
       "    <tr>\n",
       "      <th>139118</th>\n",
       "      <td>MF4-4T1Primary16bit_Klhl14_ENSMUST00000122333....</td>\n",
       "      <td>133</td>\n",
       "      <td>61</td>\n",
       "      <td>0</td>\n",
       "      <td>MF4-4T1Primary16bit_Klhl14_ENSMUST00000122333....</td>\n",
       "      <td>CCCGCAATGGCTGACAACCGGGGATGTATTGAAGGAGGATTTGACC...</td>\n",
       "    </tr>\n",
       "    <tr>\n",
       "      <th>139119</th>\n",
       "      <td>MF4-4T1Primary16bit_Klhl14_ENSMUST00000122333....</td>\n",
       "      <td>133</td>\n",
       "      <td>101</td>\n",
       "      <td>0</td>\n",
       "      <td>MF4-4T1Primary16bit_Klhl14_ENSMUST00000122333....</td>\n",
       "      <td>CCCGCAATGGCTGACAACCGGGGATGTATTGAAGGAGGATTAGAGT...</td>\n",
       "    </tr>\n",
       "    <tr>\n",
       "      <th>139120</th>\n",
       "      <td>MF4-4T1Primary16bit_Klhl14_ENSMUST00000122333....</td>\n",
       "      <td>133</td>\n",
       "      <td>236</td>\n",
       "      <td>0</td>\n",
       "      <td>MF4-4T1Primary16bit_Klhl14_ENSMUST00000122333....</td>\n",
       "      <td>CCCGCAATGGCTGACAACCGATAGGAAATGGTGGTAGTGTTTGAAG...</td>\n",
       "    </tr>\n",
       "  </tbody>\n",
       "</table>\n",
       "<p>11732 rows × 6 columns</p>\n",
       "</div>"
      ],
      "text/plain": [
       "                                                      ref  length  mapped  \\\n",
       "127389  MF4-4T1Primary16bit_Klrk1_ENSMUST00000032252.8...     133     201   \n",
       "127390  MF4-4T1Primary16bit_Klrk1_ENSMUST00000032252.8...     133     237   \n",
       "127391  MF4-4T1Primary16bit_Klrk1_ENSMUST00000032252.8...     133     295   \n",
       "127392  MF4-4T1Primary16bit_Klrk1_ENSMUST00000032252.8...     133     301   \n",
       "127393  MF4-4T1Primary16bit_Klrk1_ENSMUST00000032252.8...     133     143   \n",
       "...                                                   ...     ...     ...   \n",
       "139116  MF4-4T1Primary16bit_Klhl14_ENSMUST00000122333....     133     151   \n",
       "139117  MF4-4T1Primary16bit_Klhl14_ENSMUST00000122333....     133     325   \n",
       "139118  MF4-4T1Primary16bit_Klhl14_ENSMUST00000122333....     133      61   \n",
       "139119  MF4-4T1Primary16bit_Klhl14_ENSMUST00000122333....     133     101   \n",
       "139120  MF4-4T1Primary16bit_Klhl14_ENSMUST00000122333....     133     236   \n",
       "\n",
       "        unmapped                                               name  \\\n",
       "127389         0  MF4-4T1Primary16bit_Klrk1_ENSMUST00000032252.8...   \n",
       "127390         0  MF4-4T1Primary16bit_Klrk1_ENSMUST00000032252.8...   \n",
       "127391         0  MF4-4T1Primary16bit_Klrk1_ENSMUST00000032252.8...   \n",
       "127392         0  MF4-4T1Primary16bit_Klrk1_ENSMUST00000032252.8...   \n",
       "127393         0  MF4-4T1Primary16bit_Klrk1_ENSMUST00000032252.8...   \n",
       "...          ...                                                ...   \n",
       "139116         0  MF4-4T1Primary16bit_Klhl14_ENSMUST00000122333....   \n",
       "139117         0  MF4-4T1Primary16bit_Klhl14_ENSMUST00000122333....   \n",
       "139118         0  MF4-4T1Primary16bit_Klhl14_ENSMUST00000122333....   \n",
       "139119         0  MF4-4T1Primary16bit_Klhl14_ENSMUST00000122333....   \n",
       "139120         0  MF4-4T1Primary16bit_Klhl14_ENSMUST00000122333....   \n",
       "\n",
       "                                                 sequence  \n",
       "127389  CCCGCAATGGCTGACAACCGGAGGGTTTGTAAGGTGAATATGGGTG...  \n",
       "127390  CCCGCAATGGCTGACAACCGTGGGAGGATTGAGATGAGTTTGGGTG...  \n",
       "127391  CCCGCAATGGCTGACAACCGGGGTGGTTTAGTGTGTGTTTTTGGGA...  \n",
       "127392  CCCGCAATGGCTGACAACCGGGGTGGTTTAGTGTGTGTTTTGAGGG...  \n",
       "127393  CCCGCAATGGCTGACAACCGGGGTGGTTTAGTGTGTGTTTTATCGA...  \n",
       "...                                                   ...  \n",
       "139116  CCCGCAATGGCTGACAACCGATAGGAAATGGTGGTAGTGTTAGATC...  \n",
       "139117  CCCGCAATGGCTGACAACCGATAGGAAATGGTGGTAGTGTTAGAGT...  \n",
       "139118  CCCGCAATGGCTGACAACCGGGGATGTATTGAAGGAGGATTTGACC...  \n",
       "139119  CCCGCAATGGCTGACAACCGGGGATGTATTGAAGGAGGATTAGAGT...  \n",
       "139120  CCCGCAATGGCTGACAACCGATAGGAAATGGTGGTAGTGTTTGAAG...  \n",
       "\n",
       "[11732 rows x 6 columns]"
      ]
     },
     "execution_count": 77,
     "metadata": {},
     "output_type": "execute_result"
    }
   ],
   "source": [
    "lib_amplified_match_df"
   ]
  },
  {
   "cell_type": "code",
   "execution_count": 78,
   "metadata": {},
   "outputs": [
    {
     "data": {
      "text/plain": [
       "0"
      ]
     },
     "execution_count": 78,
     "metadata": {},
     "output_type": "execute_result"
    }
   ],
   "source": [
    "np.sum(lib_amplified_match_df['mapped']==0)"
   ]
  },
  {
   "cell_type": "code",
   "execution_count": 79,
   "metadata": {},
   "outputs": [
    {
     "data": {
      "image/png": "[encoded data removed]",
      "text/plain": [
       "<Figure size 640x480 with 1 Axes>"
      ]
     },
     "metadata": {},
     "output_type": "display_data"
    }
   ],
   "source": [
    "plt.figure()\n",
    "plt.hist(lib_amplified_match_df['mapped'].values / np.mean(lib_amplified_match_df['mapped']), \n",
    "         bins=np.arange(0,10, 0.2))\n",
    "plt.xlabel('normalized count')\n",
    "plt.ylabel('num probes')\n",
    "plt.title(f\"{library_name}_Amplified\")\n",
    "plt.show()"
   ]
  },
  {
   "cell_type": "code",
   "execution_count": 80,
   "metadata": {},
   "outputs": [
    {
     "data": {
      "text/plain": [
       "'Klrk1'"
      ]
     },
     "execution_count": 80,
     "metadata": {},
     "output_type": "execute_result"
    }
   ],
   "source": [
    "lib_amplified_match_df['name'].values[0].split('_')[1]"
   ]
  },
  {
   "cell_type": "code",
   "execution_count": 81,
   "metadata": {},
   "outputs": [
    {
     "data": {
      "image/png": "[encoded data removed]",
      "text/plain": [
       "<Figure size 640x480 with 1 Axes>"
      ]
     },
     "metadata": {},
     "output_type": "display_data"
    }
   ],
   "source": [
    "# split by gene\n",
    "gene_2_amplified_match_df = {}\n",
    "for _i, _row in lib_amplified_match_df.iterrows():\n",
    "    _gene = _row['name'].split('_')[1]\n",
    "    #print(_gene)\n",
    "    if _gene not in gene_2_amplified_match_df:\n",
    "        gene_2_amplified_match_df[_gene] = [_row['mapped']]\n",
    "    else:\n",
    "        gene_2_amplified_match_df[_gene].append(_row['mapped'])\n",
    "plt.figure()\n",
    "gene_total_counts = [np.sum(_v)/np.mean(lib_amplified_match_df['mapped'])/len(_v) for _v in gene_2_amplified_match_df.values()]\n",
    "plt.bar(np.arange(len(gene_total_counts)), gene_total_counts, width=1)\n",
    "plt.xlabel('Genes')\n",
    "plt.ylabel('Normalized counts')\n",
    "#for _gene, _counts in gene_2_amplified_matches.items():\n",
    "#    plt.hist(_counts, bins=np.arange(0,100, 5), label=f\"{_gene}\")\n",
    "plt.show()\n",
    "      "
   ]
  },
  {
   "cell_type": "code",
   "execution_count": 53,
   "metadata": {},
   "outputs": [
    {
     "data": {
      "image/png": "[encoded data removed]",
      "text/plain": [
       "<Figure size 640x480 with 1 Axes>"
      ]
     },
     "metadata": {},
     "output_type": "display_data"
    }
   ],
   "source": [
    "# split by probe\n",
    "probe_2_amplified_matches = {}\n",
    "for _i, _row in lib_amplified_match_df.iterrows():\n",
    "    _probe = _row['name'].split('-')[-1]\n",
    "    if _probe not in probe_2_amplified_matches:\n",
    "        probe_2_amplified_matches[_probe] = [_row['mapped']]\n",
    "    else:\n",
    "        probe_2_amplified_matches[_probe].append(_row['mapped'])\n",
    "#probes = [_k for _k in sorted(probe_2_amplified_matches.keys(), key=lambda v:int(v.split('_')[1]))]\n",
    "#probe_total_counts = [np.sum(probe_2_amplified_matches[_p])/np.mean(lib_amplified_match_df['mapped'])/len(probe_2_amplified_matches[_p]) \n",
    "#                      for _p in probes]\n",
    "\n",
    "import re\n",
    "res = re.findall(r'(RS[0-9]+)', lib_amplified_match_df['name'].values[0])\n",
    "readouts_2_amplified_pbs = {}\n",
    "for _ir, _row in lib_amplified_match_df.iterrows():\n",
    "    _ct = _row['mapped']\n",
    "    _readouts = re.findall(r'(RS[0-9]+)', _row['name'])\n",
    "    for _r in _readouts:\n",
    "        if _r not in readouts_2_amplified_pbs:\n",
    "            readouts_2_amplified_pbs[_r] = _ct\n",
    "        else:\n",
    "            readouts_2_amplified_pbs[_r] += _ct\n",
    "            \n",
    "probe_total_counts = [_v *22 / np.sum(list(readouts_2_amplified_pbs.values())) for _k,_v in sorted(readouts_2_amplified_pbs.items())][:22]\n",
    "\n",
    "plt.figure()\n",
    "plt.bar(np.arange(len(probe_total_counts))+1, probe_total_counts, width=1)\n",
    "plt.xlabel('Bits')\n",
    "plt.ylabel('Normalized counts')\n",
    "plt.title(f\"{library_name}_amplified\")\n",
    "#for _gene, _counts in gene_2_amplified_matches.items():\n",
    "#    plt.hist(_counts, bins=np.arange(0,100, 5), label=f\"{_gene}\")\n",
    "plt.show()"
   ]
  },
  {
   "cell_type": "markdown",
   "metadata": {},
   "source": [
    "## MF3 PCR\n"
   ]
  },
  {
   "cell_type": "code",
   "execution_count": 54,
   "metadata": {},
   "outputs": [
    {
     "data": {
      "text/plain": [
       "(23482, 602121, 3441)"
      ]
     },
     "execution_count": 54,
     "metadata": {},
     "output_type": "execute_result"
    }
   ],
   "source": [
    "\n",
    "lib_probe_df = probe_df.loc[\n",
    "    np.array([library_name in _n for _n in probe_df['name']])\n",
    "]\n",
    "\n",
    "twist_pool_stat = pd.read_table([_f for _f in alignment_stats if library_name in _f and 'twist' in _f.lower()][0],\n",
    "                                    header=None, names=['ref', 'length', 'mapped', 'unmapped'])\n",
    "lib_twist_match_df = twist_pool_stat.loc[\n",
    "    np.array([library_name in _n for _n in probe_df['name']]+[False])\n",
    "]\n",
    "lib_twist_match_df = pd.concat([lib_twist_match_df, lib_probe_df], axis=1)\n",
    "len(lib_twist_match_df), twist_pool_stat['mapped'].sum(), twist_pool_stat['unmapped'].sum()"
   ]
  },
  {
   "cell_type": "code",
   "execution_count": 55,
   "metadata": {},
   "outputs": [
    {
     "data": {
      "image/png": "[encoded data removed]",
      "text/plain": [
       "<Figure size 640x480 with 1 Axes>"
      ]
     },
     "metadata": {},
     "output_type": "display_data"
    }
   ],
   "source": [
    "plt.figure()\n",
    "plt.hist(lib_twist_match_df['mapped'].values / np.mean(lib_twist_match_df['mapped']), \n",
    "         bins=np.arange(0,10, 0.2))\n",
    "plt.xlabel('normalized count')\n",
    "plt.ylabel('num probes')\n",
    "plt.title(f\"{library_name}_twist\")\n",
    "plt.show()"
   ]
  },
  {
   "cell_type": "code",
   "execution_count": 71,
   "metadata": {},
   "outputs": [
    {
     "data": {
      "image/png": "[encoded data removed]",
      "text/plain": [
       "<Figure size 640x480 with 1 Axes>"
      ]
     },
     "metadata": {},
     "output_type": "display_data"
    }
   ],
   "source": [
    "# split by gene\n",
    "gene_2_twist_match_df = {}\n",
    "for _i, _row in lib_twist_match_df.iterrows():\n",
    "    _gene = _row['name'].split('_')[3]\n",
    "    #print(_gene)\n",
    "    if _gene not in gene_2_twist_match_df:\n",
    "        gene_2_twist_match_df[_gene] = [_row['mapped']]\n",
    "    else:\n",
    "        gene_2_twist_match_df[_gene].append(_row['mapped'])\n",
    "plt.figure()\n",
    "gene_total_counts = [np.sum(_v)/np.mean(lib_twist_match_df['mapped'])/len(_v) for _v in gene_2_twist_match_df.values()]\n",
    "plt.bar(np.arange(len(gene_total_counts)), gene_total_counts, width=1)\n",
    "plt.xlabel('Genes')\n",
    "plt.ylabel('Normalized counts')\n",
    "#for _gene, _counts in gene_2_twist_matches.items():\n",
    "#    plt.hist(_counts, bins=np.arange(0,100, 5), label=f\"{_gene}\")\n",
    "plt.show()\n",
    "      "
   ]
  },
  {
   "cell_type": "code",
   "execution_count": 72,
   "metadata": {},
   "outputs": [
    {
     "data": {
      "image/png": "[encoded data removed]",
      "text/plain": [
       "<Figure size 640x480 with 1 Axes>"
      ]
     },
     "metadata": {},
     "output_type": "display_data"
    }
   ],
   "source": [
    "# split by probe\n",
    "probe_2_twist_matches = {}\n",
    "for _i, _row in lib_twist_match_df.iterrows():\n",
    "    _probe = _row['name'].split('-')[-1]\n",
    "    if _probe not in probe_2_twist_matches:\n",
    "        probe_2_twist_matches[_probe] = [_row['mapped']]\n",
    "    else:\n",
    "        probe_2_twist_matches[_probe].append(_row['mapped'])\n",
    "#probes = [_k for _k in sorted(probe_2_twist_matches.keys(), key=lambda v:int(v.split('_')[1]))]\n",
    "#probe_total_counts = [np.sum(probe_2_twist_matches[_p])/np.mean(lib_twist_match_df['mapped'])/len(probe_2_twist_matches[_p]) \n",
    "#                      for _p in probes]\n",
    "\n",
    "import re\n",
    "res = re.findall(r'(RS[0-9]+)', lib_twist_match_df['name'].values[0])\n",
    "readouts_2_twist_pbs = {}\n",
    "for _ir, _row in lib_twist_match_df.iterrows():\n",
    "    _ct = _row['mapped']\n",
    "    _readouts = re.findall(r'(RS[0-9]+)', _row['name'])\n",
    "    for _r in _readouts:\n",
    "        if _r not in readouts_2_twist_pbs:\n",
    "            readouts_2_twist_pbs[_r] = _ct\n",
    "        else:\n",
    "            readouts_2_twist_pbs[_r] += _ct\n",
    "            \n",
    "probe_total_counts = [_v *22 / np.sum(list(readouts_2_twist_pbs.values())) for _k,_v in sorted(readouts_2_twist_pbs.items())][:22]\n",
    "\n",
    "plt.figure()\n",
    "plt.bar(np.arange(len(probe_total_counts))+1, probe_total_counts, width=1)\n",
    "plt.xlabel('Bits')\n",
    "plt.ylabel('Normalized counts')\n",
    "plt.title(f\"{library_name}_twist\")\n",
    "#for _gene, _counts in gene_2_twist_matches.items():\n",
    "#    plt.hist(_counts, bins=np.arange(0,100, 5), label=f\"{_gene}\")\n",
    "plt.show()"
   ]
  },
  {
   "cell_type": "markdown",
   "metadata": {},
   "source": [
    "# 24 Edits"
   ]
  },
  {
   "cell_type": "code",
   "execution_count": 83,
   "metadata": {},
   "outputs": [
    {
     "data": {
      "text/html": [
       "<div>\n",
       "<style scoped>\n",
       "    .dataframe tbody tr th:only-of-type {\n",
       "        vertical-align: middle;\n",
       "    }\n",
       "\n",
       "    .dataframe tbody tr th {\n",
       "        vertical-align: top;\n",
       "    }\n",
       "\n",
       "    .dataframe thead th {\n",
       "        text-align: right;\n",
       "    }\n",
       "</style>\n",
       "<table border=\"1\" class=\"dataframe\">\n",
       "  <thead>\n",
       "    <tr style=\"text-align: right;\">\n",
       "      <th></th>\n",
       "      <th>name</th>\n",
       "      <th>sequence</th>\n",
       "    </tr>\n",
       "  </thead>\n",
       "  <tbody>\n",
       "    <tr>\n",
       "      <th>0</th>\n",
       "      <td>MF1_Igkc_ENSMUST00000103410.3_shift-0_GC-53.3_...</td>\n",
       "      <td>CCCGCAATGGCTGACAACCGGTCCTGTTCTTGTCGAGCGTGTCCTG...</td>\n",
       "    </tr>\n",
       "    <tr>\n",
       "      <th>1</th>\n",
       "      <td>MF1_Iglc2_ENSMUST00000103749.3_shift-0_GC-50.0...</td>\n",
       "      <td>CCCGCAATGGCTGACAACCGGTCCTGTTCTTGTCGAGCGTGTCCTG...</td>\n",
       "    </tr>\n",
       "    <tr>\n",
       "      <th>2</th>\n",
       "      <td>MF1_Il21_ENSMUST00000029273.8_shift-0_GC-56.6_...</td>\n",
       "      <td>CCCGCAATGGCTGACAACCGGTCCTGTTCTTGTCGAGCGTGTCCTG...</td>\n",
       "    </tr>\n",
       "    <tr>\n",
       "      <th>3</th>\n",
       "      <td>MF1_Xcl1_ENSMUST00000027860.8_shift-0_GC-53.3_...</td>\n",
       "      <td>CCCGCAATGGCTGACAACCGGTCCTGTTCTTGTCGAGCGTGTCCTG...</td>\n",
       "    </tr>\n",
       "    <tr>\n",
       "      <th>4</th>\n",
       "      <td>MF1_S100a10_ENSMUST00000148400.2_shift-0_GC-56...</td>\n",
       "      <td>CCCGCAATGGCTGACAACCGGTCCTGTTCTTGTCGAGCGTGTCCTG...</td>\n",
       "    </tr>\n",
       "    <tr>\n",
       "      <th>...</th>\n",
       "      <td>...</td>\n",
       "      <td>...</td>\n",
       "    </tr>\n",
       "    <tr>\n",
       "      <th>168395</th>\n",
       "      <td>fwd_W1B09_primer_20_target_Position23_RNF2_BC7...</td>\n",
       "      <td>TAGGCGTGTCGGCCAACCAGtaACCTGTCTTGGAGTAATGACtaCC...</td>\n",
       "    </tr>\n",
       "    <tr>\n",
       "      <th>168396</th>\n",
       "      <td>fwd_W1B09_primer_20_target_Position24_RNF2_BC8...</td>\n",
       "      <td>TAGGCGTGTCGGCCAACCAGtaACCTGTCGGAGTGTAATGACtaAT...</td>\n",
       "    </tr>\n",
       "    <tr>\n",
       "      <th>168397</th>\n",
       "      <td>fwd_W1B09_primer_20_target_Position0_EMX1_uned...</td>\n",
       "      <td>TAGGCGTGTCGGCCAACCAGtaTGGGAGCCCAAGTTCTTCTGtaAC...</td>\n",
       "    </tr>\n",
       "    <tr>\n",
       "      <th>168398</th>\n",
       "      <td>fwd_W1B09_primer_20_target_Position0_HEK3_uned...</td>\n",
       "      <td>TAGGCGTGTCGGCCAACCAGtaTCTGCCAAGTCGTGCTCAGTtaAA...</td>\n",
       "    </tr>\n",
       "    <tr>\n",
       "      <th>168399</th>\n",
       "      <td>fwd_W1B09_primer_20_target_Position0_RNF2_uned...</td>\n",
       "      <td>TAGGCGTGTCGGCCAACCAGtaAACACCTGTCGTAATGACTAtaTC...</td>\n",
       "    </tr>\n",
       "  </tbody>\n",
       "</table>\n",
       "<p>168400 rows × 2 columns</p>\n",
       "</div>"
      ],
      "text/plain": [
       "                                                     name  \\\n",
       "0       MF1_Igkc_ENSMUST00000103410.3_shift-0_GC-53.3_...   \n",
       "1       MF1_Iglc2_ENSMUST00000103749.3_shift-0_GC-50.0...   \n",
       "2       MF1_Il21_ENSMUST00000029273.8_shift-0_GC-56.6_...   \n",
       "3       MF1_Xcl1_ENSMUST00000027860.8_shift-0_GC-53.3_...   \n",
       "4       MF1_S100a10_ENSMUST00000148400.2_shift-0_GC-56...   \n",
       "...                                                   ...   \n",
       "168395  fwd_W1B09_primer_20_target_Position23_RNF2_BC7...   \n",
       "168396  fwd_W1B09_primer_20_target_Position24_RNF2_BC8...   \n",
       "168397  fwd_W1B09_primer_20_target_Position0_EMX1_uned...   \n",
       "168398  fwd_W1B09_primer_20_target_Position0_HEK3_uned...   \n",
       "168399  fwd_W1B09_primer_20_target_Position0_RNF2_uned...   \n",
       "\n",
       "                                                 sequence  \n",
       "0       CCCGCAATGGCTGACAACCGGTCCTGTTCTTGTCGAGCGTGTCCTG...  \n",
       "1       CCCGCAATGGCTGACAACCGGTCCTGTTCTTGTCGAGCGTGTCCTG...  \n",
       "2       CCCGCAATGGCTGACAACCGGTCCTGTTCTTGTCGAGCGTGTCCTG...  \n",
       "3       CCCGCAATGGCTGACAACCGGTCCTGTTCTTGTCGAGCGTGTCCTG...  \n",
       "4       CCCGCAATGGCTGACAACCGGTCCTGTTCTTGTCGAGCGTGTCCTG...  \n",
       "...                                                   ...  \n",
       "168395  TAGGCGTGTCGGCCAACCAGtaACCTGTCTTGGAGTAATGACtaCC...  \n",
       "168396  TAGGCGTGTCGGCCAACCAGtaACCTGTCGGAGTGTAATGACtaAT...  \n",
       "168397  TAGGCGTGTCGGCCAACCAGtaTGGGAGCCCAAGTTCTTCTGtaAC...  \n",
       "168398  TAGGCGTGTCGGCCAACCAGtaTCTGCCAAGTCGTGCTCAGTtaAA...  \n",
       "168399  TAGGCGTGTCGGCCAACCAGtaAACACCTGTCGTAATGACTAtaTC...  \n",
       "\n",
       "[168400 rows x 2 columns]"
      ]
     },
     "execution_count": 83,
     "metadata": {},
     "output_type": "execute_result"
    }
   ],
   "source": [
    "probe_df"
   ]
  },
  {
   "cell_type": "code",
   "execution_count": 85,
   "metadata": {},
   "outputs": [
    {
     "data": {
      "text/plain": [
       "(27, 1726415, 2009)"
      ]
     },
     "execution_count": 85,
     "metadata": {},
     "output_type": "execute_result"
    }
   ],
   "source": [
    "library_name = '24edits'#'MF4-16bit'\n",
    "library_probe_name = 'fwd'\n",
    "\n",
    "library_kept_flag = [library_probe_name == _n.split('_')[0] for _n in probe_df['name']]\n",
    "lib_probe_df = probe_df.loc[np.array(library_kept_flag)]\n",
    "\n",
    "\n",
    "amplified_pool_stat = pd.read_table([_f for _f in alignment_stats \n",
    "                                     if library_name in _f and 'amplified' in _f.lower()][0],\n",
    "                                    header=None, names=['ref', 'length', 'mapped', 'unmapped'])\n",
    "\n",
    "lib_amplified_match_df = amplified_pool_stat.loc[\n",
    "    np.array(library_kept_flag + [False])\n",
    "]\n",
    "lib_amplified_match_df = pd.concat([lib_amplified_match_df, lib_probe_df], axis=1)\n",
    "len(lib_amplified_match_df), amplified_pool_stat['mapped'].sum(), amplified_pool_stat['unmapped'].sum()"
   ]
  },
  {
   "cell_type": "code",
   "execution_count": 106,
   "metadata": {},
   "outputs": [
    {
     "data": {
      "text/plain": [
       "'fwd_W1B09_primer_20_target_Position1_HEK3_BC1_CTATC_readouts_4xR25__NDB_643_rev_W1B10_primer_21'"
      ]
     },
     "execution_count": 106,
     "metadata": {},
     "output_type": "execute_result"
    }
   ],
   "source": [
    "lib_amplified_match_df.loc[168373, 'ref',]"
   ]
  },
  {
   "cell_type": "code",
   "execution_count": 86,
   "metadata": {},
   "outputs": [
    {
     "data": {
      "text/plain": [
       "(63928.555555555555, 0.0)"
      ]
     },
     "execution_count": 86,
     "metadata": {},
     "output_type": "execute_result"
    }
   ],
   "source": [
    "np.mean(lib_amplified_match_df['mapped']), np.sum(lib_amplified_match_df['mapped']==0) / len(lib_amplified_match_df)\n"
   ]
  },
  {
   "cell_type": "code",
   "execution_count": 110,
   "metadata": {},
   "outputs": [
    {
     "data": {
      "image/png": "[encoded data removed]",
      "text/plain": [
       "<Figure size 640x480 with 1 Axes>"
      ]
     },
     "metadata": {},
     "output_type": "display_data"
    }
   ],
   "source": [
    "plt.figure()\n",
    "plt.bar(np.arange(len(lib_amplified_match_df)), height=lib_amplified_match_df['mapped'],width=1,\n",
    "        )\n",
    "plt.xticks(np.arange(len(lib_amplified_match_df)), \n",
    "          [_r.split('target_Position')[1].split('_readouts')[0] for _r in lib_amplified_match_df['ref']],\n",
    "          rotation=90)\n",
    "plt.show()"
   ]
  },
  {
   "cell_type": "code",
   "execution_count": 112,
   "metadata": {},
   "outputs": [],
   "source": [
    "lib_amplified_match_df.to_csv(os.path.join(analysis_folder, '24edit_analyzed.csv'))"
   ]
  },
  {
   "cell_type": "code",
   "execution_count": null,
   "metadata": {},
   "outputs": [],
   "source": []
  }
 ],
 "metadata": {
  "kernelspec": {
   "display_name": "postanalysis",
   "language": "python",
   "name": "postanalysis"
  },
  "language_info": {
   "codemirror_mode": {
    "name": "ipython",
    "version": 3
   },
   "file_extension": ".py",
   "mimetype": "text/x-python",
   "name": "python",
   "nbconvert_exporter": "python",
   "pygments_lexer": "ipython3",
   "version": "3.10.12"
  }
 },
 "nbformat": 4,
 "nbformat_minor": 2
}
