{
 "cells": [
  {
   "cell_type": "code",
   "execution_count": 1,
   "id": "873da176-a6bb-4faa-98f2-3b9ef5a08016",
   "metadata": {
    "tags": []
   },
   "outputs": [
    {
     "name": "stdout",
     "output_type": "stream",
     "text": [
      "496671\n"
     ]
    }
   ],
   "source": [
    "# Basic imports\n",
    "import os,sys,re\n",
    "from importlib import reload\n",
    "import numpy as np\n",
    "import pandas as pd\n",
    "#import torch\n",
    "print(os.getpid())"
   ]
  },
  {
   "cell_type": "code",
   "execution_count": 2,
   "id": "6e2d55ff-9ee3-42e5-a6ab-3764d41f891d",
   "metadata": {
    "tags": []
   },
   "outputs": [],
   "source": [
    "# ChromAn related imports\n",
    "sys.path.append(r'/lab/weissman_imaging/puzheng/Softwares/') # parent folder of ChromAn\n",
    "import ImageAnalysis3 as ia3\n",
    "import h5py\n",
    "from ImageAnalysis3.classes import _allowed_kwds\n",
    "import ast\n",
    "from ChromAn.src import file_io\n",
    "\n",
    "from ChromAn.src.file_io import dax_process\n",
    "from ChromAn.src.file_io import data_organization\n",
    "from ChromAn.src.visual_tools import interactive\n",
    "from ChromAn.src.correction_tools.alignment import generate_drift_crops\n",
    "from ChromAn.src.spot_tools.match_spots import colocalize_spots\n",
    "\n",
    "import pickle\n",
    "\n",
    "import matplotlib.pyplot as plt"
   ]
  },
  {
   "cell_type": "markdown",
   "id": "8d290435-4e83-4cfb-812c-fc2011545b67",
   "metadata": {},
   "source": [
    "# Load sequencing analysis output"
   ]
  },
  {
   "cell_type": "code",
   "execution_count": 5,
   "id": "eab8e6f0-2156-4254-8f6e-fc3c02b6561d",
   "metadata": {
    "tags": []
   },
   "outputs": [],
   "source": [
    "data_folder = r'/lab/solexa_weissman/puzheng/Sequencing_data/231027_M01799_0469_000000000-L5YYM'\n",
    "analysis_folder = os.path.join(data_folder, 'Analysis')"
   ]
  },
  {
   "cell_type": "code",
   "execution_count": 40,
   "id": "97a5aaf2-bc7d-4f8b-b6c0-69e8061e14ca",
   "metadata": {
    "tags": []
   },
   "outputs": [
    {
     "name": "stdout",
     "output_type": "stream",
     "text": [
      "/lab/solexa_weissman/puzheng/Sequencing_data/231027_M01799_0469_000000000-L5YYM/Analysis/MF1-3.fasta\n",
      "127389\n"
     ]
    }
   ],
   "source": [
    "# Load probes:\n",
    "from Bio import SeqIO\n",
    "\n",
    "probe_filename = os.path.join(analysis_folder, 'MF1-3.fasta')\n",
    "print(probe_filename)\n",
    "\n",
    "probes = []\n",
    "for record in SeqIO.parse(probe_filename, \"fasta\"):\n",
    "    probes.append(record)\n",
    "print(len(probes))"
   ]
  },
  {
   "cell_type": "code",
   "execution_count": 41,
   "id": "906fe7a5-44b0-40e3-aa14-6c82228dc93b",
   "metadata": {
    "tags": []
   },
   "outputs": [
    {
     "data": {
      "text/html": [
       "<div>\n",
       "<style scoped>\n",
       "    .dataframe tbody tr th:only-of-type {\n",
       "        vertical-align: middle;\n",
       "    }\n",
       "\n",
       "    .dataframe tbody tr th {\n",
       "        vertical-align: top;\n",
       "    }\n",
       "\n",
       "    .dataframe thead th {\n",
       "        text-align: right;\n",
       "    }\n",
       "</style>\n",
       "<table border=\"1\" class=\"dataframe\">\n",
       "  <thead>\n",
       "    <tr style=\"text-align: right;\">\n",
       "      <th></th>\n",
       "      <th>name</th>\n",
       "      <th>sequence</th>\n",
       "    </tr>\n",
       "  </thead>\n",
       "  <tbody>\n",
       "    <tr>\n",
       "      <th>0</th>\n",
       "      <td>MF1_Igkc_ENSMUST00000103410.3_shift-0_GC-53.3_...</td>\n",
       "      <td>CCCGCAATGGCTGACAACCGGTCCTGTTCTTGTCGAGCGTGTCCTG...</td>\n",
       "    </tr>\n",
       "    <tr>\n",
       "      <th>1</th>\n",
       "      <td>MF1_Iglc2_ENSMUST00000103749.3_shift-0_GC-50.0...</td>\n",
       "      <td>CCCGCAATGGCTGACAACCGGTCCTGTTCTTGTCGAGCGTGTCCTG...</td>\n",
       "    </tr>\n",
       "    <tr>\n",
       "      <th>2</th>\n",
       "      <td>MF1_Il21_ENSMUST00000029273.8_shift-0_GC-56.6_...</td>\n",
       "      <td>CCCGCAATGGCTGACAACCGGTCCTGTTCTTGTCGAGCGTGTCCTG...</td>\n",
       "    </tr>\n",
       "    <tr>\n",
       "      <th>3</th>\n",
       "      <td>MF1_Xcl1_ENSMUST00000027860.8_shift-0_GC-53.3_...</td>\n",
       "      <td>CCCGCAATGGCTGACAACCGGTCCTGTTCTTGTCGAGCGTGTCCTG...</td>\n",
       "    </tr>\n",
       "    <tr>\n",
       "      <th>4</th>\n",
       "      <td>MF1_S100a10_ENSMUST00000148400.2_shift-0_GC-56...</td>\n",
       "      <td>CCCGCAATGGCTGACAACCGGTCCTGTTCTTGTCGAGCGTGTCCTG...</td>\n",
       "    </tr>\n",
       "    <tr>\n",
       "      <th>...</th>\n",
       "      <td>...</td>\n",
       "      <td>...</td>\n",
       "    </tr>\n",
       "    <tr>\n",
       "      <th>127384</th>\n",
       "      <td>MF3-msBrain-immune_Slc4a8_ENSMUST00000023776.1...</td>\n",
       "      <td>CCCGCAATGGCTGACAACCGCCCATGATCGTCCGATCTGGCCCATG...</td>\n",
       "    </tr>\n",
       "    <tr>\n",
       "      <th>127385</th>\n",
       "      <td>MF3-msBrain-immune_Mgam_ENSMUST00000238599.2_s...</td>\n",
       "      <td>CCCGCAATGGCTGACAACCGCCCATGATCGTCCGATCTGGCCCATG...</td>\n",
       "    </tr>\n",
       "    <tr>\n",
       "      <th>127386</th>\n",
       "      <td>MF3-msBrain-immune_Slc4a8_ENSMUST00000023776.1...</td>\n",
       "      <td>CCCGCAATGGCTGACAACCGCCCATGATCGTCCGATCTGGCCCATG...</td>\n",
       "    </tr>\n",
       "    <tr>\n",
       "      <th>127387</th>\n",
       "      <td>MF3-msBrain-immune_Zfp318_ENSMUST00000113481.9...</td>\n",
       "      <td>CCCGCAATGGCTGACAACCGCCCATGATCGTCCGATCTGGCCCATG...</td>\n",
       "    </tr>\n",
       "    <tr>\n",
       "      <th>127388</th>\n",
       "      <td>MF3-msBrain-immune_Zfp318_ENSMUST00000113481.9...</td>\n",
       "      <td>CCCGCAATGGCTGACAACCGCCCATGATCGTCCGATCTGGCCCATG...</td>\n",
       "    </tr>\n",
       "  </tbody>\n",
       "</table>\n",
       "<p>127389 rows × 2 columns</p>\n",
       "</div>"
      ],
      "text/plain": [
       "                                                     name  \\\n",
       "0       MF1_Igkc_ENSMUST00000103410.3_shift-0_GC-53.3_...   \n",
       "1       MF1_Iglc2_ENSMUST00000103749.3_shift-0_GC-50.0...   \n",
       "2       MF1_Il21_ENSMUST00000029273.8_shift-0_GC-56.6_...   \n",
       "3       MF1_Xcl1_ENSMUST00000027860.8_shift-0_GC-53.3_...   \n",
       "4       MF1_S100a10_ENSMUST00000148400.2_shift-0_GC-56...   \n",
       "...                                                   ...   \n",
       "127384  MF3-msBrain-immune_Slc4a8_ENSMUST00000023776.1...   \n",
       "127385  MF3-msBrain-immune_Mgam_ENSMUST00000238599.2_s...   \n",
       "127386  MF3-msBrain-immune_Slc4a8_ENSMUST00000023776.1...   \n",
       "127387  MF3-msBrain-immune_Zfp318_ENSMUST00000113481.9...   \n",
       "127388  MF3-msBrain-immune_Zfp318_ENSMUST00000113481.9...   \n",
       "\n",
       "                                                 sequence  \n",
       "0       CCCGCAATGGCTGACAACCGGTCCTGTTCTTGTCGAGCGTGTCCTG...  \n",
       "1       CCCGCAATGGCTGACAACCGGTCCTGTTCTTGTCGAGCGTGTCCTG...  \n",
       "2       CCCGCAATGGCTGACAACCGGTCCTGTTCTTGTCGAGCGTGTCCTG...  \n",
       "3       CCCGCAATGGCTGACAACCGGTCCTGTTCTTGTCGAGCGTGTCCTG...  \n",
       "4       CCCGCAATGGCTGACAACCGGTCCTGTTCTTGTCGAGCGTGTCCTG...  \n",
       "...                                                   ...  \n",
       "127384  CCCGCAATGGCTGACAACCGCCCATGATCGTCCGATCTGGCCCATG...  \n",
       "127385  CCCGCAATGGCTGACAACCGCCCATGATCGTCCGATCTGGCCCATG...  \n",
       "127386  CCCGCAATGGCTGACAACCGCCCATGATCGTCCGATCTGGCCCATG...  \n",
       "127387  CCCGCAATGGCTGACAACCGCCCATGATCGTCCGATCTGGCCCATG...  \n",
       "127388  CCCGCAATGGCTGACAACCGCCCATGATCGTCCGATCTGGCCCATG...  \n",
       "\n",
       "[127389 rows x 2 columns]"
      ]
     },
     "execution_count": 41,
     "metadata": {},
     "output_type": "execute_result"
    }
   ],
   "source": [
    "probe_df = pd.DataFrame({\n",
    "    'name':[ _pb.name for _pb in probes],\n",
    "    'sequence': [str(_pb.seq) for _pb in probes],\n",
    "})\n",
    "probe_df"
   ]
  },
  {
   "cell_type": "code",
   "execution_count": 24,
   "id": "9e0467ba-15ce-46d4-a481-9f3e841e3cbe",
   "metadata": {
    "tags": []
   },
   "outputs": [
    {
     "data": {
      "text/plain": [
       "['/lab/solexa_weissman/puzheng/Sequencing_data/231027_M01799_0469_000000000-L5YYM/20231028_082558/Fastq/MF2-amplified_S2_L001_stat.txt',\n",
       " '/lab/solexa_weissman/puzheng/Sequencing_data/231027_M01799_0469_000000000-L5YYM/20231028_082558/Fastq/MF1-amplified_S1_L001_stat.txt',\n",
       " '/lab/solexa_weissman/puzheng/Sequencing_data/231027_M01799_0469_000000000-L5YYM/20231028_082558/Fastq/MF3-amplified_S3_L001_stat.txt',\n",
       " '/lab/solexa_weissman/puzheng/Sequencing_data/231027_M01799_0469_000000000-L5YYM/20231028_082558/Fastq/MF2-twist_S5_L001_stat.txt',\n",
       " '/lab/solexa_weissman/puzheng/Sequencing_data/231027_M01799_0469_000000000-L5YYM/20231028_082558/Fastq/MF1-twist_S4_L001_stat.txt',\n",
       " '/lab/solexa_weissman/puzheng/Sequencing_data/231027_M01799_0469_000000000-L5YYM/20231028_082558/Fastq/MF3-twist_S6_L001_stat.txt']"
      ]
     },
     "execution_count": 24,
     "metadata": {},
     "output_type": "execute_result"
    }
   ],
   "source": [
    "# load analysis \n",
    "sequence_folder = os.path.join(data_folder, '20231028_082558', 'Fastq')\n",
    "alignment_stats = [os.path.join(sequence_folder, _f) for _f in os.listdir(sequence_folder) if 'stat.txt' in _f]\n",
    "alignment_stats"
   ]
  },
  {
   "cell_type": "markdown",
   "id": "3ba2e41b-0daa-4a45-bedf-5b14602efedb",
   "metadata": {
    "tags": []
   },
   "source": [
    "## MF1"
   ]
  },
  {
   "cell_type": "code",
   "execution_count": 128,
   "id": "e84f88d5-e984-4dfa-ad97-10ff1224a31d",
   "metadata": {
    "tags": []
   },
   "outputs": [
    {
     "data": {
      "text/plain": [
       "(27116, 648064, 170638)"
      ]
     },
     "execution_count": 128,
     "metadata": {},
     "output_type": "execute_result"
    }
   ],
   "source": [
    "# Analysis for MF1:\n",
    "library_name = 'MF1'\n",
    "amplified_pool_stat = pd.read_table([_f for _f in alignment_stats if library_name in _f and 'amplified' in _f][0],\n",
    "                                    header=None, names=['ref', 'length', 'mapped', 'unmapped'])\n",
    "lib_amplified_match_df = amplified_pool_stat.loc[\n",
    "    np.array([library_name in _n for _n in probe_df['name']]+[False])\n",
    "]\n",
    "len(lib_amplified_match_df), amplified_pool_stat['mapped'].sum(), amplified_pool_stat['unmapped'].sum()"
   ]
  },
  {
   "cell_type": "code",
   "execution_count": 129,
   "id": "0c7cfaca-4273-42c1-abfe-6c8503a8e8a7",
   "metadata": {
    "tags": []
   },
   "outputs": [
    {
     "data": {
      "text/plain": [
       "(23.677054137778434, 0.5813541820327482)"
      ]
     },
     "execution_count": 129,
     "metadata": {},
     "output_type": "execute_result"
    }
   ],
   "source": [
    "np.mean(lib_amplified_match_df['mapped']), np.sum(lib_amplified_match_df['mapped']==0) / len(lib_amplified_match_df)"
   ]
  },
  {
   "cell_type": "code",
   "execution_count": 130,
   "id": "11be259f-83e8-42c3-b3f4-15449cd96a3e",
   "metadata": {
    "tags": []
   },
   "outputs": [
    {
     "data": {
      "image/png": "[encoded data removed]",
      "text/plain": [
       "<Figure size 640x480 with 1 Axes>"
      ]
     },
     "metadata": {},
     "output_type": "display_data"
    }
   ],
   "source": [
    "plt.figure()\n",
    "plt.hist(lib_amplified_match_df['mapped'].values / np.mean(lib_amplified_match_df['mapped']), \n",
    "         bins=np.arange(0,10, 0.2))\n",
    "plt.xlabel('normalized count')\n",
    "plt.ylabel('num probes')\n",
    "plt.title(f\"{library_name}_Amplified\")\n",
    "plt.show()"
   ]
  },
  {
   "cell_type": "code",
   "execution_count": 131,
   "id": "3035a6e5-4c4e-4236-adc3-06d0847d6783",
   "metadata": {
    "tags": []
   },
   "outputs": [
    {
     "data": {
      "text/plain": [
       "(27116, 322808, 54365)"
      ]
     },
     "execution_count": 131,
     "metadata": {},
     "output_type": "execute_result"
    }
   ],
   "source": [
    "twist_pool_stat = pd.read_table([_f for _f in alignment_stats if library_name in _f and 'twist' in _f][0],\n",
    "                                    header=None, names=['ref', 'length', 'mapped', 'unmapped'])\n",
    "lib_twist_match_df = twist_pool_stat.loc[\n",
    "    np.array([library_name in _n for _n in probe_df['name']]+[False])\n",
    "]\n",
    "len(lib_twist_match_df), twist_pool_stat['mapped'].sum(), twist_pool_stat['unmapped'].sum()"
   ]
  },
  {
   "cell_type": "code",
   "execution_count": 132,
   "id": "819f856b-d786-47ca-9b9b-b5729c7e1246",
   "metadata": {
    "tags": []
   },
   "outputs": [
    {
     "data": {
      "text/plain": [
       "(11.770504499188672, 0.005089246201504647)"
      ]
     },
     "execution_count": 132,
     "metadata": {},
     "output_type": "execute_result"
    }
   ],
   "source": [
    "np.mean(lib_twist_match_df['mapped']), np.sum(lib_twist_match_df['mapped']==0) / len(lib_twist_match_df)"
   ]
  },
  {
   "cell_type": "code",
   "execution_count": 133,
   "id": "355db106-d4dd-44e6-87c1-7e248d9745ec",
   "metadata": {
    "tags": []
   },
   "outputs": [
    {
     "data": {
      "image/png": "[encoded data removed]",
      "text/plain": [
       "<Figure size 640x480 with 1 Axes>"
      ]
     },
     "metadata": {},
     "output_type": "display_data"
    }
   ],
   "source": [
    "plt.figure()\n",
    "plt.hist(lib_twist_match_df['mapped'].values / np.mean(lib_twist_match_df['mapped']), \n",
    "         bins=np.arange(0,10, 0.2))\n",
    "plt.xlabel('normalized count')\n",
    "plt.ylabel('num probes')\n",
    "plt.title(f\"{library_name}_Twist\")\n",
    "plt.show()"
   ]
  },
  {
   "cell_type": "markdown",
   "id": "134195e1-e510-4850-8198-0a54874df4b6",
   "metadata": {
    "tags": []
   },
   "source": [
    "## MF2"
   ]
  },
  {
   "cell_type": "code",
   "execution_count": 134,
   "id": "97da5303-841e-4b14-8a32-e0d73bcd8164",
   "metadata": {
    "tags": []
   },
   "outputs": [
    {
     "data": {
      "text/plain": [
       "(66321, 884232, 67592)"
      ]
     },
     "execution_count": 134,
     "metadata": {},
     "output_type": "execute_result"
    }
   ],
   "source": [
    "# Analysis for MF2:\n",
    "library_name = 'MF2'\n",
    "amplified_pool_stat = pd.read_table([_f for _f in alignment_stats if library_name in _f and 'amplified' in _f][0],\n",
    "                                    header=None, names=['ref', 'length', 'mapped', 'unmapped'])\n",
    "lib_amplified_match_df = amplified_pool_stat.loc[\n",
    "    np.array([library_name in _n for _n in probe_df['name']]+[False])\n",
    "]\n",
    "len(lib_amplified_match_df), amplified_pool_stat['mapped'].sum(), amplified_pool_stat['unmapped'].sum()"
   ]
  },
  {
   "cell_type": "code",
   "execution_count": 135,
   "id": "bad873f1-5ce9-46b1-a345-e3ba5998036d",
   "metadata": {
    "tags": []
   },
   "outputs": [
    {
     "data": {
      "text/plain": [
       "(13.319250312872242, 0.18678849836401742)"
      ]
     },
     "execution_count": 135,
     "metadata": {},
     "output_type": "execute_result"
    }
   ],
   "source": [
    "np.mean(lib_amplified_match_df['mapped']), np.sum(lib_amplified_match_df['mapped']==0) / len(lib_amplified_match_df)"
   ]
  },
  {
   "cell_type": "code",
   "execution_count": 136,
   "id": "2b1573fc-dc2c-4bb3-9d25-6398013c560a",
   "metadata": {
    "tags": []
   },
   "outputs": [
    {
     "data": {
      "image/png": "[encoded data removed]",
      "text/plain": [
       "<Figure size 640x480 with 1 Axes>"
      ]
     },
     "metadata": {},
     "output_type": "display_data"
    }
   ],
   "source": [
    "plt.figure()\n",
    "plt.hist(lib_amplified_match_df['mapped'].values / np.mean(lib_amplified_match_df['mapped']), \n",
    "         bins=np.arange(0,10, 0.2))\n",
    "plt.xlabel('normalized count')\n",
    "plt.ylabel('num probes')\n",
    "plt.title(f\"{library_name}_Amplified\")\n",
    "plt.show()"
   ]
  },
  {
   "cell_type": "code",
   "execution_count": 137,
   "id": "1bf8a585-e0ca-41c5-b5a9-4d77f7f89ea6",
   "metadata": {
    "tags": []
   },
   "outputs": [
    {
     "data": {
      "text/plain": [
       "(66321, 1090472, 72711)"
      ]
     },
     "execution_count": 137,
     "metadata": {},
     "output_type": "execute_result"
    }
   ],
   "source": [
    "# Analysis for MF1:\n",
    "twist_pool_stat = pd.read_table([_f for _f in alignment_stats if library_name in _f and 'twist' in _f][0],\n",
    "                                    header=None, names=['ref', 'length', 'mapped', 'unmapped'])\n",
    "lib_twist_match_df = twist_pool_stat.loc[\n",
    "    np.array([library_name in _n for _n in probe_df['name']]+[False])\n",
    "]\n",
    "len(lib_twist_match_df), twist_pool_stat['mapped'].sum(), twist_pool_stat['unmapped'].sum()"
   ]
  },
  {
   "cell_type": "code",
   "execution_count": 138,
   "id": "c6525ac8-5801-40e3-8e86-105c2c03512a",
   "metadata": {
    "tags": []
   },
   "outputs": [
    {
     "data": {
      "text/plain": [
       "(16.427421178812143, 0.00033171996803425764)"
      ]
     },
     "execution_count": 138,
     "metadata": {},
     "output_type": "execute_result"
    }
   ],
   "source": [
    "np.mean(lib_twist_match_df['mapped']), np.sum(lib_twist_match_df['mapped']==0) / len(lib_twist_match_df)"
   ]
  },
  {
   "cell_type": "code",
   "execution_count": 139,
   "id": "477ff516-3e7a-4c49-975e-3752f6dac82a",
   "metadata": {
    "tags": []
   },
   "outputs": [
    {
     "data": {
      "image/png": "[encoded data removed]",
      "text/plain": [
       "<Figure size 640x480 with 1 Axes>"
      ]
     },
     "metadata": {},
     "output_type": "display_data"
    }
   ],
   "source": [
    "plt.figure()\n",
    "plt.hist(lib_twist_match_df['mapped'].values / np.mean(lib_twist_match_df['mapped']), \n",
    "         bins=np.arange(0,10, 0.2))\n",
    "plt.xlabel('normalized count')\n",
    "plt.ylabel('num probes')\n",
    "plt.title(f\"{library_name}_Twist\")\n",
    "plt.show()"
   ]
  },
  {
   "cell_type": "code",
   "execution_count": null,
   "id": "eb2c137b-9df2-4f99-b4b2-a0daeeb28e13",
   "metadata": {
    "tags": []
   },
   "outputs": [],
   "source": []
  },
  {
   "cell_type": "markdown",
   "id": "efd588c1-fbb8-4e4f-ab7c-50e510cbdba1",
   "metadata": {
    "tags": []
   },
   "source": [
    "## MF3"
   ]
  },
  {
   "cell_type": "code",
   "execution_count": 140,
   "id": "7731e63c-958c-4841-a801-9f139f97558a",
   "metadata": {
    "tags": []
   },
   "outputs": [
    {
     "data": {
      "text/plain": [
       "(33952, 22164, 2150456)"
      ]
     },
     "execution_count": 140,
     "metadata": {},
     "output_type": "execute_result"
    }
   ],
   "source": [
    "# Analysis for MF2:\n",
    "library_name = 'MF3'\n",
    "amplified_pool_stat = pd.read_table([_f for _f in alignment_stats if library_name in _f and 'amplified' in _f][0],\n",
    "                                    header=None, names=['ref', 'length', 'mapped', 'unmapped'])\n",
    "lib_amplified_match_df = amplified_pool_stat.loc[\n",
    "    np.array([library_name in _n for _n in probe_df['name']]+[False])\n",
    "]\n",
    "len(lib_amplified_match_df), amplified_pool_stat['mapped'].sum(), amplified_pool_stat['unmapped'].sum()"
   ]
  },
  {
   "cell_type": "code",
   "execution_count": 141,
   "id": "de023d68-616e-43b2-8329-14e4072f9b82",
   "metadata": {
    "tags": []
   },
   "outputs": [
    {
     "data": {
      "text/plain": [
       "(0.5526036757775683, 0.8373586239396795)"
      ]
     },
     "execution_count": 141,
     "metadata": {},
     "output_type": "execute_result"
    }
   ],
   "source": [
    "np.mean(lib_amplified_match_df['mapped']), np.sum(lib_amplified_match_df['mapped']==0) / len(lib_amplified_match_df)"
   ]
  },
  {
   "cell_type": "code",
   "execution_count": 142,
   "id": "616e7841-a2e2-4d64-b8b8-19eaab764c06",
   "metadata": {
    "tags": []
   },
   "outputs": [
    {
     "data": {
      "image/png": "[encoded data removed]",
      "text/plain": [
       "<Figure size 640x480 with 1 Axes>"
      ]
     },
     "metadata": {},
     "output_type": "display_data"
    }
   ],
   "source": [
    "plt.figure()\n",
    "plt.hist(lib_amplified_match_df['mapped'].values / np.mean(lib_amplified_match_df['mapped']), \n",
    "         bins=np.arange(0,10, 0.2))\n",
    "plt.xlabel('normalized count')\n",
    "plt.ylabel('num probes')\n",
    "plt.title(f\"{library_name}_Amplified\")\n",
    "plt.show()"
   ]
  },
  {
   "cell_type": "code",
   "execution_count": 143,
   "id": "e3ff311d-5178-4040-8c25-27e241fa2fbe",
   "metadata": {
    "tags": []
   },
   "outputs": [
    {
     "data": {
      "text/plain": [
       "(33952, 535886, 48991)"
      ]
     },
     "execution_count": 143,
     "metadata": {},
     "output_type": "execute_result"
    }
   ],
   "source": [
    "# Analysis for MF1:\n",
    "twist_pool_stat = pd.read_table([_f for _f in alignment_stats if library_name in _f and 'twist' in _f][0],\n",
    "                                    header=None, names=['ref', 'length', 'mapped', 'unmapped'])\n",
    "lib_twist_match_df = twist_pool_stat.loc[\n",
    "    np.array([library_name in _n for _n in probe_df['name']]+[False])\n",
    "]\n",
    "len(lib_twist_match_df), twist_pool_stat['mapped'].sum(), twist_pool_stat['unmapped'].sum()"
   ]
  },
  {
   "cell_type": "code",
   "execution_count": 144,
   "id": "c8ad3532-2e78-44d3-b35a-d74f60435aea",
   "metadata": {
    "tags": []
   },
   "outputs": [
    {
     "data": {
      "text/plain": [
       "(15.693272855796419, 0.0006479736098020736)"
      ]
     },
     "execution_count": 144,
     "metadata": {},
     "output_type": "execute_result"
    }
   ],
   "source": [
    "np.mean(lib_twist_match_df['mapped']), np.sum(lib_twist_match_df['mapped']==0) / len(lib_twist_match_df)"
   ]
  },
  {
   "cell_type": "code",
   "execution_count": 145,
   "id": "b6bb989d-94c8-4e34-a695-5bac9c14f521",
   "metadata": {
    "tags": []
   },
   "outputs": [
    {
     "data": {
      "image/png": "[encoded data removed]",
      "text/plain": [
       "<Figure size 640x480 with 1 Axes>"
      ]
     },
     "metadata": {},
     "output_type": "display_data"
    }
   ],
   "source": [
    "plt.figure()\n",
    "plt.hist(lib_twist_match_df['mapped'].values / np.mean(lib_twist_match_df['mapped']), \n",
    "         bins=np.arange(0,10, 0.2))\n",
    "plt.xlabel('normalized count')\n",
    "plt.ylabel('num probes')\n",
    "plt.title(f\"{library_name}_Twist\")\n",
    "plt.show()"
   ]
  },
  {
   "cell_type": "code",
   "execution_count": null,
   "id": "01f384bf-0d58-4473-819a-e26449e19a3d",
   "metadata": {
    "tags": []
   },
   "outputs": [],
   "source": []
  }
 ],
 "metadata": {
  "kernelspec": {
   "display_name": "postanalysis",
   "language": "python",
   "name": "postanalysis"
  },
  "language_info": {
   "codemirror_mode": {
    "name": "ipython",
    "version": 3
   },
   "file_extension": ".py",
   "mimetype": "text/x-python",
   "name": "python",
   "nbconvert_exporter": "python",
   "pygments_lexer": "ipython3",
   "version": "3.10.12"
  }
 },
 "nbformat": 4,
 "nbformat_minor": 5
}
