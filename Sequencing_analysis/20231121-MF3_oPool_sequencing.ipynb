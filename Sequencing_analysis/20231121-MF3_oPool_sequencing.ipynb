{
 "cells": [
  {
   "cell_type": "markdown",
   "metadata": {},
   "source": [
    "# PostAnalysis for sequencing of Merfish oligo pool\n",
    "\n",
    "by Pu Zheng\n",
    "\n",
    "2023.11.21"
   ]
  },
  {
   "cell_type": "code",
   "execution_count": 23,
   "metadata": {},
   "outputs": [
    {
     "name": "stdout",
     "output_type": "stream",
     "text": [
      "877038\n"
     ]
    }
   ],
   "source": [
    "# Basic imports\n",
    "import os,sys,re\n",
    "from importlib import reload\n",
    "import numpy as np\n",
    "import pandas as pd\n",
    "#import torch\n",
    "print(os.getpid())"
   ]
  },
  {
   "cell_type": "code",
   "execution_count": 24,
   "metadata": {},
   "outputs": [],
   "source": [
    "# ChromAn related imports\n",
    "sys.path.append(r'/lab/weissman_imaging/puzheng/Softwares/') # parent folder of ChromAn\n",
    "import ImageAnalysis3 as ia3\n",
    "import h5py\n",
    "from ImageAnalysis3.classes import _allowed_kwds\n",
    "import ast\n",
    "from ChromAn.src import file_io\n",
    "\n",
    "from ChromAn.src.file_io import dax_process\n",
    "from ChromAn.src.file_io import data_organization\n",
    "from ChromAn.src.visual_tools import interactive\n",
    "from ChromAn.src.correction_tools.alignment import generate_drift_crops\n",
    "from ChromAn.src.spot_tools.match_spots import colocalize_spots\n",
    "\n",
    "import pickle\n",
    "\n",
    "import matplotlib.pyplot as plt"
   ]
  },
  {
   "cell_type": "code",
   "execution_count": 6,
   "metadata": {},
   "outputs": [],
   "source": [
    "data_folder = r'/lab/solexa_weissman/puzheng/Sequencing_data/231120_M01799_0478_000000000-KGY2N/'\n",
    "analysis_folder = os.path.join(data_folder, 'Analysis')"
   ]
  },
  {
   "cell_type": "markdown",
   "metadata": {},
   "source": [
    "# load probes"
   ]
  },
  {
   "cell_type": "code",
   "execution_count": 7,
   "metadata": {},
   "outputs": [
    {
     "name": "stdout",
     "output_type": "stream",
     "text": [
      "/lab/solexa_weissman/puzheng/Sequencing_data/231120_M01799_0478_000000000-KGY2N/Analysis/All_probes.fasta\n",
      "222042\n"
     ]
    }
   ],
   "source": [
    "# Load probes:\n",
    "from Bio import SeqIO\n",
    "\n",
    "probe_filename = os.path.join(analysis_folder, 'All_probes.fasta')\n",
    "print(probe_filename)\n",
    "\n",
    "probes = []\n",
    "for record in SeqIO.parse(probe_filename, \"fasta\"):\n",
    "    probes.append(record)\n",
    "print(len(probes))"
   ]
  },
  {
   "cell_type": "code",
   "execution_count": 8,
   "metadata": {},
   "outputs": [
    {
     "data": {
      "text/html": [
       "<div>\n",
       "<style scoped>\n",
       "    .dataframe tbody tr th:only-of-type {\n",
       "        vertical-align: middle;\n",
       "    }\n",
       "\n",
       "    .dataframe tbody tr th {\n",
       "        vertical-align: top;\n",
       "    }\n",
       "\n",
       "    .dataframe thead th {\n",
       "        text-align: right;\n",
       "    }\n",
       "</style>\n",
       "<table border=\"1\" class=\"dataframe\">\n",
       "  <thead>\n",
       "    <tr style=\"text-align: right;\">\n",
       "      <th></th>\n",
       "      <th>name</th>\n",
       "      <th>sequence</th>\n",
       "    </tr>\n",
       "  </thead>\n",
       "  <tbody>\n",
       "    <tr>\n",
       "      <th>0</th>\n",
       "      <td>MF1_Igkc_ENSMUST00000103410.3_shift-0_GC-53.3_...</td>\n",
       "      <td>CCCGCAATGGCTGACAACCGGTCCTGTTCTTGTCGAGCGTGTCCTG...</td>\n",
       "    </tr>\n",
       "    <tr>\n",
       "      <th>1</th>\n",
       "      <td>MF1_Iglc2_ENSMUST00000103749.3_shift-0_GC-50.0...</td>\n",
       "      <td>CCCGCAATGGCTGACAACCGGTCCTGTTCTTGTCGAGCGTGTCCTG...</td>\n",
       "    </tr>\n",
       "    <tr>\n",
       "      <th>2</th>\n",
       "      <td>MF1_Il21_ENSMUST00000029273.8_shift-0_GC-56.6_...</td>\n",
       "      <td>CCCGCAATGGCTGACAACCGGTCCTGTTCTTGTCGAGCGTGTCCTG...</td>\n",
       "    </tr>\n",
       "    <tr>\n",
       "      <th>3</th>\n",
       "      <td>MF1_Xcl1_ENSMUST00000027860.8_shift-0_GC-53.3_...</td>\n",
       "      <td>CCCGCAATGGCTGACAACCGGTCCTGTTCTTGTCGAGCGTGTCCTG...</td>\n",
       "    </tr>\n",
       "    <tr>\n",
       "      <th>4</th>\n",
       "      <td>MF1_S100a10_ENSMUST00000148400.2_shift-0_GC-56...</td>\n",
       "      <td>CCCGCAATGGCTGACAACCGGTCCTGTTCTTGTCGAGCGTGTCCTG...</td>\n",
       "    </tr>\n",
       "    <tr>\n",
       "      <th>...</th>\n",
       "      <td>...</td>\n",
       "      <td>...</td>\n",
       "    </tr>\n",
       "    <tr>\n",
       "      <th>222037</th>\n",
       "      <td>MO4_sequential_4326a528-01_Igfbp6__ENSMUST0000...</td>\n",
       "      <td>TAAGGTAGCTGTCGCCGCAGATGCTCCTGGCAGAGCACTGAGTGCT...</td>\n",
       "    </tr>\n",
       "    <tr>\n",
       "      <th>222038</th>\n",
       "      <td>MO4_sequential_4326a528-01_Igfbp6__ENSMUST0000...</td>\n",
       "      <td>TAAGGTAGCTGTCGCCGCAGAGAACGACACTGCTGCTTTCGGTAGA...</td>\n",
       "    </tr>\n",
       "    <tr>\n",
       "      <th>222039</th>\n",
       "      <td>MO4_sequential_4326a528-01_Igfbp6__ENSMUST0000...</td>\n",
       "      <td>TAAGGTAGCTGTCGCCGCAGACATTGCTTCACATACAGCTCAAATG...</td>\n",
       "    </tr>\n",
       "    <tr>\n",
       "      <th>222040</th>\n",
       "      <td>MO4_sequential_4326a528-01_Igfbp6__ENSMUST0000...</td>\n",
       "      <td>TAAGGTAGCTGTCGCCGCAGAAGACAGCCTCCGGCTTCTGTACAGC...</td>\n",
       "    </tr>\n",
       "    <tr>\n",
       "      <th>222041</th>\n",
       "      <td>MO4_sequential_4326a528-01_Igfbp6__ENSMUST0000...</td>\n",
       "      <td>TAAGGTAGCTGTCGCCGCAGATCGGAAGACCTCAGTCTGGAGCTGC...</td>\n",
       "    </tr>\n",
       "  </tbody>\n",
       "</table>\n",
       "<p>222042 rows × 2 columns</p>\n",
       "</div>"
      ],
      "text/plain": [
       "                                                     name  \\\n",
       "0       MF1_Igkc_ENSMUST00000103410.3_shift-0_GC-53.3_...   \n",
       "1       MF1_Iglc2_ENSMUST00000103749.3_shift-0_GC-50.0...   \n",
       "2       MF1_Il21_ENSMUST00000029273.8_shift-0_GC-56.6_...   \n",
       "3       MF1_Xcl1_ENSMUST00000027860.8_shift-0_GC-53.3_...   \n",
       "4       MF1_S100a10_ENSMUST00000148400.2_shift-0_GC-56...   \n",
       "...                                                   ...   \n",
       "222037  MO4_sequential_4326a528-01_Igfbp6__ENSMUST0000...   \n",
       "222038  MO4_sequential_4326a528-01_Igfbp6__ENSMUST0000...   \n",
       "222039  MO4_sequential_4326a528-01_Igfbp6__ENSMUST0000...   \n",
       "222040  MO4_sequential_4326a528-01_Igfbp6__ENSMUST0000...   \n",
       "222041  MO4_sequential_4326a528-01_Igfbp6__ENSMUST0000...   \n",
       "\n",
       "                                                 sequence  \n",
       "0       CCCGCAATGGCTGACAACCGGTCCTGTTCTTGTCGAGCGTGTCCTG...  \n",
       "1       CCCGCAATGGCTGACAACCGGTCCTGTTCTTGTCGAGCGTGTCCTG...  \n",
       "2       CCCGCAATGGCTGACAACCGGTCCTGTTCTTGTCGAGCGTGTCCTG...  \n",
       "3       CCCGCAATGGCTGACAACCGGTCCTGTTCTTGTCGAGCGTGTCCTG...  \n",
       "4       CCCGCAATGGCTGACAACCGGTCCTGTTCTTGTCGAGCGTGTCCTG...  \n",
       "...                                                   ...  \n",
       "222037  TAAGGTAGCTGTCGCCGCAGATGCTCCTGGCAGAGCACTGAGTGCT...  \n",
       "222038  TAAGGTAGCTGTCGCCGCAGAGAACGACACTGCTGCTTTCGGTAGA...  \n",
       "222039  TAAGGTAGCTGTCGCCGCAGACATTGCTTCACATACAGCTCAAATG...  \n",
       "222040  TAAGGTAGCTGTCGCCGCAGAAGACAGCCTCCGGCTTCTGTACAGC...  \n",
       "222041  TAAGGTAGCTGTCGCCGCAGATCGGAAGACCTCAGTCTGGAGCTGC...  \n",
       "\n",
       "[222042 rows x 2 columns]"
      ]
     },
     "execution_count": 8,
     "metadata": {},
     "output_type": "execute_result"
    }
   ],
   "source": [
    "probe_df = pd.DataFrame({\n",
    "    'name':[ _pb.name for _pb in probes],\n",
    "    'sequence': [str(_pb.seq) for _pb in probes],\n",
    "})\n",
    "probe_df"
   ]
  },
  {
   "cell_type": "code",
   "execution_count": 9,
   "metadata": {},
   "outputs": [
    {
     "data": {
      "text/plain": [
       "['/lab/solexa_weissman/puzheng/Sequencing_data/231120_M01799_0478_000000000-KGY2N/20231121_081440/Fastq/Amplified-MF2_S6_L001.idxstats',\n",
       " '/lab/solexa_weissman/puzheng/Sequencing_data/231120_M01799_0478_000000000-KGY2N/20231121_081440/Fastq/Amplified-MO4_S4_L001.idxstats',\n",
       " '/lab/solexa_weissman/puzheng/Sequencing_data/231120_M01799_0478_000000000-KGY2N/20231121_081440/Fastq/Amplified-IntBC-30no_S5_L001.idxstats',\n",
       " '/lab/solexa_weissman/puzheng/Sequencing_data/231120_M01799_0478_000000000-KGY2N/20231121_081440/Fastq/Amplified-MF3_S2_L001.idxstats',\n",
       " '/lab/solexa_weissman/puzheng/Sequencing_data/231120_M01799_0478_000000000-KGY2N/20231121_081440/Fastq/PCR-MF3_S1_L001.idxstats',\n",
       " '/lab/solexa_weissman/puzheng/Sequencing_data/231120_M01799_0478_000000000-KGY2N/20231121_081440/Fastq/Twist-MO4_S3_L001.idxstats']"
      ]
     },
     "execution_count": 9,
     "metadata": {},
     "output_type": "execute_result"
    }
   ],
   "source": [
    "# load analysis \n",
    "sequence_folder = os.path.join(data_folder, '20231121_081440', 'Fastq')\n",
    "alignment_stats = [os.path.join(sequence_folder, _f) for _f in os.listdir(sequence_folder) if '.idxstats' in _f]\n",
    "alignment_stats"
   ]
  },
  {
   "cell_type": "markdown",
   "metadata": {},
   "source": [
    "## MF3"
   ]
  },
  {
   "cell_type": "code",
   "execution_count": 10,
   "metadata": {},
   "outputs": [
    {
     "data": {
      "text/plain": [
       "(33952, 1687382, 255574)"
      ]
     },
     "execution_count": 10,
     "metadata": {},
     "output_type": "execute_result"
    }
   ],
   "source": [
    "library_name = 'MF3'\n",
    "\n",
    "lib_probe_df = probe_df.loc[\n",
    "    np.array([library_name in _n for _n in probe_df['name']])\n",
    "]\n",
    "\n",
    "amplified_pool_stat = pd.read_table([_f for _f in alignment_stats if library_name in _f and 'amplified' in _f.lower()][0],\n",
    "                                    header=None, names=['ref', 'length', 'mapped', 'unmapped'])\n",
    "lib_amplified_match_df = amplified_pool_stat.loc[\n",
    "    np.array([library_name in _n for _n in probe_df['name']]+[False])\n",
    "]\n",
    "lib_amplified_match_df = pd.concat([lib_amplified_match_df, lib_probe_df], axis=1)\n",
    "len(lib_amplified_match_df), amplified_pool_stat['mapped'].sum(), amplified_pool_stat['unmapped'].sum()"
   ]
  },
  {
   "cell_type": "code",
   "execution_count": 11,
   "metadata": {},
   "outputs": [
    {
     "data": {
      "text/plain": [
       "(49.5631479736098, 0.0004123468426013195)"
      ]
     },
     "execution_count": 11,
     "metadata": {},
     "output_type": "execute_result"
    }
   ],
   "source": [
    "np.mean(lib_amplified_match_df['mapped']), np.sum(lib_amplified_match_df['mapped']==0) / len(lib_amplified_match_df)"
   ]
  },
  {
   "cell_type": "code",
   "execution_count": 12,
   "metadata": {},
   "outputs": [
    {
     "data": {
      "image/png": "[encoded data removed]",
      "text/plain": [
       "<Figure size 640x480 with 1 Axes>"
      ]
     },
     "metadata": {},
     "output_type": "display_data"
    }
   ],
   "source": [
    "plt.figure()\n",
    "plt.hist(lib_amplified_match_df['mapped'].values / np.mean(lib_amplified_match_df['mapped']), \n",
    "         bins=np.arange(0,10, 0.2))\n",
    "plt.xlabel('normalized count')\n",
    "plt.ylabel('num probes')\n",
    "plt.title(f\"{library_name}_Amplified\")\n",
    "plt.show()"
   ]
  },
  {
   "cell_type": "code",
   "execution_count": 13,
   "metadata": {},
   "outputs": [
    {
     "data": {
      "text/html": [
       "<div>\n",
       "<style scoped>\n",
       "    .dataframe tbody tr th:only-of-type {\n",
       "        vertical-align: middle;\n",
       "    }\n",
       "\n",
       "    .dataframe tbody tr th {\n",
       "        vertical-align: top;\n",
       "    }\n",
       "\n",
       "    .dataframe thead th {\n",
       "        text-align: right;\n",
       "    }\n",
       "</style>\n",
       "<table border=\"1\" class=\"dataframe\">\n",
       "  <thead>\n",
       "    <tr style=\"text-align: right;\">\n",
       "      <th></th>\n",
       "      <th>ref</th>\n",
       "      <th>length</th>\n",
       "      <th>mapped</th>\n",
       "      <th>unmapped</th>\n",
       "      <th>name</th>\n",
       "      <th>sequence</th>\n",
       "    </tr>\n",
       "  </thead>\n",
       "  <tbody>\n",
       "    <tr>\n",
       "      <th>93437</th>\n",
       "      <td>MF3-msBrain-immune_Idh3g_ENSMUST00000156299.8_...</td>\n",
       "      <td>150</td>\n",
       "      <td>75</td>\n",
       "      <td>0</td>\n",
       "      <td>MF3-msBrain-immune_Idh3g_ENSMUST00000156299.8_...</td>\n",
       "      <td>CCCGCAATGGCTGACAACCGGTCCTGTTCTTGTCGAGCGTGTCCTG...</td>\n",
       "    </tr>\n",
       "    <tr>\n",
       "      <th>93438</th>\n",
       "      <td>MF3-msBrain-immune_Fcrla_ENSMUST00000046322.14...</td>\n",
       "      <td>150</td>\n",
       "      <td>40</td>\n",
       "      <td>0</td>\n",
       "      <td>MF3-msBrain-immune_Fcrla_ENSMUST00000046322.14...</td>\n",
       "      <td>CCCGCAATGGCTGACAACCGGTCCTGTTCTTGTCGAGCGTGTCCTG...</td>\n",
       "    </tr>\n",
       "    <tr>\n",
       "      <th>93439</th>\n",
       "      <td>MF3-msBrain-immune_Gimap1_ENSMUST00000203797.2...</td>\n",
       "      <td>150</td>\n",
       "      <td>53</td>\n",
       "      <td>0</td>\n",
       "      <td>MF3-msBrain-immune_Gimap1_ENSMUST00000203797.2...</td>\n",
       "      <td>CCCGCAATGGCTGACAACCGGTCCTGTTCTTGTCGAGCGTGTCCTG...</td>\n",
       "    </tr>\n",
       "    <tr>\n",
       "      <th>93440</th>\n",
       "      <td>MF3-msBrain-immune_Csmd3_ENSMUST00000162830.8_...</td>\n",
       "      <td>150</td>\n",
       "      <td>28</td>\n",
       "      <td>0</td>\n",
       "      <td>MF3-msBrain-immune_Csmd3_ENSMUST00000162830.8_...</td>\n",
       "      <td>CCCGCAATGGCTGACAACCGGTCCTGTTCTTGTCGAGCGTGTCCTG...</td>\n",
       "    </tr>\n",
       "    <tr>\n",
       "      <th>93441</th>\n",
       "      <td>MF3-msBrain-immune_Gna15_ENSMUST00000043709.8_...</td>\n",
       "      <td>150</td>\n",
       "      <td>65</td>\n",
       "      <td>0</td>\n",
       "      <td>MF3-msBrain-immune_Gna15_ENSMUST00000043709.8_...</td>\n",
       "      <td>CCCGCAATGGCTGACAACCGGTCCTGTTCTTGTCGAGCGTGTCCTG...</td>\n",
       "    </tr>\n",
       "    <tr>\n",
       "      <th>...</th>\n",
       "      <td>...</td>\n",
       "      <td>...</td>\n",
       "      <td>...</td>\n",
       "      <td>...</td>\n",
       "      <td>...</td>\n",
       "      <td>...</td>\n",
       "    </tr>\n",
       "    <tr>\n",
       "      <th>127384</th>\n",
       "      <td>MF3-msBrain-immune_Slc4a8_ENSMUST00000023776.1...</td>\n",
       "      <td>150</td>\n",
       "      <td>37</td>\n",
       "      <td>0</td>\n",
       "      <td>MF3-msBrain-immune_Slc4a8_ENSMUST00000023776.1...</td>\n",
       "      <td>CCCGCAATGGCTGACAACCGCCCATGATCGTCCGATCTGGCCCATG...</td>\n",
       "    </tr>\n",
       "    <tr>\n",
       "      <th>127385</th>\n",
       "      <td>MF3-msBrain-immune_Mgam_ENSMUST00000238599.2_s...</td>\n",
       "      <td>150</td>\n",
       "      <td>15</td>\n",
       "      <td>0</td>\n",
       "      <td>MF3-msBrain-immune_Mgam_ENSMUST00000238599.2_s...</td>\n",
       "      <td>CCCGCAATGGCTGACAACCGCCCATGATCGTCCGATCTGGCCCATG...</td>\n",
       "    </tr>\n",
       "    <tr>\n",
       "      <th>127386</th>\n",
       "      <td>MF3-msBrain-immune_Slc4a8_ENSMUST00000023776.1...</td>\n",
       "      <td>150</td>\n",
       "      <td>49</td>\n",
       "      <td>0</td>\n",
       "      <td>MF3-msBrain-immune_Slc4a8_ENSMUST00000023776.1...</td>\n",
       "      <td>CCCGCAATGGCTGACAACCGCCCATGATCGTCCGATCTGGCCCATG...</td>\n",
       "    </tr>\n",
       "    <tr>\n",
       "      <th>127387</th>\n",
       "      <td>MF3-msBrain-immune_Zfp318_ENSMUST00000113481.9...</td>\n",
       "      <td>150</td>\n",
       "      <td>33</td>\n",
       "      <td>0</td>\n",
       "      <td>MF3-msBrain-immune_Zfp318_ENSMUST00000113481.9...</td>\n",
       "      <td>CCCGCAATGGCTGACAACCGCCCATGATCGTCCGATCTGGCCCATG...</td>\n",
       "    </tr>\n",
       "    <tr>\n",
       "      <th>127388</th>\n",
       "      <td>MF3-msBrain-immune_Zfp318_ENSMUST00000113481.9...</td>\n",
       "      <td>150</td>\n",
       "      <td>28</td>\n",
       "      <td>0</td>\n",
       "      <td>MF3-msBrain-immune_Zfp318_ENSMUST00000113481.9...</td>\n",
       "      <td>CCCGCAATGGCTGACAACCGCCCATGATCGTCCGATCTGGCCCATG...</td>\n",
       "    </tr>\n",
       "  </tbody>\n",
       "</table>\n",
       "<p>33952 rows × 6 columns</p>\n",
       "</div>"
      ],
      "text/plain": [
       "                                                      ref  length  mapped  \\\n",
       "93437   MF3-msBrain-immune_Idh3g_ENSMUST00000156299.8_...     150      75   \n",
       "93438   MF3-msBrain-immune_Fcrla_ENSMUST00000046322.14...     150      40   \n",
       "93439   MF3-msBrain-immune_Gimap1_ENSMUST00000203797.2...     150      53   \n",
       "93440   MF3-msBrain-immune_Csmd3_ENSMUST00000162830.8_...     150      28   \n",
       "93441   MF3-msBrain-immune_Gna15_ENSMUST00000043709.8_...     150      65   \n",
       "...                                                   ...     ...     ...   \n",
       "127384  MF3-msBrain-immune_Slc4a8_ENSMUST00000023776.1...     150      37   \n",
       "127385  MF3-msBrain-immune_Mgam_ENSMUST00000238599.2_s...     150      15   \n",
       "127386  MF3-msBrain-immune_Slc4a8_ENSMUST00000023776.1...     150      49   \n",
       "127387  MF3-msBrain-immune_Zfp318_ENSMUST00000113481.9...     150      33   \n",
       "127388  MF3-msBrain-immune_Zfp318_ENSMUST00000113481.9...     150      28   \n",
       "\n",
       "        unmapped                                               name  \\\n",
       "93437          0  MF3-msBrain-immune_Idh3g_ENSMUST00000156299.8_...   \n",
       "93438          0  MF3-msBrain-immune_Fcrla_ENSMUST00000046322.14...   \n",
       "93439          0  MF3-msBrain-immune_Gimap1_ENSMUST00000203797.2...   \n",
       "93440          0  MF3-msBrain-immune_Csmd3_ENSMUST00000162830.8_...   \n",
       "93441          0  MF3-msBrain-immune_Gna15_ENSMUST00000043709.8_...   \n",
       "...          ...                                                ...   \n",
       "127384         0  MF3-msBrain-immune_Slc4a8_ENSMUST00000023776.1...   \n",
       "127385         0  MF3-msBrain-immune_Mgam_ENSMUST00000238599.2_s...   \n",
       "127386         0  MF3-msBrain-immune_Slc4a8_ENSMUST00000023776.1...   \n",
       "127387         0  MF3-msBrain-immune_Zfp318_ENSMUST00000113481.9...   \n",
       "127388         0  MF3-msBrain-immune_Zfp318_ENSMUST00000113481.9...   \n",
       "\n",
       "                                                 sequence  \n",
       "93437   CCCGCAATGGCTGACAACCGGTCCTGTTCTTGTCGAGCGTGTCCTG...  \n",
       "93438   CCCGCAATGGCTGACAACCGGTCCTGTTCTTGTCGAGCGTGTCCTG...  \n",
       "93439   CCCGCAATGGCTGACAACCGGTCCTGTTCTTGTCGAGCGTGTCCTG...  \n",
       "93440   CCCGCAATGGCTGACAACCGGTCCTGTTCTTGTCGAGCGTGTCCTG...  \n",
       "93441   CCCGCAATGGCTGACAACCGGTCCTGTTCTTGTCGAGCGTGTCCTG...  \n",
       "...                                                   ...  \n",
       "127384  CCCGCAATGGCTGACAACCGCCCATGATCGTCCGATCTGGCCCATG...  \n",
       "127385  CCCGCAATGGCTGACAACCGCCCATGATCGTCCGATCTGGCCCATG...  \n",
       "127386  CCCGCAATGGCTGACAACCGCCCATGATCGTCCGATCTGGCCCATG...  \n",
       "127387  CCCGCAATGGCTGACAACCGCCCATGATCGTCCGATCTGGCCCATG...  \n",
       "127388  CCCGCAATGGCTGACAACCGCCCATGATCGTCCGATCTGGCCCATG...  \n",
       "\n",
       "[33952 rows x 6 columns]"
      ]
     },
     "execution_count": 13,
     "metadata": {},
     "output_type": "execute_result"
    }
   ],
   "source": [
    "lib_amplified_match_df"
   ]
  },
  {
   "cell_type": "code",
   "execution_count": 14,
   "metadata": {},
   "outputs": [
    {
     "data": {
      "image/png": "[encoded data removed]",
      "text/plain": [
       "<Figure size 640x480 with 1 Axes>"
      ]
     },
     "metadata": {},
     "output_type": "display_data"
    }
   ],
   "source": [
    "# split by gene\n",
    "gene_2_amplified_match_df = {}\n",
    "for _i, _row in lib_amplified_match_df.iterrows():\n",
    "      _gene = _row['name'].split('_')[1]\n",
    "      #print(_gene)\n",
    "      if _gene not in gene_2_amplified_match_df:\n",
    "            gene_2_amplified_match_df[_gene] = [_row['mapped']]\n",
    "      else:\n",
    "            gene_2_amplified_match_df[_gene].append(_row['mapped'])\n",
    "plt.figure()\n",
    "gene_total_counts = [np.sum(_v)/np.mean(lib_amplified_match_df['mapped'])/len(_v) for _v in gene_2_amplified_match_df.values()]\n",
    "plt.bar(np.arange(len(gene_total_counts)), gene_total_counts, width=1)\n",
    "plt.xlabel('Genes')\n",
    "plt.ylabel('Normalized counts')\n",
    "#for _gene, _counts in gene_2_amplified_matches.items():\n",
    "#    plt.hist(_counts, bins=np.arange(0,100, 5), label=f\"{_gene}\")\n",
    "plt.show()\n",
    "      "
   ]
  },
  {
   "cell_type": "code",
   "execution_count": 15,
   "metadata": {},
   "outputs": [
    {
     "data": {
      "image/png": "[encoded data removed]",
      "text/plain": [
       "<Figure size 640x480 with 1 Axes>"
      ]
     },
     "metadata": {},
     "output_type": "display_data"
    }
   ],
   "source": [
    "# split by probe\n",
    "probe_2_amplified_matches = {}\n",
    "for _i, _row in lib_amplified_match_df.iterrows():\n",
    "      _probe = _row['name'].split('-')[-1]\n",
    "      if _probe not in probe_2_amplified_matches:\n",
    "            probe_2_amplified_matches[_probe] = [_row['mapped']]\n",
    "      else:\n",
    "            probe_2_amplified_matches[_probe].append(_row['mapped'])\n",
    "probes = [_k for _k in sorted(probe_2_amplified_matches.keys(), key=lambda v:int(v.split('_')[1]))]\n",
    "probe_total_counts = [np.sum(probe_2_amplified_matches[_p])/np.mean(lib_amplified_match_df['mapped'])/len(probe_2_amplified_matches[_p]) \n",
    "                      for _p in probes]\n",
    "\n",
    "plt.figure()\n",
    "plt.bar(np.arange(len(probe_total_counts))+1, probe_total_counts, width=1)\n",
    "plt.xlabel('Bits')\n",
    "plt.ylabel('Normalized counts')\n",
    "plt.title(f\"{library_name}_amplified\")\n",
    "#for _gene, _counts in gene_2_amplified_matches.items():\n",
    "#    plt.hist(_counts, bins=np.arange(0,100, 5), label=f\"{_gene}\")\n",
    "plt.show()"
   ]
  },
  {
   "cell_type": "markdown",
   "metadata": {},
   "source": [
    "## MF3 PCR\n"
   ]
  },
  {
   "cell_type": "code",
   "execution_count": 16,
   "metadata": {},
   "outputs": [
    {
     "data": {
      "text/plain": [
       "(33952, 1566560, 237283)"
      ]
     },
     "execution_count": 16,
     "metadata": {},
     "output_type": "execute_result"
    }
   ],
   "source": [
    "\n",
    "lib_probe_df = probe_df.loc[\n",
    "    np.array([library_name in _n for _n in probe_df['name']])\n",
    "]\n",
    "\n",
    "pcr_pool_stat = pd.read_table([_f for _f in alignment_stats if library_name in _f and 'pcr' in _f.lower()][0],\n",
    "                                    header=None, names=['ref', 'length', 'mapped', 'unmapped'])\n",
    "lib_pcr_match_df = pcr_pool_stat.loc[\n",
    "    np.array([library_name in _n for _n in probe_df['name']]+[False])\n",
    "]\n",
    "lib_pcr_match_df = pd.concat([lib_pcr_match_df, lib_probe_df], axis=1)\n",
    "len(lib_pcr_match_df), pcr_pool_stat['mapped'].sum(), pcr_pool_stat['unmapped'].sum()"
   ]
  },
  {
   "cell_type": "code",
   "execution_count": 18,
   "metadata": {},
   "outputs": [
    {
     "data": {
      "image/png": "[encoded data removed]",
      "text/plain": [
       "<Figure size 640x480 with 1 Axes>"
      ]
     },
     "metadata": {},
     "output_type": "display_data"
    }
   ],
   "source": [
    "plt.figure()\n",
    "plt.hist(lib_pcr_match_df['mapped'].values / np.mean(lib_pcr_match_df['mapped']), \n",
    "         bins=np.arange(0,10, 0.2))\n",
    "plt.xlabel('normalized count')\n",
    "plt.ylabel('num probes')\n",
    "plt.title(f\"{library_name}_pcr\")\n",
    "plt.show()"
   ]
  },
  {
   "cell_type": "code",
   "execution_count": 20,
   "metadata": {},
   "outputs": [
    {
     "data": {
      "image/png": "[encoded data removed]",
      "text/plain": [
       "<Figure size 640x480 with 1 Axes>"
      ]
     },
     "metadata": {},
     "output_type": "display_data"
    }
   ],
   "source": [
    "# split by gene\n",
    "gene_2_pcr_match_df = {}\n",
    "for _i, _row in lib_pcr_match_df.iterrows():\n",
    "    _gene = _row['name'].split('_')[1]\n",
    "    #print(_gene)\n",
    "    if _gene not in gene_2_pcr_match_df:\n",
    "        gene_2_pcr_match_df[_gene] = [_row['mapped']]\n",
    "    else:\n",
    "        gene_2_pcr_match_df[_gene].append(_row['mapped'])\n",
    "plt.figure()\n",
    "gene_total_counts = [np.sum(_v)/np.mean(lib_pcr_match_df['mapped'])/len(_v) for _v in gene_2_pcr_match_df.values()]\n",
    "plt.bar(np.arange(len(gene_total_counts)), gene_total_counts, width=1)\n",
    "plt.xlabel('Genes')\n",
    "plt.ylabel('Normalized counts')\n",
    "#for _gene, _counts in gene_2_pcr_matches.items():\n",
    "#    plt.hist(_counts, bins=np.arange(0,100, 5), label=f\"{_gene}\")\n",
    "plt.show()\n",
    "      "
   ]
  },
  {
   "cell_type": "code",
   "execution_count": 22,
   "metadata": {},
   "outputs": [
    {
     "data": {
      "image/png": "[encoded data removed]",
      "text/plain": [
       "<Figure size 640x480 with 1 Axes>"
      ]
     },
     "metadata": {},
     "output_type": "display_data"
    }
   ],
   "source": [
    "# split by probe\n",
    "probe_2_pcr_matches = {}\n",
    "for _i, _row in lib_pcr_match_df.iterrows():\n",
    "    _probe = _row['name'].split('-')[-1]\n",
    "    if _probe not in probe_2_pcr_matches:\n",
    "        probe_2_pcr_matches[_probe] = [_row['mapped']]\n",
    "    else:\n",
    "        probe_2_pcr_matches[_probe].append(_row['mapped'])\n",
    "probes = [_k for _k in sorted(probe_2_pcr_matches.keys(), key=lambda v:int(v.split('_')[1]))]\n",
    "probe_total_counts = [np.sum(probe_2_pcr_matches[_p])/np.mean(lib_pcr_match_df['mapped'])/len(probe_2_pcr_matches[_p]) \n",
    "                      for _p in probes]\n",
    "\n",
    "plt.figure()\n",
    "plt.bar(np.arange(len(probe_total_counts))+1, probe_total_counts, width=1)\n",
    "plt.xlabel('Bits')\n",
    "plt.ylabel('Normalized counts')\n",
    "plt.title(f\"{library_name}_pcr\")\n",
    "#for _gene, _counts in gene_2_pcr_matches.items():\n",
    "#    plt.hist(_counts, bins=np.arange(0,100, 5), label=f\"{_gene}\")\n",
    "plt.show()"
   ]
  },
  {
   "cell_type": "code",
   "execution_count": null,
   "metadata": {},
   "outputs": [],
   "source": []
  }
 ],
 "metadata": {
  "kernelspec": {
   "display_name": "postanalysis",
   "language": "python",
   "name": "postanalysis"
  },
  "language_info": {
   "codemirror_mode": {
    "name": "ipython",
    "version": 3
   },
   "file_extension": ".py",
   "mimetype": "text/x-python",
   "name": "python",
   "nbconvert_exporter": "python",
   "pygments_lexer": "ipython3",
   "version": "3.10.12"
  }
 },
 "nbformat": 4,
 "nbformat_minor": 2
}
