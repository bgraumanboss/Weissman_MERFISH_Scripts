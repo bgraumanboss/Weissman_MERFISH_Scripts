{
 "cells": [
  {
   "cell_type": "code",
   "execution_count": 1,
   "id": "130196dc",
   "metadata": {},
   "outputs": [
    {
     "name": "stdout",
     "output_type": "stream",
     "text": [
      "52248\n"
     ]
    }
   ],
   "source": [
    "import os,sys\n",
    "from importlib import reload\n",
    "import numpy as np\n",
    "import pandas as pd\n",
    "#import torch\n",
    "print(os.getpid())\n",
    "sys.path.append(r'C:\\Softwares\\Github\\MerScope01')"
   ]
  },
  {
   "cell_type": "code",
   "execution_count": 2,
   "id": "a0e2a48a",
   "metadata": {},
   "outputs": [],
   "source": [
    "import re\n",
    "import MERFISH_probe_design.IO.file_io as fio\n",
    "import MERFISH_probe_design.probe_design.OTTable_dict as ot\n",
    "\n",
    "from Bio.Seq import reverse_complement\n",
    "\n",
    "# common parameters:\n",
    "table_keylen = 17"
   ]
  },
  {
   "cell_type": "code",
   "execution_count": 3,
   "id": "42b07ebf",
   "metadata": {},
   "outputs": [
    {
     "name": "stdout",
     "output_type": "stream",
     "text": [
      "['.DS_Store', 'Mus_musculus.GRCm39.109.gff3', 'Mus_musculus.GRCm39.cdna.all.fa', 'Mus_musculus.GRCm39.ncrna.fa']\n"
     ]
    }
   ],
   "source": [
    "#reference_folder = r'/lab/solexa_weissman/puzheng/References/'\n",
    "reference_folder = r'\\\\wi-bigdata.wi.mit.edu\\solexa_weissman\\puzheng\\References'\n",
    "print(os.listdir(os.path.join(reference_folder, 'GRCm39', 'Transcriptome')))\n",
    "\n",
    "mRNA_fasta_file = os.path.join(reference_folder, 'GRCm39', 'Transcriptome', \n",
    "                                      r'Mus_musculus.GRCm39.cdna.all.fa')\n",
    "ncRNA_fasta_file = os.path.join(reference_folder, 'GRCm39', 'Transcriptome',\n",
    "                                      r'Mus_musculus.GRCm39.ncrna.fa')\n",
    "gff3_file = os.path.join(reference_folder, 'GRCm39', 'Transcriptome',\n",
    "                                      r'Mus_musculus.GRCm39.109.gff3')\n"
   ]
  },
  {
   "cell_type": "code",
   "execution_count": 5,
   "id": "4cc04bd6",
   "metadata": {},
   "outputs": [
    {
     "name": "stdout",
     "output_type": "stream",
     "text": [
      "Construct a OTTable using 146157/146157 transcripts with FPKM > 0.\n",
      "Processed 10000/146157 sequences.\n",
      "Processed 20000/146157 sequences.\n",
      "Processed 30000/146157 sequences.\n",
      "Processed 40000/146157 sequences.\n",
      "Processed 50000/146157 sequences.\n",
      "Processed 60000/146157 sequences.\n",
      "Processed 70000/146157 sequences.\n",
      "Processed 80000/146157 sequences.\n",
      "Processed 90000/146157 sequences.\n",
      "Processed 100000/146157 sequences.\n",
      "Processed 110000/146157 sequences.\n",
      "Processed 120000/146157 sequences.\n",
      "Processed 130000/146157 sequences.\n",
      "Processed 140000/146157 sequences.\n"
     ]
    }
   ],
   "source": [
    "# Load the transcriptome as a pandas data frame\n",
    "mRNA = fio.load_fasta_into_df(mRNA_fasta_file)\n",
    "ncRNAs =  fio.load_fasta_into_df(ncRNA_fasta_file)\n",
    "\n",
    "transcriptome = pd.concat([mRNA, ncRNAs])\n",
    "transcriptome['FPKM'] = 1\n",
    "# OTTable for the transcriptome.\n",
    "if 'ottable_transcriptome' not in locals() or overwrite_ottable:\n",
    "    ottable_transcriptome = ot.get_OTTable_for_transcriptome(transcriptome, table_keylen)\n",
    "else:\n",
    "    print(\"ottable_transcriptome already exist, skip.\")"
   ]
  },
  {
   "cell_type": "code",
   "execution_count": 6,
   "id": "527c1eeb",
   "metadata": {},
   "outputs": [
    {
     "name": "stdout",
     "output_type": "stream",
     "text": [
      "\\\\wi-bigdata.wi.mit.edu\\solexa_weissman\\puzheng\\References\\GRCm39\\Transcriptome\\transcriptome_17.table\n",
      "Wrote the OTTable to \\\\wi-bigdata.wi.mit.edu\\solexa_weissman\\puzheng\\References\\GRCm39\\Transcriptome\\transcriptome_17.table.\n"
     ]
    }
   ],
   "source": [
    "# save pickle\n",
    "transcriptome_ottable_savefile = os.path.join(reference_folder, 'GRCm39', 'Transcriptome', \n",
    "                                              f'transcriptome_{table_keylen}.table')\n",
    "print(transcriptome_ottable_savefile)\n",
    "ottable_transcriptome.save_pkl(transcriptome_ottable_savefile)"
   ]
  },
  {
   "cell_type": "code",
   "execution_count": 7,
   "id": "386d8de3",
   "metadata": {},
   "outputs": [
    {
     "name": "stdout",
     "output_type": "stream",
     "text": [
      "Found 378 rRNAs/tRNAs from 29245 non-coding RNAs.\n"
     ]
    }
   ],
   "source": [
    "# rRNA and tRNA reference:\n",
    "overwrite_ottable = False\n",
    "# OTTable for rRNA/tRNAs\n",
    "if 'ottable_rtRNAs' not in locals() or overwrite_ottable:\n",
    "    ncRNAs =  fio.load_fasta_into_df(ncRNA_fasta_file)\n",
    "    ottable_rtRNAs = ot.get_OTTable_for_rtRNAs(ncRNAs, 15)"
   ]
  },
  {
   "cell_type": "code",
   "execution_count": 8,
   "id": "4021fa7f",
   "metadata": {},
   "outputs": [
    {
     "name": "stdout",
     "output_type": "stream",
     "text": [
      "\\\\wi-bigdata.wi.mit.edu\\solexa_weissman\\puzheng\\References\\GRCm39\\Transcriptome\\rtRNA_15.table\n",
      "Wrote the OTTable to \\\\wi-bigdata.wi.mit.edu\\solexa_weissman\\puzheng\\References\\GRCm39\\Transcriptome\\rtRNA_15.table.\n"
     ]
    }
   ],
   "source": [
    "# save pickle\n",
    "rtRNA_ottable_savefile = os.path.join(reference_folder, 'GRCm39', 'Transcriptome', \n",
    "                                              f'rtRNA_{15}.table')\n",
    "print(rtRNA_ottable_savefile)\n",
    "ottable_rtRNAs.save_pkl(rtRNA_ottable_savefile)"
   ]
  },
  {
   "cell_type": "code",
   "execution_count": 9,
   "id": "eb60b9f7",
   "metadata": {},
   "outputs": [
    {
     "name": "stdout",
     "output_type": "stream",
     "text": [
      "\\\\wi-bigdata.wi.mit.edu\\solexa_weissman\\puzheng\\MERFISH_Probes\\PE_TS\\NewTargetSites\n",
      "\\\\wi-bigdata.wi.mit.edu\\solexa_weissman\\puzheng\\MERFISH_Probes\\PE_TS\\NewTargetSites\\IntBC_MERFISH\n"
     ]
    }
   ],
   "source": [
    "pool_folder = r'\\\\wi-bigdata.wi.mit.edu\\solexa_weissman\\puzheng\\MERFISH_Probes\\PE_TS\\NewTargetSites'\n",
    "print(pool_folder)\n",
    "library_folder = os.path.join(pool_folder, 'IntBC_MERFISH')\n",
    "print(library_folder)"
   ]
  },
  {
   "cell_type": "code",
   "execution_count": 10,
   "id": "bb6c4999",
   "metadata": {},
   "outputs": [
    {
     "data": {
      "text/plain": [
       "['2023_5_15_merged_probes.xlsx',\n",
       " '2023_5_15_probe_20ntNO.xlsx',\n",
       " '2023_5_15_probe_30nt.xlsx',\n",
       " '2023_5_15_probe_30ntNO.xlsx',\n",
       " '2023_5_15_skipped_probes.xlsx',\n",
       " '2023_5_15_twist_merged_probes.xlsx',\n",
       " '2023_5_9_probe_20ntNO.xlsx',\n",
       " '2023_5_9_probe_30nt.xlsx',\n",
       " '2023_5_9_probe_30ntNO.xlsx',\n",
       " 'blank_merfish_barcodes.npy',\n",
       " 'final_probe_transcriptome_counts.png',\n",
       " 'sel_merfish_barcodes.npy']"
      ]
     },
     "execution_count": 10,
     "metadata": {},
     "output_type": "execute_result"
    }
   ],
   "source": [
    "os.listdir(library_folder)"
   ]
  },
  {
   "cell_type": "code",
   "execution_count": 11,
   "id": "9fae75a4",
   "metadata": {},
   "outputs": [],
   "source": [
    "# make sure probes'rc doesn't hit transcriptome\n",
    "probe_basenames = [\n",
    " '2023_5_15_probe_20ntNO.xlsx',\n",
    " '2023_5_15_probe_30nt.xlsx',\n",
    " '2023_5_15_probe_30ntNO.xlsx',\n",
    "]\n",
    "probe_dfs = []\n",
    "for _basename in probe_basenames:\n",
    "    _filename = os.path.join(library_folder, _basename)\n",
    "    probe_dfs.append(pd.read_excel(_filename))"
   ]
  },
  {
   "cell_type": "code",
   "execution_count": 12,
   "id": "65200b0d",
   "metadata": {},
   "outputs": [],
   "source": [
    "from ChromAn.src.library_tools.assemble_probe import shuffle_readout"
   ]
  },
  {
   "cell_type": "code",
   "execution_count": 13,
   "id": "b6bd8602",
   "metadata": {},
   "outputs": [
    {
     "data": {
      "application/vnd.jupyter.widget-view+json": {
       "model_id": "eaa3f8412367448f8ead360313f31c84",
       "version_major": 2,
       "version_minor": 0
      },
      "text/plain": [
       "0it [00:00, ?it/s]"
      ]
     },
     "metadata": {},
     "output_type": "display_data"
    },
    {
     "data": {
      "application/vnd.jupyter.widget-view+json": {
       "model_id": "9b88ae58027444b898711c4ae917798f",
       "version_major": 2,
       "version_minor": 0
      },
      "text/plain": [
       "0it [00:00, ?it/s]"
      ]
     },
     "metadata": {},
     "output_type": "display_data"
    },
    {
     "data": {
      "application/vnd.jupyter.widget-view+json": {
       "model_id": "a0a485377d3e482f8d3c79056f96c276",
       "version_major": 2,
       "version_minor": 0
      },
      "text/plain": [
       "0it [00:00, ?it/s]"
      ]
     },
     "metadata": {},
     "output_type": "display_data"
    }
   ],
   "source": [
    "from copy import copy\n",
    "from tqdm.notebook import tqdm\n",
    "\n",
    "linker = 't'\n",
    "new_count_th = 14\n",
    "rt_count_th = 0\n",
    "readout_inds = [2,3,4] # first two are fwd_primer, target_rc\n",
    "\n",
    "skipped_probes = []\n",
    "final_probe_df = pd.DataFrame(columns=['Name','Sequence','Transcriptome','r_t_RNA'])\n",
    "\n",
    "for _basename, _probe_df in zip(probe_basenames, probe_dfs):\n",
    "    _lib_name = _basename.split(os.extsep)[0].split('_')[-1]\n",
    "    for _i, _row in tqdm(_probe_df.iterrows()):\n",
    "        _seq = _row['Sequence']\n",
    "        _counts = ottable_transcriptome.calculate_count(reverse_complement(_seq.upper()), table_keylen)\n",
    "        _rt_count = ottable_rtRNAs.total_count(reverse_complement(_seq.upper()), 15)\n",
    "        # now try shuffle readout sequences\n",
    "        _curr_total = np.sum(_counts)\n",
    "        _curr_seq = copy(_seq)\n",
    "        _curr_rt_count = _rt_count\n",
    "        # shuffle if not passing threshold\n",
    "        if _curr_total >= new_count_th or _curr_rt_count > rt_count_th:\n",
    "            for _i_shuffle in range(100):\n",
    "                _sf_seq = shuffle_readout(_seq, readout_inds=readout_inds, linker=linker) \n",
    "                _new_counts = ottable_transcriptome.calculate_count(reverse_complement(_sf_seq.upper()), \n",
    "                                                                    table_keylen)\n",
    "                _new_rt_count = ottable_rtRNAs.total_count(reverse_complement(_sf_seq.upper()), 15)\n",
    "                if np.sum(_new_counts) < _curr_total and _new_rt_count <= _curr_rt_count:\n",
    "                    _curr_total = np.sum(_new_counts)\n",
    "                    _curr_seq = copy(_sf_seq)\n",
    "                    _curr_rt_count = copy(_new_rt_count)\n",
    "                    #print(_i_shuffle, _new_rt_count)\n",
    "                    if _curr_total == 0 and _curr_rt_count <= rt_count_th:\n",
    "                        break\n",
    "            # if still not pass threshold, skip:\n",
    "            if _curr_total >= new_count_th or _curr_rt_count > rt_count_th:\n",
    "                _row['Library'] = _lib_name\n",
    "                _row['Transcriptome'] = _curr_total\n",
    "                _row['r_t_RNA'] = _curr_rt_count\n",
    "                skipped_probes.append(_row)\n",
    "                continue\n",
    "            #print(_curr_rt_count)\n",
    "        # save this\n",
    "        _line = pd.Series(\n",
    "            {'Name':f\"Library_{_lib_name}_fwd_\"+_row['Name'], \n",
    "             'Sequence':_curr_seq, \n",
    "             'Transcriptome':_curr_total,\n",
    "             'r_t_RNA':_curr_rt_count,\n",
    "            },\n",
    "        )\n",
    "        final_probe_df.loc[len(final_probe_df)] = _line\n",
    "    #break\n",
    "    \n",
    "skipped_probes = pd.DataFrame(skipped_probes)"
   ]
  },
  {
   "cell_type": "code",
   "execution_count": 14,
   "id": "a6189a37",
   "metadata": {},
   "outputs": [
    {
     "data": {
      "text/html": [
       "<div>\n",
       "<style scoped>\n",
       "    .dataframe tbody tr th:only-of-type {\n",
       "        vertical-align: middle;\n",
       "    }\n",
       "\n",
       "    .dataframe tbody tr th {\n",
       "        vertical-align: top;\n",
       "    }\n",
       "\n",
       "    .dataframe thead th {\n",
       "        text-align: right;\n",
       "    }\n",
       "</style>\n",
       "<table border=\"1\" class=\"dataframe\">\n",
       "  <thead>\n",
       "    <tr style=\"text-align: right;\">\n",
       "      <th></th>\n",
       "      <th>Name</th>\n",
       "      <th>Sequence</th>\n",
       "      <th>Transcriptome</th>\n",
       "      <th>r_t_RNA</th>\n",
       "    </tr>\n",
       "  </thead>\n",
       "  <tbody>\n",
       "    <tr>\n",
       "      <th>0</th>\n",
       "      <td>Library_20ntNO_fwd_W1B05_primer_16_newPE-TS-18...</td>\n",
       "      <td>CGGGTTTCGTTGCGCACACCtGTTGGGCCCTCACAAATACAtTAGA...</td>\n",
       "      <td>2</td>\n",
       "      <td>0</td>\n",
       "    </tr>\n",
       "    <tr>\n",
       "      <th>1</th>\n",
       "      <td>Library_20ntNO_fwd_W1B05_primer_16_newPE-TS-18...</td>\n",
       "      <td>CGGGTTTCGTTGCGCACACCtACAATTCACCTTACGTCGTGtATAT...</td>\n",
       "      <td>0</td>\n",
       "      <td>0</td>\n",
       "    </tr>\n",
       "    <tr>\n",
       "      <th>2</th>\n",
       "      <td>Library_20ntNO_fwd_W1B05_primer_16_newPE-TS-18...</td>\n",
       "      <td>CGGGTTTCGTTGCGCACACCtATTTACGACTGAACGCAGCAtTAGA...</td>\n",
       "      <td>3</td>\n",
       "      <td>0</td>\n",
       "    </tr>\n",
       "    <tr>\n",
       "      <th>3</th>\n",
       "      <td>Library_20ntNO_fwd_W1B05_primer_16_newPE-TS-18...</td>\n",
       "      <td>CGGGTTTCGTTGCGCACACCtGATATAGGGCGAATCCGAACtTGAC...</td>\n",
       "      <td>0</td>\n",
       "      <td>0</td>\n",
       "    </tr>\n",
       "    <tr>\n",
       "      <th>4</th>\n",
       "      <td>Library_20ntNO_fwd_W1B05_primer_16_newPE-TS-18...</td>\n",
       "      <td>CGGGTTTCGTTGCGCACACCtTTCAATGCTAGTGCGCCACAtTAGA...</td>\n",
       "      <td>1</td>\n",
       "      <td>0</td>\n",
       "    </tr>\n",
       "    <tr>\n",
       "      <th>...</th>\n",
       "      <td>...</td>\n",
       "      <td>...</td>\n",
       "      <td>...</td>\n",
       "      <td>...</td>\n",
       "    </tr>\n",
       "    <tr>\n",
       "      <th>71914</th>\n",
       "      <td>Library_30ntNO_fwd_W1A03_primer_2_newPE-TS-180...</td>\n",
       "      <td>CCCGCAATGGCTGACAACCGtGACAGCTCGGGCATAGATCATATGT...</td>\n",
       "      <td>0</td>\n",
       "      <td>0</td>\n",
       "    </tr>\n",
       "    <tr>\n",
       "      <th>71915</th>\n",
       "      <td>Library_30ntNO_fwd_W1A03_primer_2_newPE-TS-180...</td>\n",
       "      <td>CCCGCAATGGCTGACAACCGtAGCGTTGGAGTAGCCGGGTTGGAAT...</td>\n",
       "      <td>2</td>\n",
       "      <td>0</td>\n",
       "    </tr>\n",
       "    <tr>\n",
       "      <th>71916</th>\n",
       "      <td>Library_30ntNO_fwd_W1A03_primer_2_newPE-TS-180...</td>\n",
       "      <td>CCCGCAATGGCTGACAACCGtAATTCCGTAGTTCGTCCACCGATGC...</td>\n",
       "      <td>0</td>\n",
       "      <td>0</td>\n",
       "    </tr>\n",
       "    <tr>\n",
       "      <th>71917</th>\n",
       "      <td>Library_30ntNO_fwd_W1A03_primer_2_newPE-TS-180...</td>\n",
       "      <td>CCCGCAATGGCTGACAACCGtCTCTAGCAGTTCACGCCGAAAGCCC...</td>\n",
       "      <td>0</td>\n",
       "      <td>0</td>\n",
       "    </tr>\n",
       "    <tr>\n",
       "      <th>71918</th>\n",
       "      <td>Library_30ntNO_fwd_W1A03_primer_2_newPE-TS-180...</td>\n",
       "      <td>CCCGCAATGGCTGACAACCGtCTCTAGCAGTTCACGCCGAAAGCCC...</td>\n",
       "      <td>0</td>\n",
       "      <td>0</td>\n",
       "    </tr>\n",
       "  </tbody>\n",
       "</table>\n",
       "<p>71919 rows × 4 columns</p>\n",
       "</div>"
      ],
      "text/plain": [
       "                                                    Name  \\\n",
       "0      Library_20ntNO_fwd_W1B05_primer_16_newPE-TS-18...   \n",
       "1      Library_20ntNO_fwd_W1B05_primer_16_newPE-TS-18...   \n",
       "2      Library_20ntNO_fwd_W1B05_primer_16_newPE-TS-18...   \n",
       "3      Library_20ntNO_fwd_W1B05_primer_16_newPE-TS-18...   \n",
       "4      Library_20ntNO_fwd_W1B05_primer_16_newPE-TS-18...   \n",
       "...                                                  ...   \n",
       "71914  Library_30ntNO_fwd_W1A03_primer_2_newPE-TS-180...   \n",
       "71915  Library_30ntNO_fwd_W1A03_primer_2_newPE-TS-180...   \n",
       "71916  Library_30ntNO_fwd_W1A03_primer_2_newPE-TS-180...   \n",
       "71917  Library_30ntNO_fwd_W1A03_primer_2_newPE-TS-180...   \n",
       "71918  Library_30ntNO_fwd_W1A03_primer_2_newPE-TS-180...   \n",
       "\n",
       "                                                Sequence Transcriptome r_t_RNA  \n",
       "0      CGGGTTTCGTTGCGCACACCtGTTGGGCCCTCACAAATACAtTAGA...             2       0  \n",
       "1      CGGGTTTCGTTGCGCACACCtACAATTCACCTTACGTCGTGtATAT...             0       0  \n",
       "2      CGGGTTTCGTTGCGCACACCtATTTACGACTGAACGCAGCAtTAGA...             3       0  \n",
       "3      CGGGTTTCGTTGCGCACACCtGATATAGGGCGAATCCGAACtTGAC...             0       0  \n",
       "4      CGGGTTTCGTTGCGCACACCtTTCAATGCTAGTGCGCCACAtTAGA...             1       0  \n",
       "...                                                  ...           ...     ...  \n",
       "71914  CCCGCAATGGCTGACAACCGtGACAGCTCGGGCATAGATCATATGT...             0       0  \n",
       "71915  CCCGCAATGGCTGACAACCGtAGCGTTGGAGTAGCCGGGTTGGAAT...             2       0  \n",
       "71916  CCCGCAATGGCTGACAACCGtAATTCCGTAGTTCGTCCACCGATGC...             0       0  \n",
       "71917  CCCGCAATGGCTGACAACCGtCTCTAGCAGTTCACGCCGAAAGCCC...             0       0  \n",
       "71918  CCCGCAATGGCTGACAACCGtCTCTAGCAGTTCACGCCGAAAGCCC...             0       0  \n",
       "\n",
       "[71919 rows x 4 columns]"
      ]
     },
     "execution_count": 14,
     "metadata": {},
     "output_type": "execute_result"
    }
   ],
   "source": [
    "final_probe_df"
   ]
  },
  {
   "cell_type": "code",
   "execution_count": 20,
   "id": "ae30c2fa",
   "metadata": {},
   "outputs": [
    {
     "data": {
      "text/plain": [
       "array(['W1B05_primer_16_newPE-TS-180_intBC66_probe_0_loc_33_readout_R1__NDB_784,R2__NDB_755,R5__NDB_578_W1B04_primer_15',\n",
       "       'W1B05_primer_16_newPE-TS-180_intBC191_probe_3_loc_93_readout_R5__NDB_578,R14__NDB_725,R18__NDB_690_W1B04_primer_15',\n",
       "       'W1B05_primer_16_newPE-TS-180_intBC294_probe_0_loc_33_readout_R1__NDB_784,R4__NDB_826,R6__NDB_795_W1B04_primer_15',\n",
       "       'W1B05_primer_16_newPE-TS-180_intBC494_probe_6_loc_153_readout_R1__NDB_784,R7__NDB_376,R17__NDB_710_W1B04_primer_15',\n",
       "       'W1B05_primer_16_newPE-TS-180_intBC883_probe_6_loc_153_readout_R2__NDB_755,R6__NDB_795,R16__NDB_652_W1B04_primer_15',\n",
       "       'W1B05_primer_16_newPE-TS-180_intBC934_probe_3_loc_93_readout_R9__NDB_777,R19__NDB_718,R20__NDB_971_W1B04_primer_15',\n",
       "       'W1B05_primer_16_newPE-TS-180_intBC951_probe_7_loc_173_readout_R10__NDB_865,R11__NDB_533,R12__NDB_801_W1B04_primer_15',\n",
       "       'W1B05_primer_16_newPE-TS-180_intBC953_probe_6_loc_153_readout_R2__NDB_755,R9__NDB_777,R19__NDB_718_W1B04_primer_15',\n",
       "       'W1B05_primer_16_newPE-TS-180_intBC995_probe_2_loc_73_readout_R2__NDB_755,R12__NDB_801,R18__NDB_690_W1B04_primer_15',\n",
       "       'W1B05_primer_16_newPE-TS-180_intBC1180_probe_7_loc_173_readout_R8__NDB_713,R17__NDB_710,R20__NDB_971_W1B04_primer_15',\n",
       "       'W1B05_primer_16_newPE-TS-180_intBC1294_probe_9_loc_237_readout_R10__NDB_865,R18__NDB_690,R19__NDB_718_W1B04_primer_15',\n",
       "       'W1B05_primer_16_newPE-TS-180_intBC1434_probe_3_loc_93_readout_R8__NDB_713,R10__NDB_865,R16__NDB_652_W1B04_primer_15',\n",
       "       'W1B05_primer_16_newPE-TS-180_intBC1623_probe_7_loc_173_readout_R12__NDB_801,R19__NDB_718,R20__NDB_971_W1B04_primer_15',\n",
       "       'W1B05_primer_16_newPE-TS-180_intBC1679_probe_7_loc_173_readout_R13__NDB_817,R16__NDB_652,R20__NDB_971_W1B04_primer_15',\n",
       "       'W1B05_primer_16_newPE-TS-180_intBC1714_probe_4_loc_113_readout_R6__NDB_795,R7__NDB_376,R18__NDB_690_W1B04_primer_15',\n",
       "       'W1B05_primer_16_newPE-TS-180_intBC1754_probe_4_loc_113_readout_R6__NDB_795,R8__NDB_713,R16__NDB_652_W1B04_primer_15',\n",
       "       'W1B05_primer_16_newPE-TS-180_intBC1790_probe_4_loc_113_readout_R6__NDB_795,R9__NDB_777,R18__NDB_690_W1B04_primer_15',\n",
       "       'W1B05_primer_16_newPE-TS-180_intBC1840_probe_6_loc_153_readout_R7__NDB_376,R8__NDB_713,R19__NDB_718_W1B04_primer_15',\n",
       "       'W1B05_primer_16_newPE-TS-180_intBC1889_probe_5_loc_133_readout_R18__NDB_690,R19__NDB_718,R21__NDB_699_W1B04_primer_15',\n",
       "       'W1B05_primer_16_newPE-TS-180_intBC1897_probe_7_loc_173_readout_R11__NDB_533,R12__NDB_801,R13__NDB_817_W1B04_primer_15',\n",
       "       'W1B05_primer_16_newPE-TS-180_intBC1943_probe_2_loc_73_readout_R9__NDB_777,R10__NDB_865,R16__NDB_652_W1B04_primer_15',\n",
       "       'W1A07_primer_6_newPE-TS-180_intBC66_probe_0_loc_33_readout_R1__NDB_784,R2__NDB_755,R5__NDB_578_W1A12_primer_11',\n",
       "       'W1A07_primer_6_newPE-TS-180_intBC72_probe_6_loc_93_readout_R1__NDB_784,R2__NDB_755,R18__NDB_690_W1A12_primer_11',\n",
       "       'W1A07_primer_6_newPE-TS-180_intBC161_probe_11_loc_143_readout_R3__NDB_759,R4__NDB_826,R19__NDB_718_W1A12_primer_11',\n",
       "       'W1A07_primer_6_newPE-TS-180_intBC367_probe_3_loc_63_readout_R7__NDB_376,R12__NDB_801,R17__NDB_710_W1A12_primer_11',\n",
       "       'W1A07_primer_6_newPE-TS-180_intBC373_probe_12_loc_153_readout_R1__NDB_784,R9__NDB_777,R18__NDB_690_W1A12_primer_11',\n",
       "       'W1A07_primer_6_newPE-TS-180_intBC432_probe_12_loc_153_readout_R1__NDB_784,R10__NDB_865,R20__NDB_971_W1A12_primer_11',\n",
       "       'W1A07_primer_6_newPE-TS-180_intBC543_probe_1_loc_43_readout_R13__NDB_817,R15__NDB_807,R16__NDB_652_W1A12_primer_11',\n",
       "       'W1A07_primer_6_newPE-TS-180_intBC552_probe_8_loc_113_readout_R1__NDB_784,R11__NDB_533,R20__NDB_971_W1A12_primer_11',\n",
       "       'W1A07_primer_6_newPE-TS-180_intBC564_probe_12_loc_153_readout_R1__NDB_784,R19__NDB_718,R21__NDB_699_W1A12_primer_11',\n",
       "       'W1A07_primer_6_newPE-TS-180_intBC614_probe_2_loc_53_readout_R2__NDB_755,R3__NDB_759,R8__NDB_713_W1A12_primer_11',\n",
       "       'W1A07_primer_6_newPE-TS-180_intBC648_probe_13_loc_163_readout_R3__NDB_759,R7__NDB_376,R13__NDB_817_W1A12_primer_11',\n",
       "       'W1A07_primer_6_newPE-TS-180_intBC738_probe_13_loc_163_readout_R4__NDB_826,R7__NDB_376,R16__NDB_652_W1A12_primer_11',\n",
       "       'W1A07_primer_6_newPE-TS-180_intBC770_probe_10_loc_133_readout_R2__NDB_755,R13__NDB_817,R15__NDB_807_W1A12_primer_11',\n",
       "       'W1A07_primer_6_newPE-TS-180_intBC811_probe_1_loc_43_readout_R10__NDB_865,R19__NDB_718,R21__NDB_699_W1A12_primer_11',\n",
       "       'W1A07_primer_6_newPE-TS-180_intBC871_probe_4_loc_73_readout_R2__NDB_755,R6__NDB_795,R19__NDB_718_W1A12_primer_11',\n",
       "       'W1A07_primer_6_newPE-TS-180_intBC883_probe_11_loc_143_readout_R6__NDB_795,R11__NDB_533,R16__NDB_652_W1A12_primer_11',\n",
       "       'W1A07_primer_6_newPE-TS-180_intBC883_probe_12_loc_153_readout_R2__NDB_755,R12__NDB_801,R16__NDB_652_W1A12_primer_11',\n",
       "       'W1A07_primer_6_newPE-TS-180_intBC934_probe_5_loc_83_readout_R9__NDB_777,R15__NDB_807,R20__NDB_971_W1A12_primer_11',\n",
       "       'W1A07_primer_6_newPE-TS-180_intBC953_probe_11_loc_143_readout_R9__NDB_777,R10__NDB_865,R19__NDB_718_W1A12_primer_11',\n",
       "       'W1A07_primer_6_newPE-TS-180_intBC961_probe_6_loc_93_readout_R2__NDB_755,R9__NDB_777,R19__NDB_718_W1A12_primer_11',\n",
       "       'W1A07_primer_6_newPE-TS-180_intBC1027_probe_3_loc_63_readout_R6__NDB_795,R14__NDB_725,R15__NDB_807_W1A12_primer_11',\n",
       "       'W1A07_primer_6_newPE-TS-180_intBC1121_probe_2_loc_53_readout_R3__NDB_759,R5__NDB_578,R9__NDB_777_W1A12_primer_11',\n",
       "       'W1A07_primer_6_newPE-TS-180_intBC1156_probe_4_loc_73_readout_R3__NDB_759,R5__NDB_578,R20__NDB_971_W1A12_primer_11',\n",
       "       'W1A07_primer_6_newPE-TS-180_intBC1218_probe_4_loc_73_readout_R3__NDB_759,R7__NDB_376,R16__NDB_652_W1A12_primer_11',\n",
       "       'W1A07_primer_6_newPE-TS-180_intBC1219_probe_13_loc_163_readout_R7__NDB_376,R9__NDB_777,R12__NDB_801_W1A12_primer_11',\n",
       "       'W1A07_primer_6_newPE-TS-180_intBC1230_probe_7_loc_103_readout_R10__NDB_865,R15__NDB_807,R16__NDB_652_W1A12_primer_11',\n",
       "       'W1A07_primer_6_newPE-TS-180_intBC1290_probe_1_loc_43_readout_R13__NDB_817,R18__NDB_690,R21__NDB_699_W1A12_primer_11',\n",
       "       'W1A07_primer_6_newPE-TS-180_intBC1365_probe_15_loc_183_readout_R5__NDB_578,R11__NDB_533,R12__NDB_801_W1A12_primer_11',\n",
       "       'W1A07_primer_6_newPE-TS-180_intBC1368_probe_15_loc_183_readout_R5__NDB_578,R11__NDB_533,R14__NDB_725_W1A12_primer_11',\n",
       "       'W1A07_primer_6_newPE-TS-180_intBC1374_probe_10_loc_133_readout_R4__NDB_826,R14__NDB_725,R20__NDB_971_W1A12_primer_11',\n",
       "       'W1A07_primer_6_newPE-TS-180_intBC1378_probe_14_loc_173_readout_R4__NDB_826,R20__NDB_971,R21__NDB_699_W1A12_primer_11',\n",
       "       'W1A07_primer_6_newPE-TS-180_intBC1381_probe_1_loc_43_readout_R8__NDB_713,R10__NDB_865,R12__NDB_801_W1A12_primer_11',\n",
       "       'W1A07_primer_6_newPE-TS-180_intBC1434_probe_5_loc_83_readout_R8__NDB_713,R9__NDB_777,R16__NDB_652_W1A12_primer_11',\n",
       "       'W1A07_primer_6_newPE-TS-180_intBC1445_probe_1_loc_43_readout_R10__NDB_865,R18__NDB_690,R20__NDB_971_W1A12_primer_11',\n",
       "       'W1A07_primer_6_newPE-TS-180_intBC1473_probe_13_loc_163_readout_R7__NDB_376,R15__NDB_807,R18__NDB_690_W1A12_primer_11',\n",
       "       'W1A07_primer_6_newPE-TS-180_intBC1511_probe_15_loc_183_readout_R9__NDB_777,R11__NDB_533,R17__NDB_710_W1A12_primer_11',\n",
       "       'W1A07_primer_6_newPE-TS-180_intBC1572_probe_13_loc_163_readout_R6__NDB_795,R9__NDB_777,R19__NDB_718_W1A12_primer_11',\n",
       "       'W1A07_primer_6_newPE-TS-180_intBC1679_probe_13_loc_163_readout_R9__NDB_777,R13__NDB_817,R20__NDB_971_W1A12_primer_11',\n",
       "       'W1A07_primer_6_newPE-TS-180_intBC1683_probe_12_loc_153_readout_R5__NDB_578,R12__NDB_801,R20__NDB_971_W1A12_primer_11',\n",
       "       'W1A07_primer_6_newPE-TS-180_intBC1713_probe_1_loc_43_readout_R12__NDB_801,R17__NDB_710,R21__NDB_699_W1A12_primer_11',\n",
       "       'W1A07_primer_6_newPE-TS-180_intBC1732_probe_4_loc_73_readout_R6__NDB_795,R7__NDB_376,R18__NDB_690_W1A12_primer_11',\n",
       "       'W1A07_primer_6_newPE-TS-180_intBC1754_probe_7_loc_103_readout_R10__NDB_865,R14__NDB_725,R16__NDB_652_W1A12_primer_11',\n",
       "       'W1A07_primer_6_newPE-TS-180_intBC1802_probe_11_loc_143_readout_R10__NDB_865,R16__NDB_652,R20__NDB_971_W1A12_primer_11',\n",
       "       'W1A07_primer_6_newPE-TS-180_intBC1842_probe_2_loc_53_readout_R7__NDB_376,R9__NDB_777,R11__NDB_533_W1A12_primer_11',\n",
       "       'W1A07_primer_6_newPE-TS-180_intBC1863_probe_13_loc_163_readout_R9__NDB_777,R13__NDB_817,R19__NDB_718_W1A12_primer_11',\n",
       "       'W1A07_primer_6_newPE-TS-180_intBC1884_probe_5_loc_83_readout_R17__NDB_710,R18__NDB_690,R21__NDB_699_W1A12_primer_11',\n",
       "       'W1A07_primer_6_newPE-TS-180_intBC1889_probe_9_loc_123_readout_R16__NDB_652,R19__NDB_718,R20__NDB_971_W1A12_primer_11',\n",
       "       'W1A07_primer_6_newPE-TS-180_intBC1897_probe_14_loc_173_readout_R8__NDB_713,R13__NDB_817,R16__NDB_652_W1A12_primer_11',\n",
       "       'W1A07_primer_6_newPE-TS-180_intBC1915_probe_14_loc_173_readout_R8__NDB_713,R19__NDB_718,R21__NDB_699_W1A12_primer_11',\n",
       "       'W1A07_primer_6_newPE-TS-180_intBC1941_probe_15_loc_183_readout_R10__NDB_865,R12__NDB_801,R16__NDB_652_W1A12_primer_11',\n",
       "       'W1A07_primer_6_newPE-TS-180_intBC1960_probe_16_loc_237_readout_R9__NDB_777,R14__NDB_725,R18__NDB_690_W1A12_primer_11',\n",
       "       'W1A07_primer_6_newPE-TS-180_intBC1960_probe_16_loc_237_readout_R12__NDB_801,R17__NDB_710,R21__NDB_699_W1A12_primer_11',\n",
       "       'W1A07_primer_6_newPE-TS-180_intBC1989_probe_12_loc_153_readout_R11__NDB_533,R16__NDB_652,R19__NDB_718_W1A12_primer_11',\n",
       "       'W1A03_primer_2_newPE-TS-180_intBC66_probe_0_loc_33_readout_R1__NDB_784,R5__NDB_578,R13__NDB_817_W1A10_primer_9',\n",
       "       'W1A03_primer_2_newPE-TS-180_intBC883_probe_4_loc_153_readout_R2__NDB_755,R6__NDB_795,R12__NDB_801_W1A10_primer_9',\n",
       "       'W1A03_primer_2_newPE-TS-180_intBC1306_probe_5_loc_183_readout_R13__NDB_817,R18__NDB_690,R21__NDB_699_W1A10_primer_9',\n",
       "       'W1A03_primer_2_newPE-TS-180_intBC1615_probe_3_loc_123_readout_R7__NDB_376,R11__NDB_533,R17__NDB_710_W1A10_primer_9',\n",
       "       'W1A03_primer_2_newPE-TS-180_intBC1701_probe_5_loc_183_readout_R14__NDB_725,R18__NDB_690,R21__NDB_699_W1A10_primer_9',\n",
       "       'W1A03_primer_2_newPE-TS-180_intBC1889_probe_3_loc_123_readout_R16__NDB_652,R18__NDB_690,R21__NDB_699_W1A10_primer_9',\n",
       "       'W1A03_primer_2_newPE-TS-180_intBC1941_probe_5_loc_183_readout_R12__NDB_801,R18__NDB_690,R20__NDB_971_W1A10_primer_9'],\n",
       "      dtype=object)"
      ]
     },
     "execution_count": 20,
     "metadata": {},
     "output_type": "execute_result"
    }
   ],
   "source": [
    "skipped_probes['Name'].values"
   ]
  },
  {
   "cell_type": "code",
   "execution_count": 16,
   "id": "b398cb6c",
   "metadata": {},
   "outputs": [
    {
     "data": {
      "image/png": "[encoded data removed]",
      "text/plain": [
       "<Figure size 600x450 with 1 Axes>"
      ]
     },
     "metadata": {},
     "output_type": "display_data"
    }
   ],
   "source": [
    "import matplotlib.pyplot as plt\n",
    "\n",
    "fig, ax = plt.subplots(figsize=(4,3), dpi=150)\n",
    "ax.hist(final_probe_df['Transcriptome'].values, bins=np.arange(new_count_th))\n",
    "ax.set_xlabel(f\"Transcriptome {table_keylen}-mer counts\")\n",
    "fig.savefig(os.path.join(library_folder, 'final_probe_transcriptome_counts.png'), dpi=300, transparent=True)\n",
    "plt.show()"
   ]
  },
  {
   "cell_type": "markdown",
   "id": "bf65757b",
   "metadata": {},
   "source": [
    "# save both"
   ]
  },
  {
   "cell_type": "code",
   "execution_count": 17,
   "id": "90b0e395",
   "metadata": {},
   "outputs": [
    {
     "name": "stdout",
     "output_type": "stream",
     "text": [
      "saving final probes to file: \\\\wi-bigdata.wi.mit.edu\\solexa_weissman\\puzheng\\MERFISH_Probes\\PE_TS\\NewTargetSites\\IntBC_MERFISH\\2023_5_16_merged_probes.xlsx\n",
      "saving skipped probes to file: \\\\wi-bigdata.wi.mit.edu\\solexa_weissman\\puzheng\\MERFISH_Probes\\PE_TS\\NewTargetSites\\IntBC_MERFISH\\2023_5_16_skipped_probes.xlsx\n"
     ]
    }
   ],
   "source": [
    "import time\n",
    "final_probe_filename = os.path.join(library_folder,\n",
    "    f\"{time.localtime().tm_year}_{time.localtime().tm_mon}_{time.localtime().tm_mday}_merged_probes.xlsx\")\n",
    "skipped_probe_filename = os.path.join(library_folder,\n",
    "    f\"{time.localtime().tm_year}_{time.localtime().tm_mon}_{time.localtime().tm_mday}_skipped_probes.xlsx\")\n",
    "# save\n",
    "print(f\"saving final probes to file: {final_probe_filename}\")\n",
    "final_probe_df.to_excel(final_probe_filename, index=None)\n",
    "print(f\"saving skipped probes to file: {skipped_probe_filename}\")\n",
    "skipped_probes.to_excel(skipped_probe_filename, index=None)"
   ]
  },
  {
   "cell_type": "code",
   "execution_count": 18,
   "id": "319b7225",
   "metadata": {},
   "outputs": [
    {
     "name": "stdout",
     "output_type": "stream",
     "text": [
      "saving twist probes to file: \\\\wi-bigdata.wi.mit.edu\\solexa_weissman\\puzheng\\MERFISH_Probes\\PE_TS\\NewTargetSites\\IntBC_MERFISH\\2023_5_16_twist_merged_probes.xlsx\n"
     ]
    }
   ],
   "source": [
    "# save twist version:\n",
    "twist_final_probes = pd.DataFrame(\n",
    "    {\n",
    "        \"name\": final_probe_df['Name'].values,\n",
    "        \"sequence\": final_probe_df['Sequence'].values,\n",
    "    }\n",
    ")\n",
    "twist_probe_filename = os.path.join(library_folder,\n",
    "    f\"{time.localtime().tm_year}_{time.localtime().tm_mon}_{time.localtime().tm_mday}_twist_merged_probes.xlsx\")\n",
    "print(f\"saving twist probes to file: {twist_probe_filename}\")\n",
    "twist_final_probes.to_excel(twist_probe_filename, index=None)"
   ]
  },
  {
   "cell_type": "code",
   "execution_count": 23,
   "id": "550e1a34",
   "metadata": {},
   "outputs": [
    {
     "data": {
      "text/html": [
       "<div>\n",
       "<style scoped>\n",
       "    .dataframe tbody tr th:only-of-type {\n",
       "        vertical-align: middle;\n",
       "    }\n",
       "\n",
       "    .dataframe tbody tr th {\n",
       "        vertical-align: top;\n",
       "    }\n",
       "\n",
       "    .dataframe thead th {\n",
       "        text-align: right;\n",
       "    }\n",
       "</style>\n",
       "<table border=\"1\" class=\"dataframe\">\n",
       "  <thead>\n",
       "    <tr style=\"text-align: right;\">\n",
       "      <th></th>\n",
       "      <th>Name</th>\n",
       "      <th>Sequence</th>\n",
       "      <th>Transcriptome</th>\n",
       "      <th>r_t_RNA</th>\n",
       "    </tr>\n",
       "  </thead>\n",
       "  <tbody>\n",
       "    <tr>\n",
       "      <th>0</th>\n",
       "      <td>Library_20ntNO_fwd_W1B05_primer_16_newPE-TS-18...</td>\n",
       "      <td>CGGGTTTCGTTGCGCACACCtGTTGGGCCCTCACAAATACAtTAGA...</td>\n",
       "      <td>2</td>\n",
       "      <td>0</td>\n",
       "    </tr>\n",
       "    <tr>\n",
       "      <th>1</th>\n",
       "      <td>Library_20ntNO_fwd_W1B05_primer_16_newPE-TS-18...</td>\n",
       "      <td>CGGGTTTCGTTGCGCACACCtACAATTCACCTTACGTCGTGtATAT...</td>\n",
       "      <td>0</td>\n",
       "      <td>0</td>\n",
       "    </tr>\n",
       "    <tr>\n",
       "      <th>2</th>\n",
       "      <td>Library_20ntNO_fwd_W1B05_primer_16_newPE-TS-18...</td>\n",
       "      <td>CGGGTTTCGTTGCGCACACCtATTTACGACTGAACGCAGCAtTAGA...</td>\n",
       "      <td>3</td>\n",
       "      <td>0</td>\n",
       "    </tr>\n",
       "    <tr>\n",
       "      <th>3</th>\n",
       "      <td>Library_20ntNO_fwd_W1B05_primer_16_newPE-TS-18...</td>\n",
       "      <td>CGGGTTTCGTTGCGCACACCtGATATAGGGCGAATCCGAACtTGAC...</td>\n",
       "      <td>0</td>\n",
       "      <td>0</td>\n",
       "    </tr>\n",
       "    <tr>\n",
       "      <th>4</th>\n",
       "      <td>Library_20ntNO_fwd_W1B05_primer_16_newPE-TS-18...</td>\n",
       "      <td>CGGGTTTCGTTGCGCACACCtTTCAATGCTAGTGCGCCACAtTAGA...</td>\n",
       "      <td>1</td>\n",
       "      <td>0</td>\n",
       "    </tr>\n",
       "    <tr>\n",
       "      <th>...</th>\n",
       "      <td>...</td>\n",
       "      <td>...</td>\n",
       "      <td>...</td>\n",
       "      <td>...</td>\n",
       "    </tr>\n",
       "    <tr>\n",
       "      <th>71914</th>\n",
       "      <td>Library_30ntNO_fwd_W1A03_primer_2_newPE-TS-180...</td>\n",
       "      <td>CCCGCAATGGCTGACAACCGtGACAGCTCGGGCATAGATCATATGT...</td>\n",
       "      <td>0</td>\n",
       "      <td>0</td>\n",
       "    </tr>\n",
       "    <tr>\n",
       "      <th>71915</th>\n",
       "      <td>Library_30ntNO_fwd_W1A03_primer_2_newPE-TS-180...</td>\n",
       "      <td>CCCGCAATGGCTGACAACCGtAGCGTTGGAGTAGCCGGGTTGGAAT...</td>\n",
       "      <td>2</td>\n",
       "      <td>0</td>\n",
       "    </tr>\n",
       "    <tr>\n",
       "      <th>71916</th>\n",
       "      <td>Library_30ntNO_fwd_W1A03_primer_2_newPE-TS-180...</td>\n",
       "      <td>CCCGCAATGGCTGACAACCGtAATTCCGTAGTTCGTCCACCGATGC...</td>\n",
       "      <td>0</td>\n",
       "      <td>0</td>\n",
       "    </tr>\n",
       "    <tr>\n",
       "      <th>71917</th>\n",
       "      <td>Library_30ntNO_fwd_W1A03_primer_2_newPE-TS-180...</td>\n",
       "      <td>CCCGCAATGGCTGACAACCGtCTCTAGCAGTTCACGCCGAAAGCCC...</td>\n",
       "      <td>0</td>\n",
       "      <td>0</td>\n",
       "    </tr>\n",
       "    <tr>\n",
       "      <th>71918</th>\n",
       "      <td>Library_30ntNO_fwd_W1A03_primer_2_newPE-TS-180...</td>\n",
       "      <td>CCCGCAATGGCTGACAACCGtCTCTAGCAGTTCACGCCGAAAGCCC...</td>\n",
       "      <td>0</td>\n",
       "      <td>0</td>\n",
       "    </tr>\n",
       "  </tbody>\n",
       "</table>\n",
       "<p>71919 rows × 4 columns</p>\n",
       "</div>"
      ],
      "text/plain": [
       "                                                    Name  \\\n",
       "0      Library_20ntNO_fwd_W1B05_primer_16_newPE-TS-18...   \n",
       "1      Library_20ntNO_fwd_W1B05_primer_16_newPE-TS-18...   \n",
       "2      Library_20ntNO_fwd_W1B05_primer_16_newPE-TS-18...   \n",
       "3      Library_20ntNO_fwd_W1B05_primer_16_newPE-TS-18...   \n",
       "4      Library_20ntNO_fwd_W1B05_primer_16_newPE-TS-18...   \n",
       "...                                                  ...   \n",
       "71914  Library_30ntNO_fwd_W1A03_primer_2_newPE-TS-180...   \n",
       "71915  Library_30ntNO_fwd_W1A03_primer_2_newPE-TS-180...   \n",
       "71916  Library_30ntNO_fwd_W1A03_primer_2_newPE-TS-180...   \n",
       "71917  Library_30ntNO_fwd_W1A03_primer_2_newPE-TS-180...   \n",
       "71918  Library_30ntNO_fwd_W1A03_primer_2_newPE-TS-180...   \n",
       "\n",
       "                                                Sequence Transcriptome r_t_RNA  \n",
       "0      CGGGTTTCGTTGCGCACACCtGTTGGGCCCTCACAAATACAtTAGA...             2       0  \n",
       "1      CGGGTTTCGTTGCGCACACCtACAATTCACCTTACGTCGTGtATAT...             0       0  \n",
       "2      CGGGTTTCGTTGCGCACACCtATTTACGACTGAACGCAGCAtTAGA...             3       0  \n",
       "3      CGGGTTTCGTTGCGCACACCtGATATAGGGCGAATCCGAACtTGAC...             0       0  \n",
       "4      CGGGTTTCGTTGCGCACACCtTTCAATGCTAGTGCGCCACAtTAGA...             1       0  \n",
       "...                                                  ...           ...     ...  \n",
       "71914  CCCGCAATGGCTGACAACCGtGACAGCTCGGGCATAGATCATATGT...             0       0  \n",
       "71915  CCCGCAATGGCTGACAACCGtAGCGTTGGAGTAGCCGGGTTGGAAT...             2       0  \n",
       "71916  CCCGCAATGGCTGACAACCGtAATTCCGTAGTTCGTCCACCGATGC...             0       0  \n",
       "71917  CCCGCAATGGCTGACAACCGtCTCTAGCAGTTCACGCCGAAAGCCC...             0       0  \n",
       "71918  CCCGCAATGGCTGACAACCGtCTCTAGCAGTTCACGCCGAAAGCCC...             0       0  \n",
       "\n",
       "[71919 rows x 4 columns]"
      ]
     },
     "execution_count": 23,
     "metadata": {},
     "output_type": "execute_result"
    }
   ],
   "source": [
    "final_probe_df"
   ]
  },
  {
   "cell_type": "code",
   "execution_count": 32,
   "id": "86787188",
   "metadata": {},
   "outputs": [],
   "source": [
    "## save primers\n",
    "fwd_primer_names, rev_primer_names = [],[]\n",
    "\n",
    "for _n in final_probe_df['Name']:\n",
    "    fwd_primer_names.append(_n.split('fwd_')[1].split('_newPE')[0])\n",
    "    rev_primer_names.append('W1'+_n.split('_W1')[-1])\n",
    "fwd_primer_names = np.unique(fwd_primer_names)\n",
    "rev_primer_names = np.unique(rev_primer_names)"
   ]
  },
  {
   "cell_type": "code",
   "execution_count": 36,
   "id": "c81df9be",
   "metadata": {},
   "outputs": [],
   "source": [
    "from ChromAn.src.library_tools.primers import load_fasta_to_DataFrame\n",
    "primer_folder = r'\\\\wi-bigdata.wi.mit.edu\\solexa_weissman\\puzheng\\References\\Primers'\n",
    "# fwd\n",
    "forward_primers = load_fasta_to_DataFrame(os.path.join(primer_folder, 'forward_primers_keep.fasta'))\n",
    "reverse_primers = load_fasta_to_DataFrame(os.path.join(primer_folder, 'reverse_primers_keep.fasta'))"
   ]
  },
  {
   "cell_type": "code",
   "execution_count": 40,
   "id": "91e626e9",
   "metadata": {},
   "outputs": [],
   "source": [
    "used_fwd_primers = pd.DataFrame([_row for _i, _row in forward_primers.iterrows() if _row['Name'] in fwd_primer_names])"
   ]
  },
  {
   "cell_type": "code",
   "execution_count": 44,
   "id": "67b3521f",
   "metadata": {},
   "outputs": [],
   "source": [
    "used_rev_primers = pd.DataFrame([_row for _i, _row in reverse_primers.iterrows() if _row['Name'] in rev_primer_names])"
   ]
  },
  {
   "cell_type": "code",
   "execution_count": 50,
   "id": "28b1c9ec",
   "metadata": {},
   "outputs": [],
   "source": [
    "primers = pd.concat([used_fwd_primers, used_rev_primers])\n",
    "primers['Scale'] = '25nm'\n",
    "primers['Purification'] = 'STD'\n",
    "# save\n",
    "primer_filename = os.path.join(library_folder, \n",
    "                               f\"{time.localtime().tm_year}_{time.localtime().tm_mon}_{time.localtime().tm_mday}_primers.xlsx\")\n",
    "primers.to_excel(primer_filename, index=None)"
   ]
  },
  {
   "cell_type": "code",
   "execution_count": 51,
   "id": "1869a07d",
   "metadata": {},
   "outputs": [
    {
     "data": {
      "text/html": [
       "<div>\n",
       "<style scoped>\n",
       "    .dataframe tbody tr th:only-of-type {\n",
       "        vertical-align: middle;\n",
       "    }\n",
       "\n",
       "    .dataframe tbody tr th {\n",
       "        vertical-align: top;\n",
       "    }\n",
       "\n",
       "    .dataframe thead th {\n",
       "        text-align: right;\n",
       "    }\n",
       "</style>\n",
       "<table border=\"1\" class=\"dataframe\">\n",
       "  <thead>\n",
       "    <tr style=\"text-align: right;\">\n",
       "      <th></th>\n",
       "      <th>Name</th>\n",
       "      <th>Sequence</th>\n",
       "      <th>Scale</th>\n",
       "      <th>Purification</th>\n",
       "    </tr>\n",
       "  </thead>\n",
       "  <tbody>\n",
       "    <tr>\n",
       "      <th>1</th>\n",
       "      <td>W1A03_primer_2</td>\n",
       "      <td>CCCGCAATGGCTGACAACCG</td>\n",
       "      <td>25nm</td>\n",
       "      <td>STD</td>\n",
       "    </tr>\n",
       "    <tr>\n",
       "      <th>3</th>\n",
       "      <td>W1A07_primer_6</td>\n",
       "      <td>CGCAAACTGGTGCGGAAGGC</td>\n",
       "      <td>25nm</td>\n",
       "      <td>STD</td>\n",
       "    </tr>\n",
       "    <tr>\n",
       "      <th>8</th>\n",
       "      <td>W1B05_primer_16</td>\n",
       "      <td>CGGGTTTCGTTGCGCACACC</td>\n",
       "      <td>25nm</td>\n",
       "      <td>STD</td>\n",
       "    </tr>\n",
       "    <tr>\n",
       "      <th>4</th>\n",
       "      <td>W1A10_primer_9</td>\n",
       "      <td>TAATACGACTCACTATAGGGATTGCCGCATGGTTTCCG</td>\n",
       "      <td>25nm</td>\n",
       "      <td>STD</td>\n",
       "    </tr>\n",
       "    <tr>\n",
       "      <th>5</th>\n",
       "      <td>W1A12_primer_11</td>\n",
       "      <td>TAATACGACTCACTATAGGGCCATTGCCCGCGAGGTCGAG</td>\n",
       "      <td>25nm</td>\n",
       "      <td>STD</td>\n",
       "    </tr>\n",
       "    <tr>\n",
       "      <th>6</th>\n",
       "      <td>W1B04_primer_15</td>\n",
       "      <td>TAATACGACTCACTATAGGGCTTGTGCATCGCGCCAAAGA</td>\n",
       "      <td>25nm</td>\n",
       "      <td>STD</td>\n",
       "    </tr>\n",
       "  </tbody>\n",
       "</table>\n",
       "</div>"
      ],
      "text/plain": [
       "              Name                                  Sequence Scale  \\\n",
       "1   W1A03_primer_2                      CCCGCAATGGCTGACAACCG  25nm   \n",
       "3   W1A07_primer_6                      CGCAAACTGGTGCGGAAGGC  25nm   \n",
       "8  W1B05_primer_16                      CGGGTTTCGTTGCGCACACC  25nm   \n",
       "4   W1A10_primer_9    TAATACGACTCACTATAGGGATTGCCGCATGGTTTCCG  25nm   \n",
       "5  W1A12_primer_11  TAATACGACTCACTATAGGGCCATTGCCCGCGAGGTCGAG  25nm   \n",
       "6  W1B04_primer_15  TAATACGACTCACTATAGGGCTTGTGCATCGCGCCAAAGA  25nm   \n",
       "\n",
       "  Purification  \n",
       "1          STD  \n",
       "3          STD  \n",
       "8          STD  \n",
       "4          STD  \n",
       "5          STD  \n",
       "6          STD  "
      ]
     },
     "execution_count": 51,
     "metadata": {},
     "output_type": "execute_result"
    }
   ],
   "source": [
    "primers"
   ]
  },
  {
   "cell_type": "code",
   "execution_count": 45,
   "id": "dc68dbde",
   "metadata": {},
   "outputs": [
    {
     "data": {
      "text/html": [
       "<div>\n",
       "<style scoped>\n",
       "    .dataframe tbody tr th:only-of-type {\n",
       "        vertical-align: middle;\n",
       "    }\n",
       "\n",
       "    .dataframe tbody tr th {\n",
       "        vertical-align: top;\n",
       "    }\n",
       "\n",
       "    .dataframe thead th {\n",
       "        text-align: right;\n",
       "    }\n",
       "</style>\n",
       "<table border=\"1\" class=\"dataframe\">\n",
       "  <thead>\n",
       "    <tr style=\"text-align: right;\">\n",
       "      <th></th>\n",
       "      <th>Name</th>\n",
       "      <th>Sequence</th>\n",
       "    </tr>\n",
       "  </thead>\n",
       "  <tbody>\n",
       "    <tr>\n",
       "      <th>4</th>\n",
       "      <td>W1A10_primer_9</td>\n",
       "      <td>TAATACGACTCACTATAGGGATTGCCGCATGGTTTCCG</td>\n",
       "    </tr>\n",
       "    <tr>\n",
       "      <th>5</th>\n",
       "      <td>W1A12_primer_11</td>\n",
       "      <td>TAATACGACTCACTATAGGGCCATTGCCCGCGAGGTCGAG</td>\n",
       "    </tr>\n",
       "    <tr>\n",
       "      <th>6</th>\n",
       "      <td>W1B04_primer_15</td>\n",
       "      <td>TAATACGACTCACTATAGGGCTTGTGCATCGCGCCAAAGA</td>\n",
       "    </tr>\n",
       "  </tbody>\n",
       "</table>\n",
       "</div>"
      ],
      "text/plain": [
       "              Name                                  Sequence\n",
       "4   W1A10_primer_9    TAATACGACTCACTATAGGGATTGCCGCATGGTTTCCG\n",
       "5  W1A12_primer_11  TAATACGACTCACTATAGGGCCATTGCCCGCGAGGTCGAG\n",
       "6  W1B04_primer_15  TAATACGACTCACTATAGGGCTTGTGCATCGCGCCAAAGA"
      ]
     },
     "execution_count": 45,
     "metadata": {},
     "output_type": "execute_result"
    }
   ],
   "source": [
    "used_rev_primers"
   ]
  },
  {
   "cell_type": "code",
   "execution_count": 34,
   "id": "c6f62970",
   "metadata": {},
   "outputs": [
    {
     "data": {
      "text/plain": [
       "(array(['W1A03_primer_2', 'W1A07_primer_6', 'W1B05_primer_16'],\n",
       "       dtype='<U15'),\n",
       " array(['W1A10_primer_9', 'W1A12_primer_11', 'W1B04_primer_15'],\n",
       "       dtype='<U15'))"
      ]
     },
     "execution_count": 34,
     "metadata": {},
     "output_type": "execute_result"
    }
   ],
   "source": [
    "fwd_primer_names, rev_primer_names"
   ]
  },
  {
   "cell_type": "code",
   "execution_count": null,
   "id": "4192e805",
   "metadata": {},
   "outputs": [],
   "source": []
  },
  {
   "cell_type": "code",
   "execution_count": null,
   "id": "de6c2066",
   "metadata": {},
   "outputs": [],
   "source": []
  }
 ],
 "metadata": {
  "kernelspec": {
   "display_name": "postanalysis",
   "language": "python",
   "name": "postanalysis"
  },
  "language_info": {
   "codemirror_mode": {
    "name": "ipython",
    "version": 3
   },
   "file_extension": ".py",
   "mimetype": "text/x-python",
   "name": "python",
   "nbconvert_exporter": "python",
   "pygments_lexer": "ipython3",
   "version": "3.10.10"
  }
 },
 "nbformat": 4,
 "nbformat_minor": 5
}
