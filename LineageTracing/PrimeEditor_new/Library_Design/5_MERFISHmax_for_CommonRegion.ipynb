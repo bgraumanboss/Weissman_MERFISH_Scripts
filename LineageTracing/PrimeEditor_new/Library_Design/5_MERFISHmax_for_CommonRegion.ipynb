{
 "cells": [
  {
   "cell_type": "code",
   "execution_count": 3,
   "id": "d56ba290",
   "metadata": {},
   "outputs": [
    {
     "name": "stdout",
     "output_type": "stream",
     "text": [
      "58376\n"
     ]
    }
   ],
   "source": [
    "import os,sys\n",
    "from importlib import reload\n",
    "import numpy as np\n",
    "import pandas as pd\n",
    "from Bio.Seq import reverse_complement\n",
    "#import torch\n",
    "print(os.getpid())\n",
    "sys.path.append(r'C:\\Softwares\\Github\\MerScope01')\n",
    "\n",
    "from ChromAn.src.library_tools.primers import load_fasta_to_DataFrame\n",
    "import MERFISH_probe_design.probe_design.OTTable_dict as ot"
   ]
  },
  {
   "cell_type": "code",
   "execution_count": 4,
   "id": "45c02ec3",
   "metadata": {},
   "outputs": [
    {
     "name": "stdout",
     "output_type": "stream",
     "text": [
      "\\\\wi-bigdata.wi.mit.edu\\solexa_weissman\\puzheng\\MERFISH_Probes\\PE_TS\\NewTargetSites\n",
      "\\\\wi-bigdata.wi.mit.edu\\solexa_weissman\\puzheng\\MERFISH_Probes\\PE_TS\\NewTargetSites\\Common_MERFISHmax\n"
     ]
    }
   ],
   "source": [
    "pool_folder = r'\\\\wi-bigdata.wi.mit.edu\\solexa_weissman\\puzheng\\MERFISH_Probes\\PE_TS\\NewTargetSites'\n",
    "print(pool_folder)\n",
    "library_folder = os.path.join(pool_folder, 'Common_MERFISHmax')\n",
    "print(library_folder)\n",
    "if not os.path.exists(library_folder):\n",
    "    os.makedirs(library_folder)"
   ]
  },
  {
   "cell_type": "markdown",
   "id": "3dd9cc59",
   "metadata": {},
   "source": [
    "## Load Primers"
   ]
  },
  {
   "cell_type": "code",
   "execution_count": 5,
   "id": "59b3b3c5",
   "metadata": {},
   "outputs": [],
   "source": [
    "primer_folder = r'\\\\wi-bigdata.wi.mit.edu\\solexa_weissman\\puzheng\\References\\Primers'\n",
    "# fwd\n",
    "forward_primers = load_fasta_to_DataFrame(os.path.join(primer_folder, 'forward_primers_keep.fasta'))\n",
    "reverse_primers = load_fasta_to_DataFrame(os.path.join(primer_folder, 'reverse_primers_keep.fasta'))"
   ]
  },
  {
   "cell_type": "markdown",
   "id": "04f7fea0",
   "metadata": {},
   "source": [
    "## Load readouts"
   ]
  },
  {
   "cell_type": "code",
   "execution_count": 6,
   "id": "d84cfe8a",
   "metadata": {},
   "outputs": [
    {
     "data": {
      "text/html": [
       "<div>\n",
       "<style scoped>\n",
       "    .dataframe tbody tr th:only-of-type {\n",
       "        vertical-align: middle;\n",
       "    }\n",
       "\n",
       "    .dataframe tbody tr th {\n",
       "        vertical-align: top;\n",
       "    }\n",
       "\n",
       "    .dataframe thead th {\n",
       "        text-align: right;\n",
       "    }\n",
       "</style>\n",
       "<table border=\"1\" class=\"dataframe\">\n",
       "  <thead>\n",
       "    <tr style=\"text-align: right;\">\n",
       "      <th></th>\n",
       "      <th>Name</th>\n",
       "      <th>Seq tail</th>\n",
       "      <th>Description</th>\n",
       "      <th>Reverse Complement</th>\n",
       "      <th>short_name</th>\n",
       "      <th>Seq_15mer_Tm45</th>\n",
       "      <th>Seq_15mer_Tm45_RC</th>\n",
       "    </tr>\n",
       "  </thead>\n",
       "  <tbody>\n",
       "    <tr>\n",
       "      <th>0</th>\n",
       "      <td>R1__NDB_784</td>\n",
       "      <td>TAGAAATATCCGAGTGGCAT</td>\n",
       "      <td>MERFISH</td>\n",
       "      <td>ATGCCACTCGGATATTTCTA</td>\n",
       "      <td>R1</td>\n",
       "      <td>AATATCCGAGTGGCA</td>\n",
       "      <td>TGCCACTCGGATATT</td>\n",
       "    </tr>\n",
       "    <tr>\n",
       "      <th>1</th>\n",
       "      <td>R2__NDB_755</td>\n",
       "      <td>TGCGACATGTTATGCTAGGC</td>\n",
       "      <td>MERFISH</td>\n",
       "      <td>GCCTAGCATAACATGTCGCA</td>\n",
       "      <td>R2</td>\n",
       "      <td>TGCGACATGTTATGC</td>\n",
       "      <td>GCATAACATGTCGCA</td>\n",
       "    </tr>\n",
       "    <tr>\n",
       "      <th>2</th>\n",
       "      <td>R3__NDB_759</td>\n",
       "      <td>TGACTGTCGTTGACTCTCGG</td>\n",
       "      <td>MERFISH</td>\n",
       "      <td>CCGAGAGTCAACGACAGTCA</td>\n",
       "      <td>R3</td>\n",
       "      <td>TGTCGTTGACTCTCG</td>\n",
       "      <td>CGAGAGTCAACGACA</td>\n",
       "    </tr>\n",
       "    <tr>\n",
       "      <th>3</th>\n",
       "      <td>R4__NDB_826</td>\n",
       "      <td>ATATGTCGATGTCCTTAGAC</td>\n",
       "      <td>MERFISH</td>\n",
       "      <td>GTCTAAGGACATCGACATAT</td>\n",
       "      <td>R4</td>\n",
       "      <td>TGTCGATGTCCTTAG</td>\n",
       "      <td>CTAAGGACATCGACA</td>\n",
       "    </tr>\n",
       "    <tr>\n",
       "      <th>4</th>\n",
       "      <td>R5__NDB_578</td>\n",
       "      <td>AGGCGATACATGAGAGGCGT</td>\n",
       "      <td>MERFISH</td>\n",
       "      <td>ACGCCTCTCATGTATCGCCT</td>\n",
       "      <td>R5</td>\n",
       "      <td>AGGCGATACATGAGA</td>\n",
       "      <td>TCTCATGTATCGCCT</td>\n",
       "    </tr>\n",
       "    <tr>\n",
       "      <th>...</th>\n",
       "      <td>...</td>\n",
       "      <td>...</td>\n",
       "      <td>...</td>\n",
       "      <td>...</td>\n",
       "      <td>...</td>\n",
       "      <td>...</td>\n",
       "      <td>...</td>\n",
       "    </tr>\n",
       "    <tr>\n",
       "      <th>189</th>\n",
       "      <td>R190__NDB_941</td>\n",
       "      <td>GCAATAGCGGCACCTTTCAC</td>\n",
       "      <td>Extra</td>\n",
       "      <td>GTGAAAGGTGCCGCTATTGC</td>\n",
       "      <td>R190</td>\n",
       "      <td>AATAGCGGCACCTTT</td>\n",
       "      <td>AAAGGTGCCGCTATT</td>\n",
       "    </tr>\n",
       "    <tr>\n",
       "      <th>190</th>\n",
       "      <td>R191__NDB_846</td>\n",
       "      <td>GGCTATTAGTCGGTCTGATA</td>\n",
       "      <td>Extra</td>\n",
       "      <td>TATCAGACCGACTAATAGCC</td>\n",
       "      <td>R191</td>\n",
       "      <td>GGCTATTAGTCGGTC</td>\n",
       "      <td>GACCGACTAATAGCC</td>\n",
       "    </tr>\n",
       "    <tr>\n",
       "      <th>191</th>\n",
       "      <td>R192__NDB_775</td>\n",
       "      <td>GTTACTCGACCCGCGTGCAA</td>\n",
       "      <td>Extra</td>\n",
       "      <td>TTGCACGCGGGTCGAGTAAC</td>\n",
       "      <td>R192</td>\n",
       "      <td>GTTACTCGACCCGCG</td>\n",
       "      <td>CGCGGGTCGAGTAAC</td>\n",
       "    </tr>\n",
       "    <tr>\n",
       "      <th>192</th>\n",
       "      <td>R193__NDB_439</td>\n",
       "      <td>TCTCGTAGAGATCCTCACCG</td>\n",
       "      <td>Extra</td>\n",
       "      <td>CGGTGAGGATCTCTACGAGA</td>\n",
       "      <td>R193</td>\n",
       "      <td>CGTAGAGATCCTCAC</td>\n",
       "      <td>GTGAGGATCTCTACG</td>\n",
       "    </tr>\n",
       "    <tr>\n",
       "      <th>193</th>\n",
       "      <td>R194__NDB_452</td>\n",
       "      <td>GTTAACTCCTGCGATCGGCT</td>\n",
       "      <td>Extra</td>\n",
       "      <td>AGCCGATCGCAGGAGTTAAC</td>\n",
       "      <td>R194</td>\n",
       "      <td>TAACTCCTGCGATCG</td>\n",
       "      <td>CGATCGCAGGAGTTA</td>\n",
       "    </tr>\n",
       "  </tbody>\n",
       "</table>\n",
       "<p>194 rows × 7 columns</p>\n",
       "</div>"
      ],
      "text/plain": [
       "              Name              Seq tail Description    Reverse Complement  \\\n",
       "0      R1__NDB_784  TAGAAATATCCGAGTGGCAT     MERFISH  ATGCCACTCGGATATTTCTA   \n",
       "1      R2__NDB_755  TGCGACATGTTATGCTAGGC     MERFISH  GCCTAGCATAACATGTCGCA   \n",
       "2      R3__NDB_759  TGACTGTCGTTGACTCTCGG     MERFISH  CCGAGAGTCAACGACAGTCA   \n",
       "3      R4__NDB_826  ATATGTCGATGTCCTTAGAC     MERFISH  GTCTAAGGACATCGACATAT   \n",
       "4      R5__NDB_578  AGGCGATACATGAGAGGCGT     MERFISH  ACGCCTCTCATGTATCGCCT   \n",
       "..             ...                   ...         ...                   ...   \n",
       "189  R190__NDB_941  GCAATAGCGGCACCTTTCAC       Extra  GTGAAAGGTGCCGCTATTGC   \n",
       "190  R191__NDB_846  GGCTATTAGTCGGTCTGATA       Extra  TATCAGACCGACTAATAGCC   \n",
       "191  R192__NDB_775  GTTACTCGACCCGCGTGCAA       Extra  TTGCACGCGGGTCGAGTAAC   \n",
       "192  R193__NDB_439  TCTCGTAGAGATCCTCACCG       Extra  CGGTGAGGATCTCTACGAGA   \n",
       "193  R194__NDB_452  GTTAACTCCTGCGATCGGCT       Extra  AGCCGATCGCAGGAGTTAAC   \n",
       "\n",
       "    short_name   Seq_15mer_Tm45 Seq_15mer_Tm45_RC  \n",
       "0           R1  AATATCCGAGTGGCA   TGCCACTCGGATATT  \n",
       "1           R2  TGCGACATGTTATGC   GCATAACATGTCGCA  \n",
       "2           R3  TGTCGTTGACTCTCG   CGAGAGTCAACGACA  \n",
       "3           R4  TGTCGATGTCCTTAG   CTAAGGACATCGACA  \n",
       "4           R5  AGGCGATACATGAGA   TCTCATGTATCGCCT  \n",
       "..         ...              ...               ...  \n",
       "189       R190  AATAGCGGCACCTTT   AAAGGTGCCGCTATT  \n",
       "190       R191  GGCTATTAGTCGGTC   GACCGACTAATAGCC  \n",
       "191       R192  GTTACTCGACCCGCG   CGCGGGTCGAGTAAC  \n",
       "192       R193  CGTAGAGATCCTCAC   GTGAGGATCTCTACG  \n",
       "193       R194  TAACTCCTGCGATCG   CGATCGCAGGAGTTA  \n",
       "\n",
       "[194 rows x 7 columns]"
      ]
     },
     "execution_count": 6,
     "metadata": {},
     "output_type": "execute_result"
    }
   ],
   "source": [
    "readout_folder = r'\\\\wi-bigdata.wi.mit.edu\\solexa_weissman\\puzheng\\References\\Readouts'\n",
    "readout_filename = os.path.join(readout_folder, 'perturbfish_bits_4base_extended.csv')\n",
    "readout_df = pd.read_csv(readout_filename)\n",
    "readout_df"
   ]
  },
  {
   "cell_type": "code",
   "execution_count": 14,
   "id": "0aaad100",
   "metadata": {},
   "outputs": [
    {
     "data": {
      "text/html": [
       "<div>\n",
       "<style scoped>\n",
       "    .dataframe tbody tr th:only-of-type {\n",
       "        vertical-align: middle;\n",
       "    }\n",
       "\n",
       "    .dataframe tbody tr th {\n",
       "        vertical-align: top;\n",
       "    }\n",
       "\n",
       "    .dataframe thead th {\n",
       "        text-align: right;\n",
       "    }\n",
       "</style>\n",
       "<table border=\"1\" class=\"dataframe\">\n",
       "  <thead>\n",
       "    <tr style=\"text-align: right;\">\n",
       "      <th></th>\n",
       "      <th>Name</th>\n",
       "      <th>Sequence</th>\n",
       "    </tr>\n",
       "  </thead>\n",
       "  <tbody>\n",
       "    <tr>\n",
       "      <th>0</th>\n",
       "      <td>R52__NDB_466</td>\n",
       "      <td>CGTGTACGGTCAAATACGAG</td>\n",
       "    </tr>\n",
       "    <tr>\n",
       "      <th>1</th>\n",
       "      <td>R53__NDB_974</td>\n",
       "      <td>AAATAGCGTGCTGCCTACCT</td>\n",
       "    </tr>\n",
       "  </tbody>\n",
       "</table>\n",
       "</div>"
      ],
      "text/plain": [
       "           Name              Sequence\n",
       "0  R52__NDB_466  CGTGTACGGTCAAATACGAG\n",
       "1  R53__NDB_974  AAATAGCGTGCTGCCTACCT"
      ]
     },
     "execution_count": 14,
     "metadata": {},
     "output_type": "execute_result"
    }
   ],
   "source": [
    "# select readouts\n",
    "sel_readouts = pd.DataFrame({'Name':readout_df['Name'].values[51:53], 'Sequence':readout_df['Seq tail'][51:53].values})\n",
    "sel_readouts # these are the sequences in the probes"
   ]
  },
  {
   "cell_type": "markdown",
   "id": "8a276a4b",
   "metadata": {},
   "source": [
    "## Cleanup SV40 probes"
   ]
  },
  {
   "cell_type": "code",
   "execution_count": 15,
   "id": "ac83dd63",
   "metadata": {},
   "outputs": [
    {
     "data": {
      "text/plain": [
       "'\\\\\\\\wi-bigdata.wi.mit.edu\\\\solexa_weissman\\\\puzheng\\\\MERFISH_Probes\\\\PE_TS\\\\NewTargetSites'"
      ]
     },
     "execution_count": 15,
     "metadata": {},
     "output_type": "execute_result"
    }
   ],
   "source": [
    "pool_folder"
   ]
  },
  {
   "cell_type": "code",
   "execution_count": null,
   "id": "7e1e3e09",
   "metadata": {},
   "outputs": [],
   "source": [
    "PL21_probe_filename = os. "
   ]
  }
 ],
 "metadata": {
  "kernelspec": {
   "display_name": "postanalysis",
   "language": "python",
   "name": "postanalysis"
  },
  "language_info": {
   "codemirror_mode": {
    "name": "ipython",
    "version": 3
   },
   "file_extension": ".py",
   "mimetype": "text/x-python",
   "name": "python",
   "nbconvert_exporter": "python",
   "pygments_lexer": "ipython3",
   "version": "3.10.10"
  }
 },
 "nbformat": 4,
 "nbformat_minor": 5
}
