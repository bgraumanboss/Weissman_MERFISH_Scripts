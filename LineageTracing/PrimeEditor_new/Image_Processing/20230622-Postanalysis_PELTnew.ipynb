{
 "cells": [
  {
   "cell_type": "code",
   "execution_count": 1,
   "id": "b3f0f590",
   "metadata": {},
   "outputs": [
    {
     "name": "stdout",
     "output_type": "stream",
     "text": [
      "33064\n"
     ]
    }
   ],
   "source": [
    "# Basic imports\n",
    "import os,sys,re\n",
    "from importlib import reload\n",
    "import numpy as np\n",
    "import pandas as pd\n",
    "#import torch\n",
    "print(os.getpid())"
   ]
  },
  {
   "cell_type": "code",
   "execution_count": 2,
   "id": "12727610",
   "metadata": {},
   "outputs": [],
   "source": [
    "# ChromAn related imports\n",
    "sys.path.append(r'C:\\Softwares\\Github\\MerScope01') # parent folder of ChromAn\n",
    "\n",
    "from ChromAn.src import file_io\n",
    "\n",
    "from ChromAn.src.file_io import dax_process\n",
    "from ChromAn.src.file_io import data_organization\n",
    "from ChromAn.src.visual_tools import interactive"
   ]
  },
  {
   "cell_type": "markdown",
   "id": "85542ef9",
   "metadata": {},
   "source": [
    "## Data folder"
   ]
  },
  {
   "cell_type": "code",
   "execution_count": 3,
   "id": "f6979c1c",
   "metadata": {},
   "outputs": [
    {
     "name": "stdout",
     "output_type": "stream",
     "text": [
      "- searching in folder: \\\\wi-bigdata.wi.mit.edu\\weissman_imaging\\puzheng\\PE_LT\\20230630-4T1cell_methanol\n",
      "-- 7 folders, 166 fovs detected.\n"
     ]
    }
   ],
   "source": [
    "# data folder\n",
    "data_folder = r'\\\\wi-bigdata.wi.mit.edu\\weissman_imaging\\puzheng\\PE_LT\\20230630-4T1cell_methanol'\n",
    "# scan subfolders\n",
    "folders, fovs = data_organization.search_fovs_in_folders(data_folder)"
   ]
  },
  {
   "cell_type": "code",
   "execution_count": 7,
   "id": "bf8f2b9d",
   "metadata": {},
   "outputs": [
    {
     "name": "stdout",
     "output_type": "stream",
     "text": [
      "- load color_usage from file: \\\\wi-bigdata.wi.mit.edu\\weissman_imaging\\puzheng\\PE_LT\\20230630-4T1cell_methanol\\Analysis\\Color_Usage.csv\n"
     ]
    },
    {
     "data": {
      "text/html": [
       "<div>\n",
       "<style scoped>\n",
       "    .dataframe tbody tr th:only-of-type {\n",
       "        vertical-align: middle;\n",
       "    }\n",
       "\n",
       "    .dataframe tbody tr th {\n",
       "        vertical-align: top;\n",
       "    }\n",
       "\n",
       "    .dataframe thead th {\n",
       "        text-align: right;\n",
       "    }\n",
       "</style>\n",
       "<table border=\"1\" class=\"dataframe\">\n",
       "  <thead>\n",
       "    <tr style=\"text-align: right;\">\n",
       "      <th></th>\n",
       "      <th>750</th>\n",
       "      <th>647</th>\n",
       "      <th>561</th>\n",
       "      <th>488</th>\n",
       "      <th>405</th>\n",
       "    </tr>\n",
       "    <tr>\n",
       "      <th>Hyb</th>\n",
       "      <th></th>\n",
       "      <th></th>\n",
       "      <th></th>\n",
       "      <th></th>\n",
       "      <th></th>\n",
       "    </tr>\n",
       "  </thead>\n",
       "  <tbody>\n",
       "    <tr>\n",
       "      <th>H0M1</th>\n",
       "      <td>r1</td>\n",
       "      <td>r53</td>\n",
       "      <td>r52</td>\n",
       "      <td>beads</td>\n",
       "      <td>DAPI</td>\n",
       "    </tr>\n",
       "    <tr>\n",
       "      <th>H1M2</th>\n",
       "      <td>r2</td>\n",
       "      <td>r21</td>\n",
       "      <td>empty</td>\n",
       "      <td>beads</td>\n",
       "      <td>NaN</td>\n",
       "    </tr>\n",
       "    <tr>\n",
       "      <th>H2M3</th>\n",
       "      <td>m1</td>\n",
       "      <td>m2</td>\n",
       "      <td>m3</td>\n",
       "      <td>beads</td>\n",
       "      <td>NaN</td>\n",
       "    </tr>\n",
       "    <tr>\n",
       "      <th>H3M4</th>\n",
       "      <td>m4</td>\n",
       "      <td>m5</td>\n",
       "      <td>m6</td>\n",
       "      <td>beads</td>\n",
       "      <td>NaN</td>\n",
       "    </tr>\n",
       "    <tr>\n",
       "      <th>H4M5</th>\n",
       "      <td>m7</td>\n",
       "      <td>m8</td>\n",
       "      <td>m9</td>\n",
       "      <td>beads</td>\n",
       "      <td>NaN</td>\n",
       "    </tr>\n",
       "    <tr>\n",
       "      <th>H5M6</th>\n",
       "      <td>m10</td>\n",
       "      <td>m11</td>\n",
       "      <td>m12</td>\n",
       "      <td>beads</td>\n",
       "      <td>NaN</td>\n",
       "    </tr>\n",
       "    <tr>\n",
       "      <th>H6M7</th>\n",
       "      <td>m13</td>\n",
       "      <td>m14</td>\n",
       "      <td>m15</td>\n",
       "      <td>beads</td>\n",
       "      <td>NaN</td>\n",
       "    </tr>\n",
       "  </tbody>\n",
       "</table>\n",
       "</div>"
      ],
      "text/plain": [
       "      750  647    561    488   405\n",
       "Hyb                               \n",
       "H0M1   r1  r53    r52  beads  DAPI\n",
       "H1M2   r2  r21  empty  beads   NaN\n",
       "H2M3   m1   m2     m3  beads   NaN\n",
       "H3M4   m4   m5     m6  beads   NaN\n",
       "H4M5   m7   m8     m9  beads   NaN\n",
       "H5M6  m10  m11    m12  beads   NaN\n",
       "H6M7  m13  m14    m15  beads   NaN"
      ]
     },
     "execution_count": 7,
     "metadata": {},
     "output_type": "execute_result"
    }
   ],
   "source": [
    "# color usage\n",
    "color_usage_filename = os.path.join(data_folder, 'Analysis', 'Color_Usage.csv')\n",
    "data_organization.Color_Usage(color_usage_filename)"
   ]
  },
  {
   "cell_type": "code",
   "execution_count": null,
   "id": "2ec1f8e1",
   "metadata": {},
   "outputs": [],
   "source": []
  },
  {
   "cell_type": "markdown",
   "id": "88136c66",
   "metadata": {},
   "source": [
    "# Create field of view class"
   ]
  },
  {
   "cell_type": "code",
   "execution_count": 13,
   "id": "cb76624b",
   "metadata": {},
   "outputs": [
    {
     "ename": "NameError",
     "evalue": "name 'classes' is not defined",
     "output_type": "error",
     "traceback": [
      "\u001b[1;31m---------------------------------------------------------------------------\u001b[0m",
      "\u001b[1;31mNameError\u001b[0m                                 Traceback (most recent call last)",
      "Cell \u001b[1;32mIn[13], line 1\u001b[0m\n\u001b[1;32m----> 1\u001b[0m reload(\u001b[43mclasses\u001b[49m)\n",
      "\u001b[1;31mNameError\u001b[0m: name 'classes' is not defined"
     ]
    }
   ],
   "source": [
    "from ChromAn.src import classes\n",
    "reload "
   ]
  },
  {
   "cell_type": "code",
   "execution_count": 3,
   "id": "3e9ec5c6",
   "metadata": {},
   "outputs": [
    {
     "ename": "SyntaxError",
     "evalue": "invalid syntax (field_of_view.py, line 13)",
     "output_type": "error",
     "traceback": [
      "Traceback \u001b[1;36m(most recent call last)\u001b[0m:\n",
      "\u001b[0m  File \u001b[0;32m~\\.conda\\envs\\postanalysis\\lib\\site-packages\\IPython\\core\\interactiveshell.py:3460\u001b[0m in \u001b[0;35mrun_code\u001b[0m\n    exec(code_obj, self.user_global_ns, self.user_ns)\u001b[0m\n",
      "\u001b[1;36m  Cell \u001b[1;32mIn[3], line 1\u001b[1;36m\n\u001b[1;33m    from ChromAn.src.classes import field_of_view\u001b[1;36m\n",
      "\u001b[1;36m  File \u001b[1;32mC:\\Softwares\\Github\\MerScope01\\ChromAn\\src\\classes\\field_of_view.py:13\u001b[1;36m\u001b[0m\n\u001b[1;33m    from .. import , ,,\\\u001b[0m\n\u001b[1;37m                   ^\u001b[0m\n\u001b[1;31mSyntaxError\u001b[0m\u001b[1;31m:\u001b[0m invalid syntax\n"
     ]
    }
   ],
   "source": [
    "from ChromAn.src.classes import field_of_view"
   ]
  },
  {
   "cell_type": "code",
   "execution_count": null,
   "id": "0258a96d",
   "metadata": {},
   "outputs": [],
   "source": []
  }
 ],
 "metadata": {
  "kernelspec": {
   "display_name": "postanalysis",
   "language": "python",
   "name": "postanalysis"
  },
  "language_info": {
   "codemirror_mode": {
    "name": "ipython",
    "version": 3
   },
   "file_extension": ".py",
   "mimetype": "text/x-python",
   "name": "python",
   "nbconvert_exporter": "python",
   "pygments_lexer": "ipython3",
   "version": "3.10.10"
  }
 },
 "nbformat": 4,
 "nbformat_minor": 5
}
