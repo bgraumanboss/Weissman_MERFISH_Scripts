{
 "cells": [
  {
   "cell_type": "code",
   "execution_count": 1,
   "id": "a92a22eb",
   "metadata": {},
   "outputs": [
    {
     "name": "stdout",
     "output_type": "stream",
     "text": [
      "394046\n"
     ]
    }
   ],
   "source": [
    "# Basic imports\n",
    "import os,sys,re\n",
    "from importlib import reload\n",
    "import numpy as np\n",
    "import pandas as pd\n",
    "#import torch\n",
    "print(os.getpid())"
   ]
  },
  {
   "cell_type": "code",
   "execution_count": 24,
   "id": "32ee2328",
   "metadata": {},
   "outputs": [],
   "source": [
    "# ChromAn related imports\n",
    "sys.path.append(r'/lab/weissman_imaging/puzheng/Softwares/') # parent folder of ChromAn\n",
    "import ImageAnalysis3 as ia3\n",
    "import h5py\n",
    "from ImageAnalysis3.classes import _allowed_kwds\n",
    "import ast\n",
    "from ChromAn.src import file_io\n",
    "\n",
    "from ChromAn.src.file_io import dax_process\n",
    "from ChromAn.src.file_io import data_organization\n",
    "from ChromAn.src.visual_tools import interactive\n",
    "from ChromAn.src.correction_tools.alignment import generate_drift_crops\n",
    "from ChromAn.src.spot_tools.match_spots import colocalize_spots\n",
    "\n",
    "import pickle"
   ]
  },
  {
   "cell_type": "code",
   "execution_count": 25,
   "id": "ad85a767",
   "metadata": {},
   "outputs": [
    {
     "name": "stdout",
     "output_type": "stream",
     "text": [
      "- searching in folder: /lab/weissman_imaging/puzheng/PE_LT/20230913-4T1top8_preEdit_400k0907\n",
      "-- 17 folders, 325 fovs detected.\n"
     ]
    }
   ],
   "source": [
    "# data folder\n",
    "data_folder = r'/lab/weissman_imaging/puzheng/PE_LT/20230913-4T1top8_preEdit_400k0907'\n",
    "# scan subfolders\n",
    "folders, fovs = data_organization.search_fovs_in_folders(data_folder)\n",
    "# analysis folder\n",
    "analysis_folder = os.path.join(data_folder, 'Analysis')\n",
    "# figure_folder\n",
    "figure_folder = os.path.join(analysis_folder, 'saved_figures_20231018')\n",
    "if not os.path.exists(figure_folder):\n",
    "    os.makedirs(figure_folder)"
   ]
  },
  {
   "cell_type": "code",
   "execution_count": 26,
   "id": "5f471f6d",
   "metadata": {},
   "outputs": [
    {
     "name": "stdout",
     "output_type": "stream",
     "text": [
      "- load color_usage from file: /lab/weissman_imaging/puzheng/PE_LT/20230913-4T1top8_preEdit_400k0907/Analysis/Color_Usage.csv\n"
     ]
    }
   ],
   "source": [
    "color_usage_df = data_organization.Color_Usage(os.path.join(analysis_folder, \"Color_Usage.csv\"))"
   ]
  },
  {
   "cell_type": "code",
   "execution_count": 27,
   "id": "b2b31b3c",
   "metadata": {},
   "outputs": [],
   "source": [
    "save_folder = analysis_folder\n",
    "save_filenames = [os.path.join(save_folder, _fl) for _fl in os.listdir(save_folder)\n",
    "                  if _fl.split(os.extsep)[-1]=='hdf5']\n",
    "import re\n",
    "match = re.match(r'.*_([0-9]+).hdf5', os.path.basename(save_filenames[0]), ).groups()[0]\n",
    "save_filenames = [_f for _f in sorted(save_filenames, \n",
    "                                      key=lambda _v:int(re.match(r'.*_([0-9]+).hdf5', os.path.basename(_v), ).groups()[0]))]"
   ]
  },
  {
   "cell_type": "code",
   "execution_count": 28,
   "id": "a9834805",
   "metadata": {},
   "outputs": [],
   "source": [
    "processed_filenames = [os.path.join(save_folder, _fl) for _fl in os.listdir(save_folder)\n",
    "                       if '_processed_info.pkl' in _fl]\n",
    "processed_filenames = [_f for _f in sorted(processed_filenames, \n",
    "                                      key=lambda _v:int(re.match(r'.*_([0-9]+)_processed_info.pkl', os.path.basename(_v), ).groups()[0]))]\n"
   ]
  },
  {
   "cell_type": "code",
   "execution_count": 40,
   "id": "9c5409fa",
   "metadata": {
    "scrolled": true
   },
   "outputs": [
    {
     "name": "stdout",
     "output_type": "stream",
     "text": [
      " loaded 47 from file: Conv_zscan_003_processed_info.pkl\n",
      " loaded 63 from file: Conv_zscan_004_processed_info.pkl\n",
      " loaded 23 from file: Conv_zscan_005_processed_info.pkl\n",
      " loaded 62 from file: Conv_zscan_006_processed_info.pkl\n",
      " loaded 58 from file: Conv_zscan_007_processed_info.pkl\n",
      " loaded 53 from file: Conv_zscan_008_processed_info.pkl\n",
      " loaded 11 from file: Conv_zscan_009_processed_info.pkl\n",
      " loaded 58 from file: Conv_zscan_010_processed_info.pkl\n",
      " loaded 34 from file: Conv_zscan_011_processed_info.pkl\n",
      " loaded 30 from file: Conv_zscan_012_processed_info.pkl\n",
      " loaded 89 from file: Conv_zscan_013_processed_info.pkl\n",
      " loaded 38 from file: Conv_zscan_014_processed_info.pkl\n",
      " loaded 25 from file: Conv_zscan_015_processed_info.pkl\n",
      " loaded 29 from file: Conv_zscan_016_processed_info.pkl\n",
      " loaded 51 from file: Conv_zscan_017_processed_info.pkl\n",
      " loaded 54 from file: Conv_zscan_020_processed_info.pkl\n",
      " loaded 71 from file: Conv_zscan_021_processed_info.pkl\n",
      " loaded 61 from file: Conv_zscan_022_processed_info.pkl\n",
      " loaded 5 from file: Conv_zscan_023_processed_info.pkl\n",
      " loaded 42 from file: Conv_zscan_024_processed_info.pkl\n",
      " loaded 83 from file: Conv_zscan_025_processed_info.pkl\n",
      " loaded 87 from file: Conv_zscan_026_processed_info.pkl\n",
      " loaded 118 from file: Conv_zscan_027_processed_info.pkl\n",
      " loaded 8 from file: Conv_zscan_028_processed_info.pkl\n",
      " loaded 13 from file: Conv_zscan_029_processed_info.pkl\n",
      " loaded 68 from file: Conv_zscan_030_processed_info.pkl\n",
      " loaded 54 from file: Conv_zscan_031_processed_info.pkl\n",
      " loaded 42 from file: Conv_zscan_032_processed_info.pkl\n",
      " loaded 29 from file: Conv_zscan_033_processed_info.pkl\n",
      " loaded 92 from file: Conv_zscan_034_processed_info.pkl\n",
      " loaded 69 from file: Conv_zscan_035_processed_info.pkl\n",
      " loaded 18 from file: Conv_zscan_036_processed_info.pkl\n",
      " loaded 40 from file: Conv_zscan_037_processed_info.pkl\n",
      " loaded 35 from file: Conv_zscan_038_processed_info.pkl\n",
      " loaded 48 from file: Conv_zscan_039_processed_info.pkl\n",
      "- 1708 in total\n"
     ]
    }
   ],
   "source": [
    "# load infos:\n",
    "all_intbc_ims = []\n",
    "all_edit_ims = []\n",
    "for _fl in processed_filenames:\n",
    "    #print(_fl)\n",
    "    _fov_info = pickle.load(open(_fl, 'rb'))\n",
    "    for _info in _fov_info:\n",
    "        all_intbc_ims.append(_info['intbc_ims'])\n",
    "        all_edit_ims.append(_info['edit_ims'])\n",
    "    # extract all edits ims\n",
    "    print(f\" loaded {len(_fov_info)} from file: {os.path.basename(_fl)}\")\n",
    "print(f\"- {len(all_intbc_ims)} in total\")"
   ]
  },
  {
   "cell_type": "code",
   "execution_count": 38,
   "id": "9342ac78",
   "metadata": {},
   "outputs": [
    {
     "data": {
      "text/plain": [
       "47"
      ]
     },
     "execution_count": 38,
     "metadata": {},
     "output_type": "execute_result"
    }
   ],
   "source": [
    "len(all_intbc_ims)"
   ]
  },
  {
   "cell_type": "code",
   "execution_count": 43,
   "id": "a091d1ef",
   "metadata": {},
   "outputs": [
    {
     "name": "stdout",
     "output_type": "stream",
     "text": [
      "/lab/solexa_weissman/puzheng/PE_LT/Analysis/0913_top8/intbc_ims.npy /lab/solexa_weissman/puzheng/PE_LT/Analysis/0913_top8/edit_ims.npy\n"
     ]
    }
   ],
   "source": [
    "# Save to temp location\n",
    "temp_folder = r'/lab/solexa_weissman/puzheng/PE_LT/Analysis/0913_top8'\n",
    "if not os.path.isdir(temp_folder):\n",
    "    os.makedirs(temp_folder)\n",
    "# ims files:\n",
    "intbcIm_filename = os.path.join(temp_folder, 'intbc_ims.npy')\n",
    "editIm_filename = os.path.join(temp_folder, 'edit_ims.npy')\n",
    "print(intbcIm_filename, editIm_filename)\n",
    "np.save(intbcIm_filename, all_intbc_ims)\n",
    "np.save(editIm_filename, all_edit_ims)\n"
   ]
  },
  {
   "cell_type": "markdown",
   "id": "cdad751f",
   "metadata": {},
   "source": [
    "# Load codebook"
   ]
  },
  {
   "cell_type": "code",
   "execution_count": 45,
   "id": "2d1386ba",
   "metadata": {},
   "outputs": [],
   "source": [
    "codebook_filename = r'/lab/solexa_weissman/puzheng/MERFISH_Probes/PE_TS/NewTargetSites/IntBC_MERFISH/full_codebook.csv'\n",
    "codebook = pd.read_csv(codebook_filename)"
   ]
  },
  {
   "cell_type": "code",
   "execution_count": null,
   "id": "358440ca",
   "metadata": {},
   "outputs": [],
   "source": []
  },
  {
   "cell_type": "code",
   "execution_count": 34,
   "id": "9752c2da",
   "metadata": {},
   "outputs": [
    {
     "data": {
      "text/plain": [
       "47"
      ]
     },
     "execution_count": 34,
     "metadata": {},
     "output_type": "execute_result"
    }
   ],
   "source": [
    "len(_fov_info)"
   ]
  },
  {
   "cell_type": "code",
   "execution_count": 35,
   "id": "d5f35461",
   "metadata": {},
   "outputs": [
    {
     "data": {
      "text/plain": [
       "dict_keys(['dapi_im', 'sv40_im', 'intbc_ims', 'intbc_ids', 'edit_ims', 'edit_ids'])"
      ]
     },
     "execution_count": 35,
     "metadata": {},
     "output_type": "execute_result"
    }
   ],
   "source": [
    "_fov_info[0].keys()"
   ]
  },
  {
   "cell_type": "code",
   "execution_count": null,
   "id": "919b6242",
   "metadata": {},
   "outputs": [],
   "source": []
  }
 ],
 "metadata": {
  "kernelspec": {
   "display_name": "postanalysis",
   "language": "python",
   "name": "postanalysis"
  },
  "language_info": {
   "codemirror_mode": {
    "name": "ipython",
    "version": 3
   },
   "file_extension": ".py",
   "mimetype": "text/x-python",
   "name": "python",
   "nbconvert_exporter": "python",
   "pygments_lexer": "ipython3",
   "version": "3.10.12"
  }
 },
 "nbformat": 4,
 "nbformat_minor": 5
}
