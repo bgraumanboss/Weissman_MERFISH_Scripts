{
 "cells": [
  {
   "cell_type": "code",
   "execution_count": 3,
   "id": "a92a22eb",
   "metadata": {},
   "outputs": [
    {
     "name": "stdout",
     "output_type": "stream",
     "text": [
      "356098\n"
     ]
    }
   ],
   "source": [
    "# Basic imports\n",
    "import os,sys,re\n",
    "from importlib import reload\n",
    "import numpy as np\n",
    "import pandas as pd\n",
    "#import torch\n",
    "print(os.getpid())"
   ]
  },
  {
   "cell_type": "code",
   "execution_count": 4,
   "id": "32ee2328",
   "metadata": {},
   "outputs": [],
   "source": [
    "# ChromAn related imports\n",
    "sys.path.append(r'/lab/weissman_imaging/puzheng/Softwares/') # parent folder of ChromAn\n",
    "import ImageAnalysis3 as ia3\n",
    "import h5py\n",
    "from ImageAnalysis3.classes import _allowed_kwds\n",
    "import ast\n",
    "from ChromAn.src import file_io\n",
    "\n",
    "from ChromAn.src.file_io import dax_process\n",
    "from ChromAn.src.file_io import data_organization\n",
    "from ChromAn.src.visual_tools import interactive\n",
    "from ChromAn.src.correction_tools.alignment import generate_drift_crops\n",
    "from ChromAn.src.spot_tools.match_spots import colocalize_spots\n",
    "\n",
    "import pickle"
   ]
  },
  {
   "cell_type": "code",
   "execution_count": 5,
   "id": "ad85a767",
   "metadata": {},
   "outputs": [
    {
     "name": "stdout",
     "output_type": "stream",
     "text": [
      "- searching in folder: /lab/weissman_imaging/puzheng/PE_LT/20230913-4T1top8_preEdit_400k0907\n",
      "-- 17 folders, 325 fovs detected.\n"
     ]
    }
   ],
   "source": [
    "# data folder\n",
    "data_folder = r'/lab/weissman_imaging/puzheng/PE_LT/20230913-4T1top8_preEdit_400k0907'\n",
    "# scan subfolders\n",
    "folders, fovs = data_organization.search_fovs_in_folders(data_folder)\n",
    "# analysis folder\n",
    "analysis_folder = os.path.join(data_folder, 'Analysis')\n",
    "# figure_folder\n",
    "figure_folder = os.path.join(analysis_folder, 'saved_figures_20231018')\n",
    "if not os.path.exists(figure_folder):\n",
    "    os.makedirs(figure_folder)"
   ]
  },
  {
   "cell_type": "code",
   "execution_count": 6,
   "id": "5f471f6d",
   "metadata": {},
   "outputs": [
    {
     "name": "stdout",
     "output_type": "stream",
     "text": [
      "- load color_usage from file: /lab/weissman_imaging/puzheng/PE_LT/20230913-4T1top8_preEdit_400k0907/Analysis/Color_Usage.csv\n"
     ]
    }
   ],
   "source": [
    "color_usage_filename = os.path.join(analysis_folder, \"Color_Usage.csv\")\n",
    "color_usage_df = data_organization.Color_Usage(color_usage_filename)"
   ]
  },
  {
   "cell_type": "code",
   "execution_count": 7,
   "id": "b2b31b3c",
   "metadata": {},
   "outputs": [],
   "source": [
    "save_folder = analysis_folder\n",
    "save_filenames = [os.path.join(save_folder, _fl) for _fl in os.listdir(save_folder)\n",
    "                  if _fl.split(os.extsep)[-1]=='hdf5']\n",
    "import re\n",
    "match = re.match(r'.*_([0-9]+).hdf5', os.path.basename(save_filenames[0]), ).groups()[0]\n",
    "save_filenames = [_f for _f in sorted(save_filenames, \n",
    "                                      key=lambda _v:int(re.match(r'.*_([0-9]+).hdf5', os.path.basename(_v), ).groups()[0]))]"
   ]
  },
  {
   "cell_type": "code",
   "execution_count": 9,
   "id": "a9834805",
   "metadata": {},
   "outputs": [
    {
     "name": "stdout",
     "output_type": "stream",
     "text": [
      "116\n"
     ]
    }
   ],
   "source": [
    "processed_filenames = [os.path.join(save_folder, _fl) for _fl in os.listdir(save_folder)\n",
    "                       if '_processed_info.pkl' in _fl]\n",
    "processed_filenames = [_f for _f in sorted(processed_filenames, \n",
    "                                      key=lambda _v:int(re.match(r'.*_([0-9]+)_processed_info.pkl', os.path.basename(_v), ).groups()[0]))]\n",
    "\n",
    "print(len(processed_filenames))"
   ]
  },
  {
   "cell_type": "code",
   "execution_count": 10,
   "id": "9c5409fa",
   "metadata": {
    "scrolled": true
   },
   "outputs": [
    {
     "name": "stdout",
     "output_type": "stream",
     "text": [
      " loaded 47 from file: Conv_zscan_003_processed_info.pkl\n",
      " loaded 63 from file: Conv_zscan_004_processed_info.pkl\n",
      " loaded 23 from file: Conv_zscan_005_processed_info.pkl\n",
      " loaded 62 from file: Conv_zscan_006_processed_info.pkl\n",
      " loaded 58 from file: Conv_zscan_007_processed_info.pkl\n",
      " loaded 53 from file: Conv_zscan_008_processed_info.pkl\n",
      " loaded 11 from file: Conv_zscan_009_processed_info.pkl\n",
      " loaded 58 from file: Conv_zscan_010_processed_info.pkl\n",
      " loaded 34 from file: Conv_zscan_011_processed_info.pkl\n",
      " loaded 30 from file: Conv_zscan_012_processed_info.pkl\n",
      " loaded 89 from file: Conv_zscan_013_processed_info.pkl\n",
      " loaded 38 from file: Conv_zscan_014_processed_info.pkl\n",
      " loaded 25 from file: Conv_zscan_015_processed_info.pkl\n",
      " loaded 29 from file: Conv_zscan_016_processed_info.pkl\n",
      " loaded 51 from file: Conv_zscan_017_processed_info.pkl\n",
      " loaded 22 from file: Conv_zscan_018_processed_info.pkl\n",
      " loaded 84 from file: Conv_zscan_019_processed_info.pkl\n",
      " loaded 54 from file: Conv_zscan_020_processed_info.pkl\n",
      " loaded 71 from file: Conv_zscan_021_processed_info.pkl\n",
      " loaded 61 from file: Conv_zscan_022_processed_info.pkl\n",
      " loaded 5 from file: Conv_zscan_023_processed_info.pkl\n",
      " loaded 42 from file: Conv_zscan_024_processed_info.pkl\n",
      " loaded 83 from file: Conv_zscan_025_processed_info.pkl\n",
      " loaded 87 from file: Conv_zscan_026_processed_info.pkl\n",
      " loaded 118 from file: Conv_zscan_027_processed_info.pkl\n",
      " loaded 8 from file: Conv_zscan_028_processed_info.pkl\n",
      " loaded 13 from file: Conv_zscan_029_processed_info.pkl\n",
      " loaded 68 from file: Conv_zscan_030_processed_info.pkl\n",
      " loaded 54 from file: Conv_zscan_031_processed_info.pkl\n",
      " loaded 42 from file: Conv_zscan_032_processed_info.pkl\n",
      " loaded 29 from file: Conv_zscan_033_processed_info.pkl\n",
      " loaded 92 from file: Conv_zscan_034_processed_info.pkl\n",
      " loaded 69 from file: Conv_zscan_035_processed_info.pkl\n",
      " loaded 18 from file: Conv_zscan_036_processed_info.pkl\n",
      " loaded 40 from file: Conv_zscan_037_processed_info.pkl\n",
      " loaded 35 from file: Conv_zscan_038_processed_info.pkl\n",
      " loaded 48 from file: Conv_zscan_039_processed_info.pkl\n",
      " loaded 118 from file: Conv_zscan_040_processed_info.pkl\n",
      " loaded 142 from file: Conv_zscan_041_processed_info.pkl\n",
      " loaded 76 from file: Conv_zscan_042_processed_info.pkl\n",
      " loaded 104 from file: Conv_zscan_043_processed_info.pkl\n",
      " loaded 10 from file: Conv_zscan_044_processed_info.pkl\n",
      " loaded 65 from file: Conv_zscan_045_processed_info.pkl\n",
      " loaded 58 from file: Conv_zscan_046_processed_info.pkl\n",
      " loaded 59 from file: Conv_zscan_047_processed_info.pkl\n",
      " loaded 13 from file: Conv_zscan_049_processed_info.pkl\n",
      " loaded 117 from file: Conv_zscan_050_processed_info.pkl\n",
      " loaded 127 from file: Conv_zscan_051_processed_info.pkl\n",
      " loaded 140 from file: Conv_zscan_052_processed_info.pkl\n",
      " loaded 88 from file: Conv_zscan_053_processed_info.pkl\n",
      " loaded 21 from file: Conv_zscan_054_processed_info.pkl\n",
      " loaded 1 from file: Conv_zscan_055_processed_info.pkl\n",
      " loaded 53 from file: Conv_zscan_056_processed_info.pkl\n",
      " loaded 85 from file: Conv_zscan_057_processed_info.pkl\n",
      " loaded 64 from file: Conv_zscan_058_processed_info.pkl\n",
      " loaded 132 from file: Conv_zscan_059_processed_info.pkl\n",
      " loaded 48 from file: Conv_zscan_060_processed_info.pkl\n",
      " loaded 9 from file: Conv_zscan_061_processed_info.pkl\n",
      " loaded 76 from file: Conv_zscan_062_processed_info.pkl\n",
      " loaded 133 from file: Conv_zscan_063_processed_info.pkl\n",
      " loaded 37 from file: Conv_zscan_064_processed_info.pkl\n",
      " loaded 54 from file: Conv_zscan_065_processed_info.pkl\n",
      " loaded 41 from file: Conv_zscan_066_processed_info.pkl\n",
      " loaded 8 from file: Conv_zscan_067_processed_info.pkl\n",
      " loaded 53 from file: Conv_zscan_068_processed_info.pkl\n",
      " loaded 126 from file: Conv_zscan_069_processed_info.pkl\n",
      " loaded 113 from file: Conv_zscan_070_processed_info.pkl\n",
      " loaded 41 from file: Conv_zscan_071_processed_info.pkl\n",
      " loaded 79 from file: Conv_zscan_072_processed_info.pkl\n",
      " loaded 79 from file: Conv_zscan_073_processed_info.pkl\n",
      " loaded 33 from file: Conv_zscan_074_processed_info.pkl\n",
      " loaded 53 from file: Conv_zscan_075_processed_info.pkl\n",
      " loaded 120 from file: Conv_zscan_076_processed_info.pkl\n",
      " loaded 166 from file: Conv_zscan_077_processed_info.pkl\n",
      " loaded 89 from file: Conv_zscan_078_processed_info.pkl\n",
      " loaded 143 from file: Conv_zscan_079_processed_info.pkl\n",
      " loaded 75 from file: Conv_zscan_080_processed_info.pkl\n",
      " loaded 108 from file: Conv_zscan_081_processed_info.pkl\n",
      " loaded 95 from file: Conv_zscan_082_processed_info.pkl\n",
      " loaded 45 from file: Conv_zscan_083_processed_info.pkl\n",
      " loaded 20 from file: Conv_zscan_084_processed_info.pkl\n",
      " loaded 28 from file: Conv_zscan_085_processed_info.pkl\n",
      " loaded 17 from file: Conv_zscan_086_processed_info.pkl\n",
      " loaded 4 from file: Conv_zscan_087_processed_info.pkl\n",
      " loaded 6 from file: Conv_zscan_088_processed_info.pkl\n",
      " loaded 9 from file: Conv_zscan_089_processed_info.pkl\n",
      " loaded 88 from file: Conv_zscan_090_processed_info.pkl\n",
      " loaded 58 from file: Conv_zscan_091_processed_info.pkl\n",
      " loaded 32 from file: Conv_zscan_092_processed_info.pkl\n",
      " loaded 39 from file: Conv_zscan_093_processed_info.pkl\n",
      " loaded 19 from file: Conv_zscan_094_processed_info.pkl\n",
      " loaded 30 from file: Conv_zscan_095_processed_info.pkl\n",
      " loaded 27 from file: Conv_zscan_096_processed_info.pkl\n",
      " loaded 23 from file: Conv_zscan_097_processed_info.pkl\n",
      " loaded 23 from file: Conv_zscan_098_processed_info.pkl\n",
      " loaded 20 from file: Conv_zscan_099_processed_info.pkl\n",
      " loaded 94 from file: Conv_zscan_100_processed_info.pkl\n",
      " loaded 94 from file: Conv_zscan_101_processed_info.pkl\n",
      " loaded 59 from file: Conv_zscan_102_processed_info.pkl\n",
      " loaded 52 from file: Conv_zscan_103_processed_info.pkl\n",
      " loaded 92 from file: Conv_zscan_104_processed_info.pkl\n",
      " loaded 90 from file: Conv_zscan_105_processed_info.pkl\n",
      " loaded 42 from file: Conv_zscan_106_processed_info.pkl\n",
      " loaded 10 from file: Conv_zscan_107_processed_info.pkl\n",
      " loaded 8 from file: Conv_zscan_108_processed_info.pkl\n",
      " loaded 133 from file: Conv_zscan_109_processed_info.pkl\n",
      " loaded 87 from file: Conv_zscan_110_processed_info.pkl\n",
      " loaded 31 from file: Conv_zscan_111_processed_info.pkl\n",
      " loaded 64 from file: Conv_zscan_112_processed_info.pkl\n",
      " loaded 58 from file: Conv_zscan_113_processed_info.pkl\n",
      " loaded 78 from file: Conv_zscan_114_processed_info.pkl\n",
      " loaded 77 from file: Conv_zscan_115_processed_info.pkl\n",
      " loaded 95 from file: Conv_zscan_116_processed_info.pkl\n",
      " loaded 49 from file: Conv_zscan_117_processed_info.pkl\n",
      " loaded 80 from file: Conv_zscan_118_processed_info.pkl\n",
      " loaded 48 from file: Conv_zscan_119_processed_info.pkl\n",
      "- 6895 in total\n"
     ]
    }
   ],
   "source": [
    "# load infos:\n",
    "all_intbc_ims = []\n",
    "all_edit_ims = []\n",
    "for _fl in processed_filenames:\n",
    "    #print(_fl)\n",
    "    _fov_info = pickle.load(open(_fl, 'rb'))\n",
    "    for _info in _fov_info:\n",
    "        all_intbc_ims.append(_info['intbc_ims'])\n",
    "        all_edit_ims.append(_info['edit_ims'])\n",
    "    # extract all edits ims\n",
    "    print(f\" loaded {len(_fov_info)} from file: {os.path.basename(_fl)}\")\n",
    "print(f\"- {len(all_intbc_ims)} in total\")"
   ]
  },
  {
   "cell_type": "code",
   "execution_count": 11,
   "id": "9342ac78",
   "metadata": {},
   "outputs": [
    {
     "data": {
      "text/plain": [
       "6895"
      ]
     },
     "execution_count": 11,
     "metadata": {},
     "output_type": "execute_result"
    }
   ],
   "source": [
    "len(all_intbc_ims)"
   ]
  },
  {
   "cell_type": "code",
   "execution_count": 12,
   "id": "a091d1ef",
   "metadata": {},
   "outputs": [
    {
     "name": "stdout",
     "output_type": "stream",
     "text": [
      "/lab/solexa_weissman/puzheng/PE_LT/Analysis/0913_top8/intbc_ims.npy /lab/solexa_weissman/puzheng/PE_LT/Analysis/0913_top8/edit_ims.npy\n"
     ]
    }
   ],
   "source": [
    "# Save to temp location\n",
    "temp_folder = r'/lab/solexa_weissman/puzheng/PE_LT/Analysis/0913_top8'\n",
    "if not os.path.isdir(temp_folder):\n",
    "    os.makedirs(temp_folder)\n",
    "# ims files:\n",
    "intbcIm_filename = os.path.join(temp_folder, 'intbc_ims.npy')\n",
    "editIm_filename = os.path.join(temp_folder, 'edit_ims.npy')\n",
    "print(intbcIm_filename, editIm_filename)\n",
    "np.save(intbcIm_filename, all_intbc_ims)\n",
    "np.save(editIm_filename, all_edit_ims)"
   ]
  },
  {
   "cell_type": "code",
   "execution_count": 10,
   "id": "fb57446c",
   "metadata": {},
   "outputs": [],
   "source": [
    "# reload from here:\n",
    "temp_folder = r'/lab/solexa_weissman/puzheng/PE_LT/Analysis/0913_top8'\n",
    "if 'all_intbc_ims' not in locals():\n",
    "    \n",
    "    intbcIm_filename = os.path.join(temp_folder, 'intbc_ims.npy')\n",
    "    editIm_filename = os.path.join(temp_folder, 'edit_ims.npy')\n",
    "    print(intbcIm_filename, editIm_filename)\n",
    "    all_intbc_ims = np.load(intbcIm_filename, )\n",
    "    all_edit_ims = np.load(editIm_filename, )\n"
   ]
  },
  {
   "cell_type": "markdown",
   "id": "cdad751f",
   "metadata": {},
   "source": [
    "# Load codebook"
   ]
  },
  {
   "cell_type": "code",
   "execution_count": 13,
   "id": "2d1386ba",
   "metadata": {},
   "outputs": [],
   "source": [
    "codebook_filename = r'/lab/solexa_weissman/puzheng/MERFISH_Probes/PE_TS/NewTargetSites/IntBC_MERFISH/full_codebook.csv'\n",
    "codebook = pd.read_csv(codebook_filename)"
   ]
  },
  {
   "cell_type": "code",
   "execution_count": 14,
   "id": "358440ca",
   "metadata": {},
   "outputs": [],
   "source": [
    "# mimic MERLin Optimization, prepare data:\n",
    "class Optimization_decode():\n",
    "    \"\"\"\n",
    "    An analysis class for decoding MERFISH data\n",
    "    \"\"\"\n",
    "    def __init__(self, codebook_filename, \n",
    "                 color_usage_filename=None,\n",
    "                 verbose=True,\n",
    "                 ):\n",
    "        # direct inputs\n",
    "        self.verbose = verbose\n",
    "        # load inputs\n",
    "        self.codebook_filename = codebook_filename\n",
    "        self._load_codebook()\n",
    "        self.color_usage_filename = color_usage_filename\n",
    "        self._load_color_usage()\n",
    "        \n",
    "\n",
    "    def _load_color_usage(self):\n",
    "        \"\"\"\n",
    "        Load color usage from file\n",
    "        \"\"\"\n",
    "        if not hasattr(self, 'color_usage_df') or self.color_usage_df is None:\n",
    "            if self.verbose:\n",
    "                print(f\"-- loading color usage from file: {self.color_usage_filename}\")\n",
    "            self.color_usage_df = data_organization.Color_Usage(self.color_usage_filename, verbose=False)\n",
    "        else:\n",
    "            pass\n",
    "    \n",
    "    def _load_codebook(self):\n",
    "        \"\"\"\n",
    "        Load codebook from file\n",
    "        \"\"\"\n",
    "        if not hasattr(self, 'codebook') or self.codebook is None:\n",
    "            if self.verbose:\n",
    "                print(f\"-- loading codebook from file: {self.codebook_filename}\")\n",
    "            self.codebook = pd.read_csv(self.codebook_filename)\n",
    "        else:\n",
    "            pass\n",
    "    \n",
    "    def _load_images(self, cropped_ims):\n",
    "        \"\"\"\n",
    "        include loaded images into the class, for now its a test case\n",
    "        \"\"\"\n",
    "        # add loaded images\n",
    "        self.ims = np.array(cropped_ims)\n",
    "        return\n",
    "    \n",
    "    def _init_scale_factors(\n",
    "            self, \n",
    "            n_bins=2000,      \n",
    "            scale_max=0.99,\n",
    "        ) -> np.ndarray:\n",
    "        \"\"\"\n",
    "        initialize scale factors\n",
    "        \"\"\"\n",
    "        self.scale_factors = np.ones((self.ims.shape[0], self.ims.shape[1]), dtype=np.float32)\n",
    "        data_type = self.ims.dtype\n",
    "        ## TODO: add reading for bits information\n",
    "        bits = np.arange(self.ims.shape[1])\n",
    "        scale_factors, backgrounds = [], []\n",
    "        for bit in bits:\n",
    "            # calculate cumulative histogram\n",
    "            counts, intensities =  np.histogram(np.array(all_intbc_ims)[:,bit], bins=np.arange(np.iinfo(data_type).min, \n",
    "                                                                                np.iinfo(data_type).max+1,\n",
    "                                                                                (np.iinfo(data_type).max+1 - np.iinfo(data_type).min)/n_bins))\n",
    "                                                                                \n",
    "            intensities = (intensities[:-1] + intensities[1:]) / 2\n",
    "            cumsum_counts = np.cumsum(counts)\n",
    "            cumsum_counts = cumsum_counts / cumsum_counts[-1]\n",
    "\n",
    "            # calculate background\n",
    "            background = find_image_background(np.array(all_intbc_ims)[:,bit], )\n",
    "            backgrounds.append(background)\n",
    "            scaling_factor = np.ceil(intensities[np.argmin(np.abs(cumsum_counts - scale_max))])\n",
    "            #scale_factors.append(max(scaling_factor - background, 1))\n",
    "            scale_factors.append(scaling_factor+1)\n",
    "            print(bit, scaling_factor, background) \n",
    "        # add attribute\n",
    "        self.scale_factors = np.array(scale_factors)\n",
    "        self.backgrounds = np.array(backgrounds)\n",
    "        return np.array(scale_factors), np.array(backgrounds)\n",
    "        \n",
    "    def _get_previous_scale_factors(self) -> np.ndarray:\n",
    "        if 'previous_iteration' not in self.parameters:\n",
    "            scaleFactors = self._init_scale_factors()\n",
    "        else:\n",
    "            previousIteration = self.dataSet.load_analysis_task(\n",
    "                self.parameters['previous_iteration'])\n",
    "            scaleFactors = previousIteration.get_scale_factors()\n",
    "\n",
    "        return scaleFactors\n",
    "\n",
    "    def _get_previous_backgrounds(self) -> np.ndarray:\n",
    "        if 'previous_iteration' not in self.parameters:\n",
    "            backgrounds = np.zeros(self.get_codebook().get_bit_count())\n",
    "        else:\n",
    "            previousIteration = self.dataSet.load_analysis_task(\n",
    "                self.parameters['previous_iteration'])\n",
    "            backgrounds = previousIteration.get_backgrounds()\n",
    "\n",
    "        return backgrounds\n",
    "    \n",
    "\n",
    "        "
   ]
  },
  {
   "cell_type": "code",
   "execution_count": 228,
   "id": "53661210",
   "metadata": {},
   "outputs": [],
   "source": [
    "from scipy.stats import scoreatpercentile"
   ]
  },
  {
   "cell_type": "code",
   "execution_count": 229,
   "id": "8a974bed",
   "metadata": {},
   "outputs": [
    {
     "name": "stdout",
     "output_type": "stream",
     "text": [
      "-- loading codebook from file: /lab/solexa_weissman/puzheng/MERFISH_Probes/PE_TS/NewTargetSites/IntBC_MERFISH/full_codebook.csv\n",
      "-- loading color usage from file: /lab/weissman_imaging/puzheng/PE_LT/20230913-4T1top8_preEdit_400k0907/Analysis/Color_Usage.csv\n",
      "0 7357.0 2345.0\n",
      "1 6079.0 2605.0\n",
      "2 4867.0 2435.0\n",
      "3 3097.0 1235.0\n",
      "4 5063.0 2205.0\n",
      "5 4965.0 2625.0\n",
      "6 3425.0 1585.0\n",
      "7 2671.0 1995.0\n",
      "8 5358.0 2875.0\n",
      "9 3654.0 1635.0\n",
      "10 4015.0 2255.0\n",
      "11 5489.0 2925.0\n",
      "12 4473.0 1425.0\n",
      "13 3654.0 2205.0\n",
      "14 5915.0 3035.0\n",
      "15 3064.0 1355.0\n",
      "16 4768.0 2255.0\n",
      "17 5850.0 3015.0\n",
      "18 4015.0 1705.0\n",
      "19 3228.0 2025.0\n",
      "20 6177.0 3085.0\n"
     ]
    },
    {
     "data": {
      "text/plain": [
       "(array([7358., 6080., 4868., 3098., 5064., 4966., 3426., 2672., 5359.,\n",
       "        3655., 4016., 5490., 4474., 3655., 5916., 3065., 4769., 5851.,\n",
       "        4016., 3229., 6178.]),\n",
       " array([2345., 2605., 2435., 1235., 2205., 2625., 1585., 1995., 2875.,\n",
       "        1635., 2255., 2925., 1425., 2205., 3035., 1355., 2255., 3015.,\n",
       "        1705., 2025., 3085.]))"
      ]
     },
     "execution_count": 229,
     "metadata": {},
     "output_type": "execute_result"
    }
   ],
   "source": [
    "# test case:\n",
    "optimize_obj = Optimization_decode(codebook_filename, color_usage_filename, verbose=True)\n",
    "optimize_obj._load_images(all_intbc_ims)\n",
    "optimize_obj._init_scale_factors()"
   ]
  },
  {
   "cell_type": "code",
   "execution_count": 240,
   "id": "5c28e0b2",
   "metadata": {},
   "outputs": [],
   "source": [
    "def decode_foci(\n",
    "    self, \n",
    "    imageSeries=None, \n",
    "    codebook:pd.DataFrame=None,\n",
    "    scale_factors:np.ndarray=None,\n",
    "    backgrounds:np.ndarray=None,\n",
    "    distance_threshold:int=1,\n",
    "    magnitute_threshold:int=1,\n",
    "    lowpass_threshold:int=1,        \n",
    "    ) -> int:\n",
    "    \"\"\"\n",
    "    Assign barcodes to each foci\n",
    "    Each imageSeries has been preprocessed and aligned, \n",
    "    then according to the scaling factor and background, \n",
    "    this focus is normalized into a vector and assigned to specific barcode based on Euclidean distance\n",
    "    to one of the existing barcode\n",
    "    \"\"\"\n",
    "    # Inputs\n",
    "    if imageSeries is None:\n",
    "        # num_foci x num_bits x dx x dy x dz\n",
    "        imageSeries = self.ims\n",
    "    if scale_factors is None:\n",
    "        scale_factors = self.scale_factors\n",
    "    if backgrounds is None:\n",
    "        backgrounds = self.backgrounds\n",
    "    if codebook is None:\n",
    "        codebook = self.codebook\n",
    "        _codebook_mat = codebook.iloc[:,1:].values\n",
    "    # normalize images\n",
    "    for _i, _images in enumerate(imageSeries):\n",
    "        #signalSeries = scoreatpercentile(_images.reshape((_images.shape[0],-1)), 95, axis=1)\n",
    "        signalSeries = _images \n",
    "        print(signalSeries.shape)\n",
    "        \n",
    "        normalizedSeries = (signalSeries - backgrounds[:,np.newaxis,np.newaxis,np.newaxis]) / scale_factors[:,np.newaxis,np.newaxis,np.newaxis]        \n",
    "        # calculate Euclidian distance     \n",
    "        _dists = np.linalg.norm(normalizedSeries[np.newaxis,:] - _codebook_mat[:,:,np.newaxis,np.newaxis,np.newaxis], axis=1)\n",
    "        print(_dists.shape)\n",
    "        #print(np.sort(_dists)[0][:30])\n",
    "        break\n",
    "    \n",
    "    return _dists, normalizedSeries"
   ]
  },
  {
   "cell_type": "code",
   "execution_count": 241,
   "id": "1383a229",
   "metadata": {},
   "outputs": [
    {
     "name": "stdout",
     "output_type": "stream",
     "text": [
      "(21, 15, 15, 15)\n",
      "(2330, 15, 15, 15)\n"
     ]
    }
   ],
   "source": [
    "backgroundMag = 1\n",
    "scaleMag = 1\n"
   ]
  },
  {
   "cell_type": "code",
   "execution_count": 246,
   "id": "b313a8a9",
   "metadata": {},
   "outputs": [
    {
     "data": {
      "text/plain": [
       "(array([ 0.64446861,  2.60197368, -0.49137223,  0.01904454,  0.3785545 ,\n",
       "         0.41542489,  0.02539405,  0.5370509 , -0.10617653, -0.01805746,\n",
       "         0.31175299, -0.03861566, -0.00715244,  0.38932969,  0.65956728,\n",
       "         0.06492659,  0.60515831, -0.11946676,  1.01294821,  1.71724992,\n",
       "        -0.21673681]),\n",
       " array([ 0.54321827,  0.89457237, -0.28266228,  0.02743706,  0.13408373,\n",
       "         0.19573097,  0.0040864 ,  0.24775449, -0.0378802 ,  0.00355677,\n",
       "         0.09586653, -0.0276867 ,  0.02436299,  0.10341997,  0.22751859,\n",
       "         0.07504078,  0.20696163, -0.09024098,  0.86005976,  0.65159492,\n",
       "        -0.08352218]))"
      ]
     },
     "execution_count": 246,
     "metadata": {},
     "output_type": "execute_result"
    }
   ],
   "source": [
    "norm[:,7,7,7], norm[:,8,8,8]"
   ]
  },
  {
   "cell_type": "code",
   "execution_count": 232,
   "id": "f2c6cbb6",
   "metadata": {},
   "outputs": [
    {
     "data": {
      "text/plain": [
       "(array([2.56417521, 2.56595058, 2.57480874, 2.57815816, 2.58175734]),\n",
       " array([101, 999, 988, 815, 934]))"
      ]
     },
     "execution_count": 232,
     "metadata": {},
     "output_type": "execute_result"
    }
   ],
   "source": [
    "np.sort(np.max(dists, axis=(1,2,3)))[:5], np.argsort(np.max(dists, axis=(1,2,3)))[:5]#, np.min(np.max(dists, axis=(1,2,3)))"
   ]
  },
  {
   "cell_type": "code",
   "execution_count": 233,
   "id": "734d1aff",
   "metadata": {},
   "outputs": [
    {
     "data": {
      "application/vnd.jupyter.widget-view+json": {
       "model_id": "4e8d209f4e144ff3badd05eb2d67e41d",
       "version_major": 2,
       "version_minor": 0
      },
      "image/png": "[encoded data removed]",
      "text/html": [
       "\n",
       "            <div style=\"display: inline-block;\">\n",
       "                <div class=\"jupyter-widgets widget-label\" style=\"text-align: center;\">\n",
       "                    Figure\n",
       "                </div>\n",
       "                <img src='data:image/png;base64,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' width=400.0/>\n",
       "            </div>\n",
       "        "
      ],
      "text/plain": [
       "Canvas(toolbar=Toolbar(toolitems=[('Home', 'Reset original view', 'home', 'home'), ('Back', 'Back to previous …"
      ]
     },
     "metadata": {},
     "output_type": "display_data"
    },
    {
     "data": {
      "text/plain": [
       "<ChromAn.src.visual_tools.interactive.imshow_mark_3d at 0x7f92628b98d0>"
      ]
     },
     "execution_count": 233,
     "metadata": {},
     "output_type": "execute_result"
    }
   ],
   "source": [
    "interactive.imshow_mark_3d(dists[np.array([101,815,999])])"
   ]
  },
  {
   "cell_type": "code",
   "execution_count": 150,
   "id": "46250b7e",
   "metadata": {},
   "outputs": [
    {
     "data": {
      "text/plain": [
       "array([[1, 1, 1, ..., 0, 0, 1],\n",
       "       [1, 1, 1, ..., 0, 0, 0],\n",
       "       [1, 1, 1, ..., 0, 0, 0],\n",
       "       ...,\n",
       "       [0, 0, 0, ..., 1, 1, 1],\n",
       "       [0, 0, 0, ..., 1, 0, 0],\n",
       "       [0, 0, 0, ..., 1, 1, 1]])"
      ]
     },
     "execution_count": 150,
     "metadata": {},
     "output_type": "execute_result"
    }
   ],
   "source": []
  },
  {
   "cell_type": "code",
   "execution_count": 35,
   "id": "8dd4fb20",
   "metadata": {},
   "outputs": [],
   "source": [
    "cumHist = np.cumsum(all_intbc_ims, axis=1)"
   ]
  },
  {
   "cell_type": "code",
   "execution_count": 97,
   "id": "7eb25cfb",
   "metadata": {},
   "outputs": [],
   "source": []
  },
  {
   "cell_type": "code",
   "execution_count": 98,
   "id": "ca71dd93",
   "metadata": {},
   "outputs": [
    {
     "data": {
      "application/vnd.jupyter.widget-view+json": {
       "model_id": "b899d9942228449e869222bf6fb5b306",
       "version_major": 2,
       "version_minor": 0
      },
      "image/png": "[encoded data removed]",
      "text/html": [
       "\n",
       "            <div style=\"display: inline-block;\">\n",
       "                <div class=\"jupyter-widgets widget-label\" style=\"text-align: center;\">\n",
       "                    Figure\n",
       "                </div>\n",
       "                <img src='data:image/png;base64,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' width=640.0/>\n",
       "            </div>\n",
       "        "
      ],
      "text/plain": [
       "Canvas(toolbar=Toolbar(toolitems=[('Home', 'Reset original view', 'home', 'home'), ('Back', 'Back to previous …"
      ]
     },
     "metadata": {},
     "output_type": "display_data"
    }
   ],
   "source": [
    "plt.figure()\n",
    "plt.plot(np.array(all_cumHist).transpose(),)\n",
    "plt.show()"
   ]
  },
  {
   "cell_type": "code",
   "execution_count": 114,
   "id": "0961bb63",
   "metadata": {},
   "outputs": [
    {
     "name": "stdout",
     "output_type": "stream",
     "text": [
      "0 4604.0 2345.0\n",
      "1 4178.0 2605.0\n",
      "2 4015.0 2435.0\n",
      "3 2442.0 1235.0\n",
      "4 3261.0 2205.0\n",
      "5 4113.0 2625.0\n",
      "6 2802.0 1585.0\n",
      "7 2442.0 1995.0\n",
      "8 4441.0 2875.0\n",
      "9 2835.0 1635.0\n",
      "10 3130.0 2255.0\n",
      "11 4539.0 2925.0\n",
      "12 2900.0 1425.0\n",
      "13 3064.0 2205.0\n",
      "14 4867.0 3035.0\n",
      "15 2606.0 1355.0\n",
      "16 3228.0 2255.0\n",
      "17 4801.0 3015.0\n",
      "18 3064.0 1705.0\n",
      "19 2802.0 2025.0\n",
      "20 5063.0 3085.0\n"
     ]
    }
   ],
   "source": []
  },
  {
   "cell_type": "code",
   "execution_count": null,
   "id": "cf204900",
   "metadata": {},
   "outputs": [],
   "source": [
    "def find_image_background(im, dtype=None, bin_size=10, make_plot=False, max_iter=10):\n",
    "    \"\"\"Function to calculate image background\n",
    "    Inputs: \n",
    "        im: image, np.ndarray,\n",
    "        dtype: data type for image, numpy datatype (default: np.uint16) \n",
    "        bin_size: size of histogram bin, smaller -> higher precision and longer time,\n",
    "            float (default: 10)\n",
    "    Output: \n",
    "        _background: determined background level, float\n",
    "    \"\"\"\n",
    "    from scipy.signal import find_peaks\n",
    "    if dtype is None:\n",
    "        dtype = im.dtype \n",
    "    _cts, _bins = np.histogram(im, \n",
    "                               bins=np.arange(np.iinfo(dtype).min, \n",
    "                                              np.iinfo(dtype).max,\n",
    "                                              bin_size)\n",
    "                               )\n",
    "    _peaks = []\n",
    "    # gradually lower height to find at least one peak\n",
    "    _height = np.size(im)/50\n",
    "    _iter = 0\n",
    "    while len(_peaks) == 0:\n",
    "        _height = _height / 2 \n",
    "        _peaks, _params = find_peaks(_cts, height=_height)\n",
    "        _iter += 1\n",
    "        if _iter > max_iter:\n",
    "            break\n",
    "    # select highest peak\n",
    "    if _iter > max_iter:\n",
    "        _background = np.nanmedian(im)\n",
    "    else:\n",
    "        _sel_peak = _peaks[np.argmax(_params['peak_heights'])]\n",
    "        # define background as this value\n",
    "        _background = (_bins[_sel_peak] + _bins[_sel_peak+1]) / 2\n",
    "    # plot histogram if necessary\n",
    "    if make_plot:\n",
    "        import matplotlib.pyplot as plt\n",
    "        plt.figure(dpi=100)\n",
    "        plt.hist(np.ravel(im), bins=np.arange(np.iinfo(dtype).min, \n",
    "                                              np.iinfo(dtype).max,\n",
    "                                              bin_size))\n",
    "        plt.xlim([np.min(im), np.max(im)])     \n",
    "        plt.show()\n",
    "\n",
    "    return _background"
   ]
  },
  {
   "cell_type": "code",
   "execution_count": null,
   "id": "bfa4ce42",
   "metadata": {},
   "outputs": [
    {
     "data": {
      "text/plain": [
       "1708"
      ]
     },
     "execution_count": 108,
     "metadata": {},
     "output_type": "execute_result"
    }
   ],
   "source": [
    "len(all_intbc_ims)"
   ]
  },
  {
   "cell_type": "code",
   "execution_count": null,
   "id": "07b431f2",
   "metadata": {},
   "outputs": [
    {
     "data": {
      "application/vnd.jupyter.widget-view+json": {
       "model_id": "0d4e80ef6c4c4db58c0bd55573aad21e",
       "version_major": 2,
       "version_minor": 0
      },
      "image/png": "[encoded data removed]",
      "text/html": [
       "\n",
       "            <div style=\"display: inline-block;\">\n",
       "                <div class=\"jupyter-widgets widget-label\" style=\"text-align: center;\">\n",
       "                    Figure\n",
       "                </div>\n",
       "                <img src='data:image/png;base64,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' width=640.0/>\n",
       "            </div>\n",
       "        "
      ],
      "text/plain": [
       "Canvas(toolbar=Toolbar(toolitems=[('Home', 'Reset original view', 'home', 'home'), ('Back', 'Back to previous …"
      ]
     },
     "metadata": {},
     "output_type": "display_data"
    },
    {
     "data": {
      "text/plain": [
       "2345.0"
      ]
     },
     "execution_count": 111,
     "metadata": {},
     "output_type": "execute_result"
    }
   ],
   "source": [
    "find_image_background(np.array(all_intbc_ims)[:,0], make_plot=True)"
   ]
  },
  {
   "cell_type": "code",
   "execution_count": null,
   "id": "e3142899",
   "metadata": {},
   "outputs": [
    {
     "data": {
      "text/plain": [
       "65535"
      ]
     },
     "execution_count": 58,
     "metadata": {},
     "output_type": "execute_result"
    }
   ],
   "source": [
    "np.iinfo(data_type).max"
   ]
  },
  {
   "cell_type": "code",
   "execution_count": null,
   "id": "35cc213d",
   "metadata": {},
   "outputs": [
    {
     "data": {
      "text/plain": [
       "(array([5693805,   61808,    6514,    1545,     533,     193,      58,\n",
       "             29,      10,       5]),\n",
       " array([  694. ,  6914.1, 13134.2, 19354.3, 25574.4, 31794.5, 38014.6,\n",
       "        44234.7, 50454.8, 56674.9, 62895. ]))"
      ]
     },
     "execution_count": 52,
     "metadata": {},
     "output_type": "execute_result"
    }
   ],
   "source": [
    "pixelHist"
   ]
  },
  {
   "cell_type": "code",
   "execution_count": null,
   "id": "f8d5e684",
   "metadata": {},
   "outputs": [
    {
     "data": {
      "application/vnd.jupyter.widget-view+json": {
       "model_id": "b6bfb7c8348e4514a1943d806b1fe437",
       "version_major": 2,
       "version_minor": 0
      },
      "image/png": "[encoded data removed]",
      "text/html": [
       "\n",
       "            <div style=\"display: inline-block;\">\n",
       "                <div class=\"jupyter-widgets widget-label\" style=\"text-align: center;\">\n",
       "                    Figure\n",
       "                </div>\n",
       "                <img src='data:image/png;base64,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' width=640.0/>\n",
       "            </div>\n",
       "        "
      ],
      "text/plain": [
       "Canvas(toolbar=Toolbar(toolitems=[('Home', 'Reset original view', 'home', 'home'), ('Back', 'Back to previous …"
      ]
     },
     "metadata": {},
     "output_type": "display_data"
    }
   ],
   "source": [
    "%matplotlib widget\n",
    "import matplotlib.pyplot as plt\n",
    "plt.figure()\n",
    "plt.imshow(cumHist[0][0].mean(0))\n",
    "plt.show()"
   ]
  },
  {
   "cell_type": "code",
   "execution_count": null,
   "id": "b5d4946e",
   "metadata": {},
   "outputs": [
    {
     "data": {
      "application/vnd.jupyter.widget-view+json": {
       "model_id": "65ac7133b10044baaabc3bad8f8c44df",
       "version_major": 2,
       "version_minor": 0
      },
      "image/png": "[encoded data removed]",
      "text/html": [
       "\n",
       "            <div style=\"display: inline-block;\">\n",
       "                <div class=\"jupyter-widgets widget-label\" style=\"text-align: center;\">\n",
       "                    Figure\n",
       "                </div>\n",
       "                <img src='data:image/png;base64,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' width=640.0/>\n",
       "            </div>\n",
       "        "
      ],
      "text/plain": [
       "Canvas(toolbar=Toolbar(toolitems=[('Home', 'Reset original view', 'home', 'home'), ('Back', 'Back to previous …"
      ]
     },
     "metadata": {},
     "output_type": "display_data"
    }
   ],
   "source": [
    "plt.figure()\n",
    "plt.imshow(all_intbc_ims[0][0].mean(0))\n",
    "plt.show()"
   ]
  },
  {
   "cell_type": "code",
   "execution_count": null,
   "id": "04a16fb3",
   "metadata": {},
   "outputs": [],
   "source": []
  }
 ],
 "metadata": {
  "kernelspec": {
   "display_name": "postanalysis",
   "language": "python",
   "name": "postanalysis"
  },
  "language_info": {
   "codemirror_mode": {
    "name": "ipython",
    "version": 3
   },
   "file_extension": ".py",
   "mimetype": "text/x-python",
   "name": "python",
   "nbconvert_exporter": "python",
   "pygments_lexer": "ipython3",
   "version": "3.10.12"
  }
 },
 "nbformat": 4,
 "nbformat_minor": 5
}
