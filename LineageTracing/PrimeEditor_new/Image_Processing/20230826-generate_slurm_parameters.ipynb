{
 "cells": [
  {
   "cell_type": "code",
   "execution_count": 1,
   "id": "b5e649da",
   "metadata": {},
   "outputs": [
    {
     "name": "stdout",
     "output_type": "stream",
     "text": [
      "509632\n"
     ]
    }
   ],
   "source": [
    "# Basic imports\n",
    "import os,sys,re\n",
    "from importlib import reload\n",
    "import numpy as np\n",
    "import pandas as pd\n",
    "#import torch\n",
    "print(os.getpid())"
   ]
  },
  {
   "cell_type": "code",
   "execution_count": 2,
   "id": "759abe90",
   "metadata": {},
   "outputs": [],
   "source": [
    "# ChromAn related imports\n",
    "sys.path.append(r'/lab/weissman_imaging/puzheng/Softwares/') # parent folder of ChromAn\n",
    "\n",
    "from ChromAn.src import file_io\n",
    "\n",
    "from ChromAn.src.file_io import dax_process\n",
    "from ChromAn.src.file_io import data_organization\n",
    "from ChromAn.src.visual_tools import interactive"
   ]
  },
  {
   "cell_type": "markdown",
   "id": "47e93e6a",
   "metadata": {},
   "source": [
    "# Folders"
   ]
  },
  {
   "cell_type": "code",
   "execution_count": 3,
   "id": "497034fc",
   "metadata": {},
   "outputs": [
    {
     "name": "stdout",
     "output_type": "stream",
     "text": [
      "- searching in folder: /lab/weissman_imaging/puzheng/PE_LT/20230828-ingel_test_GuHCl-4T1-v21x-0813/Glyoxal_GuHCl_PuWash/\n",
      "-- 1 folders, 132 fovs detected.\n"
     ]
    }
   ],
   "source": [
    "# data folder\n",
    "data_folder = r'/lab/weissman_imaging/puzheng/PE_LT/20230828-ingel_test_GuHCl-4T1-v21x-0813/Glyoxal_GuHCl_PuWash/'\n",
    "# scan subfolders\n",
    "folders, fovs = data_organization.search_fovs_in_folders(data_folder)\n",
    "# analysis folder\n",
    "analysis_folder = os.path.join(data_folder, 'Analysis')\n",
    "if not os.path.exists(analysis_folder):\n",
    "    os.makedirs(analysis_folder)"
   ]
  },
  {
   "cell_type": "code",
   "execution_count": 6,
   "id": "c609a3e2",
   "metadata": {},
   "outputs": [
    {
     "name": "stdout",
     "output_type": "stream",
     "text": [
      "- load color_usage from file: /lab/weissman_imaging/puzheng/PE_LT/20230828-ingel_test_GuHCl-4T1-v21x-0813/Glyoxal_GuHCl_PuWash/Analysis/color_usage.csv\n"
     ]
    }
   ],
   "source": [
    "# color usage\n",
    "color_usage_filename = os.path.join(data_folder, 'Analysis', 'color_usage.csv')\n",
    "color_usage_df = data_organization.Color_Usage(color_usage_filename)"
   ]
  },
  {
   "cell_type": "code",
   "execution_count": 12,
   "id": "3dc98652",
   "metadata": {},
   "outputs": [],
   "source": [
    "image_infos = color_usage_df.iloc[color_usage_df.get_hyb_id('H0M1')]"
   ]
  },
  {
   "cell_type": "code",
   "execution_count": 13,
   "id": "89fe3c85",
   "metadata": {},
   "outputs": [
    {
     "name": "stdout",
     "output_type": "stream",
     "text": [
      "748 r2\n",
      "637 m53\n",
      "545 empty\n",
      "477 beads\n",
      "405 DAPI\n"
     ]
    }
   ],
   "source": [
    "for _channel, _info in image_infos.items():\n",
    "    print(_channel, _info)"
   ]
  },
  {
   "cell_type": "code",
   "execution_count": 8,
   "id": "98126f70",
   "metadata": {},
   "outputs": [
    {
     "data": {
      "text/plain": [
       "0"
      ]
     },
     "execution_count": 8,
     "metadata": {},
     "output_type": "execute_result"
    }
   ],
   "source": [
    "color_usage_df.get_hyb_id('H0M1')"
   ]
  },
  {
   "cell_type": "code",
   "execution_count": 5,
   "id": "66e3525a",
   "metadata": {},
   "outputs": [
    {
     "data": {
      "text/plain": [
       "['drift', 'Conv_zscan_001.hdf5', 'color_usage.csv']"
      ]
     },
     "execution_count": 5,
     "metadata": {},
     "output_type": "execute_result"
    }
   ],
   "source": [
    "os.listdir(analysis_folder)"
   ]
  },
  {
   "cell_type": "code",
   "execution_count": null,
   "id": "0e899610",
   "metadata": {},
   "outputs": [],
   "source": []
  }
 ],
 "metadata": {
  "kernelspec": {
   "display_name": "postanalysis",
   "language": "python",
   "name": "postanalysis"
  },
  "language_info": {
   "codemirror_mode": {
    "name": "ipython",
    "version": 3
   },
   "file_extension": ".py",
   "mimetype": "text/x-python",
   "name": "python",
   "nbconvert_exporter": "python",
   "pygments_lexer": "ipython3",
   "version": "3.10.12"
  }
 },
 "nbformat": 4,
 "nbformat_minor": 5
}
