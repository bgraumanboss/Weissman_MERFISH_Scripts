{
 "cells": [
  {
   "cell_type": "code",
   "execution_count": 1,
   "id": "ea93c291",
   "metadata": {},
   "outputs": [
    {
     "name": "stdout",
     "output_type": "stream",
     "text": [
      "1335176\n"
     ]
    }
   ],
   "source": [
    "# Basic imports\n",
    "import os,sys,re\n",
    "from importlib import reload\n",
    "import numpy as np\n",
    "import pandas as pd\n",
    "#import torch\n",
    "print(os.getpid())"
   ]
  },
  {
   "cell_type": "code",
   "execution_count": 2,
   "id": "92d6a241",
   "metadata": {},
   "outputs": [],
   "source": [
    "# ChromAn related imports\n",
    "sys.path.append(r'/lab/weissman_imaging/puzheng/Softwares/') # parent folder of ChromAn\n",
    "import ImageAnalysis3 as ia3\n",
    "import h5py\n",
    "from ImageAnalysis3.classes import _allowed_kwds\n",
    "import ast\n",
    "from ChromAn.src import file_io\n",
    "\n",
    "from ChromAn.src.file_io import dax_process\n",
    "from ChromAn.src.file_io import data_organization\n",
    "from ChromAn.src.visual_tools import interactive\n",
    "\n",
    "import pickle"
   ]
  },
  {
   "cell_type": "code",
   "execution_count": 3,
   "id": "809771f7",
   "metadata": {},
   "outputs": [],
   "source": [
    "import matplotlib.pyplot as plt\n",
    "plt.style.use(\"dark_background\")"
   ]
  },
  {
   "cell_type": "code",
   "execution_count": 24,
   "id": "86f88fef",
   "metadata": {},
   "outputs": [
    {
     "name": "stdout",
     "output_type": "stream",
     "text": [
      "- searching in folder: /lab/weissman_imaging/puzheng/PE_LT/20231120-4T1earlyTumor_F170-4_ingelT7\n",
      "-- 1 folders, 372 fovs detected.\n"
     ]
    }
   ],
   "source": [
    "# load coords\n",
    "\n",
    "# data folder\n",
    "data_folder = r'/lab/weissman_imaging/puzheng/PE_LT/20231120-4T1earlyTumor_F170-4_ingelT7'\n",
    "# scan subfolders\n",
    "folders, fovs = data_organization.search_fovs_in_folders(data_folder)"
   ]
  },
  {
   "cell_type": "code",
   "execution_count": 18,
   "id": "e350d20f",
   "metadata": {},
   "outputs": [],
   "source": [
    "hdf5_files = [_f for _f in os.listdir(folders[0]) if '.hdf5' in _f]\n",
    "hdf5_files = [_f for _f in sorted(hdf5_files, key=lambda v:int(v.split('.hdf5')[0].split('_')[-1]))]"
   ]
  },
  {
   "cell_type": "code",
   "execution_count": 25,
   "id": "72cf895c",
   "metadata": {},
   "outputs": [
    {
     "name": "stdout",
     "output_type": "stream",
     "text": [
      "Initialize DaxProcesser for file:/lab/weissman_imaging/puzheng/PE_LT/20231120-4T1earlyTumor_F170-4_ingelT7/H0M1/Conv_zscan_100.dax\n",
      "- New save file: /lab/weissman_imaging/puzheng/PE_LT/20231120-4T1earlyTumor_F170-4_ingelT7/H0M1/Conv_zscan_100_processed.hdf5\n",
      "-- all used channels: ['748', '637', '545', '477', '405']\n"
     ]
    }
   ],
   "source": [
    "for _fov in fovs[100:]:\n",
    "    _daxp = dax_process.DaxProcesser(os.path.join(folders[0], _fov),\n",
    "                    CorrectionFolder=r'\\\\everest\\weissman_imaging\\puzheng\\Corrections\\20230902-Merscope01_s30_n500', # Merscope01\n",
    "                    #CorrectionFolder=r'\\\\wi-bigdata\\weissman_imaging\\puzheng\\Corrections\\20210621-STORM6_lumencor', # Storm6\n",
    "                    #Channels=['748', '637', '545', '477', '405'],\n",
    "                   )\n",
    "    _global_pos = _daxp._FindGlobalPosition(_daxp.filename)\n",
    "    _savefile = os.path.join(folders[0], _fov.replace('.dax', '.hdf5'))\n",
    "    with h5py.File(_savefile, 'r') as _f:\n",
    "        if '748' not in _f['H0M1'].keys():\n",
    "            _dapi_im\n",
    "    \n",
    "    break\n",
    "    \n",
    "    \n",
    "    "
   ]
  },
  {
   "cell_type": "code",
   "execution_count": null,
   "id": "a89db332",
   "metadata": {},
   "outputs": [],
   "source": []
  },
  {
   "cell_type": "code",
   "execution_count": null,
   "id": "ba5c05c8",
   "metadata": {},
   "outputs": [],
   "source": []
  }
 ],
 "metadata": {
  "kernelspec": {
   "display_name": "postanalysis",
   "language": "python",
   "name": "postanalysis"
  },
  "language_info": {
   "codemirror_mode": {
    "name": "ipython",
    "version": 3
   },
   "file_extension": ".py",
   "mimetype": "text/x-python",
   "name": "python",
   "nbconvert_exporter": "python",
   "pygments_lexer": "ipython3",
   "version": "3.10.12"
  }
 },
 "nbformat": 4,
 "nbformat_minor": 5
}
