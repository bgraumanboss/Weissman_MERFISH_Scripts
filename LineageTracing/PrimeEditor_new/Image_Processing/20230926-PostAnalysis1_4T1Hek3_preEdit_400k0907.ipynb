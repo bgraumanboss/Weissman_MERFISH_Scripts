{
 "cells": [
  {
   "cell_type": "markdown",
   "id": "a71be332",
   "metadata": {},
   "source": [
    "# Quick alignment of spots"
   ]
  },
  {
   "cell_type": "code",
   "execution_count": null,
   "id": "d755f511",
   "metadata": {},
   "outputs": [],
   "source": [
    "# Basic imports\n",
    "import os,sys,re\n",
    "from importlib import reload\n",
    "import numpy as np\n",
    "import pandas as pd\n",
    "#import torch\n",
    "print(os.getpid())"
   ]
  },
  {
   "cell_type": "code",
   "execution_count": null,
   "id": "aaa14f8d",
   "metadata": {},
   "outputs": [],
   "source": [
    "# ChromAn related imports\n",
    "sys.path.append(r'/lab/weissman_imaging/puzheng/Softwares/') # parent folder of ChromAn\n",
    "import ImageAnalysis3 as ia3\n",
    "import h5py\n",
    "from ImageAnalysis3.classes import _allowed_kwds\n",
    "import ast\n",
    "from ChromAn.src import file_io\n",
    "\n",
    "from ChromAn.src.file_io import dax_process\n",
    "from ChromAn.src.file_io import data_organization\n",
    "from ChromAn.src.visual_tools import interactive\n",
    "from ChromAn.src.correction_tools.alignment import generate_drift_crops"
   ]
  },
  {
   "cell_type": "code",
   "execution_count": null,
   "id": "b894e4c6",
   "metadata": {},
   "outputs": [],
   "source": [
    "# data folder\n",
    "data_folder = r'/lab/weissman_imaging/puzheng/PE_LT/20230926-4T1Hek3_preEdit_400k0907'\n",
    "# scan subfolders\n",
    "folders, fovs = data_organization.search_fovs_in_folders(data_folder)\n",
    "# analysis folder\n",
    "analysis_folder = os.path.join(data_folder, 'Analysis')"
   ]
  },
  {
   "cell_type": "code",
   "execution_count": null,
   "id": "64e980e7",
   "metadata": {},
   "outputs": [],
   "source": [
    "color_usage_df = data_organization.Color_Usage(os.path.join(analysis_folder, \"Color_Usage.csv\"))"
   ]
  },
  {
   "cell_type": "code",
   "execution_count": null,
   "id": "3543884a",
   "metadata": {},
   "outputs": [],
   "source": [
    "save_folder = analysis_folder\n",
    "save_filenames = [os.path.join(save_folder, _fl) for _fl in os.listdir(save_folder)\n",
    "                  if _fl.split(os.extsep)[-1]=='hdf5']\n",
    "import re\n",
    "match = re.match(r'.*_([0-9]+).hdf5', os.path.basename(save_filenames[0]), ).groups()[0]\n",
    "save_filenames = [_f for _f in sorted(save_filenames, \n",
    "                                      key=lambda _v:int(re.match(r'.*_([0-9]+).hdf5', os.path.basename(_v), ).groups()[0]))]\n",
    "\n",
    "# extract fov_id\n",
    "save_fov_ids = [int(os.path.basename(_fl).split('.hdf5')[0].split('_')[-1]) for _fl in save_filenames]\n",
    "\n",
    "debug = False\n",
    "\n",
    "print(f\"{len(save_filenames)} fovs detected\")\n",
    "\n",
    "\n",
    "segmentation_folder = os.path.join(analysis_folder, 'Segmentation')\n",
    "if not os.path.exists(segmentation_folder):\n",
    "    os.makedirs(segmentation_folder)\n",
    "    print(f\"Creating segmentation_folder: {segmentation_folder}\")\n",
    "else:\n",
    "    print(f\"Use segmentation_folder: {segmentation_folder}\")\n",
    "\n",
    "cand_spot_folder = os.path.join(analysis_folder, 'CandSpots')\n",
    "if not os.path.exists(cand_spot_folder):\n",
    "    os.makedirs(cand_spot_folder)\n",
    "    print(f\"Creating cand_spot_folder: {cand_spot_folder}\")\n",
    "else:\n",
    "    print(f\"Use cand_spot_folder: {cand_spot_folder}\")\n",
    "\n",
    "decoder_folder = cand_spot_folder.replace('CandSpots', 'Decoder')\n",
    "if debug:\n",
    "    _version = 0\n",
    "    while os.path.exists(os.path.join(decoder_folder, f'v{_version}')):\n",
    "        _version += 1\n",
    "    decoder_folder = os.path.join(decoder_folder, f'v{_version}')\n",
    "if not os.path.exists(decoder_folder):\n",
    "    os.makedirs(decoder_folder)\n",
    "    print(f\"Creating decoder_folder: {decoder_folder}\")\n",
    "else:\n",
    "    print(f\"Use decoder_folder: {decoder_folder}\")"
   ]
  },
  {
   "cell_type": "code",
   "execution_count": null,
   "id": "69828690",
   "metadata": {},
   "outputs": [],
   "source": [
    "from ChromAn.src.file_io.image_crop import generate_neighboring_crop,crop_neighboring_area\n",
    "from scipy.stats import scoreatpercentile\n",
    "import matplotlib.pyplot as plt\n",
    "def _rescaling(im, vmin=None, vmax=None):\n",
    "    if vmin is None:\n",
    "        vmin = np.min(im)\n",
    "    if vmax is None:\n",
    "        vmax = np.max(im)\n",
    "    _res_im = np.clip(im, vmin, vmax)\n",
    "    _res_im = (_res_im - vmin) / (vmax - vmin)\n",
    "    _res_im = (_res_im * np.iinfo(np.uint8).max ).astype(np.uint8)\n",
    "    return _res_im\n",
    "\n",
    "def rescale_by_percentile(im, min_max_percent=[30,99.95]):\n",
    "    from scipy.stats import scoreatpercentile\n",
    "    vmin, vmax = scoreatpercentile(im, min(min_max_percent)), scoreatpercentile(im, max(min_max_percent))\n",
    "    return _rescaling(im, vmin=vmin, vmax=vmax)"
   ]
  },
  {
   "cell_type": "code",
   "execution_count": null,
   "id": "60ea88e7",
   "metadata": {},
   "outputs": [],
   "source": [
    "color_usage_df"
   ]
  },
  {
   "cell_type": "code",
   "execution_count": null,
   "id": "26b78729",
   "metadata": {},
   "outputs": [],
   "source": [
    "# load images:\n",
    "_save_filename = save_filenames[4]\n",
    "\n",
    "with h5py.File(_save_filename, 'r') as _f:\n",
    "    _merfish_spots = [_s[_s[:,0] > 0] for _s in _f['merfish']['spots'][:]]\n",
    "    _merfish_ids = _f['merfish']['ids'][:]\n",
    "    _merfish_ims = _f['merfish']['ims'][:]\n",
    "    _merfish_drifts = _f['merfish']['drifts'][:]\n",
    "    \n",
    "    _rna_spots = [_s[_s[:,0] > 0] for _s in _f['rna']['spots'][:]]\n",
    "    _rna_ids = _f['rna']['ids'][:]\n",
    "    _rna_ims = _f['rna']['ims'][:]\n",
    "    _rna_drifts = _f['rna']['drifts'][:]\n",
    "    _rna_channels = _f['rna']['channels'][:]\n",
    "    _dapi_im = _f.attrs['dapi_im']\n",
    "    print(_f.attrs.keys())"
   ]
  },
  {
   "cell_type": "code",
   "execution_count": null,
   "id": "e7c0f5a7",
   "metadata": {},
   "outputs": [],
   "source": []
  },
  {
   "cell_type": "code",
   "execution_count": null,
   "id": "9c99564a",
   "metadata": {},
   "outputs": [],
   "source": [
    "_rna_channels[10]"
   ]
  },
  {
   "cell_type": "code",
   "execution_count": null,
   "id": "d753c64b",
   "metadata": {},
   "outputs": [],
   "source": [
    "## quick visualization:\n",
    "%matplotlib notebook\n",
    "interactive.imshow_mark_3d(_merfish_ims, image_names=_merfish_ids)"
   ]
  },
  {
   "cell_type": "code",
   "execution_count": null,
   "id": "14246ef7",
   "metadata": {},
   "outputs": [],
   "source": [
    "_rna_ids[10]"
   ]
  },
  {
   "cell_type": "code",
   "execution_count": null,
   "id": "5a8d01d2",
   "metadata": {},
   "outputs": [],
   "source": [
    "interactive.imshow_mark_3d([_merfish_ims[-1], _rna_ims[10]])"
   ]
  },
  {
   "cell_type": "code",
   "execution_count": null,
   "id": "1f6c4427",
   "metadata": {},
   "outputs": [],
   "source": [
    "_rna_spots[12]"
   ]
  },
  {
   "cell_type": "code",
   "execution_count": null,
   "id": "bc4886b7",
   "metadata": {},
   "outputs": [],
   "source": [
    "## quick visualization:\n",
    "%matplotlib notebook\n",
    "interactive.imshow_mark_3d(_rna_ims, image_names=_rna_ids)"
   ]
  },
  {
   "cell_type": "code",
   "execution_count": null,
   "id": "582b9a4a",
   "metadata": {
    "scrolled": true
   },
   "outputs": [],
   "source": [
    "## mass plot\n",
    "%matplotlib inline\n",
    "spot_ids = np.arange(len(_merfish_spots[list(_merfish_ids).index(53)]))\n",
    "\n",
    "for _sid in spot_ids[:60]:\n",
    "    sel_center = _merfish_spots[list(_merfish_ids).index(53)][_sid,1:4]\n",
    "\n",
    "    crop = generate_neighboring_crop(sel_center, 150, single_im_size=np.array(_dapi_im.shape))\n",
    "    sel_local_dapi_im = _dapi_im[crop.to_slices()]\n",
    "    sel_local_im = _merfish_ims[list(_merfish_ids).index(53)][crop.to_slices()]\n",
    "    _sel_ims = np.array([sel_local_im, np.zeros(np.shape(sel_local_im)), sel_local_dapi_im])\n",
    "    sel_im_proj = np.array([rescale_by_percentile(_img.max(0)) \n",
    "                            for _img in _sel_ims]).transpose(1,2,0)\n",
    "    #intbc_ids = _ids[_ids <= 21]\n",
    "    edit_ids = _rna_ids[(_rna_ids >= 97) & (_rna_ids <= 117)]\n",
    "    # crop edit images:\n",
    "    edit_ims = []\n",
    "    for _id in edit_ids:\n",
    "        _idx = list(_rna_ids).index(_id)\n",
    "        # new center\n",
    "        _im, _dft = _rna_ims[_idx], _rna_drifts[_idx]\n",
    "        _local_im = crop_neighboring_area(_im, sel_center-_dft, 15)\n",
    "        edit_ims.append(_local_im)\n",
    "    \n",
    "    fig, axes = plt.subplots(1, len(edit_ims), sharex=True, sharey=True, figsize=(len(edit_ims),1.5), dpi=150)\n",
    "    plt.subplots_adjust(wspace=0.1, hspace=0.1)\n",
    "    for _iax, ax in enumerate(np.ravel(axes)):\n",
    "        ax.imshow(edit_ims[_iax].max(0), \n",
    "                  vmin=scoreatpercentile(edit_ims, 10), \n",
    "                  vmax=np.max(edit_ims), cmap='Greys_r')\n",
    "        ax.set_axis_off()\n",
    "        #if _iax < 8:\n",
    "        ax.set_title(f\"{edit_ids[_iax]}\", fontsize=10)\n",
    "        #else:\n",
    "        #    pass\n",
    "            #ax.set_title(\"unedited\", fontsize=10)\n",
    "    #fig.show()"
   ]
  },
  {
   "cell_type": "code",
   "execution_count": null,
   "id": "bbbce764",
   "metadata": {},
   "outputs": [],
   "source": []
  },
  {
   "cell_type": "code",
   "execution_count": null,
   "id": "3dc831c3",
   "metadata": {},
   "outputs": [],
   "source": [
    "# site 1 image\n",
    "%matplotlib inline\n",
    "fig, axes = plt.subplots(1, len(edit_ims), sharex=True, sharey=True, figsize=(len(edit_ims),1.5), dpi=150)\n",
    "plt.subplots_adjust(wspace=0.1, hspace=0.1)\n",
    "for _iax, ax in enumerate(np.ravel(axes)):\n",
    "    ax.imshow(edit_ims[_iax].max(0), \n",
    "              vmin=scoreatpercentile(edit_ims, 10), \n",
    "              vmax=np.max(edit_ims), cmap='Greys_r')\n",
    "    ax.set_axis_off()\n",
    "    if _iax < 8:\n",
    "        ax.set_title(f\"{_iax+1}\", fontsize=10)\n",
    "    else:\n",
    "        pass\n",
    "        #ax.set_title(\"unedited\", fontsize=10)\n",
    "fig.show()"
   ]
  },
  {
   "cell_type": "code",
   "execution_count": null,
   "id": "d8f78269",
   "metadata": {},
   "outputs": [],
   "source": [
    "%matplotlib inline\n",
    "\n",
    "## Load images\n",
    "_save_filename = save_filenames[2]\n",
    "\n",
    "for _save_filename in save_filenames:\n",
    "    try:\n",
    "        print(_save_filename)\n",
    "        with h5py.File(_save_filename, 'r') as _f:\n",
    "            _all_spots = _f['merfish']['spots'][:]\n",
    "            _spots_list = [_s[_s[:,0] > 0] for _s in _f['merfish']['spots'][:]]\n",
    "            _ids = _f['merfish']['ids'][:]\n",
    "            _ims = _f['merfish']['ims'][:]\n",
    "            _drifts = _f['merfish']['drifts'][:]\n",
    "            _dapi_im = _f.attrs['dapi_im']\n",
    "            print(_f.attrs.keys())\n",
    "\n",
    "        ## mass plot\n",
    "        from ChromAn.src.file_io.image_crop import generate_neighboring_crop\n",
    "        from scipy.stats import scoreatpercentile\n",
    "\n",
    "        figure_folder = os.path.join(analysis_folder, 'saved_figures_20231012')\n",
    "        if not os.path.exists(figure_folder):\n",
    "            os.makedirs(figure_folder)\n",
    "\n",
    "        # crop intbc images:\n",
    "        spot_ids = np.arange(len(_spots_list[list(_ids).index(53)]))\n",
    "        for _sid in spot_ids:\n",
    "            sel_center = _spots_list[list(_ids).index(53)][_sid,1:4]\n",
    "            \n",
    "            crop = generate_neighboring_crop(sel_center, 150, single_im_size=np.array(_dapi_im.shape))\n",
    "            sel_local_dapi_im = _dapi_im[crop.to_slices()]\n",
    "            sel_local_im = _ims[list(_ids).index(53)][crop.to_slices()]\n",
    "            _sel_ims = np.array([sel_local_im, np.zeros(np.shape(sel_local_im)), sel_local_dapi_im])\n",
    "            sel_im_proj = np.array([rescale_by_percentile(_img.max(0)) \n",
    "                                    for _img in _sel_ims]).transpose(1,2,0)\n",
    "\n",
    "            #intbc_ids = _ids[_ids <= 21]\n",
    "            edit_ids = _ids[(_ids > 21) & (_ids < 52)]\n",
    "\n",
    "            # crop edit images:\n",
    "            edit_ims = []\n",
    "            for _id in edit_ids:\n",
    "                _idx = list(_ids).index(_id)\n",
    "                # new center\n",
    "                _im, _dft = _ims[_idx], _drifts[_idx]\n",
    "                _local_im = crop_neighboring_area(_im, sel_center-_dft, 15)\n",
    "                edit_ims.append(_local_im)\n",
    "                #break\n",
    "            # site 1 image\n",
    "            site1_edit_ims = np.array(edit_ims[0::3])\n",
    "            fig, axes = plt.subplots(1,len(site1_edit_ims)-1, sharex=True, sharey=True, figsize=(4,1.2), dpi=150)\n",
    "            plt.subplots_adjust(wspace=0.1, hspace=0.1)\n",
    "            for _iax, ax in enumerate(np.ravel(axes)):\n",
    "                ax.imshow(site1_edit_ims[_iax].max(0), \n",
    "                          vmin=scoreatpercentile(site1_edit_ims, 0), \n",
    "                          vmax=np.max(site1_edit_ims), cmap='Greys_r')\n",
    "                ax.set_axis_off()\n",
    "                if _iax < 8:\n",
    "                    ax.set_title(f\"{_iax+1}\", fontsize=10)\n",
    "                else:\n",
    "                    pass\n",
    "                    #ax.set_title(\"unedited\", fontsize=10)\n",
    "\n",
    "            fig.suptitle(f'Emx1 Edits, spot:{_sid}', fontsize=12)\n",
    "            fig.savefig(os.path.join(figure_folder,\n",
    "                                    os.path.basename(_save_filename).replace('.hdf5',f'_Emx1edits_decode_{_sid}.png')),\n",
    "                        transparent=True,\n",
    "                       )\n",
    "            plt.show()\n",
    "            # dapi image\n",
    "            fig,ax = plt.subplots(figsize=(4,4), dpi=150)\n",
    "            ax.imshow(sel_im_proj)\n",
    "            ax.set_title(f\"R:SV40, B:DAPI\", fontsize=10)\n",
    "            ax.set_axis_off()\n",
    "            fig.savefig(os.path.join(figure_folder,\n",
    "                                    os.path.basename(_save_filename).replace('.hdf5',f'_Emx1edits_sv40Dapi_{_sid}.png')),\n",
    "                        transparent=True,\n",
    "                       )\n",
    "            plt.show()\n",
    "    except:\n",
    "        print(f\"Fail for savefile: {_save_filename}\")"
   ]
  },
  {
   "cell_type": "code",
   "execution_count": null,
   "id": "ecad5e3a",
   "metadata": {},
   "outputs": [],
   "source": [
    "sv40_centers = _spots_list[list(_ids).index(53)][:,1:4]\n",
    "sv40_im = _ims[list(_ids).index(53)]"
   ]
  },
  {
   "cell_type": "code",
   "execution_count": null,
   "id": "50c9de81",
   "metadata": {},
   "outputs": [],
   "source": [
    "interactive.imshow_mark_3d([_dapi_im, sv40_im], image_names=['DAPI', 'SV40'])"
   ]
  },
  {
   "cell_type": "code",
   "execution_count": null,
   "id": "9c0ad1bc",
   "metadata": {},
   "outputs": [],
   "source": [
    "%matplotlib notebook\n",
    "import matplotlib.pyplot as plt\n",
    "plt.figure()\n",
    "for _spots in _spots_list:\n",
    "    plt.scatter(_spots[:,3],_spots[:,2], s= 1)"
   ]
  },
  {
   "cell_type": "code",
   "execution_count": null,
   "id": "ecbf58bb",
   "metadata": {},
   "outputs": [],
   "source": [
    "# crop intbc images:\n",
    "sel_center = _spots_list[list(_ids).index(53)][12,1:4]\n",
    "sel_local_im = crop_neighboring_area(_ims[list(_ids).index(53)], sel_center, 100)\n",
    "\n",
    "intbc_ids = _ids[_ids <= 21]\n",
    "edit_ids = _ids[(_ids > 21) & (_ids < 52)]\n",
    "\n",
    "from ChromAn.src.file_io.image_crop import crop_neighboring_area\n",
    "intbc_ims = []\n",
    "for _id in intbc_ids:\n",
    "    _idx = list(_ids).index(_id)\n",
    "    # new center\n",
    "    _im, _dft = _ims[_idx], _drifts[_idx]\n",
    "    _local_im = crop_neighboring_area(_im, sel_center-_dft, 15)\n",
    "    intbc_ims.append(_local_im)\n",
    "    #break\n",
    "# crop edit images:\n",
    "edit_ims = []\n",
    "for _id in edit_ids:\n",
    "    _idx = list(_ids).index(_id)\n",
    "    # new center\n",
    "    _im, _dft = _ims[_idx], _drifts[_idx]\n",
    "    _local_im = crop_neighboring_area(_im, sel_center-_dft, 15)\n",
    "    edit_ims.append(_local_im)\n",
    "    #break"
   ]
  },
  {
   "cell_type": "code",
   "execution_count": null,
   "id": "911b1ae9",
   "metadata": {},
   "outputs": [],
   "source": [
    "fig, ax = plt.subplots()\n",
    "ax.imshow(sel_local_im.max(0))"
   ]
  },
  {
   "cell_type": "markdown",
   "id": "aec3f74b",
   "metadata": {},
   "source": [
    "interactive.imshow_mark_3d([sel_local_im] + intbc_ims, image_names=['ref'] + list(intbc_ids))"
   ]
  },
  {
   "cell_type": "code",
   "execution_count": null,
   "id": "41e33cd3",
   "metadata": {},
   "outputs": [],
   "source": [
    "fig, axes = plt.subplots(3,7)\n",
    "for _iax, ax in enumerate(np.ravel(axes)):\n",
    "    ax.imshow(intbc_ims[_iax].max(0), vmin=4000, vmax=20000)\n",
    "    ax.set_title(f\"{_iax+1}\")\n",
    "fig.suptitle('Integration barcode')"
   ]
  },
  {
   "cell_type": "code",
   "execution_count": null,
   "id": "2b9c8332",
   "metadata": {},
   "outputs": [],
   "source": [
    "fig, axes = plt.subplots(3,9)\n",
    "for _iax, ax in enumerate(np.ravel(axes)):\n",
    "    ax.imshow(edit_ims[_iax].max(0) , vmin=4000, vmax=20000)\n",
    "fig.suptitle('Edits')"
   ]
  },
  {
   "cell_type": "code",
   "execution_count": null,
   "id": "751bf107",
   "metadata": {},
   "outputs": [],
   "source": [
    "from ChromAn.src.file_io.image_crop import generate_neighboring_crop"
   ]
  },
  {
   "cell_type": "code",
   "execution_count": null,
   "id": "0d7e1542",
   "metadata": {},
   "outputs": [],
   "source": []
  },
  {
   "cell_type": "code",
   "execution_count": null,
   "id": "96966a45",
   "metadata": {},
   "outputs": [],
   "source": [
    "def _rescaling(im, vmin=None, vmax=None):\n",
    "    if vmin is None:\n",
    "        vmin = np.min(im)\n",
    "    if vmax is None:\n",
    "        vmax = np.max(im)\n",
    "    _res_im = np.clip(im, vmin, vmax)\n",
    "    _res_im = (_res_im - vmin) / (vmax - vmin)\n",
    "    _res_im = (_res_im * np.iinfo(np.uint8).max ).astype(np.uint8)\n",
    "    return _res_im\n",
    "\n",
    "def rescale_by_percentile(im, min_max_percent=[30,99.95]):\n",
    "    from scipy.stats import scoreatpercentile\n",
    "    vmin, vmax = scoreatpercentile(im, min(min_max_percent)), scoreatpercentile(im, max(min_max_percent))\n",
    "    return _rescaling(im, vmin=vmin, vmax=vmax)"
   ]
  },
  {
   "cell_type": "code",
   "execution_count": null,
   "id": "8bc5eeb9",
   "metadata": {
    "scrolled": false
   },
   "outputs": [],
   "source": [
    "%matplotlib inline\n",
    "site1_edit_ims = np.array(edit_ims[0::3])\n",
    "\n",
    "fig, axes = plt.subplots(1,len(site1_edit_ims), sharex=True, sharey=True, figsize=(4,1.2), dpi=150)\n",
    "plt.subplots_adjust(wspace=0.1, hspace=0.1)\n",
    "for _iax, ax in enumerate(np.ravel(axes)):\n",
    "    ax.imshow(site1_edit_ims[_iax].max(0), \n",
    "              vmin=scoreatpercentile(site1_edit_ims, 0), \n",
    "              vmax=np.max(site1_edit_ims), cmap='Greys_r')\n",
    "    ax.set_axis_off()\n",
    "    if _iax < 8:\n",
    "        ax.set_title(f\"{_iax+1}\", fontsize=10)\n",
    "    else:\n",
    "        ax.set_title(\"unedited\", fontsize=10)\n",
    "    \n",
    "fig.suptitle('Emx1 Edits', fontsize=12)\n",
    "plt.show()\n"
   ]
  },
  {
   "cell_type": "code",
   "execution_count": null,
   "id": "834bb1a4",
   "metadata": {
    "scrolled": true
   },
   "outputs": [],
   "source": [
    "%matplotlib inline\n",
    "# mass plot\n",
    "from ChromAn.src.file_io.image_crop import generate_neighboring_crop\n",
    "from scipy.stats import scoreatpercentile\n",
    "\n",
    "figure_folder = os.path.join(analysis_folder, 'saved_figures_20231012')\n",
    "if not os.path.exists(figure_folder):\n",
    "    os.makedirs(figure_folder)\n",
    "\n",
    "# crop intbc images:\n",
    "spot_id = np.arange(30)\n",
    "for _sid in spot_id:\n",
    "    sel_center = _spots_list[list(_ids).index(53)][_sid,1:4]\n",
    "\n",
    "    \n",
    "    crop = generate_neighboring_crop(sel_center, 150, single_im_size=np.array(_dapi_im.shape))\n",
    "    sel_local_dapi_im = _dapi_im[crop.to_slices()]\n",
    "    sel_local_im = _ims[list(_ids).index(53)][crop.to_slices()]\n",
    "    _sel_ims = np.array([sel_local_im, np.zeros(np.shape(sel_local_im)), sel_local_dapi_im])\n",
    "    sel_im_proj = np.array([rescale_by_percentile(_img.max(0)) \n",
    "                            for _img in _sel_ims]).transpose(1,2,0)\n",
    "\n",
    "    #intbc_ids = _ids[_ids <= 21]\n",
    "    edit_ids = _ids[(_ids > 21) & (_ids < 52)]\n",
    "\n",
    "    # crop edit images:\n",
    "    edit_ims = []\n",
    "    for _id in edit_ids:\n",
    "        _idx = list(_ids).index(_id)\n",
    "        # new center\n",
    "        _im, _dft = _ims[_idx], _drifts[_idx]\n",
    "        _local_im = crop_neighboring_area(_im, sel_center-_dft, 15)\n",
    "        edit_ims.append(_local_im)\n",
    "        #break\n",
    "    # site 1 image\n",
    "    site1_edit_ims = np.array(edit_ims[0::3])\n",
    "    fig, axes = plt.subplots(1,len(site1_edit_ims), sharex=True, sharey=True, figsize=(4,1.2), dpi=150)\n",
    "    plt.subplots_adjust(wspace=0.1, hspace=0.1)\n",
    "    for _iax, ax in enumerate(np.ravel(axes)):\n",
    "        ax.imshow(site1_edit_ims[_iax].max(0), \n",
    "                  vmin=scoreatpercentile(site1_edit_ims, 0), \n",
    "                  vmax=np.max(site1_edit_ims), cmap='Greys_r')\n",
    "        ax.set_axis_off()\n",
    "        if _iax < 8:\n",
    "            ax.set_title(f\"{_iax+1}\", fontsize=10)\n",
    "        else:\n",
    "            ax.set_title(\"unedited\", fontsize=10)\n",
    "\n",
    "    fig.suptitle(f'Emx1 Edits, spot:{_sid}', fontsize=12)\n",
    "    fig.savefig(os.path.join(figure_folder,\n",
    "                            os.path.basename(_save_filename).replace('.hdf5',f'_Emx1edits_decode_{_sid}.png')),\n",
    "                transparent=True,\n",
    "               )\n",
    "    plt.show()\n",
    "    # dapi image\n",
    "    fig,ax = plt.subplots(figsize=(4,4), dpi=150)\n",
    "    ax.imshow(sel_im_proj)\n",
    "    ax.set_title(f\"R:SV40, B:DAPI\", fontsize=10)\n",
    "    ax.set_axis_off()\n",
    "    fig.savefig(os.path.join(figure_folder,\n",
    "                            os.path.basename(_save_filename).replace('.hdf5',f'_Emx1edits_sv40Dapi_{_sid}.png')),\n",
    "                transparent=True,\n",
    "               )\n",
    "    plt.show()"
   ]
  },
  {
   "cell_type": "code",
   "execution_count": null,
   "id": "f9d93f62",
   "metadata": {},
   "outputs": [],
   "source": []
  },
  {
   "cell_type": "code",
   "execution_count": null,
   "id": "eee8684d",
   "metadata": {},
   "outputs": [],
   "source": [
    "%matplotlib notebook\n",
    "interactive.imshow_mark_3d([sel_local_im] + edit_ims, image_names=['ref'] + list(edit_ids))"
   ]
  },
  {
   "cell_type": "code",
   "execution_count": null,
   "id": "94b062e0",
   "metadata": {
    "scrolled": true
   },
   "outputs": [],
   "source": [
    "np.sum(_ids <= 21)"
   ]
  },
  {
   "cell_type": "code",
   "execution_count": null,
   "id": "038cf1b4",
   "metadata": {},
   "outputs": [],
   "source": []
  }
 ],
 "metadata": {
  "kernelspec": {
   "display_name": "postanalysis",
   "language": "python",
   "name": "postanalysis"
  },
  "language_info": {
   "codemirror_mode": {
    "name": "ipython",
    "version": 3
   },
   "file_extension": ".py",
   "mimetype": "text/x-python",
   "name": "python",
   "nbconvert_exporter": "python",
   "pygments_lexer": "ipython3",
   "version": "3.10.12"
  }
 },
 "nbformat": 4,
 "nbformat_minor": 5
}
