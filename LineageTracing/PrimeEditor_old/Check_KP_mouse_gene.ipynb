{
 "cells": [
  {
   "cell_type": "code",
   "execution_count": 20,
   "id": "b574b761",
   "metadata": {},
   "outputs": [],
   "source": [
    "import pandas as pd\n",
    "import os\n",
    "import numpy as np"
   ]
  },
  {
   "cell_type": "code",
   "execution_count": 2,
   "id": "31585454",
   "metadata": {},
   "outputs": [],
   "source": [
    "data_folder = r'\\\\wi-bigdata.wi.mit.edu\\solexa_weissman\\puzheng\\KP_mouse'"
   ]
  },
  {
   "cell_type": "code",
   "execution_count": null,
   "id": "5d2ed1df",
   "metadata": {},
   "outputs": [],
   "source": []
  },
  {
   "cell_type": "code",
   "execution_count": 4,
   "id": "d79b482c",
   "metadata": {},
   "outputs": [],
   "source": [
    "os.listdir(data_folder)\n",
    "data_filename = os.path.join(data_folder, 'bulk_rna_seq.xlsx')\n",
    "data_df = pd.read_excel(data_filename)"
   ]
  },
  {
   "cell_type": "code",
   "execution_count": 26,
   "id": "41805600",
   "metadata": {},
   "outputs": [],
   "source": [
    "data_df['mean_exp'] = data_df.values[:,9:].astype(np.float32).mean(1)"
   ]
  },
  {
   "cell_type": "code",
   "execution_count": 10,
   "id": "23950db2",
   "metadata": {},
   "outputs": [],
   "source": [
    "ref_data_filename = os.path.join(data_folder, r'Meng_258_genes.xlsx')\n",
    "ref_data_df = pd.read_excel(ref_data_filename)"
   ]
  },
  {
   "cell_type": "code",
   "execution_count": 25,
   "id": "c0645a3a",
   "metadata": {},
   "outputs": [
    {
     "data": {
      "text/plain": [
       "0        False\n",
       "1        False\n",
       "2        False\n",
       "3        False\n",
       "4        False\n",
       "         ...  \n",
       "10898    False\n",
       "10899    False\n",
       "10900    False\n",
       "10901    False\n",
       "10902    False\n",
       "Name: Gene symbol, Length: 10903, dtype: bool"
      ]
     },
     "execution_count": 25,
     "metadata": {},
     "output_type": "execute_result"
    }
   ],
   "source": []
  },
  {
   "cell_type": "code",
   "execution_count": 35,
   "id": "4937abdd",
   "metadata": {
    "scrolled": false
   },
   "outputs": [],
   "source": [
    "matched_genes = []\n",
    "matched_exps = []\n",
    "for _gene in ref_data_df['Gene']:\n",
    "    try:\n",
    "        if _gene.upper() in data_df['Gene symbol'].values:\n",
    "            #print(_gene)\n",
    "            #print()\n",
    "            matched_genes.append(_gene)\n",
    "            matched_exps.append(data_df.loc[data_df['Gene symbol']==_gene.upper(), 'mean_exp'].values[0])\n",
    "            \n",
    "    except:\n",
    "        continue\n",
    "    "
   ]
  },
  {
   "cell_type": "code",
   "execution_count": 38,
   "id": "2696efec",
   "metadata": {},
   "outputs": [
    {
     "data": {
      "text/plain": [
       "(array([75., 13.,  5., 10.,  4.,  7.,  0.,  4.,  3.,  1.,  2.,  2.,  3.,\n",
       "         2.,  0.,  0.,  1.,  1.,  0.,  0.,  0.,  0.,  1.,  0.,  0.,  2.,\n",
       "         1.,  1.,  0.,  1.,  0.,  0.,  0.,  1.,  0.,  0.,  1.,  0.,  0.,\n",
       "         1.,  0.,  0.,  0.,  0.,  1.,  0.,  1.,  0.,  0.,  2.,  0.,  0.,\n",
       "         0.,  0.,  0.,  0.,  0.,  0.,  0.,  0.,  0.,  0.,  0.,  0.,  0.,\n",
       "         0.,  0.,  0.,  0.,  0.,  0.,  0.,  0.,  0.,  0.,  0.,  0.,  0.,\n",
       "         0.,  0.,  0.,  0.,  0.,  0.,  0.,  0.,  0.,  0.,  0.,  0.,  0.,\n",
       "         0.,  0.,  0.,  0.,  0.,  0.,  0.,  0.]),\n",
       " array([ 0.,  1.,  2.,  3.,  4.,  5.,  6.,  7.,  8.,  9., 10., 11., 12.,\n",
       "        13., 14., 15., 16., 17., 18., 19., 20., 21., 22., 23., 24., 25.,\n",
       "        26., 27., 28., 29., 30., 31., 32., 33., 34., 35., 36., 37., 38.,\n",
       "        39., 40., 41., 42., 43., 44., 45., 46., 47., 48., 49., 50., 51.,\n",
       "        52., 53., 54., 55., 56., 57., 58., 59., 60., 61., 62., 63., 64.,\n",
       "        65., 66., 67., 68., 69., 70., 71., 72., 73., 74., 75., 76., 77.,\n",
       "        78., 79., 80., 81., 82., 83., 84., 85., 86., 87., 88., 89., 90.,\n",
       "        91., 92., 93., 94., 95., 96., 97., 98., 99.]),\n",
       " <BarContainer object of 99 artists>)"
      ]
     },
     "execution_count": 38,
     "metadata": {},
     "output_type": "execute_result"
    },
    {
     "data": {
      "image/png": "[encoded data removed]",
      "text/plain": [
       "<Figure size 640x480 with 1 Axes>"
      ]
     },
     "metadata": {},
     "output_type": "display_data"
    }
   ],
   "source": [
    "import matplotlib.pyplot as plt\n",
    "\n",
    "plt.figure()\n",
    "\n",
    "plt.hist(matched_exps, bins=np.arange(0,100))"
   ]
  },
  {
   "cell_type": "code",
   "execution_count": 40,
   "id": "4772b250",
   "metadata": {},
   "outputs": [
    {
     "data": {
      "text/plain": [
       "44"
      ]
     },
     "execution_count": 40,
     "metadata": {},
     "output_type": "execute_result"
    }
   ],
   "source": [
    "np.sum(np.array(matched_exps) > 5)"
   ]
  },
  {
   "cell_type": "code",
   "execution_count": null,
   "id": "dddac55b",
   "metadata": {},
   "outputs": [],
   "source": []
  }
 ],
 "metadata": {
  "kernelspec": {
   "display_name": "postanalysis",
   "language": "python",
   "name": "postanalysis"
  },
  "language_info": {
   "codemirror_mode": {
    "name": "ipython",
    "version": 3
   },
   "file_extension": ".py",
   "mimetype": "text/x-python",
   "name": "python",
   "nbconvert_exporter": "python",
   "pygments_lexer": "ipython3",
   "version": "3.10.10"
  }
 },
 "nbformat": 4,
 "nbformat_minor": 5
}
