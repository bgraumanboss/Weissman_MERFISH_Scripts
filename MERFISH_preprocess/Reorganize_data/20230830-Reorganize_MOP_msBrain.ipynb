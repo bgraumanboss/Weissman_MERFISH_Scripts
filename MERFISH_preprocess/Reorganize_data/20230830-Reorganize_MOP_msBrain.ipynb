{
 "cells": [
  {
   "cell_type": "markdown",
   "id": "0439edd0-c5c8-4b2a-9c85-e41014f6d2ab",
   "metadata": {},
   "source": [
    "# MERFISH Data reorganization"
   ]
  },
  {
   "cell_type": "code",
   "execution_count": 1,
   "id": "8efb4317-e7b3-4662-9f0b-badc978f6554",
   "metadata": {},
   "outputs": [],
   "source": [
    "import pandas as pd\n",
    "import numpy as np\n",
    "import os, sys, time\n",
    "import re\n",
    "import shutil\n",
    "from importlib import reload\n",
    "# this version doesn't have ChromAn compiled, so directly load from src:\n",
    "sys.path.append(r\"/lab/weissman_imaging/puzheng/Softwares/ChromAn\")\n",
    "import src"
   ]
  },
  {
   "cell_type": "code",
   "execution_count": 9,
   "id": "75686a2b-0768-46e4-897c-54517fc22728",
   "metadata": {},
   "outputs": [],
   "source": []
  },
  {
   "cell_type": "code",
   "execution_count": 4,
   "id": "71157886-763a-48c6-bdfa-692982553c25",
   "metadata": {},
   "outputs": [
    {
     "name": "stdout",
     "output_type": "stream",
     "text": [
      "- searching in folder: /lab/weissman_imaging/puzheng/msBrain/20230830-msBrain_Mop_MF1\n",
      "-- 20 folders, 398 fovs detected.\n"
     ]
    }
   ],
   "source": [
    "from src.file_io.data_organization import search_fovs_in_folders, Color_Usage\n",
    "data_home =  r\"/lab/weissman_imaging/puzheng\"\n",
    "\n",
    "data_folder = os.path.join(data_home, 'msBrain', '20230830-msBrain_Mop_MF1')\n",
    "\n",
    "fds, fovs = search_fovs_in_folders(data_folder)\n"
   ]
  },
  {
   "cell_type": "code",
   "execution_count": 12,
   "id": "3bb154b2",
   "metadata": {},
   "outputs": [
    {
     "name": "stdout",
     "output_type": "stream",
     "text": [
      "- load color_usage from file: /lab/weissman_imaging/puzheng/msBrain/20230830-msBrain_Mop_MF1/Analysis/color_usage.csv\n"
     ]
    }
   ],
   "source": [
    "# Color usage file marks the organization of imaging files\n",
    "color_usage_filename = os.path.join(data_folder, 'Analysis', 'color_usage.csv')\n",
    "color_usage_df = Color_Usage(color_usage_filename)"
   ]
  },
  {
   "cell_type": "code",
   "execution_count": 14,
   "id": "b0a74f8c",
   "metadata": {},
   "outputs": [
    {
     "data": {
      "text/plain": [
       "['H0M1',\n",
       " 'H1M2',\n",
       " 'H2M3',\n",
       " 'H3M4',\n",
       " 'H4M5',\n",
       " 'H5M6',\n",
       " 'H6M7',\n",
       " 'H7M8',\n",
       " 'H8M9',\n",
       " 'H10M11',\n",
       " 'H11M12',\n",
       " 'H12M13']"
      ]
     },
     "execution_count": 14,
     "metadata": {},
     "output_type": "execute_result"
    }
   ],
   "source": []
  },
  {
   "cell_type": "code",
   "execution_count": 6,
   "id": "dc156554-ad0f-4fb8-b4a5-184b36e85dcb",
   "metadata": {},
   "outputs": [
    {
     "name": "stdout",
     "output_type": "stream",
     "text": [
      "20230830 msTest MO4\n"
     ]
    }
   ],
   "source": [
    "date = os.path.basename(data_folder).split('-')[0]\n",
    "\n",
    "sample = 'msTest'\n",
    "library = 'MO4'\n",
    "\n",
    "print(date, sample, library)"
   ]
  },
  {
   "cell_type": "code",
   "execution_count": 7,
   "id": "2dea4fe3-2113-448f-b9d0-674b5dc1875c",
   "metadata": {},
   "outputs": [
    {
     "name": "stdout",
     "output_type": "stream",
     "text": [
      "Creating folder: /lab/weissman_imaging/puzheng/MERFISH_data/20230830-msTest_MO4\n"
     ]
    }
   ],
   "source": [
    "from src.file_io.data_organization import create_folder\n",
    "# shutter files\n",
    "ref_image_type = '748_637_477_405_s13_n1000' # ref 58 / 65\n",
    "polyt_image_type = '748_637_477_s13_n1000'\n",
    "image_type = '748_637_477_s13_n1000' # ref 36/39\n",
    "\n",
    "# fiducial beads\n",
    "#ref_channel = 488\n",
    "#ref_frame = 13 # start from 0!\n",
    "\n",
    "# target folder\n",
    "merfish_data_folder = r'/lab/weissman_imaging/puzheng/MERFISH_data'\n",
    "\n",
    "# target folder:\n",
    "target_folder = os.path.join(merfish_data_folder, f'{date}-{sample}_{library}')\n",
    "create_folder(target_folder)\n"
   ]
  },
  {
   "cell_type": "code",
   "execution_count": 22,
   "id": "1854f226-eea5-4cff-b64f-c6a45e462bb2",
   "metadata": {
    "scrolled": true,
    "tags": []
   },
   "outputs": [
    {
     "name": "stdout",
     "output_type": "stream",
     "text": [
      "copy /lab/weissman_imaging/puzheng/msBrain/20230830-msBrain_Mop_MF1/H0M1/Conv_zscan_043.inf to /lab/weissman_imaging/puzheng/MERFISH_data/20230830-msTest_MO4/748_637_477_405_s13_n1000_43_0.inf\n",
      "copy /lab/weissman_imaging/puzheng/msBrain/20230830-msBrain_Mop_MF1/H0M1/Conv_zscan_043.xml to /lab/weissman_imaging/puzheng/MERFISH_data/20230830-msTest_MO4/748_637_477_405_s13_n1000_43_0.xml\n",
      "copy /lab/weissman_imaging/puzheng/msBrain/20230830-msBrain_Mop_MF1/H0M1/Conv_zscan_043.power to /lab/weissman_imaging/puzheng/MERFISH_data/20230830-msTest_MO4/748_637_477_405_s13_n1000_43_0.power\n",
      "copy /lab/weissman_imaging/puzheng/msBrain/20230830-msBrain_Mop_MF1/H0M1/Conv_zscan_043.off to /lab/weissman_imaging/puzheng/MERFISH_data/20230830-msTest_MO4/748_637_477_405_s13_n1000_43_0.off\n",
      "copy /lab/weissman_imaging/puzheng/msBrain/20230830-msBrain_Mop_MF1/H0M1/Conv_zscan_043.dax to /lab/weissman_imaging/puzheng/MERFISH_data/20230830-msTest_MO4/748_637_477_405_s13_n1000_43_0.dax\n",
      "copy /lab/weissman_imaging/puzheng/msBrain/20230830-msBrain_Mop_MF1/H1M2/Conv_zscan_043.inf to /lab/weissman_imaging/puzheng/MERFISH_data/20230830-msTest_MO4/748_637_477_s13_n1000_43_1.inf\n",
      "copy /lab/weissman_imaging/puzheng/msBrain/20230830-msBrain_Mop_MF1/H1M2/Conv_zscan_043.xml to /lab/weissman_imaging/puzheng/MERFISH_data/20230830-msTest_MO4/748_637_477_s13_n1000_43_1.xml\n",
      "copy /lab/weissman_imaging/puzheng/msBrain/20230830-msBrain_Mop_MF1/H1M2/Conv_zscan_043.power to /lab/weissman_imaging/puzheng/MERFISH_data/20230830-msTest_MO4/748_637_477_s13_n1000_43_1.power\n",
      "copy /lab/weissman_imaging/puzheng/msBrain/20230830-msBrain_Mop_MF1/H1M2/Conv_zscan_043.off to /lab/weissman_imaging/puzheng/MERFISH_data/20230830-msTest_MO4/748_637_477_s13_n1000_43_1.off\n",
      "copy /lab/weissman_imaging/puzheng/msBrain/20230830-msBrain_Mop_MF1/H1M2/Conv_zscan_043.dax to /lab/weissman_imaging/puzheng/MERFISH_data/20230830-msTest_MO4/748_637_477_s13_n1000_43_1.dax\n",
      "copy /lab/weissman_imaging/puzheng/msBrain/20230830-msBrain_Mop_MF1/H2M3/Conv_zscan_043.inf to /lab/weissman_imaging/puzheng/MERFISH_data/20230830-msTest_MO4/748_637_477_s13_n1000_43_2.inf\n",
      "copy /lab/weissman_imaging/puzheng/msBrain/20230830-msBrain_Mop_MF1/H2M3/Conv_zscan_043.xml to /lab/weissman_imaging/puzheng/MERFISH_data/20230830-msTest_MO4/748_637_477_s13_n1000_43_2.xml\n",
      "copy /lab/weissman_imaging/puzheng/msBrain/20230830-msBrain_Mop_MF1/H2M3/Conv_zscan_043.power to /lab/weissman_imaging/puzheng/MERFISH_data/20230830-msTest_MO4/748_637_477_s13_n1000_43_2.power\n",
      "copy /lab/weissman_imaging/puzheng/msBrain/20230830-msBrain_Mop_MF1/H2M3/Conv_zscan_043.off to /lab/weissman_imaging/puzheng/MERFISH_data/20230830-msTest_MO4/748_637_477_s13_n1000_43_2.off\n",
      "copy /lab/weissman_imaging/puzheng/msBrain/20230830-msBrain_Mop_MF1/H2M3/Conv_zscan_043.dax to /lab/weissman_imaging/puzheng/MERFISH_data/20230830-msTest_MO4/748_637_477_s13_n1000_43_2.dax\n",
      "copy /lab/weissman_imaging/puzheng/msBrain/20230830-msBrain_Mop_MF1/H3M4/Conv_zscan_043.inf to /lab/weissman_imaging/puzheng/MERFISH_data/20230830-msTest_MO4/748_637_477_s13_n1000_43_3.inf\n",
      "copy /lab/weissman_imaging/puzheng/msBrain/20230830-msBrain_Mop_MF1/H3M4/Conv_zscan_043.xml to /lab/weissman_imaging/puzheng/MERFISH_data/20230830-msTest_MO4/748_637_477_s13_n1000_43_3.xml\n",
      "copy /lab/weissman_imaging/puzheng/msBrain/20230830-msBrain_Mop_MF1/H3M4/Conv_zscan_043.power to /lab/weissman_imaging/puzheng/MERFISH_data/20230830-msTest_MO4/748_637_477_s13_n1000_43_3.power\n",
      "copy /lab/weissman_imaging/puzheng/msBrain/20230830-msBrain_Mop_MF1/H3M4/Conv_zscan_043.off to /lab/weissman_imaging/puzheng/MERFISH_data/20230830-msTest_MO4/748_637_477_s13_n1000_43_3.off\n",
      "copy /lab/weissman_imaging/puzheng/msBrain/20230830-msBrain_Mop_MF1/H3M4/Conv_zscan_043.dax to /lab/weissman_imaging/puzheng/MERFISH_data/20230830-msTest_MO4/748_637_477_s13_n1000_43_3.dax\n",
      "copy /lab/weissman_imaging/puzheng/msBrain/20230830-msBrain_Mop_MF1/H4M5/Conv_zscan_043.inf to /lab/weissman_imaging/puzheng/MERFISH_data/20230830-msTest_MO4/748_637_477_s13_n1000_43_4.inf\n",
      "copy /lab/weissman_imaging/puzheng/msBrain/20230830-msBrain_Mop_MF1/H4M5/Conv_zscan_043.xml to /lab/weissman_imaging/puzheng/MERFISH_data/20230830-msTest_MO4/748_637_477_s13_n1000_43_4.xml\n",
      "copy /lab/weissman_imaging/puzheng/msBrain/20230830-msBrain_Mop_MF1/H4M5/Conv_zscan_043.power to /lab/weissman_imaging/puzheng/MERFISH_data/20230830-msTest_MO4/748_637_477_s13_n1000_43_4.power\n",
      "copy /lab/weissman_imaging/puzheng/msBrain/20230830-msBrain_Mop_MF1/H4M5/Conv_zscan_043.off to /lab/weissman_imaging/puzheng/MERFISH_data/20230830-msTest_MO4/748_637_477_s13_n1000_43_4.off\n",
      "copy /lab/weissman_imaging/puzheng/msBrain/20230830-msBrain_Mop_MF1/H4M5/Conv_zscan_043.dax to /lab/weissman_imaging/puzheng/MERFISH_data/20230830-msTest_MO4/748_637_477_s13_n1000_43_4.dax\n",
      "copy /lab/weissman_imaging/puzheng/msBrain/20230830-msBrain_Mop_MF1/H5M6/Conv_zscan_043.inf to /lab/weissman_imaging/puzheng/MERFISH_data/20230830-msTest_MO4/748_637_477_s13_n1000_43_5.inf\n",
      "copy /lab/weissman_imaging/puzheng/msBrain/20230830-msBrain_Mop_MF1/H5M6/Conv_zscan_043.xml to /lab/weissman_imaging/puzheng/MERFISH_data/20230830-msTest_MO4/748_637_477_s13_n1000_43_5.xml\n",
      "copy /lab/weissman_imaging/puzheng/msBrain/20230830-msBrain_Mop_MF1/H5M6/Conv_zscan_043.power to /lab/weissman_imaging/puzheng/MERFISH_data/20230830-msTest_MO4/748_637_477_s13_n1000_43_5.power\n",
      "copy /lab/weissman_imaging/puzheng/msBrain/20230830-msBrain_Mop_MF1/H5M6/Conv_zscan_043.off to /lab/weissman_imaging/puzheng/MERFISH_data/20230830-msTest_MO4/748_637_477_s13_n1000_43_5.off\n",
      "copy /lab/weissman_imaging/puzheng/msBrain/20230830-msBrain_Mop_MF1/H5M6/Conv_zscan_043.dax to /lab/weissman_imaging/puzheng/MERFISH_data/20230830-msTest_MO4/748_637_477_s13_n1000_43_5.dax\n",
      "copy /lab/weissman_imaging/puzheng/msBrain/20230830-msBrain_Mop_MF1/H6M7/Conv_zscan_043.inf to /lab/weissman_imaging/puzheng/MERFISH_data/20230830-msTest_MO4/748_637_477_s13_n1000_43_6.inf\n",
      "copy /lab/weissman_imaging/puzheng/msBrain/20230830-msBrain_Mop_MF1/H6M7/Conv_zscan_043.xml to /lab/weissman_imaging/puzheng/MERFISH_data/20230830-msTest_MO4/748_637_477_s13_n1000_43_6.xml\n",
      "copy /lab/weissman_imaging/puzheng/msBrain/20230830-msBrain_Mop_MF1/H6M7/Conv_zscan_043.power to /lab/weissman_imaging/puzheng/MERFISH_data/20230830-msTest_MO4/748_637_477_s13_n1000_43_6.power\n",
      "copy /lab/weissman_imaging/puzheng/msBrain/20230830-msBrain_Mop_MF1/H6M7/Conv_zscan_043.off to /lab/weissman_imaging/puzheng/MERFISH_data/20230830-msTest_MO4/748_637_477_s13_n1000_43_6.off\n",
      "copy /lab/weissman_imaging/puzheng/msBrain/20230830-msBrain_Mop_MF1/H6M7/Conv_zscan_043.dax to /lab/weissman_imaging/puzheng/MERFISH_data/20230830-msTest_MO4/748_637_477_s13_n1000_43_6.dax\n",
      "copy /lab/weissman_imaging/puzheng/msBrain/20230830-msBrain_Mop_MF1/H7M8/Conv_zscan_043.inf to /lab/weissman_imaging/puzheng/MERFISH_data/20230830-msTest_MO4/748_637_477_s13_n1000_43_7.inf\n",
      "copy /lab/weissman_imaging/puzheng/msBrain/20230830-msBrain_Mop_MF1/H7M8/Conv_zscan_043.xml to /lab/weissman_imaging/puzheng/MERFISH_data/20230830-msTest_MO4/748_637_477_s13_n1000_43_7.xml\n",
      "copy /lab/weissman_imaging/puzheng/msBrain/20230830-msBrain_Mop_MF1/H7M8/Conv_zscan_043.power to /lab/weissman_imaging/puzheng/MERFISH_data/20230830-msTest_MO4/748_637_477_s13_n1000_43_7.power\n",
      "copy /lab/weissman_imaging/puzheng/msBrain/20230830-msBrain_Mop_MF1/H7M8/Conv_zscan_043.off to /lab/weissman_imaging/puzheng/MERFISH_data/20230830-msTest_MO4/748_637_477_s13_n1000_43_7.off\n",
      "copy /lab/weissman_imaging/puzheng/msBrain/20230830-msBrain_Mop_MF1/H7M8/Conv_zscan_043.dax to /lab/weissman_imaging/puzheng/MERFISH_data/20230830-msTest_MO4/748_637_477_s13_n1000_43_7.dax\n",
      "copy /lab/weissman_imaging/puzheng/msBrain/20230830-msBrain_Mop_MF1/H8M9/Conv_zscan_043.inf to /lab/weissman_imaging/puzheng/MERFISH_data/20230830-msTest_MO4/748_637_477_s13_n1000_43_8.inf\n",
      "copy /lab/weissman_imaging/puzheng/msBrain/20230830-msBrain_Mop_MF1/H8M9/Conv_zscan_043.xml to /lab/weissman_imaging/puzheng/MERFISH_data/20230830-msTest_MO4/748_637_477_s13_n1000_43_8.xml\n",
      "copy /lab/weissman_imaging/puzheng/msBrain/20230830-msBrain_Mop_MF1/H8M9/Conv_zscan_043.power to /lab/weissman_imaging/puzheng/MERFISH_data/20230830-msTest_MO4/748_637_477_s13_n1000_43_8.power\n",
      "copy /lab/weissman_imaging/puzheng/msBrain/20230830-msBrain_Mop_MF1/H8M9/Conv_zscan_043.off to /lab/weissman_imaging/puzheng/MERFISH_data/20230830-msTest_MO4/748_637_477_s13_n1000_43_8.off\n",
      "copy /lab/weissman_imaging/puzheng/msBrain/20230830-msBrain_Mop_MF1/H8M9/Conv_zscan_043.dax to /lab/weissman_imaging/puzheng/MERFISH_data/20230830-msTest_MO4/748_637_477_s13_n1000_43_8.dax\n"
     ]
    },
    {
     "name": "stdout",
     "output_type": "stream",
     "text": [
      "copy /lab/weissman_imaging/puzheng/msBrain/20230830-msBrain_Mop_MF1/H10M11/Conv_zscan_043.inf to /lab/weissman_imaging/puzheng/MERFISH_data/20230830-msTest_MO4/748_637_477_s13_n1000_43_10.inf\n",
      "copy /lab/weissman_imaging/puzheng/msBrain/20230830-msBrain_Mop_MF1/H10M11/Conv_zscan_043.xml to /lab/weissman_imaging/puzheng/MERFISH_data/20230830-msTest_MO4/748_637_477_s13_n1000_43_10.xml\n",
      "copy /lab/weissman_imaging/puzheng/msBrain/20230830-msBrain_Mop_MF1/H10M11/Conv_zscan_043.power to /lab/weissman_imaging/puzheng/MERFISH_data/20230830-msTest_MO4/748_637_477_s13_n1000_43_10.power\n",
      "copy /lab/weissman_imaging/puzheng/msBrain/20230830-msBrain_Mop_MF1/H10M11/Conv_zscan_043.off to /lab/weissman_imaging/puzheng/MERFISH_data/20230830-msTest_MO4/748_637_477_s13_n1000_43_10.off\n",
      "copy /lab/weissman_imaging/puzheng/msBrain/20230830-msBrain_Mop_MF1/H10M11/Conv_zscan_043.dax to /lab/weissman_imaging/puzheng/MERFISH_data/20230830-msTest_MO4/748_637_477_s13_n1000_43_10.dax\n",
      "copy /lab/weissman_imaging/puzheng/msBrain/20230830-msBrain_Mop_MF1/H11M12/Conv_zscan_043.inf to /lab/weissman_imaging/puzheng/MERFISH_data/20230830-msTest_MO4/748_637_477_s13_n1000_43_11.inf\n",
      "copy /lab/weissman_imaging/puzheng/msBrain/20230830-msBrain_Mop_MF1/H11M12/Conv_zscan_043.xml to /lab/weissman_imaging/puzheng/MERFISH_data/20230830-msTest_MO4/748_637_477_s13_n1000_43_11.xml\n",
      "copy /lab/weissman_imaging/puzheng/msBrain/20230830-msBrain_Mop_MF1/H11M12/Conv_zscan_043.power to /lab/weissman_imaging/puzheng/MERFISH_data/20230830-msTest_MO4/748_637_477_s13_n1000_43_11.power\n",
      "copy /lab/weissman_imaging/puzheng/msBrain/20230830-msBrain_Mop_MF1/H11M12/Conv_zscan_043.off to /lab/weissman_imaging/puzheng/MERFISH_data/20230830-msTest_MO4/748_637_477_s13_n1000_43_11.off\n",
      "copy /lab/weissman_imaging/puzheng/msBrain/20230830-msBrain_Mop_MF1/H11M12/Conv_zscan_043.dax to /lab/weissman_imaging/puzheng/MERFISH_data/20230830-msTest_MO4/748_637_477_s13_n1000_43_11.dax\n",
      "copy /lab/weissman_imaging/puzheng/msBrain/20230830-msBrain_Mop_MF1/H12M13/Conv_zscan_043.inf to /lab/weissman_imaging/puzheng/MERFISH_data/20230830-msTest_MO4/748_637_477_s13_n1000_43_12.inf\n",
      "copy /lab/weissman_imaging/puzheng/msBrain/20230830-msBrain_Mop_MF1/H12M13/Conv_zscan_043.xml to /lab/weissman_imaging/puzheng/MERFISH_data/20230830-msTest_MO4/748_637_477_s13_n1000_43_12.xml\n",
      "copy /lab/weissman_imaging/puzheng/msBrain/20230830-msBrain_Mop_MF1/H12M13/Conv_zscan_043.power to /lab/weissman_imaging/puzheng/MERFISH_data/20230830-msTest_MO4/748_637_477_s13_n1000_43_12.power\n",
      "copy /lab/weissman_imaging/puzheng/msBrain/20230830-msBrain_Mop_MF1/H12M13/Conv_zscan_043.off to /lab/weissman_imaging/puzheng/MERFISH_data/20230830-msTest_MO4/748_637_477_s13_n1000_43_12.off\n",
      "copy /lab/weissman_imaging/puzheng/msBrain/20230830-msBrain_Mop_MF1/H12M13/Conv_zscan_043.dax to /lab/weissman_imaging/puzheng/MERFISH_data/20230830-msTest_MO4/748_637_477_s13_n1000_43_12.dax\n"
     ]
    }
   ],
   "source": [
    "#sel_fovs = []\n",
    "folder_regexp = r'H([0-9]+)[MRCP]([0-9+])'\n",
    "\n",
    "ref_round = 0\n",
    "polyt_round = 8\n",
    "#fov_ids = np.arange(2)\n",
    "overwrite = True\n",
    "remove_source = False\n",
    "\n",
    "sel_fovs = [43]\n",
    "\n",
    "for _fov_id, _fov_name in enumerate(fovs):\n",
    "    # check if this fov is selected:\n",
    "    if 'sel_fovs' in locals() and _fov_id not in sel_fovs:\n",
    "        continue # skip if not selected\n",
    "    # prceed for the rest:\n",
    "    for _fd in fds:\n",
    "        # match round and hyb\n",
    "        _match = re.search(folder_regexp, os.path.basename(_fd))\n",
    "        if _match is None:\n",
    "            continue\n",
    "        # if not exist in color_usage, skip\n",
    "        if os.path.basename(_fd) not in list(color_usage_df.index):\n",
    "            continue\n",
    "        _round, _region = _match.groups()\n",
    "        # mutliple files for each image:\n",
    "        _files = [os.path.join(_fd, _fl) for _fl in os.listdir(_fd) if _fov_name.split(os.extsep)[0] in _fl]\n",
    "        # reference round specified\n",
    "        if int(_round) == ref_round:\n",
    "            _image_type = ref_image_type\n",
    "        elif int(_round) == polyt_round:\n",
    "            _image_type = polyt_image_type\n",
    "        else:\n",
    "            _image_type = image_type\n",
    "    \n",
    "        # target file\n",
    "        _target_files = [os.path.join(target_folder, f\"{_image_type}_{_fov_id}_{_round}{os.extsep}{_fl.split(os.extsep)[-1]}\") \n",
    "                         for _fl in _files]\n",
    "        for _fl, _tar_fl in zip(_files, _target_files):\n",
    "            if remove_source:\n",
    "                print(f\"move {_fl} to {_tar_fl}\")\n",
    "                shutil.move(_fl, _tar_fl)\n",
    "            else:\n",
    "                if not os.path.isfile(_tar_fl) or overwrite:\n",
    "                    print(f\"copy {_fl} to {_tar_fl}\")\n",
    "                    shutil.copyfile(_fl, _tar_fl)\n",
    "                else:\n",
    "                    print(f\"{_tar_fl} already exist, skip\")"
   ]
  },
  {
   "cell_type": "markdown",
   "id": "513719fe-e047-46dd-a8bb-bafd5e998aca",
   "metadata": {},
   "source": [
    "## Check file length"
   ]
  },
  {
   "cell_type": "code",
   "execution_count": null,
   "id": "d9edcadd",
   "metadata": {},
   "outputs": [],
   "source": []
  },
  {
   "cell_type": "code",
   "execution_count": 21,
   "id": "8d155b3f-c79a-41bc-b03b-65e670c6db4a",
   "metadata": {},
   "outputs": [
    {
     "name": "stdout",
     "output_type": "stream",
     "text": [
      "25600 23880\n"
     ]
    }
   ],
   "source": [
    "# double check if filenumber equals to expected:\n",
    "print(len(os.listdir(target_folder)), len(color_usage_df) * len(fovs) * 5)"
   ]
  },
  {
   "cell_type": "markdown",
   "id": "c5e74d05-cf10-4359-8910-1b94095567b1",
   "metadata": {},
   "source": [
    "# Generate data_organization\n",
    "\n",
    "go to jupyter: https://c4b15.wi.mit.edu/user/puzheng/notebooks/lab/weissman_imaging/puzheng/Softwares/Weissman_MERFISH_Scripts/MERFISH_preprocess/Data_organization/20230830-Generate_dataOrganization.ipynb"
   ]
  },
  {
   "cell_type": "code",
   "execution_count": null,
   "id": "352ea521",
   "metadata": {},
   "outputs": [],
   "source": []
  },
  {
   "cell_type": "code",
   "execution_count": null,
   "id": "9fd36605-c15f-4641-bd8a-ab807dfb167b",
   "metadata": {},
   "outputs": [],
   "source": [
    "## Automatic generate data_organization\n",
    "from src.file_io.data_organization import Color_Usage"
   ]
  },
  {
   "cell_type": "code",
   "execution_count": null,
   "id": "b9adcd37-413b-4167-be2f-a7bcf63b5ee3",
   "metadata": {},
   "outputs": [],
   "source": [
    "def generate_dataOrganization():\n",
    "    \n",
    "\n"
   ]
  },
  {
   "cell_type": "code",
   "execution_count": null,
   "id": "d2d60187",
   "metadata": {},
   "outputs": [],
   "source": []
  }
 ],
 "metadata": {
  "kernelspec": {
   "display_name": "postanalysis",
   "language": "python",
   "name": "postanalysis"
  },
  "language_info": {
   "codemirror_mode": {
    "name": "ipython",
    "version": 3
   },
   "file_extension": ".py",
   "mimetype": "text/x-python",
   "name": "python",
   "nbconvert_exporter": "python",
   "pygments_lexer": "ipython3",
   "version": "3.10.12"
  }
 },
 "nbformat": 4,
 "nbformat_minor": 5
}
