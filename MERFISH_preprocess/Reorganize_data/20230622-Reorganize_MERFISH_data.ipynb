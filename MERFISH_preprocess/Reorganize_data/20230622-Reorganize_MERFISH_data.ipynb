{
 "cells": [
  {
   "cell_type": "markdown",
   "id": "0439edd0-c5c8-4b2a-9c85-e41014f6d2ab",
   "metadata": {},
   "source": [
    "# MERFISH Data reorganization"
   ]
  },
  {
   "cell_type": "code",
   "execution_count": 2,
   "id": "8efb4317-e7b3-4662-9f0b-badc978f6554",
   "metadata": {},
   "outputs": [],
   "source": [
    "import pandas as pd\n",
    "import numpy as np\n",
    "import os, sys, time\n",
    "import re\n",
    "import shutil\n",
    "from importlib import reload\n",
    "# this version doesn't have ChromAn compiled, so directly load from src:\n",
    "sys.path.append(r\"/lab/weissman_imaging/puzheng/Softwares/ChromAn\")\n",
    "import src"
   ]
  },
  {
   "cell_type": "code",
   "execution_count": 3,
   "id": "75686a2b-0768-46e4-897c-54517fc22728",
   "metadata": {},
   "outputs": [],
   "source": [
    "from src.file_io.data_organization import search_fovs_in_folders\n",
    "\n",
    "data_home =  r\"/lab/weissman_imaging/puzheng\""
   ]
  },
  {
   "cell_type": "code",
   "execution_count": 6,
   "id": "71157886-763a-48c6-bdfa-692982553c25",
   "metadata": {},
   "outputs": [
    {
     "name": "stdout",
     "output_type": "stream",
     "text": [
      "- searching in folder: /lab/weissman_imaging/puzheng/4T1Tumor/20230622-4T1tumor_primary_F133section2\n",
      "-- 11 folders, 217 fovs detected.\n"
     ]
    }
   ],
   "source": [
    "data_folder = r\"/lab/weissman_imaging/puzheng/4T1Tumor/20230622-4T1tumor_primary_F133section2\"\n",
    "\n",
    "fds, fovs = search_fovs_in_folders(data_folder)\n"
   ]
  },
  {
   "cell_type": "code",
   "execution_count": 7,
   "id": "dc156554-ad0f-4fb8-b4a5-184b36e85dcb",
   "metadata": {},
   "outputs": [
    {
     "name": "stdout",
     "output_type": "stream",
     "text": [
      "20230622 4T1primary C2\n"
     ]
    }
   ],
   "source": [
    "date = os.path.basename(data_folder).split('-')[0]\n",
    "\n",
    "sample = '4T1primary'\n",
    "library = 'C2'\n",
    "\n",
    "print(date, sample, library)"
   ]
  },
  {
   "cell_type": "code",
   "execution_count": 8,
   "id": "2dea4fe3-2113-448f-b9d0-674b5dc1875c",
   "metadata": {},
   "outputs": [
    {
     "name": "stdout",
     "output_type": "stream",
     "text": [
      "Creating folder: /lab/weissman_imaging/puzheng/MERFISH_data/20230622-4T1primary_C2\n"
     ]
    }
   ],
   "source": [
    "from src.file_io.data_organization import create_folder\n",
    "# shutter files\n",
    "ref_image_type = '750_647_488_405_s15' # ref 58 / 65\n",
    "polyt_image_type = '750_647_488_s15'\n",
    "image_type = '750_647_488_s15' # ref 36/39\n",
    "\n",
    "# fiducial beads\n",
    "#ref_channel = 488\n",
    "#ref_frame = 13 # start from 0!\n",
    "\n",
    "# target folder\n",
    "merfish_data_folder = r'/lab/weissman_imaging/puzheng/MERFISH_data'\n",
    "\n",
    "# target folder:\n",
    "target_folder = os.path.join(merfish_data_folder, f'{date}-{sample}_{library}')\n",
    "create_folder(target_folder)\n"
   ]
  },
  {
   "cell_type": "code",
   "execution_count": null,
   "id": "1854f226-eea5-4cff-b64f-c6a45e462bb2",
   "metadata": {
    "tags": []
   },
   "outputs": [
    {
     "name": "stdout",
     "output_type": "stream",
     "text": [
      "copy /lab/weissman_imaging/puzheng/4T1Tumor/20230622-4T1tumor_primary_F133section2/H0M1/Conv_zscan_000.xml to /lab/weissman_imaging/puzheng/MERFISH_data/20230622-4T1primary_C2/750_647_488_405_s15_0_0.xml\n",
      "copy /lab/weissman_imaging/puzheng/4T1Tumor/20230622-4T1tumor_primary_F133section2/H0M1/Conv_zscan_000.dax to /lab/weissman_imaging/puzheng/MERFISH_data/20230622-4T1primary_C2/750_647_488_405_s15_0_0.dax\n",
      "copy /lab/weissman_imaging/puzheng/4T1Tumor/20230622-4T1tumor_primary_F133section2/H0M1/Conv_zscan_000.inf to /lab/weissman_imaging/puzheng/MERFISH_data/20230622-4T1primary_C2/750_647_488_405_s15_0_0.inf\n",
      "copy /lab/weissman_imaging/puzheng/4T1Tumor/20230622-4T1tumor_primary_F133section2/H0M1/Conv_zscan_000.off to /lab/weissman_imaging/puzheng/MERFISH_data/20230622-4T1primary_C2/750_647_488_405_s15_0_0.off\n",
      "copy /lab/weissman_imaging/puzheng/4T1Tumor/20230622-4T1tumor_primary_F133section2/H0M1/Conv_zscan_000.power to /lab/weissman_imaging/puzheng/MERFISH_data/20230622-4T1primary_C2/750_647_488_405_s15_0_0.power\n",
      "copy /lab/weissman_imaging/puzheng/4T1Tumor/20230622-4T1tumor_primary_F133section2/H10M11/Conv_zscan_000.xml to /lab/weissman_imaging/puzheng/MERFISH_data/20230622-4T1primary_C2/750_647_488_s15_0_10.xml\n",
      "copy /lab/weissman_imaging/puzheng/4T1Tumor/20230622-4T1tumor_primary_F133section2/H10M11/Conv_zscan_000.dax to /lab/weissman_imaging/puzheng/MERFISH_data/20230622-4T1primary_C2/750_647_488_s15_0_10.dax\n",
      "copy /lab/weissman_imaging/puzheng/4T1Tumor/20230622-4T1tumor_primary_F133section2/H10M11/Conv_zscan_000.inf to /lab/weissman_imaging/puzheng/MERFISH_data/20230622-4T1primary_C2/750_647_488_s15_0_10.inf\n",
      "copy /lab/weissman_imaging/puzheng/4T1Tumor/20230622-4T1tumor_primary_F133section2/H10M11/Conv_zscan_000.off to /lab/weissman_imaging/puzheng/MERFISH_data/20230622-4T1primary_C2/750_647_488_s15_0_10.off\n",
      "copy /lab/weissman_imaging/puzheng/4T1Tumor/20230622-4T1tumor_primary_F133section2/H10M11/Conv_zscan_000.power to /lab/weissman_imaging/puzheng/MERFISH_data/20230622-4T1primary_C2/750_647_488_s15_0_10.power\n",
      "copy /lab/weissman_imaging/puzheng/4T1Tumor/20230622-4T1tumor_primary_F133section2/H0M1/Conv_zscan_001.dax to /lab/weissman_imaging/puzheng/MERFISH_data/20230622-4T1primary_C2/750_647_488_405_s15_1_0.dax\n",
      "copy /lab/weissman_imaging/puzheng/4T1Tumor/20230622-4T1tumor_primary_F133section2/H0M1/Conv_zscan_001.inf to /lab/weissman_imaging/puzheng/MERFISH_data/20230622-4T1primary_C2/750_647_488_405_s15_1_0.inf\n",
      "copy /lab/weissman_imaging/puzheng/4T1Tumor/20230622-4T1tumor_primary_F133section2/H0M1/Conv_zscan_001.off to /lab/weissman_imaging/puzheng/MERFISH_data/20230622-4T1primary_C2/750_647_488_405_s15_1_0.off\n",
      "copy /lab/weissman_imaging/puzheng/4T1Tumor/20230622-4T1tumor_primary_F133section2/H0M1/Conv_zscan_001.power to /lab/weissman_imaging/puzheng/MERFISH_data/20230622-4T1primary_C2/750_647_488_405_s15_1_0.power\n",
      "copy /lab/weissman_imaging/puzheng/4T1Tumor/20230622-4T1tumor_primary_F133section2/H0M1/Conv_zscan_001.xml to /lab/weissman_imaging/puzheng/MERFISH_data/20230622-4T1primary_C2/750_647_488_405_s15_1_0.xml\n",
      "copy /lab/weissman_imaging/puzheng/4T1Tumor/20230622-4T1tumor_primary_F133section2/H10M11/Conv_zscan_001.dax to /lab/weissman_imaging/puzheng/MERFISH_data/20230622-4T1primary_C2/750_647_488_s15_1_10.dax\n",
      "copy /lab/weissman_imaging/puzheng/4T1Tumor/20230622-4T1tumor_primary_F133section2/H10M11/Conv_zscan_001.inf to /lab/weissman_imaging/puzheng/MERFISH_data/20230622-4T1primary_C2/750_647_488_s15_1_10.inf\n",
      "copy /lab/weissman_imaging/puzheng/4T1Tumor/20230622-4T1tumor_primary_F133section2/H10M11/Conv_zscan_001.off to /lab/weissman_imaging/puzheng/MERFISH_data/20230622-4T1primary_C2/750_647_488_s15_1_10.off\n",
      "copy /lab/weissman_imaging/puzheng/4T1Tumor/20230622-4T1tumor_primary_F133section2/H10M11/Conv_zscan_001.power to /lab/weissman_imaging/puzheng/MERFISH_data/20230622-4T1primary_C2/750_647_488_s15_1_10.power\n",
      "copy /lab/weissman_imaging/puzheng/4T1Tumor/20230622-4T1tumor_primary_F133section2/H10M11/Conv_zscan_001.xml to /lab/weissman_imaging/puzheng/MERFISH_data/20230622-4T1primary_C2/750_647_488_s15_1_10.xml\n",
      "copy /lab/weissman_imaging/puzheng/4T1Tumor/20230622-4T1tumor_primary_F133section2/H0M1/Conv_zscan_002.xml to /lab/weissman_imaging/puzheng/MERFISH_data/20230622-4T1primary_C2/750_647_488_405_s15_2_0.xml\n",
      "copy /lab/weissman_imaging/puzheng/4T1Tumor/20230622-4T1tumor_primary_F133section2/H0M1/Conv_zscan_002.dax to /lab/weissman_imaging/puzheng/MERFISH_data/20230622-4T1primary_C2/750_647_488_405_s15_2_0.dax\n",
      "copy /lab/weissman_imaging/puzheng/4T1Tumor/20230622-4T1tumor_primary_F133section2/H0M1/Conv_zscan_002.inf to /lab/weissman_imaging/puzheng/MERFISH_data/20230622-4T1primary_C2/750_647_488_405_s15_2_0.inf\n",
      "copy /lab/weissman_imaging/puzheng/4T1Tumor/20230622-4T1tumor_primary_F133section2/H0M1/Conv_zscan_002.off to /lab/weissman_imaging/puzheng/MERFISH_data/20230622-4T1primary_C2/750_647_488_405_s15_2_0.off\n",
      "copy /lab/weissman_imaging/puzheng/4T1Tumor/20230622-4T1tumor_primary_F133section2/H0M1/Conv_zscan_002.power to /lab/weissman_imaging/puzheng/MERFISH_data/20230622-4T1primary_C2/750_647_488_405_s15_2_0.power\n",
      "copy /lab/weissman_imaging/puzheng/4T1Tumor/20230622-4T1tumor_primary_F133section2/H10M11/Conv_zscan_002.xml to /lab/weissman_imaging/puzheng/MERFISH_data/20230622-4T1primary_C2/750_647_488_s15_2_10.xml\n",
      "copy /lab/weissman_imaging/puzheng/4T1Tumor/20230622-4T1tumor_primary_F133section2/H10M11/Conv_zscan_002.dax to /lab/weissman_imaging/puzheng/MERFISH_data/20230622-4T1primary_C2/750_647_488_s15_2_10.dax\n",
      "copy /lab/weissman_imaging/puzheng/4T1Tumor/20230622-4T1tumor_primary_F133section2/H10M11/Conv_zscan_002.inf to /lab/weissman_imaging/puzheng/MERFISH_data/20230622-4T1primary_C2/750_647_488_s15_2_10.inf\n",
      "copy /lab/weissman_imaging/puzheng/4T1Tumor/20230622-4T1tumor_primary_F133section2/H10M11/Conv_zscan_002.off to /lab/weissman_imaging/puzheng/MERFISH_data/20230622-4T1primary_C2/750_647_488_s15_2_10.off\n",
      "copy /lab/weissman_imaging/puzheng/4T1Tumor/20230622-4T1tumor_primary_F133section2/H10M11/Conv_zscan_002.power to /lab/weissman_imaging/puzheng/MERFISH_data/20230622-4T1primary_C2/750_647_488_s15_2_10.power\n",
      "copy /lab/weissman_imaging/puzheng/4T1Tumor/20230622-4T1tumor_primary_F133section2/H0M1/Conv_zscan_003.xml to /lab/weissman_imaging/puzheng/MERFISH_data/20230622-4T1primary_C2/750_647_488_405_s15_3_0.xml\n",
      "copy /lab/weissman_imaging/puzheng/4T1Tumor/20230622-4T1tumor_primary_F133section2/H0M1/Conv_zscan_003.dax to /lab/weissman_imaging/puzheng/MERFISH_data/20230622-4T1primary_C2/750_647_488_405_s15_3_0.dax\n",
      "copy /lab/weissman_imaging/puzheng/4T1Tumor/20230622-4T1tumor_primary_F133section2/H0M1/Conv_zscan_003.inf to /lab/weissman_imaging/puzheng/MERFISH_data/20230622-4T1primary_C2/750_647_488_405_s15_3_0.inf\n",
      "copy /lab/weissman_imaging/puzheng/4T1Tumor/20230622-4T1tumor_primary_F133section2/H0M1/Conv_zscan_003.power to /lab/weissman_imaging/puzheng/MERFISH_data/20230622-4T1primary_C2/750_647_488_405_s15_3_0.power\n",
      "copy /lab/weissman_imaging/puzheng/4T1Tumor/20230622-4T1tumor_primary_F133section2/H0M1/Conv_zscan_003.off to /lab/weissman_imaging/puzheng/MERFISH_data/20230622-4T1primary_C2/750_647_488_405_s15_3_0.off\n",
      "copy /lab/weissman_imaging/puzheng/4T1Tumor/20230622-4T1tumor_primary_F133section2/H10M11/Conv_zscan_003.xml to /lab/weissman_imaging/puzheng/MERFISH_data/20230622-4T1primary_C2/750_647_488_s15_3_10.xml\n",
      "copy /lab/weissman_imaging/puzheng/4T1Tumor/20230622-4T1tumor_primary_F133section2/H10M11/Conv_zscan_003.dax to /lab/weissman_imaging/puzheng/MERFISH_data/20230622-4T1primary_C2/750_647_488_s15_3_10.dax\n",
      "copy /lab/weissman_imaging/puzheng/4T1Tumor/20230622-4T1tumor_primary_F133section2/H10M11/Conv_zscan_003.inf to /lab/weissman_imaging/puzheng/MERFISH_data/20230622-4T1primary_C2/750_647_488_s15_3_10.inf\n",
      "copy /lab/weissman_imaging/puzheng/4T1Tumor/20230622-4T1tumor_primary_F133section2/H10M11/Conv_zscan_003.power to /lab/weissman_imaging/puzheng/MERFISH_data/20230622-4T1primary_C2/750_647_488_s15_3_10.power\n",
      "copy /lab/weissman_imaging/puzheng/4T1Tumor/20230622-4T1tumor_primary_F133section2/H10M11/Conv_zscan_003.off to /lab/weissman_imaging/puzheng/MERFISH_data/20230622-4T1primary_C2/750_647_488_s15_3_10.off\n",
      "copy /lab/weissman_imaging/puzheng/4T1Tumor/20230622-4T1tumor_primary_F133section2/H0M1/Conv_zscan_004.inf to /lab/weissman_imaging/puzheng/MERFISH_data/20230622-4T1primary_C2/750_647_488_405_s15_4_0.inf\n",
      "copy /lab/weissman_imaging/puzheng/4T1Tumor/20230622-4T1tumor_primary_F133section2/H0M1/Conv_zscan_004.dax to /lab/weissman_imaging/puzheng/MERFISH_data/20230622-4T1primary_C2/750_647_488_405_s15_4_0.dax\n",
      "copy /lab/weissman_imaging/puzheng/4T1Tumor/20230622-4T1tumor_primary_F133section2/H0M1/Conv_zscan_004.power to /lab/weissman_imaging/puzheng/MERFISH_data/20230622-4T1primary_C2/750_647_488_405_s15_4_0.power\n",
      "copy /lab/weissman_imaging/puzheng/4T1Tumor/20230622-4T1tumor_primary_F133section2/H0M1/Conv_zscan_004.off to /lab/weissman_imaging/puzheng/MERFISH_data/20230622-4T1primary_C2/750_647_488_405_s15_4_0.off\n",
      "copy /lab/weissman_imaging/puzheng/4T1Tumor/20230622-4T1tumor_primary_F133section2/H0M1/Conv_zscan_004.xml to /lab/weissman_imaging/puzheng/MERFISH_data/20230622-4T1primary_C2/750_647_488_405_s15_4_0.xml\n",
      "copy /lab/weissman_imaging/puzheng/4T1Tumor/20230622-4T1tumor_primary_F133section2/H10M11/Conv_zscan_004.inf to /lab/weissman_imaging/puzheng/MERFISH_data/20230622-4T1primary_C2/750_647_488_s15_4_10.inf\n",
      "copy /lab/weissman_imaging/puzheng/4T1Tumor/20230622-4T1tumor_primary_F133section2/H10M11/Conv_zscan_004.dax to /lab/weissman_imaging/puzheng/MERFISH_data/20230622-4T1primary_C2/750_647_488_s15_4_10.dax\n",
      "copy /lab/weissman_imaging/puzheng/4T1Tumor/20230622-4T1tumor_primary_F133section2/H10M11/Conv_zscan_004.power to /lab/weissman_imaging/puzheng/MERFISH_data/20230622-4T1primary_C2/750_647_488_s15_4_10.power\n",
      "copy /lab/weissman_imaging/puzheng/4T1Tumor/20230622-4T1tumor_primary_F133section2/H10M11/Conv_zscan_004.off to /lab/weissman_imaging/puzheng/MERFISH_data/20230622-4T1primary_C2/750_647_488_s15_4_10.off\n",
      "copy /lab/weissman_imaging/puzheng/4T1Tumor/20230622-4T1tumor_primary_F133section2/H10M11/Conv_zscan_004.xml to /lab/weissman_imaging/puzheng/MERFISH_data/20230622-4T1primary_C2/750_647_488_s15_4_10.xml\n",
      "copy /lab/weissman_imaging/puzheng/4T1Tumor/20230622-4T1tumor_primary_F133section2/H0M1/Conv_zscan_005.inf to /lab/weissman_imaging/puzheng/MERFISH_data/20230622-4T1primary_C2/750_647_488_405_s15_5_0.inf\n",
      "copy /lab/weissman_imaging/puzheng/4T1Tumor/20230622-4T1tumor_primary_F133section2/H0M1/Conv_zscan_005.dax to /lab/weissman_imaging/puzheng/MERFISH_data/20230622-4T1primary_C2/750_647_488_405_s15_5_0.dax\n",
      "copy /lab/weissman_imaging/puzheng/4T1Tumor/20230622-4T1tumor_primary_F133section2/H0M1/Conv_zscan_005.power to /lab/weissman_imaging/puzheng/MERFISH_data/20230622-4T1primary_C2/750_647_488_405_s15_5_0.power\n",
      "copy /lab/weissman_imaging/puzheng/4T1Tumor/20230622-4T1tumor_primary_F133section2/H0M1/Conv_zscan_005.xml to /lab/weissman_imaging/puzheng/MERFISH_data/20230622-4T1primary_C2/750_647_488_405_s15_5_0.xml\n",
      "copy /lab/weissman_imaging/puzheng/4T1Tumor/20230622-4T1tumor_primary_F133section2/H0M1/Conv_zscan_005.off to /lab/weissman_imaging/puzheng/MERFISH_data/20230622-4T1primary_C2/750_647_488_405_s15_5_0.off\n",
      "copy /lab/weissman_imaging/puzheng/4T1Tumor/20230622-4T1tumor_primary_F133section2/H10M11/Conv_zscan_005.inf to /lab/weissman_imaging/puzheng/MERFISH_data/20230622-4T1primary_C2/750_647_488_s15_5_10.inf\n",
      "copy /lab/weissman_imaging/puzheng/4T1Tumor/20230622-4T1tumor_primary_F133section2/H10M11/Conv_zscan_005.dax to /lab/weissman_imaging/puzheng/MERFISH_data/20230622-4T1primary_C2/750_647_488_s15_5_10.dax\n",
      "copy /lab/weissman_imaging/puzheng/4T1Tumor/20230622-4T1tumor_primary_F133section2/H10M11/Conv_zscan_005.power to /lab/weissman_imaging/puzheng/MERFISH_data/20230622-4T1primary_C2/750_647_488_s15_5_10.power\n",
      "copy /lab/weissman_imaging/puzheng/4T1Tumor/20230622-4T1tumor_primary_F133section2/H10M11/Conv_zscan_005.xml to /lab/weissman_imaging/puzheng/MERFISH_data/20230622-4T1primary_C2/750_647_488_s15_5_10.xml\n",
      "copy /lab/weissman_imaging/puzheng/4T1Tumor/20230622-4T1tumor_primary_F133section2/H10M11/Conv_zscan_005.off to /lab/weissman_imaging/puzheng/MERFISH_data/20230622-4T1primary_C2/750_647_488_s15_5_10.off\n",
      "copy /lab/weissman_imaging/puzheng/4T1Tumor/20230622-4T1tumor_primary_F133section2/H0M1/Conv_zscan_006.dax to /lab/weissman_imaging/puzheng/MERFISH_data/20230622-4T1primary_C2/750_647_488_405_s15_6_0.dax\n",
      "copy /lab/weissman_imaging/puzheng/4T1Tumor/20230622-4T1tumor_primary_F133section2/H0M1/Conv_zscan_006.off to /lab/weissman_imaging/puzheng/MERFISH_data/20230622-4T1primary_C2/750_647_488_405_s15_6_0.off\n",
      "copy /lab/weissman_imaging/puzheng/4T1Tumor/20230622-4T1tumor_primary_F133section2/H0M1/Conv_zscan_006.xml to /lab/weissman_imaging/puzheng/MERFISH_data/20230622-4T1primary_C2/750_647_488_405_s15_6_0.xml\n",
      "copy /lab/weissman_imaging/puzheng/4T1Tumor/20230622-4T1tumor_primary_F133section2/H0M1/Conv_zscan_006.power to /lab/weissman_imaging/puzheng/MERFISH_data/20230622-4T1primary_C2/750_647_488_405_s15_6_0.power\n",
      "copy /lab/weissman_imaging/puzheng/4T1Tumor/20230622-4T1tumor_primary_F133section2/H0M1/Conv_zscan_006.inf to /lab/weissman_imaging/puzheng/MERFISH_data/20230622-4T1primary_C2/750_647_488_405_s15_6_0.inf\n",
      "copy /lab/weissman_imaging/puzheng/4T1Tumor/20230622-4T1tumor_primary_F133section2/H10M11/Conv_zscan_006.dax to /lab/weissman_imaging/puzheng/MERFISH_data/20230622-4T1primary_C2/750_647_488_s15_6_10.dax\n",
      "copy /lab/weissman_imaging/puzheng/4T1Tumor/20230622-4T1tumor_primary_F133section2/H10M11/Conv_zscan_006.off to /lab/weissman_imaging/puzheng/MERFISH_data/20230622-4T1primary_C2/750_647_488_s15_6_10.off\n",
      "copy /lab/weissman_imaging/puzheng/4T1Tumor/20230622-4T1tumor_primary_F133section2/H10M11/Conv_zscan_006.xml to /lab/weissman_imaging/puzheng/MERFISH_data/20230622-4T1primary_C2/750_647_488_s15_6_10.xml\n",
      "copy /lab/weissman_imaging/puzheng/4T1Tumor/20230622-4T1tumor_primary_F133section2/H10M11/Conv_zscan_006.power to /lab/weissman_imaging/puzheng/MERFISH_data/20230622-4T1primary_C2/750_647_488_s15_6_10.power\n",
      "copy /lab/weissman_imaging/puzheng/4T1Tumor/20230622-4T1tumor_primary_F133section2/H10M11/Conv_zscan_006.inf to /lab/weissman_imaging/puzheng/MERFISH_data/20230622-4T1primary_C2/750_647_488_s15_6_10.inf\n",
      "copy /lab/weissman_imaging/puzheng/4T1Tumor/20230622-4T1tumor_primary_F133section2/H0M1/Conv_zscan_007.off to /lab/weissman_imaging/puzheng/MERFISH_data/20230622-4T1primary_C2/750_647_488_405_s15_7_0.off\n",
      "copy /lab/weissman_imaging/puzheng/4T1Tumor/20230622-4T1tumor_primary_F133section2/H0M1/Conv_zscan_007.xml to /lab/weissman_imaging/puzheng/MERFISH_data/20230622-4T1primary_C2/750_647_488_405_s15_7_0.xml\n",
      "copy /lab/weissman_imaging/puzheng/4T1Tumor/20230622-4T1tumor_primary_F133section2/H0M1/Conv_zscan_007.dax to /lab/weissman_imaging/puzheng/MERFISH_data/20230622-4T1primary_C2/750_647_488_405_s15_7_0.dax\n"
     ]
    }
   ],
   "source": [
    "#sel_fovs = []\n",
    "folder_regexp = r'H([0-9]+)[MRCP]([0-9+])'\n",
    "\n",
    "ref_round = 0\n",
    "polyt_round = 10\n",
    "#fov_ids = np.arange(2)\n",
    "overwrite = True\n",
    "remove_source = False\n",
    "\n",
    "for _fov_id, _fov_name in enumerate(fovs):\n",
    "    # check if this fov is selected:\n",
    "    if 'sel_fovs' in locals() and _fov_id not in sel_fovs:\n",
    "        continue # skip if not selected\n",
    "    # prceed for the rest:\n",
    "    for _fd in fds:\n",
    "        # match round and hyb\n",
    "        _match = re.search(folder_regexp, os.path.basename(_fd))\n",
    "        if _match is None:\n",
    "            continue\n",
    "        _round, _region = _match.groups()\n",
    "        # mutliple files for each image:\n",
    "        _files = [os.path.join(_fd, _fl) for _fl in os.listdir(_fd) if _fov_name.split(os.extsep)[0] in _fl]\n",
    "        # reference round specified\n",
    "        if int(_round) == ref_round:\n",
    "            _image_type = ref_image_type\n",
    "        elif int(_round) == polyt_round:\n",
    "            _image_type = polyt_image_type\n",
    "        else:\n",
    "            _image_type = image_type\n",
    "            continue\n",
    "    \n",
    "        # target file\n",
    "        _target_files = [os.path.join(target_folder, f\"{_image_type}_{_fov_id}_{_round}{os.extsep}{_fl.split(os.extsep)[-1]}\") \n",
    "                         for _fl in _files]\n",
    "        for _fl, _tar_fl in zip(_files, _target_files):\n",
    "            if remove_source:\n",
    "                print(f\"move {_fl} to {_tar_fl}\")\n",
    "                shutil.move(_fl, _tar_fl)\n",
    "            else:\n",
    "                if not os.path.isfile(_tar_fl) or overwrite:\n",
    "                    print(f\"copy {_fl} to {_tar_fl}\")\n",
    "                    shutil.copyfile(_fl, _tar_fl)\n",
    "                else:\n",
    "                    print(f\"{_tar_fl} already exist, skip\")"
   ]
  },
  {
   "cell_type": "markdown",
   "id": "513719fe-e047-46dd-a8bb-bafd5e998aca",
   "metadata": {},
   "source": [
    "## Check file length"
   ]
  },
  {
   "cell_type": "code",
   "execution_count": null,
   "id": "8d155b3f-c79a-41bc-b03b-65e670c6db4a",
   "metadata": {},
   "outputs": [],
   "source": [
    "# double check if filenumber equals to expected:\n",
    "print(len(os.listdir(target_folder)), len(fds) * len(fovs) * 5)"
   ]
  },
  {
   "cell_type": "markdown",
   "id": "c5e74d05-cf10-4359-8910-1b94095567b1",
   "metadata": {},
   "source": [
    "# Generate data_organization"
   ]
  },
  {
   "cell_type": "code",
   "execution_count": null,
   "id": "9fd36605-c15f-4641-bd8a-ab807dfb167b",
   "metadata": {},
   "outputs": [],
   "source": [
    "## Automatic generate data_organization\n",
    "from src.file_io.data_organization import Color_Usage"
   ]
  },
  {
   "cell_type": "code",
   "execution_count": null,
   "id": "b9adcd37-413b-4167-be2f-a7bcf63b5ee3",
   "metadata": {},
   "outputs": [],
   "source": [
    "def generate_dataOrganization():\n",
    "    \n",
    "\n"
   ]
  },
  {
   "cell_type": "code",
   "execution_count": null,
   "id": "e03c1550-bbf1-4047-b6d9-6aa9860d87a4",
   "metadata": {},
   "outputs": [],
   "source": [
    "channelName\treadoutName\timageType\timageRegExp\tbitNumber\timagingRound\tcolor\tframe\tzPos\tfiducialImageType\tfiducialRegExp\tfiducialImagingRound\tfiducialFrame\tfiducialColor"
   ]
  }
 ],
 "metadata": {
  "kernelspec": {
   "display_name": "postanalysis",
   "language": "python",
   "name": "postanalysis"
  },
  "language_info": {
   "codemirror_mode": {
    "name": "ipython",
    "version": 3
   },
   "file_extension": ".py",
   "mimetype": "text/x-python",
   "name": "python",
   "nbconvert_exporter": "python",
   "pygments_lexer": "ipython3",
   "version": "3.10.11"
  }
 },
 "nbformat": 4,
 "nbformat_minor": 5
}
