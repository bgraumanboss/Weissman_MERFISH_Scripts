{
 "cells": [
  {
   "cell_type": "code",
   "execution_count": 2,
   "id": "783d74f0",
   "metadata": {},
   "outputs": [],
   "source": [
    "import pandas as pd\n",
    "import numpy as np\n",
    "import matplotlib.pyplot as plt\n",
    "import os, sys\n"
   ]
  },
  {
   "cell_type": "code",
   "execution_count": 3,
   "id": "9bf63b20",
   "metadata": {},
   "outputs": [
    {
     "data": {
      "text/plain": [
       "['Stats',\n",
       " 'Undetermined_S0_L001_R1_001.fastq.gz',\n",
       " 'Undetermined_S0_L001_R2_001.fastq.gz',\n",
       " 'Flex0524_S1_L001_R1_001.fastq.gz',\n",
       " 'Flex0524_S1_L001_R2_001.fastq.gz',\n",
       " 'Reports',\n",
       " 'Flex.tmp.bam',\n",
       " 'count.summary',\n",
       " 'sorted_output_file.txt',\n",
       " 'sorted_count.summary',\n",
       " 'sorted_count_down.summary']"
      ]
     },
     "execution_count": 3,
     "metadata": {},
     "output_type": "execute_result"
    }
   ],
   "source": [
    "miseq_output_folder = r'/lab/weissman_imaging/Ultima/20240524-waferFlex/240601_M01799_0539_000000000-DPBPM/fastq_0601_reDemultiplex'\n",
    "os.listdir(miseq_output_folder)"
   ]
  },
  {
   "cell_type": "code",
   "execution_count": 16,
   "id": "87171eeb",
   "metadata": {},
   "outputs": [
    {
     "name": "stderr",
     "output_type": "stream",
     "text": [
      "/tmp/ipykernel_599087/1385808329.py:1: ParserWarning: Falling back to the 'python' engine because the 'c' engine does not support regex separators (separators > 1 char and different from '\\s+' are interpreted as regex); you can avoid this warning by specifying engine='python'.\n",
      "  flex_counts = pd.read_csv(os.path.join(miseq_output_folder, 'sorted_count_down.summary'), delimiter='\\s', header=None, names=['count', 'info'])\n"
     ]
    },
    {
     "data": {
      "text/html": [
       "<div>\n",
       "<style scoped>\n",
       "    .dataframe tbody tr th:only-of-type {\n",
       "        vertical-align: middle;\n",
       "    }\n",
       "\n",
       "    .dataframe tbody tr th {\n",
       "        vertical-align: top;\n",
       "    }\n",
       "\n",
       "    .dataframe thead th {\n",
       "        text-align: right;\n",
       "    }\n",
       "</style>\n",
       "<table border=\"1\" class=\"dataframe\">\n",
       "  <thead>\n",
       "    <tr style=\"text-align: right;\">\n",
       "      <th></th>\n",
       "      <th>count</th>\n",
       "      <th>info</th>\n",
       "      <th>gene</th>\n",
       "      <th>transcript</th>\n",
       "    </tr>\n",
       "  </thead>\n",
       "  <tbody>\n",
       "    <tr>\n",
       "      <th>0</th>\n",
       "      <td>98088</td>\n",
       "      <td>ENSMUSG00000070570|Slc17a7|01e82cf</td>\n",
       "      <td>Slc17a7</td>\n",
       "      <td>ENSMUSG00000070570</td>\n",
       "    </tr>\n",
       "    <tr>\n",
       "      <th>1</th>\n",
       "      <td>89715</td>\n",
       "      <td>ENSMUSG00000028161|Ppp3ca|92556e2</td>\n",
       "      <td>Ppp3ca</td>\n",
       "      <td>ENSMUSG00000028161</td>\n",
       "    </tr>\n",
       "    <tr>\n",
       "      <th>2</th>\n",
       "      <td>81430</td>\n",
       "      <td>ENSMUSG00000061718|Ppp1r1b|02d88c6</td>\n",
       "      <td>Ppp1r1b</td>\n",
       "      <td>ENSMUSG00000061718</td>\n",
       "    </tr>\n",
       "    <tr>\n",
       "      <th>3</th>\n",
       "      <td>78417</td>\n",
       "      <td>ENSMUSG00000005089|Slc1a2|e29e85a</td>\n",
       "      <td>Slc1a2</td>\n",
       "      <td>ENSMUSG00000005089</td>\n",
       "    </tr>\n",
       "    <tr>\n",
       "      <th>4</th>\n",
       "      <td>41290</td>\n",
       "      <td>ENSMUSG00000040785|Ttc3|1167cb3</td>\n",
       "      <td>Ttc3</td>\n",
       "      <td>ENSMUSG00000040785</td>\n",
       "    </tr>\n",
       "    <tr>\n",
       "      <th>...</th>\n",
       "      <td>...</td>\n",
       "      <td>...</td>\n",
       "      <td>...</td>\n",
       "      <td>...</td>\n",
       "    </tr>\n",
       "    <tr>\n",
       "      <th>156</th>\n",
       "      <td>22</td>\n",
       "      <td>ENSMUSG00000020140|Lgr5|97a8ddf</td>\n",
       "      <td>Lgr5</td>\n",
       "      <td>ENSMUSG00000020140</td>\n",
       "    </tr>\n",
       "    <tr>\n",
       "      <th>157</th>\n",
       "      <td>12</td>\n",
       "      <td>ENSMUSG00000069170|Adgrv1|7a41d11</td>\n",
       "      <td>Adgrv1</td>\n",
       "      <td>ENSMUSG00000069170</td>\n",
       "    </tr>\n",
       "    <tr>\n",
       "      <th>158</th>\n",
       "      <td>9</td>\n",
       "      <td>ENSMUSG00000027360|Hdc|b107f59</td>\n",
       "      <td>Hdc</td>\n",
       "      <td>ENSMUSG00000027360</td>\n",
       "    </tr>\n",
       "    <tr>\n",
       "      <th>159</th>\n",
       "      <td>9</td>\n",
       "      <td>ENSMUSG00000018581|Dnah11|4322a08</td>\n",
       "      <td>Dnah11</td>\n",
       "      <td>ENSMUSG00000018581</td>\n",
       "    </tr>\n",
       "    <tr>\n",
       "      <th>160</th>\n",
       "      <td>3</td>\n",
       "      <td>ENSMUSG00000038765|Lmx1b|a34caa1</td>\n",
       "      <td>Lmx1b</td>\n",
       "      <td>ENSMUSG00000038765</td>\n",
       "    </tr>\n",
       "  </tbody>\n",
       "</table>\n",
       "<p>161 rows × 4 columns</p>\n",
       "</div>"
      ],
      "text/plain": [
       "     count                                info     gene          transcript\n",
       "0    98088  ENSMUSG00000070570|Slc17a7|01e82cf  Slc17a7  ENSMUSG00000070570\n",
       "1    89715   ENSMUSG00000028161|Ppp3ca|92556e2   Ppp3ca  ENSMUSG00000028161\n",
       "2    81430  ENSMUSG00000061718|Ppp1r1b|02d88c6  Ppp1r1b  ENSMUSG00000061718\n",
       "3    78417   ENSMUSG00000005089|Slc1a2|e29e85a   Slc1a2  ENSMUSG00000005089\n",
       "4    41290     ENSMUSG00000040785|Ttc3|1167cb3     Ttc3  ENSMUSG00000040785\n",
       "..     ...                                 ...      ...                 ...\n",
       "156     22     ENSMUSG00000020140|Lgr5|97a8ddf     Lgr5  ENSMUSG00000020140\n",
       "157     12   ENSMUSG00000069170|Adgrv1|7a41d11   Adgrv1  ENSMUSG00000069170\n",
       "158      9      ENSMUSG00000027360|Hdc|b107f59      Hdc  ENSMUSG00000027360\n",
       "159      9   ENSMUSG00000018581|Dnah11|4322a08   Dnah11  ENSMUSG00000018581\n",
       "160      3    ENSMUSG00000038765|Lmx1b|a34caa1    Lmx1b  ENSMUSG00000038765\n",
       "\n",
       "[161 rows x 4 columns]"
      ]
     },
     "execution_count": 16,
     "metadata": {},
     "output_type": "execute_result"
    }
   ],
   "source": [
    "flex_counts = pd.read_csv(os.path.join(miseq_output_folder, 'sorted_count_down.summary'), delimiter='\\s', header=None, names=['count', 'info'])\n",
    "flex_counts['gene'] = flex_counts['info'].apply(lambda x: x.split('|')[1])\n",
    "flex_counts['transcript'] = flex_counts['info'].apply(lambda x: x.split('|')[0])\n",
    "flex_counts"
   ]
  },
  {
   "cell_type": "code",
   "execution_count": 19,
   "id": "d4e3ef43",
   "metadata": {},
   "outputs": [],
   "source": [
    "# MERFISH:\n",
    "merfish_output_folder = r'/lab/weissman_imaging/puzheng/MERFISH_analysis/20240417-untreatedbrain_MF5'\n",
    "merfish_barcodes = pd.read_csv(os.path.join(merfish_output_folder,'ExportBarcodes', 'barcodes.csv'))"
   ]
  },
  {
   "cell_type": "code",
   "execution_count": 20,
   "id": "be4b4d0f",
   "metadata": {},
   "outputs": [],
   "source": [
    "codebook_file = os.path.join(merfish_output_folder, 'codebook_0_MF5_codebook.csv')\n",
    "codebook = pd.read_csv(codebook_file)\n",
    "\n",
    "id_2_gene = {}\n",
    "for _id, _gene in zip(codebook.index, codebook['name']):\n",
    "    id_2_gene[_id] = _gene\n",
    "    \n",
    "barcode_gene_names = [id_2_gene[_id] for _id in merfish_barcodes['barcode_id']]\n",
    "merfish_barcodes['gene_name'] = barcode_gene_names"
   ]
  },
  {
   "cell_type": "code",
   "execution_count": 24,
   "id": "4dde97ad",
   "metadata": {},
   "outputs": [],
   "source": [
    "merfish_gene_counts = merfish_barcodes['gene_name'].value_counts()"
   ]
  },
  {
   "cell_type": "code",
   "execution_count": 31,
   "id": "76b26c75",
   "metadata": {},
   "outputs": [
    {
     "name": "stdout",
     "output_type": "stream",
     "text": [
      "Slc17a7\n",
      "Ppp1r1b\n",
      "Penk\n",
      "Ntrk3\n",
      "Fam107a\n",
      "Pcp4l1\n",
      "Gabbr2\n",
      "Gad2\n",
      "Coro6\n",
      "Sv2b\n",
      "Ptk2b\n",
      "Neurod2\n",
      "Syt6\n",
      "Serpine2\n",
      "Coro1a\n",
      "Lamp5\n",
      "Six3\n",
      "Ecel1\n",
      "S1pr1\n",
      "Ntsr2\n",
      "Gfra1\n",
      "Zic1\n",
      "Gda\n",
      "Kcnk9\n",
      "Spon1\n",
      "Mfge8\n",
      "Acsbg1\n",
      "Gja1\n",
      "Nbl1\n",
      "Tns1\n",
      "Nefh\n",
      "Igfbp4\n",
      "Sox9\n",
      "Sox11\n",
      "Cldn11\n",
      "Clic6\n",
      "Maf\n",
      "Slc38a1\n",
      "Sv2c\n",
      "Pax2\n",
      "Isyna1\n",
      "Sulf2\n",
      "Mog\n",
      "Gprc5b\n",
      "Syt2\n",
      "Syndig1l\n",
      "Tox2\n",
      "Fn1\n",
      "Sox10\n",
      "Fgf1\n",
      "Zfp536\n",
      "Slc32a1\n",
      "Cldn5\n",
      "Prkcd\n",
      "Cd34\n",
      "Itih3\n",
      "Sec14l5\n",
      "Aldh1l1\n",
      "Ermn\n",
      "Slc7a10\n",
      "Mylk\n",
      "Megf11\n",
      "Cd24a\n",
      "Adcy8\n",
      "Ctss\n",
      "Cacng5\n",
      "Gpr37l1\n",
      "Egflam\n",
      "Arx\n",
      "Aqp4\n",
      "Slco1c1\n",
      "Atp10a\n",
      "Fbln2\n",
      "Tgfbr2\n",
      "Syt10\n",
      "Fstl5\n",
      "Pde3a\n",
      "Zfhx4\n",
      "Bmp6\n",
      "Tnfaip6\n",
      "Fgd5\n",
      "Pla2g7\n",
      "Sncg\n",
      "Wls\n",
      "Sema5b\n",
      "Col23a1\n",
      "Adgrf5\n",
      "Frzb\n",
      "Nkx2-1\n",
      "Mafb\n",
      "Isl1\n",
      "Sall3\n",
      "Anxa2\n",
      "Glra1\n",
      "Slit2\n",
      "Rgs5\n",
      "Sntb1\n",
      "Cgnl1\n",
      "Ucp2\n",
      "Nr2f2\n",
      "Kcnj8\n",
      "Igfbpl1\n",
      "Th\n",
      "Cobll1\n",
      "Sv2c\n",
      "Pax6\n",
      "Lpar1\n",
      "Asb2\n",
      "Dlx2\n",
      "Chat\n",
      "C1ql1\n",
      "Trh\n",
      "Fzd5\n",
      "Fli1\n",
      "Lsp1\n",
      "Adcy7\n",
      "Sall1\n",
      "Abcc9\n",
      "Sp9\n",
      "Cfap206\n",
      "Nfam1\n",
      "Fmo1\n",
      "Vwa5b1\n",
      "Slc18a2\n",
      "Ranbp3l\n",
      "Fbln1\n",
      "Aqp1\n",
      "Ctsc\n",
      "A2m\n",
      "Kl\n",
      "Ano1\n",
      "Adgrv1\n",
      "Prph\n",
      "Ets1\n",
      "Bsx\n",
      "Adgrv1\n",
      "Gpr50\n",
      "Lgr5\n",
      "Adgrv1\n",
      "Hdc\n",
      "Dnah11\n",
      "Lmx1b\n"
     ]
    }
   ],
   "source": [
    "matched_genes, matched_merfish_counts, matched_flex_counts = [], [], []\n",
    "for _gene in flex_counts['gene']:\n",
    "    if _gene in list(merfish_gene_counts.index):\n",
    "        print(_gene)\n",
    "        matched_genes.append(_gene)\n",
    "        matched_merfish_counts.append(merfish_gene_counts[_gene])\n",
    "        matched_flex_counts.append(flex_counts[flex_counts['gene']==_gene]['count'].values[0])"
   ]
  },
  {
   "cell_type": "code",
   "execution_count": 35,
   "id": "898a012b",
   "metadata": {},
   "outputs": [
    {
     "data": {
      "text/plain": [
       "Text(0, 0.5, 'Flex counts')"
      ]
     },
     "execution_count": 35,
     "metadata": {},
     "output_type": "execute_result"
    },
    {
     "data": {
      "image/png": "[encoded data removed]",
      "text/plain": [
       "<Figure size 640x480 with 1 Axes>"
      ]
     },
     "metadata": {},
     "output_type": "display_data"
    }
   ],
   "source": [
    "plt.figure()\n",
    "plt.scatter(matched_merfish_counts, matched_flex_counts)\n",
    "# make xy log scale\n",
    "plt.xscale('log')\n",
    "plt.yscale('log')\n",
    "plt.xlabel('MERFISH counts')\n",
    "plt.ylabel('Flex counts')"
   ]
  },
  {
   "cell_type": "code",
   "execution_count": 38,
   "id": "ebea20db",
   "metadata": {},
   "outputs": [
    {
     "ename": "TypeError",
     "evalue": "linregress() got an unexpected keyword argument 'intercept'",
     "output_type": "error",
     "traceback": [
      "\u001b[0;31m---------------------------------------------------------------------------\u001b[0m",
      "\u001b[0;31mTypeError\u001b[0m                                 Traceback (most recent call last)",
      "Cell \u001b[0;32mIn[38], line 3\u001b[0m\n\u001b[1;32m      1\u001b[0m \u001b[38;5;66;03m# linear regression of the log-log plot, no intercept:\u001b[39;00m\n\u001b[1;32m      2\u001b[0m \u001b[38;5;28;01mfrom\u001b[39;00m \u001b[38;5;21;01mscipy\u001b[39;00m\u001b[38;5;21;01m.\u001b[39;00m\u001b[38;5;21;01mstats\u001b[39;00m \u001b[38;5;28;01mimport\u001b[39;00m linregress\n\u001b[0;32m----> 3\u001b[0m slope, intercept, r_value, p_value, std_err \u001b[38;5;241m=\u001b[39m \u001b[43mlinregress\u001b[49m\u001b[43m(\u001b[49m\u001b[43mnp\u001b[49m\u001b[38;5;241;43m.\u001b[39;49m\u001b[43mlog\u001b[49m\u001b[43m(\u001b[49m\u001b[43mmatched_merfish_counts\u001b[49m\u001b[43m)\u001b[49m\u001b[43m,\u001b[49m\u001b[43m \u001b[49m\u001b[43mnp\u001b[49m\u001b[38;5;241;43m.\u001b[39;49m\u001b[43mlog\u001b[49m\u001b[43m(\u001b[49m\u001b[43mmatched_flex_counts\u001b[49m\u001b[43m)\u001b[49m\u001b[43m,\u001b[49m\u001b[43m \u001b[49m\u001b[43mintercept\u001b[49m\u001b[38;5;241;43m=\u001b[39;49m\u001b[38;5;28;43;01mFalse\u001b[39;49;00m\u001b[43m)\u001b[49m\n",
      "\u001b[0;31mTypeError\u001b[0m: linregress() got an unexpected keyword argument 'intercept'"
     ]
    }
   ],
   "source": [
    "# linear regression of the log-log plot, no intercept:\n",
    "from scipy.stats import linregress\n",
    "slope, intercept, r_value, p_value, std_err = linregress(np.log(matched_merfish_counts), np.log(matched_flex_counts), intercept=False)"
   ]
  },
  {
   "cell_type": "code",
   "execution_count": 65,
   "id": "1716192b",
   "metadata": {},
   "outputs": [
    {
     "data": {
      "text/plain": [
       "(0.9088626582488668,\n",
       " -3.11243730975551,\n",
       " 0.04449238136467202,\n",
       " 0.7968835763692714)"
      ]
     },
     "execution_count": 65,
     "metadata": {},
     "output_type": "execute_result"
    }
   ],
   "source": [
    "slope, intercept,np.exp(intercept),r_value"
   ]
  },
  {
   "cell_type": "code",
   "execution_count": 66,
   "id": "1a8069dd",
   "metadata": {},
   "outputs": [
    {
     "data": {
      "text/plain": [
       "['Stats',\n",
       " 'Undetermined_S0_L001_R1_001.fastq.gz',\n",
       " 'Undetermined_S0_L001_R2_001.fastq.gz',\n",
       " 'interleaved.fastq',\n",
       " 'Flex0524_S1_L001_R1_001.fastq',\n",
       " 'Reports',\n",
       " 'Flex.tmp.bam',\n",
       " 'count.summary',\n",
       " 'sorted_output_file.txt',\n",
       " 'sorted_count.summary',\n",
       " 'sorted_count_down.summary',\n",
       " 'duplicates.txt',\n",
       " 'duplicates.fasta',\n",
       " 'Flex0524_S1_L001_R2_001.fastq',\n",
       " 'Flex.tmp.sam']"
      ]
     },
     "execution_count": 66,
     "metadata": {},
     "output_type": "execute_result"
    }
   ],
   "source": [
    "os.listdir(miseq_output_folder)"
   ]
  },
  {
   "cell_type": "code",
   "execution_count": 79,
   "id": "1635c322",
   "metadata": {},
   "outputs": [
    {
     "name": "stdout",
     "output_type": "stream",
     "text": [
      "836462\n"
     ]
    }
   ],
   "source": [
    "# filter the mappable reads:\n",
    "r1_lines, r2_lines = [], []\n",
    "sam_lines = []\n",
    "# open r1,r2,sam files:\n",
    "r1_file = open(os.path.join(miseq_output_folder, 'Flex0524_S1_L001_R1_001.fastq'))\n",
    "r2_file = open(os.path.join(miseq_output_folder, 'Flex0524_S1_L001_R2_001.fastq'))\n",
    "\n",
    "num_mappable = 0\n",
    "# read 4 lines from r1 and r2 files:\n",
    "with open(os.path.join(miseq_output_folder, 'Flex.tmp.sam')) as same_file:\n",
    "    # loop till the end of the file\n",
    "    while True:\n",
    "        # read 4 lines from r1 and r2 files:\n",
    "        _r1 = [r1_file.readline(),r1_file.readline(),r1_file.readline(),r1_file.readline()]\n",
    "        _r2 = [r2_file.readline(),r2_file.readline(),r2_file.readline(),r2_file.readline()]\n",
    "        # check if the read is in the unique reads:\n",
    "        try:\n",
    "            _sam = same_file.readline()\n",
    "            _map = _sam.split('\\t')[2]\n",
    "            if '*' not in _map:\n",
    "                r1_lines += _r1\n",
    "                r2_lines += _r2\n",
    "                sam_lines.append(_sam)\n",
    "                num_mappable += 1\n",
    "        except:\n",
    "            break\n",
    "        #print()\n",
    "# close:\n",
    "r1_file.close()\n",
    "r2_file.close()\n",
    "same_file.close()\n",
    "print(num_mappable)"
   ]
  },
  {
   "cell_type": "code",
   "execution_count": 80,
   "id": "b505dabc",
   "metadata": {},
   "outputs": [],
   "source": [
    "# write r1 and r2 lines to new files:\n",
    "with open(os.path.join(miseq_output_folder, 'Flex0524_S1_L001_R1_001.mappable.fastq'), 'w') as r1_out:\n",
    "    r1_out.writelines(r1_lines)\n",
    "with open(os.path.join(miseq_output_folder, 'Flex0524_S1_L001_R2_001.mappable.fastq'), 'w') as r2_out:\n",
    "    r2_out.writelines(r2_lines)\n",
    "with open(os.path.join(miseq_output_folder, 'Flex0524_S2_mappable.sam'), 'w') as sam_out:\n",
    "    sam_out.writelines(sam_lines)\n"
   ]
  },
  {
   "cell_type": "code",
   "execution_count": 57,
   "id": "c9a37afb",
   "metadata": {},
   "outputs": [
    {
     "data": {
      "text/plain": [
       "898413"
      ]
     },
     "execution_count": 57,
     "metadata": {},
     "output_type": "execute_result"
    }
   ],
   "source": [
    "len(unique_reads)"
   ]
  },
  {
   "cell_type": "code",
   "execution_count": null,
   "id": "a345573f",
   "metadata": {},
   "outputs": [],
   "source": []
  },
  {
   "cell_type": "code",
   "execution_count": 81,
   "id": "a7102864",
   "metadata": {},
   "outputs": [],
   "source": [
    "# load duplictate file:\n",
    "duplicate_report_filename = os.path.join(miseq_output_folder, 'duplicates.fasta')\n",
    "# read this as fasta file with biopython:\n",
    "from Bio import SeqIO\n",
    "unique_reads = []\n",
    "counts = []\n",
    "for record in SeqIO.parse(duplicate_report_filename, 'fasta'):\n",
    "    unique_reads.append(record.seq)\n",
    "    counts.append(int(record.description.split(' ')[-2].split('(')[1]))\n"
   ]
  },
  {
   "cell_type": "code",
   "execution_count": 84,
   "id": "f642ba26",
   "metadata": {},
   "outputs": [
    {
     "data": {
      "text/plain": [
       "0.9072211289933075"
      ]
     },
     "execution_count": 84,
     "metadata": {},
     "output_type": "execute_result"
    }
   ],
   "source": [
    "len(unique_reads) / num_mappable"
   ]
  },
  {
   "cell_type": "code",
   "execution_count": 96,
   "id": "046bda4e",
   "metadata": {},
   "outputs": [
    {
     "data": {
      "text/plain": [
       "(0.05111455487477884, 0.19055486713479278)"
      ]
     },
     "execution_count": 96,
     "metadata": {},
     "output_type": "execute_result"
    }
   ],
   "source": [
    "(36315/710463),6920/36315"
   ]
  },
  {
   "cell_type": "code",
   "execution_count": 85,
   "id": "29832482",
   "metadata": {},
   "outputs": [
    {
     "data": {
      "text/plain": [
       "(array([  1,   2,   3,   4,   5,   6,   7,   8,   9,  10,  11,  12,  13,\n",
       "         14,  15,  16,  17,  18,  19,  20,  21,  22,  23,  24,  25,  26,\n",
       "         27,  28,  29,  30,  31,  32,  34,  35,  36,  37,  38,  39,  40,\n",
       "         41,  42,  44,  45,  47,  48,  50,  55,  62,  64,  68,  80,  90,\n",
       "        100, 122, 127, 141, 142]),\n",
       " array([710463,  36315,   6920,   2326,   1063,    542,    345,    203,\n",
       "           148,    107,     62,     58,     47,     40,     34,     27,\n",
       "            12,     16,     18,      9,      9,      5,      7,      7,\n",
       "             7,     10,      4,      3,      4,      2,      3,      3,\n",
       "             2,      1,      2,      6,      1,      1,      1,      2,\n",
       "             1,      1,      1,      2,      2,      1,      1,      1,\n",
       "             2,      1,      1,      2,      1,      1,      1,      1,\n",
       "             1]))"
      ]
     },
     "execution_count": 85,
     "metadata": {},
     "output_type": "execute_result"
    }
   ],
   "source": [
    "np.unique(counts, return_counts=True)"
   ]
  },
  {
   "cell_type": "code",
   "execution_count": 98,
   "id": "81656aec",
   "metadata": {},
   "outputs": [
    {
     "data": {
      "text/plain": [
       "0.5288822381145936"
      ]
     },
     "execution_count": 98,
     "metadata": {},
     "output_type": "execute_result"
    }
   ],
   "source": [
    "np.var(counts)"
   ]
  },
  {
   "cell_type": "code",
   "execution_count": 99,
   "id": "65bbff52",
   "metadata": {},
   "outputs": [
    {
     "data": {
      "text/plain": [
       "1.43735"
      ]
     },
     "execution_count": 99,
     "metadata": {},
     "output_type": "execute_result"
    }
   ],
   "source": [
    "0.445 * 3.23"
   ]
  },
  {
   "cell_type": "code",
   "execution_count": 103,
   "id": "a139c710",
   "metadata": {},
   "outputs": [
    {
     "data": {
      "text/plain": [
       "0.3242390054655802"
      ]
     },
     "execution_count": 103,
     "metadata": {},
     "output_type": "execute_result"
    }
   ],
   "source": [
    "len(counts) / ((np.sum(counts)/np.var(counts)) + len(counts))"
   ]
  },
  {
   "cell_type": "code",
   "execution_count": 97,
   "id": "8ab996d4",
   "metadata": {},
   "outputs": [
    {
     "data": {
      "text/plain": [
       "2.22610563322428"
      ]
     },
     "execution_count": 97,
     "metadata": {},
     "output_type": "execute_result"
    }
   ],
   "source": [
    "(np.sum(counts)/np.var(counts)) / 710463"
   ]
  },
  {
   "cell_type": "code",
   "execution_count": 106,
   "id": "ff9ff6f2",
   "metadata": {},
   "outputs": [
    {
     "data": {
      "image/png": "[encoded data removed]",
      "text/plain": [
       "<Figure size 640x480 with 1 Axes>"
      ]
     },
     "metadata": {},
     "output_type": "display_data"
    }
   ],
   "source": [
    "plt.figure()\n",
    "plt.hist(counts, bins=np.arange(0,30))\n",
    "#plt.yscale('log')\n",
    "plt.show()"
   ]
  },
  {
   "cell_type": "code",
   "execution_count": null,
   "id": "79e3fc85",
   "metadata": {},
   "outputs": [],
   "source": []
  }
 ],
 "metadata": {
  "kernelspec": {
   "display_name": "postanalysis",
   "language": "python",
   "name": "postanalysis"
  },
  "language_info": {
   "codemirror_mode": {
    "name": "ipython",
    "version": 3
   },
   "file_extension": ".py",
   "mimetype": "text/x-python",
   "name": "python",
   "nbconvert_exporter": "python",
   "pygments_lexer": "ipython3",
   "version": "3.10.12"
  }
 },
 "nbformat": 4,
 "nbformat_minor": 5
}
