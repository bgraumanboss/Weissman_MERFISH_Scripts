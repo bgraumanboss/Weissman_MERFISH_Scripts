{
 "cells": [
  {
   "cell_type": "code",
   "execution_count": 15,
   "metadata": {},
   "outputs": [
    {
     "data": {
      "application/vnd.jupyter.widget-view+json": {
       "model_id": "b8f79ad1ea214a809f960e81bc715675",
       "version_major": 2,
       "version_minor": 0
      },
      "text/plain": [
       "  0%|          | 0/1416069 [00:00<?, ?it/s]"
      ]
     },
     "metadata": {},
     "output_type": "display_data"
    },
    {
     "name": "stdout",
     "output_type": "stream",
     "text": [
      "1\n"
     ]
    }
   ],
   "source": [
    "from Bio import SeqIO\n",
    "import pandas as pd\n",
    "from tqdm.notebook import tqdm\n",
    "\n",
    "def extract_sequence(file_path, target_sequence):\n",
    "    records = list(SeqIO.parse(file_path, \"fastq\"))\n",
    "    count_dict = {}\n",
    "    for record in tqdm(records):\n",
    "        sequence = str(record.seq)\n",
    "        index = sequence.find(target_sequence)\n",
    "        if index != -1 and index >= 40:\n",
    "            preceding_sequence = sequence[index-40:index]\n",
    "            if preceding_sequence not in count_dict:\n",
    "                count_dict[preceding_sequence] = 1\n",
    "            else:\n",
    "                count_dict[preceding_sequence] += 1\n",
    "\n",
    "    return pd.DataFrame.from_records([count_dict])\n",
    "\n",
    "# Call the function with your fastq file path\n",
    "df = extract_sequence(\"/lab/weissman_imaging/Ultima/20240620-ExpansionFlex/240623_M01799_0541_000000000-DP8YF/Alignment_4/20240624_120102/Fastq/0620ExMFlex_S1_L001_R1_001.fastq\", \n",
    "                      \"ATCTGATAGCATAA\")\n",
    "print(len(df))"
   ]
  },
  {
   "cell_type": "code",
   "execution_count": 18,
   "metadata": {},
   "outputs": [
    {
     "data": {
      "text/plain": [
       "(array([  1,   2,   3,   4,   5,   6,   7,   8,   9,  10,  11,  12,  13,\n",
       "         14,  15,  16,  17,  18,  19,  20,  21,  22,  23,  24,  25,  26,\n",
       "         27,  28,  29,  30,  31,  32,  33,  34,  35,  36,  37,  38,  39,\n",
       "         40,  41,  42,  43,  44,  45,  46,  47,  48,  49,  50,  51,  53,\n",
       "         54,  55,  56,  57,  58,  60,  62,  63,  66,  67,  70,  74,  77,\n",
       "         78,  80,  86,  88,  96, 119, 226]),\n",
       " array([117463,  10511,   8347,   8639,   9178,   8724,   8308,   7374,\n",
       "          6586,   5747,   4989,   4295,   3649,   3257,   2697,   2306,\n",
       "          1971,   1805,   1606,   1475,   1430,   1346,   1232,   1109,\n",
       "          1025,    886,    795,    657,    526,    459,    419,    275,\n",
       "           244,    189,    147,    124,     79,     63,     44,     37,\n",
       "            34,     24,     30,      9,     15,     15,      6,      5,\n",
       "             2,      3,      5,      2,      3,      2,      4,      2,\n",
       "             1,      1,      1,      1,      1,      1,      1,      1,\n",
       "             1,      1,      1,      1,      1,      1,      1,      1]))"
      ]
     },
     "execution_count": 18,
     "metadata": {},
     "output_type": "execute_result"
    }
   ],
   "source": [
    "np.unique(df.values, return_counts=True)"
   ]
  },
  {
   "cell_type": "code",
   "execution_count": 20,
   "metadata": {},
   "outputs": [
    {
     "data": {
      "text/plain": [
       "(array([0.00000e+00, 1.17463e+05, 1.05110e+04, 8.34700e+03, 8.63900e+03,\n",
       "        9.17800e+03, 8.72400e+03, 8.30800e+03, 7.37400e+03, 6.58600e+03,\n",
       "        5.74700e+03, 4.98900e+03, 4.29500e+03, 3.64900e+03, 3.25700e+03,\n",
       "        2.69700e+03, 2.30600e+03, 1.97100e+03, 1.80500e+03, 1.60600e+03,\n",
       "        1.47500e+03, 1.43000e+03, 1.34600e+03, 1.23200e+03, 1.10900e+03,\n",
       "        1.02500e+03, 8.86000e+02, 7.95000e+02, 6.57000e+02, 5.26000e+02,\n",
       "        4.59000e+02, 4.19000e+02, 2.75000e+02, 2.44000e+02, 1.89000e+02,\n",
       "        1.47000e+02, 1.24000e+02, 7.90000e+01, 6.30000e+01, 4.40000e+01,\n",
       "        3.70000e+01, 3.40000e+01, 2.40000e+01, 3.00000e+01, 9.00000e+00,\n",
       "        1.50000e+01, 1.50000e+01, 6.00000e+00, 5.00000e+00, 2.00000e+00,\n",
       "        3.00000e+00, 5.00000e+00, 0.00000e+00, 2.00000e+00, 3.00000e+00,\n",
       "        2.00000e+00, 4.00000e+00, 2.00000e+00, 1.00000e+00, 0.00000e+00,\n",
       "        1.00000e+00, 0.00000e+00, 1.00000e+00, 1.00000e+00, 0.00000e+00,\n",
       "        0.00000e+00, 1.00000e+00, 1.00000e+00, 0.00000e+00, 0.00000e+00,\n",
       "        1.00000e+00, 0.00000e+00, 0.00000e+00, 0.00000e+00, 1.00000e+00,\n",
       "        0.00000e+00, 0.00000e+00, 1.00000e+00, 1.00000e+00, 0.00000e+00,\n",
       "        1.00000e+00, 0.00000e+00, 0.00000e+00, 0.00000e+00, 0.00000e+00,\n",
       "        0.00000e+00, 1.00000e+00, 0.00000e+00, 1.00000e+00, 0.00000e+00,\n",
       "        0.00000e+00, 0.00000e+00, 0.00000e+00, 0.00000e+00, 0.00000e+00,\n",
       "        0.00000e+00, 1.00000e+00, 0.00000e+00, 0.00000e+00]),\n",
       " array([ 0.,  1.,  2.,  3.,  4.,  5.,  6.,  7.,  8.,  9., 10., 11., 12.,\n",
       "        13., 14., 15., 16., 17., 18., 19., 20., 21., 22., 23., 24., 25.,\n",
       "        26., 27., 28., 29., 30., 31., 32., 33., 34., 35., 36., 37., 38.,\n",
       "        39., 40., 41., 42., 43., 44., 45., 46., 47., 48., 49., 50., 51.,\n",
       "        52., 53., 54., 55., 56., 57., 58., 59., 60., 61., 62., 63., 64.,\n",
       "        65., 66., 67., 68., 69., 70., 71., 72., 73., 74., 75., 76., 77.,\n",
       "        78., 79., 80., 81., 82., 83., 84., 85., 86., 87., 88., 89., 90.,\n",
       "        91., 92., 93., 94., 95., 96., 97., 98., 99.]),\n",
       " <BarContainer object of 99 artists>)"
      ]
     },
     "execution_count": 20,
     "metadata": {},
     "output_type": "execute_result"
    },
    {
     "data": {
      "image/png": "[encoded data removed]",
      "text/plain": [
       "<Figure size 640x480 with 1 Axes>"
      ]
     },
     "metadata": {},
     "output_type": "display_data"
    }
   ],
   "source": [
    "import matplotlib.pyplot as plt\n",
    "plt.figure()\n",
    "plt.hist(df.values.flatten(), bins=np.arange(100))"
   ]
  },
  {
   "cell_type": "code",
   "execution_count": null,
   "metadata": {},
   "outputs": [],
   "source": []
  }
 ],
 "metadata": {
  "kernelspec": {
   "display_name": "postanalysis",
   "language": "python",
   "name": "postanalysis"
  },
  "language_info": {
   "codemirror_mode": {
    "name": "ipython",
    "version": 3
   },
   "file_extension": ".py",
   "mimetype": "text/x-python",
   "name": "python",
   "nbconvert_exporter": "python",
   "pygments_lexer": "ipython3",
   "version": "3.10.12"
  }
 },
 "nbformat": 4,
 "nbformat_minor": 2
}
